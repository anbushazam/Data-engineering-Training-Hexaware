{
 "cells": [
  {
   "cell_type": "code",
   "execution_count": 0,
   "metadata": {
    "application/vnd.databricks.v1+cell": {
     "cellMetadata": {
      "byteLimit": 2048000,
      "rowLimit": 10000
     },
     "inputWidgets": {},
     "nuid": "e9c64095-58f5-408b-a8c7-1bb938329771",
     "showTitle": false,
     "tableResultSettingsMap": {},
     "title": ""
    }
   },
   "outputs": [],
   "source": [
    " csv_data = \"\"\"student_id,name,subject,score,grade\n",
    "1,Ankit,Math,85,A\n",
    "2,Divya,Science,92,A\n",
    "3,Rahul,English,78,B\n",
    "4,Sneha,Math,65,C\n",
    "5,Aryan,Science,55,D\n",
    "6,Isha,English,88,A\n",
    "7,Tanvi,Math,91,A\n",
    "8,Kunal,Science,72,B\n",
    "9,Megha,English,60,C\n",
    "10,Rohan,Math,40,F\n",
    "\"\"\"\n",
    "with open(\"/tmp/student_scores.csv\", \"w\") as f: \n",
    "  f.write(csv_data)"
   ]
  },
  {
   "cell_type": "markdown",
   "metadata": {
    "application/vnd.databricks.v1+cell": {
     "cellMetadata": {},
     "inputWidgets": {},
     "nuid": "77bca071-e2e4-4733-9b26-c04938469f1c",
     "showTitle": false,
     "tableResultSettingsMap": {},
     "title": ""
    }
   },
   "source": [
    "Read into DataFrame"
   ]
  },
  {
   "cell_type": "code",
   "execution_count": 0,
   "metadata": {
    "application/vnd.databricks.v1+cell": {
     "cellMetadata": {
      "byteLimit": 2048000,
      "rowLimit": 10000
     },
     "inputWidgets": {},
     "nuid": "89dce856-37f9-4079-8294-5b5311e98c93",
     "showTitle": false,
     "tableResultSettingsMap": {},
     "title": ""
    }
   },
   "outputs": [
    {
     "output_type": "stream",
     "name": "stdout",
     "output_type": "stream",
     "text": [
      "+----------+-----+-------+-----+-----+\n|student_id| name|subject|score|grade|\n+----------+-----+-------+-----+-----+\n|         1|Ankit|   Math|   85|    A|\n|         2|Divya|Science|   92|    A|\n|         3|Rahul|English|   78|    B|\n|         4|Sneha|   Math|   65|    C|\n|         5|Aryan|Science|   55|    D|\n|         6| Isha|English|   88|    A|\n|         7|Tanvi|   Math|   91|    A|\n|         8|Kunal|Science|   72|    B|\n|         9|Megha|English|   60|    C|\n|        10|Rohan|   Math|   40|    F|\n+----------+-----+-------+-----+-----+\n\n"
     ]
    }
   ],
   "source": [
    "df = spark.read.option(\"header\", True).option(\"inferSchema\", \n",
    "True).csv(\"/tmp/student_scores.csv\") \n",
    "df.show()"
   ]
  },
  {
   "cell_type": "markdown",
   "metadata": {
    "application/vnd.databricks.v1+cell": {
     "cellMetadata": {},
     "inputWidgets": {},
     "nuid": "d4066ea4-938e-4789-8c75-b11e76e32dd9",
     "showTitle": false,
     "tableResultSettingsMap": {},
     "title": ""
    }
   },
   "source": [
    "write to delta\n"
   ]
  },
  {
   "cell_type": "code",
   "execution_count": 0,
   "metadata": {
    "application/vnd.databricks.v1+cell": {
     "cellMetadata": {
      "byteLimit": 2048000,
      "rowLimit": 10000
     },
     "inputWidgets": {},
     "nuid": "9983e6ed-a861-4906-a3f5-2610dcdf30ab",
     "showTitle": false,
     "tableResultSettingsMap": {},
     "title": ""
    }
   },
   "outputs": [
    {
     "output_type": "stream",
     "name": "stdout",
     "output_type": "stream",
     "text": [
      "+----------+-----+-------+-----+-----+\n|student_id| name|subject|score|grade|\n+----------+-----+-------+-----+-----+\n|         1|Ankit|   Math|   85|    A|\n|         2|Divya|Science|   92|    A|\n|         3|Rahul|English|   78|    B|\n|         4|Sneha|   Math|   65|    C|\n|         5|Aryan|Science|   55|    D|\n|         6| Isha|English|   88|    A|\n|         7|Tanvi|   Math|   91|    A|\n|         8|Kunal|Science|   72|    B|\n|         9|Megha|English|   60|    C|\n|        10|Rohan|   Math|   40|    F|\n+----------+-----+-------+-----+-----+\n\n"
     ]
    }
   ],
   "source": [
    "\n",
    "df.write.format(\"delta\").mode(\"overwrite\").save(\"/tmp/delta/student_scores\")\n",
    "delta_df=spark.read.format(\"delta\").load(\"/tmp/delta/student_scores\")\n",
    "delta_df.show()\n"
   ]
  },
  {
   "cell_type": "markdown",
   "metadata": {
    "application/vnd.databricks.v1+cell": {
     "cellMetadata": {},
     "inputWidgets": {},
     "nuid": "2d5c90bb-3ccd-457f-bb8c-2c445a8cf80c",
     "showTitle": false,
     "tableResultSettingsMap": {},
     "title": ""
    }
   },
   "source": [
    "register delta table"
   ]
  },
  {
   "cell_type": "code",
   "execution_count": 0,
   "metadata": {
    "application/vnd.databricks.v1+cell": {
     "cellMetadata": {
      "byteLimit": 2048000,
      "rowLimit": 10000
     },
     "inputWidgets": {},
     "nuid": "c9b6aca6-9810-416c-a578-fda435bc1ae8",
     "showTitle": false,
     "tableResultSettingsMap": {},
     "title": ""
    }
   },
   "outputs": [
    {
     "output_type": "execute_result",
     "data": {
      "text/plain": [
       "DataFrame[]"
      ]
     },
     "execution_count": 43,
     "metadata": {},
     "output_type": "execute_result"
    }
   ],
   "source": [
    "spark.sql(\"USE hive_metastore.default\")\n",
    "spark.sql(\"DROP TABLE IF EXISTS student_scores\") \n",
    "spark.sql(\"\"\"CREATE TABLE student_scores USING DELTA LOCATION \n",
    "'dbfs:/tmp/delta/student_scores' \"\"\")"
   ]
  },
  {
   "cell_type": "markdown",
   "metadata": {
    "application/vnd.databricks.v1+cell": {
     "cellMetadata": {},
     "inputWidgets": {},
     "nuid": "014365f6-9b9a-4fa8-a69b-f4c17fbe52c5",
     "showTitle": false,
     "tableResultSettingsMap": {},
     "title": ""
    }
   },
   "source": [
    "basic tasks"
   ]
  },
  {
   "cell_type": "code",
   "execution_count": 0,
   "metadata": {
    "application/vnd.databricks.v1+cell": {
     "cellMetadata": {
      "byteLimit": 2048000,
      "rowLimit": 10000
     },
     "inputWidgets": {},
     "nuid": "233c9f08-b857-4cb8-a8ba-f2a40ffa582d",
     "showTitle": false,
     "tableResultSettingsMap": {},
     "title": ""
    }
   },
   "outputs": [
    {
     "output_type": "stream",
     "name": "stdout",
     "output_type": "stream",
     "text": [
      "+-----+-----+\n| name|score|\n+-----+-----+\n|Ankit|   85|\n|Divya|   92|\n|Rahul|   78|\n|Sneha|   65|\n|Aryan|   55|\n| Isha|   88|\n|Tanvi|   91|\n|Kunal|   72|\n|Megha|   60|\n|Rohan|   40|\n+-----+-----+\n\n"
     ]
    },
    {
     "output_type": "display_data",
     "data": {
      "text/html": [
       "<style scoped>\n",
       "  .table-result-container {\n",
       "    max-height: 300px;\n",
       "    overflow: auto;\n",
       "  }\n",
       "  table, th, td {\n",
       "    border: 1px solid black;\n",
       "    border-collapse: collapse;\n",
       "  }\n",
       "  th, td {\n",
       "    padding: 5px;\n",
       "  }\n",
       "  th {\n",
       "    text-align: left;\n",
       "  }\n",
       "</style><div class='table-result-container'><table class='table-result'><thead style='background-color: white'><tr><th>subject</th><th>count</th></tr></thead><tbody><tr><td>Science</td><td>3</td></tr><tr><td>Math</td><td>4</td></tr><tr><td>English</td><td>3</td></tr></tbody></table></div>"
      ]
     },
     "metadata": {
      "application/vnd.databricks.v1+output": {
       "addedWidgets": {},
       "aggData": [],
       "aggError": "",
       "aggOverflow": false,
       "aggSchema": [],
       "aggSeriesLimitReached": false,
       "aggType": "",
       "arguments": {},
       "columnCustomDisplayInfos": {},
       "data": [
        [
         "Science",
         3
        ],
        [
         "Math",
         4
        ],
        [
         "English",
         3
        ]
       ],
       "datasetInfos": [],
       "dbfsResultPath": null,
       "isJsonSchema": true,
       "metadata": {},
       "overflow": false,
       "plotOptions": {
        "customPlotOptions": {},
        "displayType": "table",
        "pivotAggregation": null,
        "pivotColumns": null,
        "xColumns": null,
        "yColumns": null
       },
       "removedWidgets": [],
       "schema": [
        {
         "metadata": "{}",
         "name": "subject",
         "type": "\"string\""
        },
        {
         "metadata": "{}",
         "name": "count",
         "type": "\"long\""
        }
       ],
       "type": "table"
      }
     },
     "output_type": "display_data"
    },
    {
     "output_type": "display_data",
     "data": {
      "text/html": [
       "<style scoped>\n",
       "  .table-result-container {\n",
       "    max-height: 300px;\n",
       "    overflow: auto;\n",
       "  }\n",
       "  table, th, td {\n",
       "    border: 1px solid black;\n",
       "    border-collapse: collapse;\n",
       "  }\n",
       "  th, td {\n",
       "    padding: 5px;\n",
       "  }\n",
       "  th {\n",
       "    text-align: left;\n",
       "  }\n",
       "</style><div class='table-result-container'><table class='table-result'><thead style='background-color: white'><tr><th>subject</th><th>avg(score)</th></tr></thead><tbody><tr><td>Science</td><td>73.0</td></tr><tr><td>Math</td><td>70.25</td></tr><tr><td>English</td><td>75.33333333333333</td></tr></tbody></table></div>"
      ]
     },
     "metadata": {
      "application/vnd.databricks.v1+output": {
       "addedWidgets": {},
       "aggData": [],
       "aggError": "",
       "aggOverflow": false,
       "aggSchema": [],
       "aggSeriesLimitReached": false,
       "aggType": "",
       "arguments": {},
       "columnCustomDisplayInfos": {},
       "data": [
        [
         "Science",
         73.0
        ],
        [
         "Math",
         70.25
        ],
        [
         "English",
         75.33333333333333
        ]
       ],
       "datasetInfos": [],
       "dbfsResultPath": null,
       "isJsonSchema": true,
       "metadata": {},
       "overflow": false,
       "plotOptions": {
        "customPlotOptions": {},
        "displayType": "table",
        "pivotAggregation": null,
        "pivotColumns": null,
        "xColumns": null,
        "yColumns": null
       },
       "removedWidgets": [],
       "schema": [
        {
         "metadata": "{}",
         "name": "subject",
         "type": "\"string\""
        },
        {
         "metadata": "{\"__autoGeneratedAlias\":\"true\"}",
         "name": "avg(score)",
         "type": "\"double\""
        }
       ],
       "type": "table"
      }
     },
     "output_type": "display_data"
    },
    {
     "output_type": "display_data",
     "data": {
      "text/html": [
       "<style scoped>\n",
       "  .table-result-container {\n",
       "    max-height: 300px;\n",
       "    overflow: auto;\n",
       "  }\n",
       "  table, th, td {\n",
       "    border: 1px solid black;\n",
       "    border-collapse: collapse;\n",
       "  }\n",
       "  th, td {\n",
       "    padding: 5px;\n",
       "  }\n",
       "  th {\n",
       "    text-align: left;\n",
       "  }\n",
       "</style><div class='table-result-container'><table class='table-result'><thead style='background-color: white'><tr><th>name</th></tr></thead><tbody><tr><td>Ankit</td></tr><tr><td>Divya</td></tr><tr><td>Isha</td></tr><tr><td>Tanvi</td></tr></tbody></table></div>"
      ]
     },
     "metadata": {
      "application/vnd.databricks.v1+output": {
       "addedWidgets": {},
       "aggData": [],
       "aggError": "",
       "aggOverflow": false,
       "aggSchema": [],
       "aggSeriesLimitReached": false,
       "aggType": "",
       "arguments": {},
       "columnCustomDisplayInfos": {},
       "data": [
        [
         "Ankit"
        ],
        [
         "Divya"
        ],
        [
         "Isha"
        ],
        [
         "Tanvi"
        ]
       ],
       "datasetInfos": [],
       "dbfsResultPath": null,
       "isJsonSchema": true,
       "metadata": {},
       "overflow": false,
       "plotOptions": {
        "customPlotOptions": {},
        "displayType": "table",
        "pivotAggregation": null,
        "pivotColumns": null,
        "xColumns": null,
        "yColumns": null
       },
       "removedWidgets": [],
       "schema": [
        {
         "metadata": "{}",
         "name": "name",
         "type": "\"string\""
        }
       ],
       "type": "table"
      }
     },
     "output_type": "display_data"
    }
   ],
   "source": [
    "df=spark.read.format(\"delta\").load(\"/tmp/delta/student_scores\")\n",
    "selected=df.select(\"name\",\"score\")\n",
    "selected.show()\n",
    "no_students_sub=df.groupBy(\"subject\").count()\n",
    "display(no_students_sub)\n",
    "avg_score_sub=df.groupBy(\"subject\").avg(\"score\")\n",
    "display(avg_score_sub)\n",
    "more_80=df.filter(df.score>80).select(\"name\")\n",
    "display(more_80)\n"
   ]
  },
  {
   "cell_type": "markdown",
   "metadata": {
    "application/vnd.databricks.v1+cell": {
     "cellMetadata": {},
     "inputWidgets": {},
     "nuid": "9e70608a-31d7-47ab-80a0-36ecf3aba5e1",
     "showTitle": false,
     "tableResultSettingsMap": {},
     "title": ""
    }
   },
   "source": [
    "advanced queries"
   ]
  },
  {
   "cell_type": "code",
   "execution_count": 0,
   "metadata": {
    "application/vnd.databricks.v1+cell": {
     "cellMetadata": {
      "byteLimit": 2048000,
      "rowLimit": 10000
     },
     "inputWidgets": {},
     "nuid": "72963ebe-2008-4557-b259-5b1a6a71146e",
     "showTitle": false,
     "tableResultSettingsMap": {},
     "title": ""
    }
   },
   "outputs": [
    {
     "output_type": "stream",
     "name": "stdout",
     "output_type": "stream",
     "text": [
      "+----------+-----+-------+-----+-----+----+\n|student_id| name|subject|score|grade|rank|\n+----------+-----+-------+-----+-----+----+\n|         6| Isha|English|   88|    A|   1|\n|         7|Tanvi|   Math|   91|    A|   1|\n|         2|Divya|Science|   92|    A|   1|\n+----------+-----+-------+-----+-----+----+\n\n"
     ]
    }
   ],
   "source": [
    "from pyspark.sql.window import Window\n",
    "from pyspark.sql.functions import rank,desc\n",
    "w=Window.partitionBy(\"subject\").orderBy(desc(\"score\"))\n",
    "df.withColumn(\"rank\",rank().over(w)).filter(\"rank=1\").show()\n",
    "\n"
   ]
  },
  {
   "cell_type": "code",
   "execution_count": 0,
   "metadata": {
    "application/vnd.databricks.v1+cell": {
     "cellMetadata": {
      "byteLimit": 2048000,
      "rowLimit": 10000
     },
     "inputWidgets": {},
     "nuid": "7688440c-100d-43f2-8636-fe304ee3b25e",
     "showTitle": false,
     "tableResultSettingsMap": {},
     "title": ""
    }
   },
   "outputs": [
    {
     "output_type": "display_data",
     "data": {
      "text/html": [
       "<style scoped>\n",
       "  .table-result-container {\n",
       "    max-height: 300px;\n",
       "    overflow: auto;\n",
       "  }\n",
       "  table, th, td {\n",
       "    border: 1px solid black;\n",
       "    border-collapse: collapse;\n",
       "  }\n",
       "  th, td {\n",
       "    padding: 5px;\n",
       "  }\n",
       "  th {\n",
       "    text-align: left;\n",
       "  }\n",
       "</style><div class='table-result-container'><table class='table-result'><thead style='background-color: white'><tr><th>grade</th><th>count</th></tr></thead><tbody><tr><td>F</td><td>1</td></tr><tr><td>B</td><td>2</td></tr><tr><td>D</td><td>1</td></tr><tr><td>C</td><td>2</td></tr><tr><td>A</td><td>4</td></tr></tbody></table></div>"
      ]
     },
     "metadata": {
      "application/vnd.databricks.v1+output": {
       "addedWidgets": {},
       "aggData": [],
       "aggError": "",
       "aggOverflow": false,
       "aggSchema": [],
       "aggSeriesLimitReached": false,
       "aggType": "",
       "arguments": {},
       "columnCustomDisplayInfos": {},
       "data": [
        [
         "F",
         1
        ],
        [
         "B",
         2
        ],
        [
         "D",
         1
        ],
        [
         "C",
         2
        ],
        [
         "A",
         4
        ]
       ],
       "datasetInfos": [],
       "dbfsResultPath": null,
       "isJsonSchema": true,
       "metadata": {},
       "overflow": false,
       "plotOptions": {
        "customPlotOptions": {},
        "displayType": "table",
        "pivotAggregation": null,
        "pivotColumns": null,
        "xColumns": null,
        "yColumns": null
       },
       "removedWidgets": [],
       "schema": [
        {
         "metadata": "{}",
         "name": "grade",
         "type": "\"string\""
        },
        {
         "metadata": "{}",
         "name": "count",
         "type": "\"long\""
        }
       ],
       "type": "table"
      }
     },
     "output_type": "display_data"
    },
    {
     "output_type": "display_data",
     "data": {
      "text/html": [
       "<style scoped>\n",
       "  .table-result-container {\n",
       "    max-height: 300px;\n",
       "    overflow: auto;\n",
       "  }\n",
       "  table, th, td {\n",
       "    border: 1px solid black;\n",
       "    border-collapse: collapse;\n",
       "  }\n",
       "  th, td {\n",
       "    padding: 5px;\n",
       "  }\n",
       "  th {\n",
       "    text-align: left;\n",
       "  }\n",
       "</style><div class='table-result-container'><table class='table-result'><thead style='background-color: white'><tr><th>name</th></tr></thead><tbody><tr><td>Rohan</td></tr></tbody></table></div>"
      ]
     },
     "metadata": {
      "application/vnd.databricks.v1+output": {
       "addedWidgets": {},
       "aggData": [],
       "aggError": "",
       "aggOverflow": false,
       "aggSchema": [],
       "aggSeriesLimitReached": false,
       "aggType": "",
       "arguments": {},
       "columnCustomDisplayInfos": {},
       "data": [
        [
         "Rohan"
        ]
       ],
       "datasetInfos": [],
       "dbfsResultPath": null,
       "isJsonSchema": true,
       "metadata": {},
       "overflow": false,
       "plotOptions": {
        "customPlotOptions": {},
        "displayType": "table",
        "pivotAggregation": null,
        "pivotColumns": null,
        "xColumns": null,
        "yColumns": null
       },
       "removedWidgets": [],
       "schema": [
        {
         "metadata": "{}",
         "name": "name",
         "type": "\"string\""
        }
       ],
       "type": "table"
      }
     },
     "output_type": "display_data"
    },
    {
     "output_type": "display_data",
     "data": {
      "text/html": [
       "<style scoped>\n",
       "  .table-result-container {\n",
       "    max-height: 300px;\n",
       "    overflow: auto;\n",
       "  }\n",
       "  table, th, td {\n",
       "    border: 1px solid black;\n",
       "    border-collapse: collapse;\n",
       "  }\n",
       "  th, td {\n",
       "    padding: 5px;\n",
       "  }\n",
       "  th {\n",
       "    text-align: left;\n",
       "  }\n",
       "</style><div class='table-result-container'><table class='table-result'><thead style='background-color: white'><tr><th>name</th></tr></thead><tbody><tr><td>Ankit</td></tr><tr><td>Rahul</td></tr><tr><td>Sneha</td></tr><tr><td>Isha</td></tr><tr><td>Kunal</td></tr><tr><td>Megha</td></tr></tbody></table></div>"
      ]
     },
     "metadata": {
      "application/vnd.databricks.v1+output": {
       "addedWidgets": {},
       "aggData": [],
       "aggError": "",
       "aggOverflow": false,
       "aggSchema": [],
       "aggSeriesLimitReached": false,
       "aggType": "",
       "arguments": {},
       "columnCustomDisplayInfos": {},
       "data": [
        [
         "Ankit"
        ],
        [
         "Rahul"
        ],
        [
         "Sneha"
        ],
        [
         "Isha"
        ],
        [
         "Kunal"
        ],
        [
         "Megha"
        ]
       ],
       "datasetInfos": [],
       "dbfsResultPath": null,
       "isJsonSchema": true,
       "metadata": {},
       "overflow": false,
       "plotOptions": {
        "customPlotOptions": {},
        "displayType": "table",
        "pivotAggregation": null,
        "pivotColumns": null,
        "xColumns": null,
        "yColumns": null
       },
       "removedWidgets": [],
       "schema": [
        {
         "metadata": "{}",
         "name": "name",
         "type": "\"string\""
        }
       ],
       "type": "table"
      }
     },
     "output_type": "display_data"
    },
    {
     "output_type": "stream",
     "name": "stdout",
     "output_type": "stream",
     "text": [
      "+----------+-----+-------+-----+-----+-----+\n|student_id| name|subject|score|grade|ranks|\n+----------+-----+-------+-----+-----+-----+\n|         6| Isha|English|   88|    A|    1|\n|         3|Rahul|English|   78|    B|    2|\n|         9|Megha|English|   60|    C|    3|\n|         7|Tanvi|   Math|   91|    A|    1|\n|         1|Ankit|   Math|   85|    A|    2|\n|         4|Sneha|   Math|   65|    C|    3|\n|        10|Rohan|   Math|   40|    F|    4|\n|         2|Divya|Science|   92|    A|    1|\n|         8|Kunal|Science|   72|    B|    2|\n|         5|Aryan|Science|   55|    D|    3|\n+----------+-----+-------+-----+-----+-----+\n\n"
     ]
    }
   ],
   "source": [
    "grades_student_count=df.groupBy(\"grade\").count()\n",
    "display(grades_student_count)\n",
    "failed=df.filter(df.grade==\"F\").select(\"name\")\n",
    "display(failed)\n",
    "scre_60_90=df.filter(df.score.between(60,90)).select(\"name\")\n",
    "display(scre_60_90)\n",
    "w=Window.partitionBy(\"subject\").orderBy(desc(\"score\"))\n",
    "df=df.withColumn(\"ranks\",rank().over(w))\n",
    "df.show()\n"
   ]
  },
  {
   "cell_type": "markdown",
   "metadata": {
    "application/vnd.databricks.v1+cell": {
     "cellMetadata": {},
     "inputWidgets": {},
     "nuid": "1eb4d872-7b36-490b-b065-a08862a03480",
     "showTitle": false,
     "tableResultSettingsMap": {},
     "title": ""
    }
   },
   "source": [
    "update amd delete"
   ]
  },
  {
   "cell_type": "code",
   "execution_count": 0,
   "metadata": {
    "application/vnd.databricks.v1+cell": {
     "cellMetadata": {
      "byteLimit": 2048000,
      "rowLimit": 10000
     },
     "inputWidgets": {},
     "nuid": "12529d23-6c37-4c02-8da4-181cd83ca159",
     "showTitle": false,
     "tableResultSettingsMap": {},
     "title": ""
    }
   },
   "outputs": [
    {
     "output_type": "stream",
     "name": "stdout",
     "output_type": "stream",
     "text": [
      "+----------+-----+-------+-----+-----+\n|student_id| name|subject|score|grade|\n+----------+-----+-------+-----+-----+\n|         1|Ankit|   Math|   85|    A|\n|         2|Divya|Science|   92|    A|\n|         4|Sneha|   Math|   65|    C|\n|         7|Tanvi|   Math|   91|    A|\n|         8|Kunal|Science|   72|    B|\n|         3|Rahul|English|  128|    B|\n|         6| Isha|English|  138|    A|\n|         9|Megha|English|  110|    C|\n+----------+-----+-------+-----+-----+\n\n"
     ]
    }
   ],
   "source": [
    "from delta.tables import DeltaTable\n",
    "deltatable=DeltaTable.forPath(spark,\"/tmp/delta/student_scores\")\n",
    "deltatable.update(condition=\"subject='English'\",set={\"score\":\"score+5\"})\n",
    "deltatable.toDF().show()"
   ]
  },
  {
   "cell_type": "code",
   "execution_count": 0,
   "metadata": {
    "application/vnd.databricks.v1+cell": {
     "cellMetadata": {
      "byteLimit": 2048000,
      "rowLimit": 10000
     },
     "inputWidgets": {},
     "nuid": "16bd6fd5-0260-4119-9cfa-3d35f3f32f40",
     "showTitle": false,
     "tableResultSettingsMap": {},
     "title": ""
    }
   },
   "outputs": [
    {
     "output_type": "stream",
     "name": "stdout",
     "output_type": "stream",
     "text": [
      "+----------+-----+-------+-----+-----+\n|student_id| name|subject|score|grade|\n+----------+-----+-------+-----+-----+\n|         3|Rahul|English|  128|    B|\n|         6| Isha|English|  138|    A|\n|         9|Megha|English|  110|    C|\n|         1|Ankit|   Math|   85|    A|\n|         2|Divya|Science|   92|    A|\n|         4|Sneha|   Math|   65|    C|\n|         7|Tanvi|   Math|   91|    A|\n|         8|Kunal|Science|   72|    B|\n+----------+-----+-------+-----+-----+\n\n"
     ]
    }
   ],
   "source": [
    "deltatable.delete(\"score<60\")\n",
    "deltatable.toDF().show()"
   ]
  },
  {
   "cell_type": "code",
   "execution_count": 0,
   "metadata": {
    "application/vnd.databricks.v1+cell": {
     "cellMetadata": {
      "byteLimit": 2048000,
      "rowLimit": 10000
     },
     "inputWidgets": {},
     "nuid": "501dbd2b-bc15-4002-a5e1-f4301d1d4e9c",
     "showTitle": false,
     "tableResultSettingsMap": {},
     "title": ""
    }
   },
   "outputs": [
    {
     "output_type": "stream",
     "name": "stdout",
     "output_type": "stream",
     "text": [
      "+----------+-----+-------+-----+-----+-----------+\n|student_id| name|subject|score|grade|pass_status|\n+----------+-----+-------+-----+-----+-----------+\n|         3|Rahul|English|  128|    B|       Pass|\n|         6| Isha|English|  138|    A|       Pass|\n|         9|Megha|English|  110|    C|       Pass|\n|         1|Ankit|   Math|   85|    A|       Pass|\n|         2|Divya|Science|   92|    A|       Pass|\n|         4|Sneha|   Math|   65|    C|       Pass|\n|         7|Tanvi|   Math|   91|    A|       Pass|\n|         8|Kunal|Science|   72|    B|       Pass|\n+----------+-----+-------+-----+-----+-----------+\n\n"
     ]
    }
   ],
   "source": [
    "from pyspark.sql.functions import col,when\n",
    "df2=deltatable.toDF().withColumn(\"pass_status\",when(col(\"score\")>=50,\"Pass\").otherwise(\"Fail\"))\n",
    "df2.show()\n"
   ]
  },
  {
   "cell_type": "markdown",
   "metadata": {
    "application/vnd.databricks.v1+cell": {
     "cellMetadata": {},
     "inputWidgets": {},
     "nuid": "7dcfe2ff-46fc-4ac2-9865-b81aed8893db",
     "showTitle": false,
     "tableResultSettingsMap": {},
     "title": ""
    }
   },
   "source": [
    "Data transformation and views"
   ]
  },
  {
   "cell_type": "code",
   "execution_count": 0,
   "metadata": {
    "application/vnd.databricks.v1+cell": {
     "cellMetadata": {
      "byteLimit": 2048000,
      "rowLimit": 10000
     },
     "inputWidgets": {},
     "nuid": "91fea7b7-f041-4337-b3ca-4159586ce7d8",
     "showTitle": false,
     "tableResultSettingsMap": {},
     "title": ""
    }
   },
   "outputs": [
    {
     "output_type": "stream",
     "name": "stdout",
     "output_type": "stream",
     "text": [
      "+----------+\n|avg(score)|\n+----------+\n|    97.625|\n+----------+\n\n"
     ]
    }
   ],
   "source": [
    "df2.createOrReplaceTempView(\"students_views\")\n",
    "spark.sql(\"select avg(score)from students_views\").show()"
   ]
  },
  {
   "cell_type": "code",
   "execution_count": 0,
   "metadata": {
    "application/vnd.databricks.v1+cell": {
     "cellMetadata": {
      "byteLimit": 2048000,
      "rowLimit": 10000
     },
     "inputWidgets": {},
     "nuid": "20650a01-42ff-4963-ae4a-e51ab913bd02",
     "showTitle": false,
     "tableResultSettingsMap": {},
     "title": ""
    }
   },
   "outputs": [],
   "source": [
    "df2.write.format(\"delta\").mode(\"overwrite\").save(\"dbfs:/tmp/delta/student_scores2\")"
   ]
  },
  {
   "cell_type": "code",
   "execution_count": 0,
   "metadata": {
    "application/vnd.databricks.v1+cell": {
     "cellMetadata": {
      "byteLimit": 2048000,
      "rowLimit": 10000
     },
     "inputWidgets": {},
     "nuid": "49095e05-3ef3-4cd2-aac2-f5c5e090c0c6",
     "showTitle": false,
     "tableResultSettingsMap": {},
     "title": ""
    }
   },
   "outputs": [
    {
     "output_type": "execute_result",
     "data": {
      "text/plain": [
       "DataFrame[]"
      ]
     },
     "execution_count": 159,
     "metadata": {},
     "output_type": "execute_result"
    }
   ],
   "source": [
    "spark.sql(\"use hive_metastore.default\")\n",
    "spark.sql(\"DROP TABLE IF EXISTS student_scores2\")\n",
    "spark.sql(\"\"\" create table student_scores2 using delta location 'dbfs:/tmp/delta/student_scores2' \"\"\")\n"
   ]
  },
  {
   "cell_type": "code",
   "execution_count": 0,
   "metadata": {
    "application/vnd.databricks.v1+cell": {
     "cellMetadata": {
      "byteLimit": 2048000,
      "rowLimit": 10000
     },
     "inputWidgets": {},
     "nuid": "341cae75-05d1-4d23-9cbc-c7d8373d452a",
     "showTitle": false,
     "tableResultSettingsMap": {},
     "title": ""
    }
   },
   "outputs": [],
   "source": [
    "df2.write.mode(\"overwrite\").parquet(\"/tmp/delta/student_scores_parquet_file\")\n",
    "df2.write.mode(\"overwrite\").json(\"/tmp/delta/student_scores_json_file\")"
   ]
  }
 ],
 "metadata": {
  "application/vnd.databricks.v1+notebook": {
   "computePreferences": null,
   "dashboards": [],
   "environmentMetadata": {
    "base_environment": "",
    "environment_version": "2"
   },
   "inputWidgetPreferences": null,
   "language": "python",
   "notebookMetadata": {
    "pythonIndentUnit": 4
   },
   "notebookName": "Untitled Notebook 2025-08-08 12:38:11",
   "widgets": {}
  },
  "language_info": {
   "name": "python"
  }
 },
 "nbformat": 4,
 "nbformat_minor": 0
}