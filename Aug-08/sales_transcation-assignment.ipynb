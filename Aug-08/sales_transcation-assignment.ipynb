{
 "cells": [
  {
   "cell_type": "code",
   "execution_count": 0,
   "metadata": {
    "application/vnd.databricks.v1+cell": {
     "cellMetadata": {
      "byteLimit": 2048000,
      "rowLimit": 10000
     },
     "inputWidgets": {},
     "nuid": "96e07ada-c2bd-4c1b-bec1-384dd18bc355",
     "showTitle": false,
     "tableResultSettingsMap": {},
     "title": ""
    }
   },
   "outputs": [
    {
     "output_type": "stream",
     "name": "stdout",
     "output_type": "stream",
     "text": [
      "Wrote 603 bytes.\n"
     ]
    },
    {
     "output_type": "execute_result",
     "data": {
      "text/plain": [
       "True"
      ]
     },
     "execution_count": 20,
     "metadata": {},
     "output_type": "execute_result"
    }
   ],
   "source": [
    "\n",
    "csv_data =\"\"\"transaction_id,customer_name,region,product,category,quantity,unit_price,date\n",
    "1,Rajesh,North,Laptop,Electronics,1,55000,2024-01-12\n",
    "2,Sneha,West,Refrigerator,Electronics,1,32000,2024-02-05\n",
    "3,Anil,South,Shampoo,Personal Care,5,150,2024-01-17\n",
    "4,Divya,North,Mobile,Electronics,2,20000,2024-03-22\n",
    "5,Vikram,East,Washing Machine,Electronics,1,28000,2024-02-28\n",
    "6,Preeti,West,Sneakers,Fashion,2,4000,2024-01-31\n",
    "7,Aman,South,TV,Electronics,1,45000,2024-02-15\n",
    "8,Isha,North,Notebook,Stationery,10,60,2024-01-10\n",
    "9,Kunal,East,Pencil,Stationery,20,10,2024-03-05\n",
    "10,Tanvi,West,Face Cream,Personal Care,3,200,2024-03-19\n",
    "\"\"\"\n",
    "\n",
    "dbutils.fs.put(\"dbfs:/tmp/sales_transactions.csv\", csv_data, overwrite=True)\n"
   ]
  },
  {
   "cell_type": "code",
   "execution_count": 0,
   "metadata": {
    "application/vnd.databricks.v1+cell": {
     "cellMetadata": {
      "byteLimit": 2048000,
      "rowLimit": 10000
     },
     "inputWidgets": {},
     "nuid": "1121dd96-09d5-401a-87f4-2b1d80aac3eb",
     "showTitle": false,
     "tableResultSettingsMap": {},
     "title": ""
    }
   },
   "outputs": [
    {
     "output_type": "display_data",
     "data": {
      "text/html": [
       "<style scoped>\n",
       "  .table-result-container {\n",
       "    max-height: 300px;\n",
       "    overflow: auto;\n",
       "  }\n",
       "  table, th, td {\n",
       "    border: 1px solid black;\n",
       "    border-collapse: collapse;\n",
       "  }\n",
       "  th, td {\n",
       "    padding: 5px;\n",
       "  }\n",
       "  th {\n",
       "    text-align: left;\n",
       "  }\n",
       "</style><div class='table-result-container'><table class='table-result'><thead style='background-color: white'><tr><th>transaction_id</th><th>customer_name</th><th>region</th><th>product</th><th>category</th><th>quantity</th><th>unit_price</th><th>date</th></tr></thead><tbody><tr><td>1</td><td>Rajesh</td><td>North</td><td>Laptop</td><td>Electronics</td><td>1</td><td>55000</td><td>2024-01-12</td></tr><tr><td>2</td><td>Sneha</td><td>West</td><td>Refrigerator</td><td>Electronics</td><td>1</td><td>32000</td><td>2024-02-05</td></tr><tr><td>3</td><td>Anil</td><td>South</td><td>Shampoo</td><td>Personal Care</td><td>5</td><td>150</td><td>2024-01-17</td></tr><tr><td>4</td><td>Divya</td><td>North</td><td>Mobile</td><td>Electronics</td><td>2</td><td>20000</td><td>2024-03-22</td></tr><tr><td>5</td><td>Vikram</td><td>East</td><td>Washing Machine</td><td>Electronics</td><td>1</td><td>28000</td><td>2024-02-28</td></tr><tr><td>6</td><td>Preeti</td><td>West</td><td>Sneakers</td><td>Fashion</td><td>2</td><td>4000</td><td>2024-01-31</td></tr><tr><td>7</td><td>Aman</td><td>South</td><td>TV</td><td>Electronics</td><td>1</td><td>45000</td><td>2024-02-15</td></tr><tr><td>8</td><td>Isha</td><td>North</td><td>Notebook</td><td>Stationery</td><td>10</td><td>60</td><td>2024-01-10</td></tr><tr><td>9</td><td>Kunal</td><td>East</td><td>Pencil</td><td>Stationery</td><td>20</td><td>10</td><td>2024-03-05</td></tr><tr><td>10</td><td>Tanvi</td><td>West</td><td>Face Cream</td><td>Personal Care</td><td>3</td><td>200</td><td>2024-03-19</td></tr></tbody></table></div>"
      ]
     },
     "metadata": {
      "application/vnd.databricks.v1+output": {
       "addedWidgets": {},
       "aggData": [],
       "aggError": "",
       "aggOverflow": false,
       "aggSchema": [],
       "aggSeriesLimitReached": false,
       "aggType": "",
       "arguments": {},
       "columnCustomDisplayInfos": {},
       "data": [
        [
         "1",
         "Rajesh",
         "North",
         "Laptop",
         "Electronics",
         "1",
         "55000",
         "2024-01-12"
        ],
        [
         "2",
         "Sneha",
         "West",
         "Refrigerator",
         "Electronics",
         "1",
         "32000",
         "2024-02-05"
        ],
        [
         "3",
         "Anil",
         "South",
         "Shampoo",
         "Personal Care",
         "5",
         "150",
         "2024-01-17"
        ],
        [
         "4",
         "Divya",
         "North",
         "Mobile",
         "Electronics",
         "2",
         "20000",
         "2024-03-22"
        ],
        [
         "5",
         "Vikram",
         "East",
         "Washing Machine",
         "Electronics",
         "1",
         "28000",
         "2024-02-28"
        ],
        [
         "6",
         "Preeti",
         "West",
         "Sneakers",
         "Fashion",
         "2",
         "4000",
         "2024-01-31"
        ],
        [
         "7",
         "Aman",
         "South",
         "TV",
         "Electronics",
         "1",
         "45000",
         "2024-02-15"
        ],
        [
         "8",
         "Isha",
         "North",
         "Notebook",
         "Stationery",
         "10",
         "60",
         "2024-01-10"
        ],
        [
         "9",
         "Kunal",
         "East",
         "Pencil",
         "Stationery",
         "20",
         "10",
         "2024-03-05"
        ],
        [
         "10",
         "Tanvi",
         "West",
         "Face Cream",
         "Personal Care",
         "3",
         "200",
         "2024-03-19"
        ]
       ],
       "datasetInfos": [],
       "dbfsResultPath": null,
       "isJsonSchema": true,
       "metadata": {},
       "overflow": false,
       "plotOptions": {
        "customPlotOptions": {},
        "displayType": "table",
        "pivotAggregation": null,
        "pivotColumns": null,
        "xColumns": null,
        "yColumns": null
       },
       "removedWidgets": [],
       "schema": [
        {
         "metadata": "{}",
         "name": "transaction_id",
         "type": "\"string\""
        },
        {
         "metadata": "{}",
         "name": "customer_name",
         "type": "\"string\""
        },
        {
         "metadata": "{}",
         "name": "region",
         "type": "\"string\""
        },
        {
         "metadata": "{}",
         "name": "product",
         "type": "\"string\""
        },
        {
         "metadata": "{}",
         "name": "category",
         "type": "\"string\""
        },
        {
         "metadata": "{}",
         "name": "quantity",
         "type": "\"string\""
        },
        {
         "metadata": "{}",
         "name": "unit_price",
         "type": "\"string\""
        },
        {
         "metadata": "{}",
         "name": "date",
         "type": "\"string\""
        }
       ],
       "type": "table"
      }
     },
     "output_type": "display_data"
    }
   ],
   "source": [
    "py_df=spark.read.csv(\"dbfs:/tmp/sales_transactions.csv\", header=True)\n",
    "display(py_df)\n",
    "py_df.write.mode(\"overwrite\").parquet(\"dbfs:/output/sales.parquet\")\n",
    "py_df.write.format(\"delta\").mode(\"overwrite\").save(\"dbfs:/output2/sales_transactions\")"
   ]
  },
  {
   "cell_type": "code",
   "execution_count": 0,
   "metadata": {
    "application/vnd.databricks.v1+cell": {
     "cellMetadata": {
      "byteLimit": 2048000,
      "rowLimit": 10000
     },
     "inputWidgets": {},
     "nuid": "ea7167e7-307a-4f7c-8835-6294bafb7189",
     "showTitle": false,
     "tableResultSettingsMap": {},
     "title": ""
    }
   },
   "outputs": [
    {
     "output_type": "execute_result",
     "data": {
      "text/plain": [
       "DataFrame[]"
      ]
     },
     "execution_count": 39,
     "metadata": {},
     "output_type": "execute_result"
    }
   ],
   "source": [
    "# Switch to local Hive metastore (not Unity Catalog)\n",
    "spark.sql(\"USE hive_metastore.default\")\n",
    "delta_path = f\"dbfs:/output2/sales_transactions\"\n",
    "# Create table\n",
    "spark.sql(\"DROP TABLE IF EXISTS sales_transactions\")\n",
    "spark.sql(f\"\"\"\n",
    "    CREATE TABLE sales_transactions\n",
    "    USING DELTA\n",
    "    LOCATION '{delta_path}'\n",
    "\"\"\")\n"
   ]
  },
  {
   "cell_type": "code",
   "execution_count": 0,
   "metadata": {
    "application/vnd.databricks.v1+cell": {
     "cellMetadata": {
      "byteLimit": 2048000,
      "rowLimit": 10000
     },
     "inputWidgets": {},
     "nuid": "8bd4063b-44cf-4d74-a28a-35959e4834d5",
     "showTitle": false,
     "tableResultSettingsMap": {},
     "title": ""
    }
   },
   "outputs": [
    {
     "output_type": "execute_result",
     "data": {
      "text/plain": [
       "DataFrame[transaction_id: string, customer_name: string, region: string, product: string, category: string, quantity: string, unit_price: string, date: string]"
      ]
     },
     "execution_count": 41,
     "metadata": {},
     "output_type": "execute_result"
    }
   ],
   "source": [
    "spark.sql(\"\"\"select*from sales_transactions\"\"\")"
   ]
  },
  {
   "cell_type": "markdown",
   "metadata": {
    "application/vnd.databricks.v1+cell": {
     "cellMetadata": {},
     "inputWidgets": {},
     "nuid": "09510a3a-109f-40c0-b1d0-812422643bc2",
     "showTitle": false,
     "tableResultSettingsMap": {},
     "title": ""
    }
   },
   "source": [
    "Data transformation"
   ]
  },
  {
   "cell_type": "code",
   "execution_count": 0,
   "metadata": {
    "application/vnd.databricks.v1+cell": {
     "cellMetadata": {
      "byteLimit": 2048000,
      "rowLimit": 10000
     },
     "inputWidgets": {},
     "nuid": "bc097f9d-bff9-401e-9632-b30350d9dddf",
     "showTitle": false,
     "tableResultSettingsMap": {
      "0": {
       "dataGridStateBlob": "{\"version\":1,\"tableState\":{\"columnPinning\":{\"left\":[\"#row_number#\"],\"right\":[]},\"columnSizing\":{},\"columnVisibility\":{}},\"settings\":{\"columns\":{}},\"syncTimestamp\":1754629352910}",
       "filterBlob": null,
       "queryPlanFiltersBlob": null,
       "tableResultIndex": 0
      }
     },
     "title": ""
    }
   },
   "outputs": [
    {
     "output_type": "display_data",
     "data": {
      "text/html": [
       "<style scoped>\n",
       "  .table-result-container {\n",
       "    max-height: 300px;\n",
       "    overflow: auto;\n",
       "  }\n",
       "  table, th, td {\n",
       "    border: 1px solid black;\n",
       "    border-collapse: collapse;\n",
       "  }\n",
       "  th, td {\n",
       "    padding: 5px;\n",
       "  }\n",
       "  th {\n",
       "    text-align: left;\n",
       "  }\n",
       "</style><div class='table-result-container'><table class='table-result'><thead style='background-color: white'><tr><th>transaction_id</th><th>customer_name</th><th>region</th><th>product</th><th>category</th><th>quantity</th><th>unit_price</th><th>date</th><th>total_price</th><th>month</th><th>formated_date</th><th>is_high_value</th></tr></thead><tbody><tr><td>1</td><td>Rajesh</td><td>North</td><td>Laptop</td><td>Electronics</td><td>1</td><td>55000</td><td>2024-01-12</td><td>55000.0</td><td>1</td><td>12-01-2024</td><td>true</td></tr><tr><td>2</td><td>Sneha</td><td>West</td><td>Refrigerator</td><td>Electronics</td><td>1</td><td>32000</td><td>2024-02-05</td><td>32000.0</td><td>2</td><td>05-02-2024</td><td>true</td></tr><tr><td>3</td><td>Anil</td><td>South</td><td>Shampoo</td><td>Personal Care</td><td>5</td><td>150</td><td>2024-01-17</td><td>750.0</td><td>1</td><td>17-01-2024</td><td>false</td></tr><tr><td>4</td><td>Divya</td><td>North</td><td>Mobile</td><td>Electronics</td><td>2</td><td>20000</td><td>2024-03-22</td><td>40000.0</td><td>3</td><td>22-03-2024</td><td>true</td></tr><tr><td>5</td><td>Vikram</td><td>East</td><td>Washing Machine</td><td>Electronics</td><td>1</td><td>28000</td><td>2024-02-28</td><td>28000.0</td><td>2</td><td>28-02-2024</td><td>false</td></tr><tr><td>6</td><td>Preeti</td><td>West</td><td>Sneakers</td><td>Fashion</td><td>2</td><td>4000</td><td>2024-01-31</td><td>8000.0</td><td>1</td><td>31-01-2024</td><td>false</td></tr><tr><td>7</td><td>Aman</td><td>South</td><td>TV</td><td>Electronics</td><td>1</td><td>45000</td><td>2024-02-15</td><td>45000.0</td><td>2</td><td>15-02-2024</td><td>true</td></tr><tr><td>8</td><td>Isha</td><td>North</td><td>Notebook</td><td>Stationery</td><td>10</td><td>60</td><td>2024-01-10</td><td>600.0</td><td>1</td><td>10-01-2024</td><td>false</td></tr><tr><td>9</td><td>Kunal</td><td>East</td><td>Pencil</td><td>Stationery</td><td>20</td><td>10</td><td>2024-03-05</td><td>200.0</td><td>3</td><td>05-03-2024</td><td>false</td></tr><tr><td>10</td><td>Tanvi</td><td>West</td><td>Face Cream</td><td>Personal Care</td><td>3</td><td>200</td><td>2024-03-19</td><td>600.0</td><td>3</td><td>19-03-2024</td><td>false</td></tr></tbody></table></div>"
      ]
     },
     "metadata": {
      "application/vnd.databricks.v1+output": {
       "addedWidgets": {},
       "aggData": [],
       "aggError": "",
       "aggOverflow": false,
       "aggSchema": [],
       "aggSeriesLimitReached": false,
       "aggType": "",
       "arguments": {},
       "columnCustomDisplayInfos": {},
       "data": [
        [
         "1",
         "Rajesh",
         "North",
         "Laptop",
         "Electronics",
         "1",
         "55000",
         "2024-01-12",
         55000.0,
         1,
         "12-01-2024",
         true
        ],
        [
         "2",
         "Sneha",
         "West",
         "Refrigerator",
         "Electronics",
         "1",
         "32000",
         "2024-02-05",
         32000.0,
         2,
         "05-02-2024",
         true
        ],
        [
         "3",
         "Anil",
         "South",
         "Shampoo",
         "Personal Care",
         "5",
         "150",
         "2024-01-17",
         750.0,
         1,
         "17-01-2024",
         false
        ],
        [
         "4",
         "Divya",
         "North",
         "Mobile",
         "Electronics",
         "2",
         "20000",
         "2024-03-22",
         40000.0,
         3,
         "22-03-2024",
         true
        ],
        [
         "5",
         "Vikram",
         "East",
         "Washing Machine",
         "Electronics",
         "1",
         "28000",
         "2024-02-28",
         28000.0,
         2,
         "28-02-2024",
         false
        ],
        [
         "6",
         "Preeti",
         "West",
         "Sneakers",
         "Fashion",
         "2",
         "4000",
         "2024-01-31",
         8000.0,
         1,
         "31-01-2024",
         false
        ],
        [
         "7",
         "Aman",
         "South",
         "TV",
         "Electronics",
         "1",
         "45000",
         "2024-02-15",
         45000.0,
         2,
         "15-02-2024",
         true
        ],
        [
         "8",
         "Isha",
         "North",
         "Notebook",
         "Stationery",
         "10",
         "60",
         "2024-01-10",
         600.0,
         1,
         "10-01-2024",
         false
        ],
        [
         "9",
         "Kunal",
         "East",
         "Pencil",
         "Stationery",
         "20",
         "10",
         "2024-03-05",
         200.0,
         3,
         "05-03-2024",
         false
        ],
        [
         "10",
         "Tanvi",
         "West",
         "Face Cream",
         "Personal Care",
         "3",
         "200",
         "2024-03-19",
         600.0,
         3,
         "19-03-2024",
         false
        ]
       ],
       "datasetInfos": [],
       "dbfsResultPath": null,
       "isJsonSchema": true,
       "metadata": {},
       "overflow": false,
       "plotOptions": {
        "customPlotOptions": {},
        "displayType": "table",
        "pivotAggregation": null,
        "pivotColumns": null,
        "xColumns": null,
        "yColumns": null
       },
       "removedWidgets": [],
       "schema": [
        {
         "metadata": "{}",
         "name": "transaction_id",
         "type": "\"string\""
        },
        {
         "metadata": "{}",
         "name": "customer_name",
         "type": "\"string\""
        },
        {
         "metadata": "{}",
         "name": "region",
         "type": "\"string\""
        },
        {
         "metadata": "{}",
         "name": "product",
         "type": "\"string\""
        },
        {
         "metadata": "{}",
         "name": "category",
         "type": "\"string\""
        },
        {
         "metadata": "{}",
         "name": "quantity",
         "type": "\"string\""
        },
        {
         "metadata": "{}",
         "name": "unit_price",
         "type": "\"string\""
        },
        {
         "metadata": "{}",
         "name": "date",
         "type": "\"string\""
        },
        {
         "metadata": "{}",
         "name": "total_price",
         "type": "\"double\""
        },
        {
         "metadata": "{}",
         "name": "month",
         "type": "\"integer\""
        },
        {
         "metadata": "{}",
         "name": "formated_date",
         "type": "\"string\""
        },
        {
         "metadata": "{}",
         "name": "is_high_value",
         "type": "\"boolean\""
        }
       ],
       "type": "table"
      }
     },
     "output_type": "display_data"
    }
   ],
   "source": [
    "from pyspark.sql.functions import expr,month,date_format\n",
    "transformed_df=spark.table(\"sales_transactions\").withColumn(\"total_price\",expr(\"quantity*unit_price\")).withColumn('month', month('date')).withColumn(\"formated_date\",date_format('date',\"dd-MM-yyyy\")).withColumn(\"is_high_value\",expr(\"case when total_price>30000 then True else False end\"))\n",
    "\n",
    "display(transformed_df)\n",
    "transformed_df.write.format(\"delta\").mode(\"overwrite\").save(\"dbfs:/output2/sales_transformed\")\n",
    "\n",
    "\n",
    "\n"
   ]
  },
  {
   "cell_type": "markdown",
   "metadata": {
    "application/vnd.databricks.v1+cell": {
     "cellMetadata": {},
     "inputWidgets": {},
     "nuid": "e0b5934a-f823-4077-adba-de7678ded411",
     "showTitle": false,
     "tableResultSettingsMap": {},
     "title": ""
    }
   },
   "source": [
    "Aggregation and insight"
   ]
  },
  {
   "cell_type": "code",
   "execution_count": 0,
   "metadata": {
    "application/vnd.databricks.v1+cell": {
     "cellMetadata": {
      "byteLimit": 2048000,
      "rowLimit": 10000
     },
     "inputWidgets": {},
     "nuid": "e4c1a080-a556-41ae-9ea0-cd2c42c835d7",
     "showTitle": false,
     "tableResultSettingsMap": {},
     "title": ""
    }
   },
   "outputs": [
    {
     "output_type": "display_data",
     "data": {
      "text/html": [
       "<style scoped>\n",
       "  .table-result-container {\n",
       "    max-height: 300px;\n",
       "    overflow: auto;\n",
       "  }\n",
       "  table, th, td {\n",
       "    border: 1px solid black;\n",
       "    border-collapse: collapse;\n",
       "  }\n",
       "  th, td {\n",
       "    padding: 5px;\n",
       "  }\n",
       "  th {\n",
       "    text-align: left;\n",
       "  }\n",
       "</style><div class='table-result-container'><table class='table-result'><thead style='background-color: white'><tr><th>region</th><th>count</th></tr></thead><tbody><tr><td>South</td><td>2</td></tr><tr><td>East</td><td>2</td></tr><tr><td>West</td><td>3</td></tr><tr><td>North</td><td>3</td></tr></tbody></table></div>"
      ]
     },
     "metadata": {
      "application/vnd.databricks.v1+output": {
       "addedWidgets": {},
       "aggData": [],
       "aggError": "",
       "aggOverflow": false,
       "aggSchema": [],
       "aggSeriesLimitReached": false,
       "aggType": "",
       "arguments": {},
       "columnCustomDisplayInfos": {},
       "data": [
        [
         "South",
         2
        ],
        [
         "East",
         2
        ],
        [
         "West",
         3
        ],
        [
         "North",
         3
        ]
       ],
       "datasetInfos": [],
       "dbfsResultPath": null,
       "isJsonSchema": true,
       "metadata": {},
       "overflow": false,
       "plotOptions": {
        "customPlotOptions": {},
        "displayType": "table",
        "pivotAggregation": null,
        "pivotColumns": null,
        "xColumns": null,
        "yColumns": null
       },
       "removedWidgets": [],
       "schema": [
        {
         "metadata": "{}",
         "name": "region",
         "type": "\"string\""
        },
        {
         "metadata": "{}",
         "name": "count",
         "type": "\"long\""
        }
       ],
       "type": "table"
      }
     },
     "output_type": "display_data"
    },
    {
     "output_type": "display_data",
     "data": {
      "text/html": [
       "<style scoped>\n",
       "  .table-result-container {\n",
       "    max-height: 300px;\n",
       "    overflow: auto;\n",
       "  }\n",
       "  table, th, td {\n",
       "    border: 1px solid black;\n",
       "    border-collapse: collapse;\n",
       "  }\n",
       "  th, td {\n",
       "    padding: 5px;\n",
       "  }\n",
       "  th {\n",
       "    text-align: left;\n",
       "  }\n",
       "</style><div class='table-result-container'><table class='table-result'><thead style='background-color: white'><tr><th>category</th><th>sum(total_price)</th></tr></thead><tbody><tr><td>Stationery</td><td>800.0</td></tr><tr><td>Fashion</td><td>8000.0</td></tr><tr><td>Electronics</td><td>200000.0</td></tr><tr><td>Personal Care</td><td>1350.0</td></tr></tbody></table></div>"
      ]
     },
     "metadata": {
      "application/vnd.databricks.v1+output": {
       "addedWidgets": {},
       "aggData": [],
       "aggError": "",
       "aggOverflow": false,
       "aggSchema": [],
       "aggSeriesLimitReached": false,
       "aggType": "",
       "arguments": {},
       "columnCustomDisplayInfos": {},
       "data": [
        [
         "Stationery",
         800.0
        ],
        [
         "Fashion",
         8000.0
        ],
        [
         "Electronics",
         200000.0
        ],
        [
         "Personal Care",
         1350.0
        ]
       ],
       "datasetInfos": [],
       "dbfsResultPath": null,
       "isJsonSchema": true,
       "metadata": {},
       "overflow": false,
       "plotOptions": {
        "customPlotOptions": {},
        "displayType": "table",
        "pivotAggregation": null,
        "pivotColumns": null,
        "xColumns": null,
        "yColumns": null
       },
       "removedWidgets": [],
       "schema": [
        {
         "metadata": "{}",
         "name": "category",
         "type": "\"string\""
        },
        {
         "metadata": "{\"__autoGeneratedAlias\":\"true\"}",
         "name": "sum(total_price)",
         "type": "\"double\""
        }
       ],
       "type": "table"
      }
     },
     "output_type": "display_data"
    },
    {
     "output_type": "display_data",
     "data": {
      "text/html": [
       "<style scoped>\n",
       "  .table-result-container {\n",
       "    max-height: 300px;\n",
       "    overflow: auto;\n",
       "  }\n",
       "  table, th, td {\n",
       "    border: 1px solid black;\n",
       "    border-collapse: collapse;\n",
       "  }\n",
       "  th, td {\n",
       "    padding: 5px;\n",
       "  }\n",
       "  th {\n",
       "    text-align: left;\n",
       "  }\n",
       "</style><div class='table-result-container'><table class='table-result'><thead style='background-color: white'><tr><th>month</th><th>sum(total_price)</th></tr></thead><tbody><tr><td>1</td><td>64350.0</td></tr><tr><td>3</td><td>40800.0</td></tr><tr><td>2</td><td>105000.0</td></tr></tbody></table></div>"
      ]
     },
     "metadata": {
      "application/vnd.databricks.v1+output": {
       "addedWidgets": {},
       "aggData": [],
       "aggError": "",
       "aggOverflow": false,
       "aggSchema": [],
       "aggSeriesLimitReached": false,
       "aggType": "",
       "arguments": {},
       "columnCustomDisplayInfos": {},
       "data": [
        [
         1,
         64350.0
        ],
        [
         3,
         40800.0
        ],
        [
         2,
         105000.0
        ]
       ],
       "datasetInfos": [],
       "dbfsResultPath": null,
       "isJsonSchema": true,
       "metadata": {},
       "overflow": false,
       "plotOptions": {
        "customPlotOptions": {},
        "displayType": "table",
        "pivotAggregation": null,
        "pivotColumns": null,
        "xColumns": null,
        "yColumns": null
       },
       "removedWidgets": [],
       "schema": [
        {
         "metadata": "{}",
         "name": "month",
         "type": "\"integer\""
        },
        {
         "metadata": "{\"__autoGeneratedAlias\":\"true\"}",
         "name": "sum(total_price)",
         "type": "\"double\""
        }
       ],
       "type": "table"
      }
     },
     "output_type": "display_data"
    },
    {
     "output_type": "display_data",
     "data": {
      "text/html": [
       "<style scoped>\n",
       "  .table-result-container {\n",
       "    max-height: 300px;\n",
       "    overflow: auto;\n",
       "  }\n",
       "  table, th, td {\n",
       "    border: 1px solid black;\n",
       "    border-collapse: collapse;\n",
       "  }\n",
       "  th, td {\n",
       "    padding: 5px;\n",
       "  }\n",
       "  th {\n",
       "    text-align: left;\n",
       "  }\n",
       "</style><div class='table-result-container'><table class='table-result'><thead style='background-color: white'><tr><th>transaction_id</th><th>customer_name</th><th>region</th><th>product</th><th>category</th><th>quantity</th><th>unit_price</th><th>date</th><th>total_price</th><th>month</th><th>formated_date</th><th>is_high_value</th></tr></thead><tbody><tr><td>1</td><td>Rajesh</td><td>North</td><td>Laptop</td><td>Electronics</td><td>1</td><td>55000</td><td>2024-01-12</td><td>55000.0</td><td>1</td><td>12-01-2024</td><td>true</td></tr></tbody></table></div>"
      ]
     },
     "metadata": {
      "application/vnd.databricks.v1+output": {
       "addedWidgets": {},
       "aggData": [],
       "aggError": "",
       "aggOverflow": false,
       "aggSchema": [],
       "aggSeriesLimitReached": false,
       "aggType": "",
       "arguments": {},
       "columnCustomDisplayInfos": {},
       "data": [
        [
         "1",
         "Rajesh",
         "North",
         "Laptop",
         "Electronics",
         "1",
         "55000",
         "2024-01-12",
         55000.0,
         1,
         "12-01-2024",
         true
        ]
       ],
       "datasetInfos": [],
       "dbfsResultPath": null,
       "isJsonSchema": true,
       "metadata": {},
       "overflow": false,
       "plotOptions": {
        "customPlotOptions": {},
        "displayType": "table",
        "pivotAggregation": null,
        "pivotColumns": null,
        "xColumns": null,
        "yColumns": null
       },
       "removedWidgets": [],
       "schema": [
        {
         "metadata": "{}",
         "name": "transaction_id",
         "type": "\"string\""
        },
        {
         "metadata": "{}",
         "name": "customer_name",
         "type": "\"string\""
        },
        {
         "metadata": "{}",
         "name": "region",
         "type": "\"string\""
        },
        {
         "metadata": "{}",
         "name": "product",
         "type": "\"string\""
        },
        {
         "metadata": "{}",
         "name": "category",
         "type": "\"string\""
        },
        {
         "metadata": "{}",
         "name": "quantity",
         "type": "\"string\""
        },
        {
         "metadata": "{}",
         "name": "unit_price",
         "type": "\"string\""
        },
        {
         "metadata": "{}",
         "name": "date",
         "type": "\"string\""
        },
        {
         "metadata": "{}",
         "name": "total_price",
         "type": "\"double\""
        },
        {
         "metadata": "{}",
         "name": "month",
         "type": "\"integer\""
        },
        {
         "metadata": "{}",
         "name": "formated_date",
         "type": "\"string\""
        },
        {
         "metadata": "{}",
         "name": "is_high_value",
         "type": "\"boolean\""
        }
       ],
       "type": "table"
      }
     },
     "output_type": "display_data"
    },
    {
     "output_type": "display_data",
     "data": {
      "text/html": [
       "<style scoped>\n",
       "  .table-result-container {\n",
       "    max-height: 300px;\n",
       "    overflow: auto;\n",
       "  }\n",
       "  table, th, td {\n",
       "    border: 1px solid black;\n",
       "    border-collapse: collapse;\n",
       "  }\n",
       "  th, td {\n",
       "    padding: 5px;\n",
       "  }\n",
       "  th {\n",
       "    text-align: left;\n",
       "  }\n",
       "</style><div class='table-result-container'><table class='table-result'><thead style='background-color: white'><tr><th>sum(total_price)</th></tr></thead><tbody><tr><td>210150.0</td></tr></tbody></table></div>"
      ]
     },
     "metadata": {
      "application/vnd.databricks.v1+output": {
       "addedWidgets": {},
       "aggData": [],
       "aggError": "",
       "aggOverflow": false,
       "aggSchema": [],
       "aggSeriesLimitReached": false,
       "aggType": "",
       "arguments": {},
       "columnCustomDisplayInfos": {},
       "data": [
        [
         210150.0
        ]
       ],
       "datasetInfos": [],
       "dbfsResultPath": null,
       "isJsonSchema": true,
       "metadata": {},
       "overflow": false,
       "plotOptions": {
        "customPlotOptions": {},
        "displayType": "table",
        "pivotAggregation": null,
        "pivotColumns": null,
        "xColumns": null,
        "yColumns": null
       },
       "removedWidgets": [],
       "schema": [
        {
         "metadata": "{\"__autoGeneratedAlias\":\"true\"}",
         "name": "sum(total_price)",
         "type": "\"double\""
        }
       ],
       "type": "table"
      }
     },
     "output_type": "display_data"
    }
   ],
   "source": [
    "from pyspark.sql.functions import sum\n",
    "df=spark.read.format(\"delta\").load(\"dbfs:/output2/sales_transformed\")\n",
    "grouped_transcations=df.groupBy(\"region\").count()\n",
    "display(grouped_transcations)\n",
    "grouped_salesamount=df.groupBy(\"category\").sum(\"total_price\")\n",
    "display(grouped_salesamount)\n",
    "month_trend=df.groupBy(\"month\").sum(\"total_price\")\n",
    "display(month_trend)\n",
    "high_purchased=df.orderBy(\"total_price\",ascending=False).limit(1)\n",
    "display(high_purchased)\n",
    "q1=df.filter((df.month>=1) & (df.month<4))\n",
    "q1_total_revenue=q1.agg(sum(\"total_price\"))\n",
    "display(q1_total_revenue)\n"
   ]
  },
  {
   "cell_type": "markdown",
   "metadata": {
    "application/vnd.databricks.v1+cell": {
     "cellMetadata": {},
     "inputWidgets": {},
     "nuid": "40d566f8-cfba-43ce-b41c-e96d7df5c25c",
     "showTitle": false,
     "tableResultSettingsMap": {},
     "title": ""
    }
   },
   "source": [
    " Update & Delete Scenarios\n"
   ]
  },
  {
   "cell_type": "code",
   "execution_count": 0,
   "metadata": {
    "application/vnd.databricks.v1+cell": {
     "cellMetadata": {
      "byteLimit": 2048000,
      "rowLimit": 10000
     },
     "inputWidgets": {},
     "nuid": "a4c62d8e-a396-4938-8378-936b0272c3a9",
     "showTitle": false,
     "tableResultSettingsMap": {},
     "title": ""
    }
   },
   "outputs": [
    {
     "output_type": "display_data",
     "data": {
      "text/html": [
       "<style scoped>\n",
       "  .table-result-container {\n",
       "    max-height: 300px;\n",
       "    overflow: auto;\n",
       "  }\n",
       "  table, th, td {\n",
       "    border: 1px solid black;\n",
       "    border-collapse: collapse;\n",
       "  }\n",
       "  th, td {\n",
       "    padding: 5px;\n",
       "  }\n",
       "  th {\n",
       "    text-align: left;\n",
       "  }\n",
       "</style><div class='table-result-container'><table class='table-result'><thead style='background-color: white'><tr><th>transaction_id</th><th>customer_name</th><th>region</th><th>product</th><th>category</th><th>quantity</th><th>unit_price</th><th>date</th><th>total_price</th><th>month</th><th>formated_date</th><th>is_high_value</th></tr></thead><tbody><tr><td>1</td><td>Rajesh</td><td>North</td><td>Laptop</td><td>Electronics</td><td>1</td><td>55000</td><td>2024-01-12</td><td>55000.0</td><td>1</td><td>12-01-2024</td><td>true</td></tr><tr><td>2</td><td>Sneha</td><td>West</td><td>Refrigerator</td><td>Electronics</td><td>1</td><td>32000</td><td>2024-02-05</td><td>32000.0</td><td>2</td><td>05-02-2024</td><td>true</td></tr><tr><td>3</td><td>Anil</td><td>South</td><td>Shampoo</td><td>Personal Care</td><td>5</td><td>150</td><td>2024-01-17</td><td>750.0</td><td>1</td><td>17-01-2024</td><td>false</td></tr><tr><td>4</td><td>Divya</td><td>North</td><td>Mobile</td><td>Electronics</td><td>2</td><td>20000</td><td>2024-03-22</td><td>40000.0</td><td>3</td><td>22-03-2024</td><td>true</td></tr><tr><td>5</td><td>Vikram</td><td>East</td><td>Washing Machine</td><td>Electronics</td><td>1</td><td>28000</td><td>2024-02-28</td><td>28000.0</td><td>2</td><td>28-02-2024</td><td>false</td></tr><tr><td>6</td><td>Preeti</td><td>West</td><td>Sneakers</td><td>Fashion</td><td>2</td><td>4000</td><td>2024-01-31</td><td>8000.0</td><td>1</td><td>31-01-2024</td><td>false</td></tr><tr><td>7</td><td>Aman</td><td>South</td><td>TV</td><td>Electronics</td><td>1</td><td>45000</td><td>2024-02-15</td><td>45000.0</td><td>2</td><td>15-02-2024</td><td>true</td></tr><tr><td>8</td><td>Isha</td><td>North</td><td>Notebook</td><td>Stationery</td><td>10</td><td>60</td><td>2024-01-10</td><td>600.0</td><td>1</td><td>10-01-2024</td><td>false</td></tr><tr><td>9</td><td>Kunal</td><td>East</td><td>Pencil</td><td>Stationery</td><td>20</td><td>10</td><td>2024-03-05</td><td>200.0</td><td>3</td><td>05-03-2024</td><td>false</td></tr><tr><td>10</td><td>Tanvi</td><td>West</td><td>Face Cream</td><td>Personal Care</td><td>3</td><td>200</td><td>2024-03-19</td><td>600.0</td><td>3</td><td>19-03-2024</td><td>false</td></tr></tbody></table></div>"
      ]
     },
     "metadata": {
      "application/vnd.databricks.v1+output": {
       "addedWidgets": {},
       "aggData": [],
       "aggError": "",
       "aggOverflow": false,
       "aggSchema": [],
       "aggSeriesLimitReached": false,
       "aggType": "",
       "arguments": {},
       "columnCustomDisplayInfos": {},
       "data": [
        [
         "1",
         "Rajesh",
         "North",
         "Laptop",
         "Electronics",
         "1",
         "55000",
         "2024-01-12",
         55000.0,
         1,
         "12-01-2024",
         true
        ],
        [
         "2",
         "Sneha",
         "West",
         "Refrigerator",
         "Electronics",
         "1",
         "32000",
         "2024-02-05",
         32000.0,
         2,
         "05-02-2024",
         true
        ],
        [
         "3",
         "Anil",
         "South",
         "Shampoo",
         "Personal Care",
         "5",
         "150",
         "2024-01-17",
         750.0,
         1,
         "17-01-2024",
         false
        ],
        [
         "4",
         "Divya",
         "North",
         "Mobile",
         "Electronics",
         "2",
         "20000",
         "2024-03-22",
         40000.0,
         3,
         "22-03-2024",
         true
        ],
        [
         "5",
         "Vikram",
         "East",
         "Washing Machine",
         "Electronics",
         "1",
         "28000",
         "2024-02-28",
         28000.0,
         2,
         "28-02-2024",
         false
        ],
        [
         "6",
         "Preeti",
         "West",
         "Sneakers",
         "Fashion",
         "2",
         "4000",
         "2024-01-31",
         8000.0,
         1,
         "31-01-2024",
         false
        ],
        [
         "7",
         "Aman",
         "South",
         "TV",
         "Electronics",
         "1",
         "45000",
         "2024-02-15",
         45000.0,
         2,
         "15-02-2024",
         true
        ],
        [
         "8",
         "Isha",
         "North",
         "Notebook",
         "Stationery",
         "10",
         "60",
         "2024-01-10",
         600.0,
         1,
         "10-01-2024",
         false
        ],
        [
         "9",
         "Kunal",
         "East",
         "Pencil",
         "Stationery",
         "20",
         "10",
         "2024-03-05",
         200.0,
         3,
         "05-03-2024",
         false
        ],
        [
         "10",
         "Tanvi",
         "West",
         "Face Cream",
         "Personal Care",
         "3",
         "200",
         "2024-03-19",
         600.0,
         3,
         "19-03-2024",
         false
        ]
       ],
       "datasetInfos": [],
       "dbfsResultPath": null,
       "isJsonSchema": true,
       "metadata": {},
       "overflow": false,
       "plotOptions": {
        "customPlotOptions": {},
        "displayType": "table",
        "pivotAggregation": null,
        "pivotColumns": null,
        "xColumns": null,
        "yColumns": null
       },
       "removedWidgets": [],
       "schema": [
        {
         "metadata": "{}",
         "name": "transaction_id",
         "type": "\"string\""
        },
        {
         "metadata": "{}",
         "name": "customer_name",
         "type": "\"string\""
        },
        {
         "metadata": "{}",
         "name": "region",
         "type": "\"string\""
        },
        {
         "metadata": "{}",
         "name": "product",
         "type": "\"string\""
        },
        {
         "metadata": "{}",
         "name": "category",
         "type": "\"string\""
        },
        {
         "metadata": "{}",
         "name": "quantity",
         "type": "\"string\""
        },
        {
         "metadata": "{}",
         "name": "unit_price",
         "type": "\"string\""
        },
        {
         "metadata": "{}",
         "name": "date",
         "type": "\"string\""
        },
        {
         "metadata": "{}",
         "name": "total_price",
         "type": "\"double\""
        },
        {
         "metadata": "{}",
         "name": "month",
         "type": "\"integer\""
        },
        {
         "metadata": "{}",
         "name": "formated_date",
         "type": "\"string\""
        },
        {
         "metadata": "{}",
         "name": "is_high_value",
         "type": "\"boolean\""
        }
       ],
       "type": "table"
      }
     },
     "output_type": "display_data"
    }
   ],
   "source": [
    "from delta.tables import DeltaTable\n",
    "deltable=DeltaTable.forPath(spark,\"dbfs:/output2/sales_transformed\")\n",
    "deltable.update(condition=\"category='Sationery'\",set={\"unit_price\":\"unit_price*0.10\"})\n",
    "display(deltable.toDF())"
   ]
  },
  {
   "cell_type": "code",
   "execution_count": 0,
   "metadata": {
    "application/vnd.databricks.v1+cell": {
     "cellMetadata": {
      "byteLimit": 2048000,
      "rowLimit": 10000
     },
     "inputWidgets": {},
     "nuid": "5b96fc7f-fd28-44b5-a618-509ea24bb911",
     "showTitle": false,
     "tableResultSettingsMap": {},
     "title": ""
    }
   },
   "outputs": [
    {
     "output_type": "display_data",
     "data": {
      "text/html": [
       "<style scoped>\n",
       "  .table-result-container {\n",
       "    max-height: 300px;\n",
       "    overflow: auto;\n",
       "  }\n",
       "  table, th, td {\n",
       "    border: 1px solid black;\n",
       "    border-collapse: collapse;\n",
       "  }\n",
       "  th, td {\n",
       "    padding: 5px;\n",
       "  }\n",
       "  th {\n",
       "    text-align: left;\n",
       "  }\n",
       "</style><div class='table-result-container'><table class='table-result'><thead style='background-color: white'><tr><th>transaction_id</th><th>customer_name</th><th>region</th><th>product</th><th>category</th><th>quantity</th><th>unit_price</th><th>date</th><th>total_price</th><th>month</th><th>formated_date</th><th>is_high_value</th></tr></thead><tbody><tr><td>3</td><td>Anil</td><td>South</td><td>Shampoo</td><td>Personal Care</td><td>5</td><td>150</td><td>2024-01-17</td><td>750.0</td><td>1</td><td>17-01-2024</td><td>false</td></tr><tr><td>8</td><td>Isha</td><td>North</td><td>Notebook</td><td>Stationery</td><td>10</td><td>60</td><td>2024-01-10</td><td>600.0</td><td>1</td><td>10-01-2024</td><td>false</td></tr><tr><td>9</td><td>Kunal</td><td>East</td><td>Pencil</td><td>Stationery</td><td>20</td><td>10</td><td>2024-03-05</td><td>200.0</td><td>3</td><td>05-03-2024</td><td>false</td></tr><tr><td>10</td><td>Tanvi</td><td>West</td><td>Face Cream</td><td>Personal Care</td><td>3</td><td>200</td><td>2024-03-19</td><td>600.0</td><td>3</td><td>19-03-2024</td><td>false</td></tr></tbody></table></div>"
      ]
     },
     "metadata": {
      "application/vnd.databricks.v1+output": {
       "addedWidgets": {},
       "aggData": [],
       "aggError": "",
       "aggOverflow": false,
       "aggSchema": [],
       "aggSeriesLimitReached": false,
       "aggType": "",
       "arguments": {},
       "columnCustomDisplayInfos": {},
       "data": [
        [
         "3",
         "Anil",
         "South",
         "Shampoo",
         "Personal Care",
         "5",
         "150",
         "2024-01-17",
         750.0,
         1,
         "17-01-2024",
         false
        ],
        [
         "8",
         "Isha",
         "North",
         "Notebook",
         "Stationery",
         "10",
         "60",
         "2024-01-10",
         600.0,
         1,
         "10-01-2024",
         false
        ],
        [
         "9",
         "Kunal",
         "East",
         "Pencil",
         "Stationery",
         "20",
         "10",
         "2024-03-05",
         200.0,
         3,
         "05-03-2024",
         false
        ],
        [
         "10",
         "Tanvi",
         "West",
         "Face Cream",
         "Personal Care",
         "3",
         "200",
         "2024-03-19",
         600.0,
         3,
         "19-03-2024",
         false
        ]
       ],
       "datasetInfos": [],
       "dbfsResultPath": null,
       "isJsonSchema": true,
       "metadata": {},
       "overflow": false,
       "plotOptions": {
        "customPlotOptions": {},
        "displayType": "table",
        "pivotAggregation": null,
        "pivotColumns": null,
        "xColumns": null,
        "yColumns": null
       },
       "removedWidgets": [],
       "schema": [
        {
         "metadata": "{}",
         "name": "transaction_id",
         "type": "\"string\""
        },
        {
         "metadata": "{}",
         "name": "customer_name",
         "type": "\"string\""
        },
        {
         "metadata": "{}",
         "name": "region",
         "type": "\"string\""
        },
        {
         "metadata": "{}",
         "name": "product",
         "type": "\"string\""
        },
        {
         "metadata": "{}",
         "name": "category",
         "type": "\"string\""
        },
        {
         "metadata": "{}",
         "name": "quantity",
         "type": "\"string\""
        },
        {
         "metadata": "{}",
         "name": "unit_price",
         "type": "\"string\""
        },
        {
         "metadata": "{}",
         "name": "date",
         "type": "\"string\""
        },
        {
         "metadata": "{}",
         "name": "total_price",
         "type": "\"double\""
        },
        {
         "metadata": "{}",
         "name": "month",
         "type": "\"integer\""
        },
        {
         "metadata": "{}",
         "name": "formated_date",
         "type": "\"string\""
        },
        {
         "metadata": "{}",
         "name": "is_high_value",
         "type": "\"boolean\""
        }
       ],
       "type": "table"
      }
     },
     "output_type": "display_data"
    }
   ],
   "source": [
    "deltable.delete(condition=\"quantity < 3\")\n",
    "display(deltable.toDF())"
   ]
  },
  {
   "cell_type": "code",
   "execution_count": 0,
   "metadata": {
    "application/vnd.databricks.v1+cell": {
     "cellMetadata": {
      "byteLimit": 2048000,
      "rowLimit": 10000
     },
     "inputWidgets": {},
     "nuid": "8d420a77-f040-4036-914e-eb62a97db4f6",
     "showTitle": false,
     "tableResultSettingsMap": {
      "0": {
       "dataGridStateBlob": "{\"version\":1,\"tableState\":{\"columnPinning\":{\"left\":[\"#row_number#\"],\"right\":[]},\"columnSizing\":{},\"columnVisibility\":{}},\"settings\":{\"columns\":{}},\"syncTimestamp\":1754633759827}",
       "filterBlob": null,
       "queryPlanFiltersBlob": null,
       "tableResultIndex": 0
      }
     },
     "title": ""
    }
   },
   "outputs": [
    {
     "output_type": "display_data",
     "data": {
      "text/html": [
       "<style scoped>\n",
       "  .table-result-container {\n",
       "    max-height: 300px;\n",
       "    overflow: auto;\n",
       "  }\n",
       "  table, th, td {\n",
       "    border: 1px solid black;\n",
       "    border-collapse: collapse;\n",
       "  }\n",
       "  th, td {\n",
       "    padding: 5px;\n",
       "  }\n",
       "  th {\n",
       "    text-align: left;\n",
       "  }\n",
       "</style><div class='table-result-container'><table class='table-result'><thead style='background-color: white'><tr><th>transaction_id</th><th>customer_name</th><th>region</th><th>product</th><th>category</th><th>quantity</th><th>unit_price</th><th>date</th><th>total_price</th><th>month</th><th>formated_date</th><th>is_high_value</th></tr></thead><tbody><tr><td>11</td><td>Dhanu</td><td>west</td><td>blue-jeans</td><td>clothings</td><td>1</td><td>1500</td><td>2025-08-08</td><td>1500</td><td>8</td><td>08-08-2025</td><td>false</td></tr></tbody></table></div>"
      ]
     },
     "metadata": {
      "application/vnd.databricks.v1+output": {
       "addedWidgets": {},
       "aggData": [],
       "aggError": "",
       "aggOverflow": false,
       "aggSchema": [],
       "aggSeriesLimitReached": false,
       "aggType": "",
       "arguments": {},
       "columnCustomDisplayInfos": {},
       "data": [
        [
         11,
         "Dhanu",
         "west",
         "blue-jeans",
         "clothings",
         1,
         1500,
         "2025-08-08",
         1500,
         8,
         "08-08-2025",
         "false"
        ]
       ],
       "datasetInfos": [],
       "dbfsResultPath": null,
       "isJsonSchema": true,
       "metadata": {},
       "overflow": false,
       "plotOptions": {
        "customPlotOptions": {},
        "displayType": "table",
        "pivotAggregation": null,
        "pivotColumns": null,
        "xColumns": null,
        "yColumns": null
       },
       "removedWidgets": [],
       "schema": [
        {
         "metadata": "{}",
         "name": "transaction_id",
         "type": "\"long\""
        },
        {
         "metadata": "{}",
         "name": "customer_name",
         "type": "\"string\""
        },
        {
         "metadata": "{}",
         "name": "region",
         "type": "\"string\""
        },
        {
         "metadata": "{}",
         "name": "product",
         "type": "\"string\""
        },
        {
         "metadata": "{}",
         "name": "category",
         "type": "\"string\""
        },
        {
         "metadata": "{}",
         "name": "quantity",
         "type": "\"long\""
        },
        {
         "metadata": "{}",
         "name": "unit_price",
         "type": "\"long\""
        },
        {
         "metadata": "{}",
         "name": "date",
         "type": "\"date\""
        },
        {
         "metadata": "{}",
         "name": "total_price",
         "type": "\"long\""
        },
        {
         "metadata": "{}",
         "name": "month",
         "type": "\"long\""
        },
        {
         "metadata": "{}",
         "name": "formated_date",
         "type": "\"string\""
        },
        {
         "metadata": "{}",
         "name": "is_high_value",
         "type": "\"string\""
        }
       ],
       "type": "table"
      }
     },
     "output_type": "display_data"
    },
    {
     "output_type": "display_data",
     "data": {
      "text/html": [
       "<style scoped>\n",
       "  .table-result-container {\n",
       "    max-height: 300px;\n",
       "    overflow: auto;\n",
       "  }\n",
       "  table, th, td {\n",
       "    border: 1px solid black;\n",
       "    border-collapse: collapse;\n",
       "  }\n",
       "  th, td {\n",
       "    padding: 5px;\n",
       "  }\n",
       "  th {\n",
       "    text-align: left;\n",
       "  }\n",
       "</style><div class='table-result-container'><table class='table-result'><thead style='background-color: white'><tr><th>transaction_id</th><th>customer_name</th><th>region</th><th>product</th><th>category</th><th>quantity</th><th>unit_price</th><th>date</th><th>total_price</th><th>month</th><th>formated_date</th><th>is_high_value</th></tr></thead><tbody><tr><td>3</td><td>Anil</td><td>South</td><td>Shampoo</td><td>Personal Care</td><td>5</td><td>150</td><td>2024-01-17</td><td>750.0</td><td>1</td><td>17-01-2024</td><td>false</td></tr><tr><td>8</td><td>Isha</td><td>North</td><td>Notebook</td><td>Stationery</td><td>10</td><td>60</td><td>2024-01-10</td><td>600.0</td><td>1</td><td>10-01-2024</td><td>false</td></tr><tr><td>9</td><td>Kunal</td><td>East</td><td>Pencil</td><td>Stationery</td><td>20</td><td>10</td><td>2024-03-05</td><td>200.0</td><td>3</td><td>05-03-2024</td><td>false</td></tr><tr><td>10</td><td>Tanvi</td><td>West</td><td>Face Cream</td><td>Personal Care</td><td>3</td><td>200</td><td>2024-03-19</td><td>600.0</td><td>3</td><td>19-03-2024</td><td>false</td></tr><tr><td>11</td><td>Dhanu</td><td>west</td><td>blue-jeans</td><td>clothings</td><td>1</td><td>1500</td><td>2025-08-08</td><td>1500.0</td><td>8</td><td>08-08-2025</td><td>false</td></tr></tbody></table></div>"
      ]
     },
     "metadata": {
      "application/vnd.databricks.v1+output": {
       "addedWidgets": {},
       "aggData": [],
       "aggError": "",
       "aggOverflow": false,
       "aggSchema": [],
       "aggSeriesLimitReached": false,
       "aggType": "",
       "arguments": {},
       "columnCustomDisplayInfos": {},
       "data": [
        [
         "3",
         "Anil",
         "South",
         "Shampoo",
         "Personal Care",
         "5",
         "150",
         "2024-01-17",
         750.0,
         1,
         "17-01-2024",
         false
        ],
        [
         "8",
         "Isha",
         "North",
         "Notebook",
         "Stationery",
         "10",
         "60",
         "2024-01-10",
         600.0,
         1,
         "10-01-2024",
         false
        ],
        [
         "9",
         "Kunal",
         "East",
         "Pencil",
         "Stationery",
         "20",
         "10",
         "2024-03-05",
         200.0,
         3,
         "05-03-2024",
         false
        ],
        [
         "10",
         "Tanvi",
         "West",
         "Face Cream",
         "Personal Care",
         "3",
         "200",
         "2024-03-19",
         600.0,
         3,
         "19-03-2024",
         false
        ],
        [
         "11",
         "Dhanu",
         "west",
         "blue-jeans",
         "clothings",
         "1",
         "1500",
         "2025-08-08",
         1500.0,
         8,
         "08-08-2025",
         false
        ]
       ],
       "datasetInfos": [],
       "dbfsResultPath": null,
       "isJsonSchema": true,
       "metadata": {},
       "overflow": false,
       "plotOptions": {
        "customPlotOptions": {},
        "displayType": "table",
        "pivotAggregation": null,
        "pivotColumns": null,
        "xColumns": null,
        "yColumns": null
       },
       "removedWidgets": [],
       "schema": [
        {
         "metadata": "{}",
         "name": "transaction_id",
         "type": "\"string\""
        },
        {
         "metadata": "{}",
         "name": "customer_name",
         "type": "\"string\""
        },
        {
         "metadata": "{}",
         "name": "region",
         "type": "\"string\""
        },
        {
         "metadata": "{}",
         "name": "product",
         "type": "\"string\""
        },
        {
         "metadata": "{}",
         "name": "category",
         "type": "\"string\""
        },
        {
         "metadata": "{}",
         "name": "quantity",
         "type": "\"string\""
        },
        {
         "metadata": "{}",
         "name": "unit_price",
         "type": "\"string\""
        },
        {
         "metadata": "{}",
         "name": "date",
         "type": "\"string\""
        },
        {
         "metadata": "{}",
         "name": "total_price",
         "type": "\"double\""
        },
        {
         "metadata": "{}",
         "name": "month",
         "type": "\"integer\""
        },
        {
         "metadata": "{}",
         "name": "formated_date",
         "type": "\"string\""
        },
        {
         "metadata": "{}",
         "name": "is_high_value",
         "type": "\"boolean\""
        }
       ],
       "type": "table"
      }
     },
     "output_type": "display_data"
    }
   ],
   "source": [
    "from pyspark.sql.functions import current_date\n",
    "from datetime import date\n",
    "cuurrent_month=date.today().month\n",
    "formatted_date=date.today().strftime(\"%d-%m-%Y\")\n",
    "new_row = spark.createDataFrame([(11, \"Dhanu\", \"west\", \"blue-jeans\", \"clothings\", 1, 1500, date.today(), 1500,cuurrent_month,formatted_date,\"false\")], [\"transaction_id\", \"customer_name\", \"region\", \"product\", \"category\", \"quantity\", \"unit_price\", \"date\", \"total_price\",\"month\",\"formated_date\",\"is_high_value\"])\n",
    "display(new_row)\n",
    "deltable.alias(\"t\").merge(new_row.alias(\"s\"),\"t.transaction_id=s.transaction_id\").whenMatchedUpdateAll().whenNotMatchedInsertAll().execute()\n",
    "display(deltable.toDF())\n",
    "deltable.toDF().write.format(\"delta\").mode(\"overwrite\").save(\"dbfs:/output2/sales_transformed\")\n"
   ]
  },
  {
   "cell_type": "markdown",
   "metadata": {
    "application/vnd.databricks.v1+cell": {
     "cellMetadata": {},
     "inputWidgets": {},
     "nuid": "a9888a2f-6476-4ed9-a443-e0beb5ef46bb",
     "showTitle": false,
     "tableResultSettingsMap": {},
     "title": ""
    }
   },
   "source": [
    "partitioning & Optimization (Bonus)"
   ]
  },
  {
   "cell_type": "code",
   "execution_count": 0,
   "metadata": {
    "application/vnd.databricks.v1+cell": {
     "cellMetadata": {
      "byteLimit": 2048000,
      "rowLimit": 10000
     },
     "inputWidgets": {},
     "nuid": "91784782-0282-4b20-8723-fd3ad222238f",
     "showTitle": false,
     "tableResultSettingsMap": {},
     "title": ""
    }
   },
   "outputs": [],
   "source": [
    "deltable.toDF().write.format(\"delta\").mode(\"overwrite\").partitionBy(\"region\").save(\"dbfs:/output2/regions\")\n",
    "deltable.toDF().write.format(\"delta\").mode(\"overwrite\").partitionBy(\"month\").save(\"dbfs:/output2/month\")\n"
   ]
  },
  {
   "cell_type": "code",
   "execution_count": 0,
   "metadata": {
    "application/vnd.databricks.v1+cell": {
     "cellMetadata": {
      "byteLimit": 2048000,
      "rowLimit": 10000
     },
     "inputWidgets": {},
     "nuid": "8a7938ae-fca0-49eb-9fb4-2e8c1dd1e0c9",
     "showTitle": false,
     "tableResultSettingsMap": {},
     "title": ""
    }
   },
   "outputs": [
    {
     "output_type": "execute_result",
     "data": {
      "text/plain": [
       "DataFrame[path: string, metrics: struct<numFilesAdded:bigint,numFilesRemoved:bigint,filesAdded:struct<min:bigint,max:bigint,avg:double,totalFiles:bigint,totalSize:bigint>,filesRemoved:struct<min:bigint,max:bigint,avg:double,totalFiles:bigint,totalSize:bigint>,partitionsOptimized:bigint,zOrderStats:struct<strategyName:string,inputCubeFiles:struct<num:bigint,size:bigint>,inputOtherFiles:struct<num:bigint,size:bigint>,inputNumCubes:bigint,mergedFiles:struct<num:bigint,size:bigint>,numOutputCubes:bigint,mergedNumCubes:bigint>,clusteringStats:struct<inputZCubeFiles:struct<numFiles:bigint,size:bigint>,inputOtherFiles:struct<numFiles:bigint,size:bigint>,inputNumZCubes:bigint,mergedFiles:struct<numFiles:bigint,size:bigint>,numOutputZCubes:bigint>,numBins:bigint,numBatches:bigint,totalConsideredFiles:bigint,totalFilesSkipped:bigint,preserveInsertionOrder:boolean,numFilesSkippedToReduceWriteAmplification:bigint,numBytesSkippedToReduceWriteAmplification:bigint,startTimeMs:bigint,endTimeMs:bigint,totalClusterParallelism:bigint,totalScheduledTasks:bigint,autoCompactParallelismStats:struct<maxClusterActiveParallelism:bigint,minClusterActiveParallelism:bigint,maxSessionActiveParallelism:bigint,minSessionActiveParallelism:bigint>,deletionVectorStats:struct<numDeletionVectorsRemoved:bigint,numDeletionVectorRowsRemoved:bigint>,recompressionCodec:string,numTableColumns:bigint,numTableColumnsWithStats:bigint,totalTaskExecutionTimeMs:bigint,skippedArchivedFiles:bigint,clusteringMetrics:struct<sizeOfTableInBytesBeforeLazyClustering:bigint,isNewMetadataCreated:boolean,isPOTriggered:boolean,isFull:boolean,approxClusteringQuality:double,approxClusteringQualityPerColumn:array<double>,approxClusteringCoverage:double,numFilesSkippedWithoutStats:bigint,numFilesClassifiedToIntermediateNodes:bigint,sizeOfFilesClassifiedToIntermediateNodesInBytes:bigint,logicalSizeOfFilesClassifiedToIntermediateNodesInBytes:bigint,numFilesClassifiedToLeafNodes:bigint,sizeOfFilesClassifiedToLeafNodesInBytes:bigint,logicalSizeOfFilesClassifiedToLeafNodesInBytes:bigint,numThreadsForClassifier:int,clusterThresholdStrategy:string,minFileSize:bigint,maxFileSize:bigint,nodeMinNumFilesToCompact:bigint,numIdealFiles:bigint,numIdealFilesWithTrimmedStringMaxValue:bigint,numAddedFilesWithSameMinMaxOnClusteringColumns:array<bigint>,numClusteringTasksPlanned:int,numClusteringTasksNotPlannedDueToPO:int,numCompactionTasksPlanned:int,numCompactionTasksPlannedUndoneDueToPO:int,numOptimizeBatchesPlanned:int,numLeafNodesExpanded:bigint,numLeafNodesClustered:bigint,numGetFilesForNodeCalls:bigint,numSamplingJobs:bigint,numLeafNodesCompacted:bigint,numLeafNodesCompactedUndoneDueToPO:bigint,numIntermediateNodesCompacted:bigint,numIntermediateNodesCompactedUndoneDueToPO:bigint,totalSizeOfDataToCompactInBytes:bigint,totalSizeOfDataToCompactInBytesUndoneDueToPO:bigint,totalLogicalSizeOfDataToCompactInBytes:bigint,totalLogicalSizeOfDataToCompactInBytesUndoneDueToPO:bigint,numIntermediateNodesClustered:bigint,numFilesSkippedAfterExpansion:bigint,totalSizeOfFilesSkippedAfterExpansionInBytes:bigint,totalLogicalSizeOfFilesSkippedAfterExpansionInBytes:bigint,totalSizeOfDataToRewriteInBytes:bigint,totalLogicalSizeOfDataToRewriteInBytes:bigint,timeMetrics:struct<classifierTimeMs:bigint,optimizerTimeMs:bigint,metadataLoadTimeMs:bigint,totalGetFilesForNodeCallsTimeMs:bigint,totalSamplingTimeMs:bigint,metadataCreationTimeMs:bigint>,maxOptimizeBatchesInParallel:bigint,currentIteration:int,maxIterations:int,clusteringStrategy:string>>]"
      ]
     },
     "execution_count": 132,
     "metadata": {},
     "output_type": "execute_result"
    }
   ],
   "source": [
    "#optimization using z-oredering\n",
    "spark.sql(\"OPTIMIZE delta.`/output2/sales_transformed` ZORDER BY (region)\")\n",
    "\n",
    "spark.sql(\"OPTIMIZE delta.`/output2/sales_transformed` ZORDER BY (month)\")"
   ]
  },
  {
   "cell_type": "code",
   "execution_count": 0,
   "metadata": {
    "application/vnd.databricks.v1+cell": {
     "cellMetadata": {
      "byteLimit": 2048000,
      "rowLimit": 10000
     },
     "inputWidgets": {},
     "nuid": "375d79ea-67f4-48a8-873b-963ac560e848",
     "showTitle": false,
     "tableResultSettingsMap": {},
     "title": ""
    }
   },
   "outputs": [
    {
     "output_type": "stream",
     "name": "stdout",
     "output_type": "stream",
     "text": [
      "== Parsed Logical Plan ==\n'Filter ('region = West)\n+- Relation [transaction_id#17054,customer_name#17055,region#17056,product#17057,category#17058,quantity#17059,unit_price#17060,date#17061,total_price#17062,month#17063,formated_date#17064,is_high_value#17065] parquet\n\n== Analyzed Logical Plan ==\ntransaction_id: string, customer_name: string, region: string, product: string, category: string, quantity: string, unit_price: string, date: string, total_price: double, month: int, formated_date: string, is_high_value: boolean\nFilter (region#17056 = West)\n+- Relation [transaction_id#17054,customer_name#17055,region#17056,product#17057,category#17058,quantity#17059,unit_price#17060,date#17061,total_price#17062,month#17063,formated_date#17064,is_high_value#17065] parquet\n\n== Optimized Logical Plan ==\nFilter (isnotnull(region#17056) AND (region#17056 = West))\n+- Relation [transaction_id#17054,customer_name#17055,region#17056,product#17057,category#17058,quantity#17059,unit_price#17060,date#17061,total_price#17062,month#17063,formated_date#17064,is_high_value#17065] parquet\n\n== Physical Plan ==\n*(1) ColumnarToRow\n+- PhotonResultStage\n   +- PhotonScan parquet [transaction_id#17054,customer_name#17055,region#17056,product#17057,category#17058,quantity#17059,unit_price#17060,date#17061,total_price#17062,month#17063,formated_date#17064,is_high_value#17065] DataFilters: [isnotnull(region#17056), (region#17056 = West)], DictionaryFilters: [(region#17056 = West)], Format: parquet, Location: PreparedDeltaFileIndex(1 paths)[dbfs:/output2/sales_transformed], OptionalDataFilters: [], PartitionFilters: [], ReadSchema: struct<transaction_id:string,customer_name:string,region:string,product:string,category:string,qu..., RequiredDataFilters: [isnotnull(region#17056), (region#17056 = West)]\n\n== Photon Explanation ==\nThe query is fully supported by Photon.\n"
     ]
    }
   ],
   "source": [
    "\n",
    "spark.read.format(\"delta\") .load(\"dbfs:/output2/sales_transformed\") .filter(\"region = 'West'\") .explain(True)"
   ]
  },
  {
   "cell_type": "code",
   "execution_count": 0,
   "metadata": {
    "application/vnd.databricks.v1+cell": {
     "cellMetadata": {
      "byteLimit": 2048000,
      "rowLimit": 10000
     },
     "inputWidgets": {},
     "nuid": "405fe77b-62e2-478d-8284-0da6be26ec3f",
     "showTitle": false,
     "tableResultSettingsMap": {},
     "title": ""
    }
   },
   "outputs": [
    {
     "output_type": "stream",
     "name": "stdout",
     "output_type": "stream",
     "text": [
      "+-------------------------------+------------------------------------------------------------------------------------------------------------------------------------------------------------------------------------------------------------------------------------------+\n|path                           |metrics                                                                                                                                                                                                                                   |\n+-------------------------------+------------------------------------------------------------------------------------------------------------------------------------------------------------------------------------------------------------------------------------------+\n|dbfs:/output2/sales_transformed|{0, 0, {NULL, NULL, 0.0, 0, 0}, {NULL, NULL, 0.0, 0, 0}, 0, {minCubeSize(107374182400), {1, 3290}, {0, 0}, 1, {0, 0}, 0, NULL}, NULL, 0, 0, 1, 1, false, 0, 0, 1754635979741, 1754635980021, 8, 0, NULL, {0, 0}, NULL, 12, 12, 0, 0, NULL}|\n+-------------------------------+------------------------------------------------------------------------------------------------------------------------------------------------------------------------------------------------------------------------------------------+\n\n+-------------------------------+------------------------------------------------------------------------------------------------------------------------------------------------------------------------------------------------------------------------------------------+\n|path                           |metrics                                                                                                                                                                                                                                   |\n+-------------------------------+------------------------------------------------------------------------------------------------------------------------------------------------------------------------------------------------------------------------------------------+\n|dbfs:/output2/sales_transformed|{0, 0, {NULL, NULL, 0.0, 0, 0}, {NULL, NULL, 0.0, 0, 0}, 0, {minCubeSize(107374182400), {0, 0}, {1, 3290}, 0, {0, 0}, 0, NULL}, NULL, 0, 0, 1, 1, false, 0, 0, 1754635980469, 1754635980702, 8, 0, NULL, {0, 0}, NULL, 12, 12, 0, 0, NULL}|\n+-------------------------------+------------------------------------------------------------------------------------------------------------------------------------------------------------------------------------------------------------------------------------------+\n\n"
     ]
    }
   ],
   "source": [
    "# Capture your optimize calls\n",
    "df_region = spark.sql(\n",
    "  \"OPTIMIZE delta.`/output2/sales_transformed` ZORDER BY (region)\"\n",
    ")\n",
    "df_month = spark.sql(\n",
    "  \"OPTIMIZE delta.`/output2/sales_transformed` ZORDER BY (month)\"\n",
    ")\n",
    "\n",
    "# View the first few rows of each result\n",
    "df_region.show(truncate=False)\n",
    "df_month.show(truncate=False)"
   ]
  }
 ],
 "metadata": {
  "application/vnd.databricks.v1+notebook": {
   "computePreferences": null,
   "dashboards": [],
   "environmentMetadata": {
    "base_environment": "",
    "environment_version": "2"
   },
   "inputWidgetPreferences": null,
   "language": "python",
   "notebookMetadata": {
    "pythonIndentUnit": 4
   },
   "notebookName": "Untitled Notebook 2025-08-08 09:21:25",
   "widgets": {}
  },
  "language_info": {
   "name": "python"
  }
 },
 "nbformat": 4,
 "nbformat_minor": 0
}