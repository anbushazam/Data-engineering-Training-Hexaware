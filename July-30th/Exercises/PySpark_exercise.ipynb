{
  "nbformat": 4,
  "nbformat_minor": 0,
  "metadata": {
    "colab": {
      "provenance": []
    },
    "kernelspec": {
      "name": "python3",
      "display_name": "Python 3"
    },
    "language_info": {
      "name": "python"
    }
  },
  "cells": [
    {
      "cell_type": "code",
      "execution_count": 5,
      "metadata": {
        "id": "jBv0_Jfo8T3z",
        "colab": {
          "base_uri": "https://localhost:8080/",
          "height": 219
        },
        "outputId": "e9951a21-d20d-4934-c5e0-545d9e5fc7a7"
      },
      "outputs": [
        {
          "output_type": "execute_result",
          "data": {
            "text/plain": [
              "<pyspark.sql.session.SparkSession at 0x7f06a2d96850>"
            ],
            "text/html": [
              "\n",
              "            <div>\n",
              "                <p><b>SparkSession - in-memory</b></p>\n",
              "                \n",
              "        <div>\n",
              "            <p><b>SparkContext</b></p>\n",
              "\n",
              "            <p><a href=\"http://5bf8b50f6a2a:4040\">Spark UI</a></p>\n",
              "\n",
              "            <dl>\n",
              "              <dt>Version</dt>\n",
              "                <dd><code>v3.5.1</code></dd>\n",
              "              <dt>Master</dt>\n",
              "                <dd><code>local[*]</code></dd>\n",
              "              <dt>AppName</dt>\n",
              "                <dd><code>ProductSalesAnalysis</code></dd>\n",
              "            </dl>\n",
              "        </div>\n",
              "        \n",
              "            </div>\n",
              "        "
            ]
          },
          "metadata": {},
          "execution_count": 5
        }
      ],
      "source": [
        "from pyspark.sql import SparkSession\n",
        "spark = SparkSession.builder \\\n",
        "    .appName(\"ProductSalesAnalysis\") \\\n",
        "    .getOrCreate()\n",
        "spark\n"
      ]
    },
    {
      "cell_type": "code",
      "source": [
        "csv_data=\"\"\"\n",
        "OrderID,Product,Category,Quantity,UnitPrice,Region\n",
        "1001,Mobile,Electronics,2,15000,North\n",
        "1002,Laptop,Electronics,1,55000,South\n",
        "1003,T-Shirt,Apparel,3,500,East\n",
        "1004,Jeans,Apparel,2,1200,North\n",
        "1005,TV,Electronics,1,40000,West\n",
        "1006,Shoes,Footwear,4,2000,South\n",
        "1007,Watch,Accessories,2,3000,East\n",
        "1008,Headphones,Electronics,3,2500,North\"\"\"\n",
        "with open(\"sales.csv\", \"w\") as f:\n",
        "    f.write(csv_data)"
      ],
      "metadata": {
        "id": "PpuwmlOA9yxi"
      },
      "execution_count": 76,
      "outputs": []
    },
    {
      "cell_type": "code",
      "source": [
        "df=spark.read.csv(\"sales.csv\",header=True,inferSchema=True)\n",
        "df.printSchema()\n",
        "df.show(5)"
      ],
      "metadata": {
        "colab": {
          "base_uri": "https://localhost:8080/"
        },
        "id": "ml8seM4P995D",
        "outputId": "3a2953e5-3542-4a6a-8b14-1168a56a2085"
      },
      "execution_count": 77,
      "outputs": [
        {
          "output_type": "stream",
          "name": "stdout",
          "text": [
            "root\n",
            " |-- OrderID: integer (nullable = true)\n",
            " |-- Product: string (nullable = true)\n",
            " |-- Category: string (nullable = true)\n",
            " |-- Quantity: integer (nullable = true)\n",
            " |-- UnitPrice: integer (nullable = true)\n",
            " |-- Region : string (nullable = true)\n",
            "\n",
            "+-------+-------+-----------+--------+---------+-------+\n",
            "|OrderID|Product|   Category|Quantity|UnitPrice|Region |\n",
            "+-------+-------+-----------+--------+---------+-------+\n",
            "|   1001| Mobile|Electronics|       2|    15000|  North|\n",
            "|   1002| Laptop|Electronics|       1|    55000|  South|\n",
            "|   1003|T-Shirt|    Apparel|       3|      500|   East|\n",
            "|   1004|  Jeans|    Apparel|       2|     1200|  North|\n",
            "|   1005|     TV|Electronics|       1|    40000|   West|\n",
            "+-------+-------+-----------+--------+---------+-------+\n",
            "only showing top 5 rows\n",
            "\n"
          ]
        }
      ]
    },
    {
      "cell_type": "code",
      "source": [
        "from pyspark.sql.functions import col\n",
        "df=df.withColumn(\"TotalPrice\",col(\"Quantity\")*col(\"UnitPrice\"))\n",
        "df.show()"
      ],
      "metadata": {
        "colab": {
          "base_uri": "https://localhost:8080/"
        },
        "id": "y3uuBz3X-t-o",
        "outputId": "88fe6cac-b98b-4945-fcc2-72f9d287cca7"
      },
      "execution_count": 78,
      "outputs": [
        {
          "output_type": "stream",
          "name": "stdout",
          "text": [
            "+-------+----------+-----------+--------+---------+-------+----------+\n",
            "|OrderID|   Product|   Category|Quantity|UnitPrice|Region |TotalPrice|\n",
            "+-------+----------+-----------+--------+---------+-------+----------+\n",
            "|   1001|    Mobile|Electronics|       2|    15000|  North|     30000|\n",
            "|   1002|    Laptop|Electronics|       1|    55000|  South|     55000|\n",
            "|   1003|   T-Shirt|    Apparel|       3|      500|   East|      1500|\n",
            "|   1004|     Jeans|    Apparel|       2|     1200|  North|      2400|\n",
            "|   1005|        TV|Electronics|       1|    40000|   West|     40000|\n",
            "|   1006|     Shoes|   Footwear|       4|     2000|  South|      8000|\n",
            "|   1007|     Watch|Accessories|       2|     3000|   East|      6000|\n",
            "|   1008|Headphones|Electronics|       3|     2500|  North|      7500|\n",
            "+-------+----------+-----------+--------+---------+-------+----------+\n",
            "\n"
          ]
        }
      ]
    },
    {
      "cell_type": "code",
      "source": [
        "from pyspark.sql.functions import sum\n",
        "Total_revenue=df.select(sum(\"TotalPrice\").alias(\"Total Revenue\"))\n",
        "Total_revenue.show()"
      ],
      "metadata": {
        "colab": {
          "base_uri": "https://localhost:8080/"
        },
        "id": "Xitzmdd3AdAb",
        "outputId": "8086f5e0-3d58-4e98-f38e-81875aa36fcc"
      },
      "execution_count": 79,
      "outputs": [
        {
          "output_type": "stream",
          "name": "stdout",
          "text": [
            "+-------------+\n",
            "|Total Revenue|\n",
            "+-------------+\n",
            "|       150400|\n",
            "+-------------+\n",
            "\n"
          ]
        }
      ]
    },
    {
      "cell_type": "code",
      "source": [
        "df.groupBy(\"Category\").agg(sum(\"TotalPrice\").alias(\"Category-wise revenue\")).orderBy(col(\"Category-wise revenue\").desc()).show()"
      ],
      "metadata": {
        "colab": {
          "base_uri": "https://localhost:8080/"
        },
        "id": "22kb5Q2TBcY6",
        "outputId": "225943c8-d6c5-4b34-ee79-b09f92a7857b"
      },
      "execution_count": 80,
      "outputs": [
        {
          "output_type": "stream",
          "name": "stdout",
          "text": [
            "+-----------+---------------------+\n",
            "|   Category|Category-wise revenue|\n",
            "+-----------+---------------------+\n",
            "|Electronics|               132500|\n",
            "|   Footwear|                 8000|\n",
            "|Accessories|                 6000|\n",
            "|    Apparel|                 3900|\n",
            "+-----------+---------------------+\n",
            "\n"
          ]
        }
      ]
    },
    {
      "cell_type": "code",
      "source": [
        "from pyspark.sql.functions import count\n",
        "df.groupBy(\"Region \").agg(count(\"OrderID\").alias(\"Region with highest orders\")).orderBy(col(\"Region with highest orders\")).show()"
      ],
      "metadata": {
        "colab": {
          "base_uri": "https://localhost:8080/"
        },
        "id": "OWDgPM3dDTkR",
        "outputId": "83de99d3-4551-43f3-e970-6962561d452b"
      },
      "execution_count": 81,
      "outputs": [
        {
          "output_type": "stream",
          "name": "stdout",
          "text": [
            "+-------+--------------------------+\n",
            "|Region |Region with highest orders|\n",
            "+-------+--------------------------+\n",
            "|   West|                         1|\n",
            "|  South|                         2|\n",
            "|   East|                         2|\n",
            "|  North|                         3|\n",
            "+-------+--------------------------+\n",
            "\n"
          ]
        }
      ]
    },
    {
      "cell_type": "code",
      "source": [
        "df.groupBy(\"Category\").agg(sum(\"UnitPrice\").alias(\"Avg-unit price\")).orderBy(col(\"Avg-unit price\").desc()).show()"
      ],
      "metadata": {
        "colab": {
          "base_uri": "https://localhost:8080/"
        },
        "id": "qUIGLTzKErKf",
        "outputId": "02f269b4-3338-462c-ef57-4e095b7f38ff"
      },
      "execution_count": 82,
      "outputs": [
        {
          "output_type": "stream",
          "name": "stdout",
          "text": [
            "+-----------+--------------+\n",
            "|   Category|Avg-unit price|\n",
            "+-----------+--------------+\n",
            "|Electronics|        112500|\n",
            "|Accessories|          3000|\n",
            "|   Footwear|          2000|\n",
            "|    Apparel|          1700|\n",
            "+-----------+--------------+\n",
            "\n"
          ]
        }
      ]
    },
    {
      "cell_type": "code",
      "source": [
        "df.filter(col(\"TotalPrice\")>30000).show()"
      ],
      "metadata": {
        "colab": {
          "base_uri": "https://localhost:8080/"
        },
        "id": "lSpksM79G8g3",
        "outputId": "36e12a0d-7e4d-4b0d-d607-10ff1dd7d03d"
      },
      "execution_count": 83,
      "outputs": [
        {
          "output_type": "stream",
          "name": "stdout",
          "text": [
            "+-------+-------+-----------+--------+---------+-------+----------+\n",
            "|OrderID|Product|   Category|Quantity|UnitPrice|Region |TotalPrice|\n",
            "+-------+-------+-----------+--------+---------+-------+----------+\n",
            "|   1002| Laptop|Electronics|       1|    55000|  South|     55000|\n",
            "|   1005|     TV|Electronics|       1|    40000|   West|     40000|\n",
            "+-------+-------+-----------+--------+---------+-------+----------+\n",
            "\n"
          ]
        }
      ]
    },
    {
      "cell_type": "code",
      "source": [
        "from pyspark.sql.functions import when\n",
        "df=df.withColumn(\"HighValueOrder\",when(col(\"TotalPrice\")>20000,\"Yes\").otherwise(\"No\"))\n",
        "df.show()"
      ],
      "metadata": {
        "colab": {
          "base_uri": "https://localhost:8080/"
        },
        "id": "YBQOg5rrHb8G",
        "outputId": "13d7eb92-bd23-4fc4-e7fc-b062fddfdf75"
      },
      "execution_count": 84,
      "outputs": [
        {
          "output_type": "stream",
          "name": "stdout",
          "text": [
            "+-------+----------+-----------+--------+---------+-------+----------+--------------+\n",
            "|OrderID|   Product|   Category|Quantity|UnitPrice|Region |TotalPrice|HighValueOrder|\n",
            "+-------+----------+-----------+--------+---------+-------+----------+--------------+\n",
            "|   1001|    Mobile|Electronics|       2|    15000|  North|     30000|           Yes|\n",
            "|   1002|    Laptop|Electronics|       1|    55000|  South|     55000|           Yes|\n",
            "|   1003|   T-Shirt|    Apparel|       3|      500|   East|      1500|            No|\n",
            "|   1004|     Jeans|    Apparel|       2|     1200|  North|      2400|            No|\n",
            "|   1005|        TV|Electronics|       1|    40000|   West|     40000|           Yes|\n",
            "|   1006|     Shoes|   Footwear|       4|     2000|  South|      8000|            No|\n",
            "|   1007|     Watch|Accessories|       2|     3000|   East|      6000|            No|\n",
            "|   1008|Headphones|Electronics|       3|     2500|  North|      7500|            No|\n",
            "+-------+----------+-----------+--------+---------+-------+----------+--------------+\n",
            "\n"
          ]
        }
      ]
    },
    {
      "cell_type": "code",
      "source": [
        "df.filter((col(\"HighValueOrder\")==\"Yes\") & (col(\"Region \")==\"North\")).show()"
      ],
      "metadata": {
        "colab": {
          "base_uri": "https://localhost:8080/"
        },
        "id": "iXn-RuHqIWpA",
        "outputId": "decc0932-ba95-4a47-ab5e-833e8c759734"
      },
      "execution_count": 87,
      "outputs": [
        {
          "output_type": "stream",
          "name": "stdout",
          "text": [
            "+-------+-------+-----------+--------+---------+-------+----------+--------------+\n",
            "|OrderID|Product|   Category|Quantity|UnitPrice|Region |TotalPrice|HighValueOrder|\n",
            "+-------+-------+-----------+--------+---------+-------+----------+--------------+\n",
            "|   1001| Mobile|Electronics|       2|    15000|  North|     30000|           Yes|\n",
            "+-------+-------+-----------+--------+---------+-------+----------+--------------+\n",
            "\n"
          ]
        }
      ]
    },
    {
      "cell_type": "code",
      "source": [
        "df.filter(col(\"HighValueOrder\")==\"Yes\").groupBy(\"Region \").agg(count(\"orderID\").alias(\"HighValue-OrderCount\")).show()"
      ],
      "metadata": {
        "colab": {
          "base_uri": "https://localhost:8080/"
        },
        "id": "Xa15l9fOMKJD",
        "outputId": "59621051-6582-4afd-8f09-7a19954632f9"
      },
      "execution_count": 90,
      "outputs": [
        {
          "output_type": "stream",
          "name": "stdout",
          "text": [
            "+-------+--------------------+\n",
            "|Region |HighValue-OrderCount|\n",
            "+-------+--------------------+\n",
            "|  South|                   1|\n",
            "|   West|                   1|\n",
            "|  North|                   1|\n",
            "+-------+--------------------+\n",
            "\n"
          ]
        }
      ]
    },
    {
      "cell_type": "code",
      "source": [
        "df.write.option(\"header\",True).csv(\"high_value_orders.csv\")"
      ],
      "metadata": {
        "id": "lRFTu1DVM1O9"
      },
      "execution_count": 91,
      "outputs": []
    }
  ]
}