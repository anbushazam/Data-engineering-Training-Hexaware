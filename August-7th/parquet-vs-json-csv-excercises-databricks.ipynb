{
 "cells": [
  {
   "cell_type": "code",
   "execution_count": 0,
   "metadata": {
    "application/vnd.databricks.v1+cell": {
     "cellMetadata": {
      "byteLimit": 2048000,
      "rowLimit": 10000
     },
     "inputWidgets": {},
     "nuid": "9fafc369-ccda-45db-8c4d-cc83ce9c6fc9",
     "showTitle": false,
     "tableResultSettingsMap": {},
     "title": ""
    }
   },
   "outputs": [
    {
     "output_type": "stream",
     "name": "stdout",
     "output_type": "stream",
     "text": [
      "+----------+------------+-----------+-----+--------+\n|product_id|product_name|   category|price|quantity|\n+----------+------------+-----------+-----+--------+\n|       101|      Laptop|Electronics|55000|      10|\n|       102|  Smartphone|Electronics|30000|      25|\n|       103|       Chair|  Furniture| 2500|      50|\n|       104|        Book| Stationery|  400|     200|\n|       105|  Headphones|Electronics| 1500|     100|\n|       106|       Table|  Furniture| 3200|      40|\n|       107|         Pen| Stationery|   20|     500|\n|       108|     Monitor|Electronics|12000|      15|\n|       109|    Notebook| Stationery|   60|     300|\n|       110|        Sofa|  Furniture|45000|       5|\n+----------+------------+-----------+-----+--------+\n\nroot\n |-- product_id: long (nullable = true)\n |-- product_name: string (nullable = true)\n |-- category: string (nullable = true)\n |-- price: long (nullable = true)\n |-- quantity: long (nullable = true)\n\n"
     ]
    }
   ],
   "source": [
    "Data = [\n",
    "    (101, \"Laptop\",     \"Electronics\", 55000, 10),\n",
    "    (102, \"Smartphone\", \"Electronics\", 30000, 25),\n",
    "    (103, \"Chair\",      \"Furniture\",    2500, 50),\n",
    "    (104, \"Book\",       \"Stationery\",    400, 200),\n",
    "    (105, \"Headphones\", \"Electronics\",  1500, 100),\n",
    "    (106, \"Table\",      \"Furniture\",    3200, 40),\n",
    "    (107, \"Pen\",        \"Stationery\",     20, 500),\n",
    "    (108, \"Monitor\",    \"Electronics\", 12000, 15),\n",
    "    (109, \"Notebook\",   \"Stationery\",     60, 300),\n",
    "    (110, \"Sofa\",       \"Furniture\",   45000, 5)\n",
    "]\n",
    "columns=[\"product_id\", \"product_name\", \"category\", \"price\", \"quantity\"]\n",
    "df=spark.createDataFrame(Data,columns)\n",
    "df.show()\n",
    "df.printSchema()\n",
    "df.write.mode(\"overwrite\").option(\"header\", \"true\").csv(\"/tmp/output/dfcsv\")"
   ]
  },
  {
   "cell_type": "code",
   "execution_count": 0,
   "metadata": {
    "application/vnd.databricks.v1+cell": {
     "cellMetadata": {
      "byteLimit": 2048000,
      "rowLimit": 10000
     },
     "inputWidgets": {},
     "nuid": "273db83e-c2e0-480e-82c7-7a72004a4dca",
     "showTitle": false,
     "tableResultSettingsMap": {},
     "title": ""
    }
   },
   "outputs": [
    {
     "output_type": "stream",
     "name": "stdout",
     "output_type": "stream",
     "text": [
      "+-----------+-----+----------+------------+--------+\n|   category|price|product_id|product_name|quantity|\n+-----------+-----+----------+------------+--------+\n|Electronics|55000|       101|      Laptop|      10|\n|Electronics|30000|       102|  Smartphone|      25|\n|  Furniture| 2500|       103|       Chair|      50|\n| Stationery|  400|       104|        Book|     200|\n|Electronics| 1500|       105|  Headphones|     100|\n|  Furniture| 3200|       106|       Table|      40|\n| Stationery|   20|       107|         Pen|     500|\n|Electronics|12000|       108|     Monitor|      15|\n| Stationery|   60|       109|    Notebook|     300|\n|  Furniture|45000|       110|        Sofa|       5|\n+-----------+-----+----------+------------+--------+\n\nroot\n |-- category: string (nullable = true)\n |-- price: long (nullable = true)\n |-- product_id: long (nullable = true)\n |-- product_name: string (nullable = true)\n |-- quantity: long (nullable = true)\n\n"
     ]
    }
   ],
   "source": [
    "json_data=[\n",
    "  {\n",
    "    \"product_id\": 101,\n",
    "    \"product_name\": \"Laptop\",\n",
    "    \"category\": \"Electronics\",\n",
    "    \"price\": 55000,\n",
    "    \"quantity\": 10\n",
    "  },\n",
    "  {\n",
    "    \"product_id\": 102,\n",
    "    \"product_name\": \"Smartphone\",\n",
    "    \"category\": \"Electronics\",\n",
    "    \"price\": 30000,\n",
    "    \"quantity\": 25\n",
    "  },\n",
    "  {\n",
    "    \"product_id\": 103,\n",
    "    \"product_name\": \"Chair\",\n",
    "    \"category\": \"Furniture\",\n",
    "    \"price\": 2500,\n",
    "    \"quantity\": 50\n",
    "  },\n",
    "  {\n",
    "    \"product_id\": 104,\n",
    "    \"product_name\": \"Book\",\n",
    "    \"category\": \"Stationery\",\n",
    "    \"price\": 400,\n",
    "    \"quantity\": 200\n",
    "  },\n",
    "  {\n",
    "    \"product_id\": 105,\n",
    "    \"product_name\": \"Headphones\",\n",
    "    \"category\": \"Electronics\",\n",
    "    \"price\": 1500,\n",
    "    \"quantity\": 100\n",
    "  },\n",
    "  {\n",
    "    \"product_id\": 106,\n",
    "    \"product_name\": \"Table\",\n",
    "    \"category\": \"Furniture\",\n",
    "    \"price\": 3200,\n",
    "    \"quantity\": 40\n",
    "  },\n",
    "  {\n",
    "    \"product_id\": 107,\n",
    "    \"product_name\": \"Pen\",\n",
    "    \"category\": \"Stationery\",\n",
    "    \"price\": 20,\n",
    "    \"quantity\": 500\n",
    "  },\n",
    "  {\n",
    "    \"product_id\": 108,\n",
    "    \"product_name\": \"Monitor\",\n",
    "    \"category\": \"Electronics\",\n",
    "    \"price\": 12000,\n",
    "    \"quantity\": 15\n",
    "  },\n",
    "  {\n",
    "    \"product_id\": 109,\n",
    "    \"product_name\": \"Notebook\",\n",
    "    \"category\": \"Stationery\",\n",
    "    \"price\": 60,\n",
    "    \"quantity\": 300\n",
    "  },\n",
    "  {\n",
    "    \"product_id\": 110,\n",
    "    \"product_name\": \"Sofa\",\n",
    "    \"category\": \"Furniture\",\n",
    "    \"price\": 45000,\n",
    "    \"quantity\": 5\n",
    "  }\n",
    "]\n",
    "json_df=spark.createDataFrame(json_data)\n",
    "json_df.show()\n",
    "json_df.printSchema()\n",
    "json_df.write.mode(\"overwrite\").json(\"/tmp/output/json_data\")"
   ]
  },
  {
   "cell_type": "code",
   "execution_count": 0,
   "metadata": {
    "application/vnd.databricks.v1+cell": {
     "cellMetadata": {
      "byteLimit": 2048000,
      "rowLimit": 10000
     },
     "inputWidgets": {},
     "nuid": "de945141-a426-4591-89cf-e74c72a7d8e3",
     "showTitle": false,
     "tableResultSettingsMap": {},
     "title": ""
    }
   },
   "outputs": [
    {
     "output_type": "stream",
     "name": "stdout",
     "output_type": "stream",
     "text": [
      "+----------+------------+-----------+-----+--------+\n|product_id|product_name|   category|price|quantity|\n+----------+------------+-----------+-----+--------+\n|       104|        Book| Stationery|  400|     200|\n|       105|  Headphones|Electronics| 1500|     100|\n|       102|  Smartphone|Electronics|30000|      25|\n|       108|     Monitor|Electronics|12000|      15|\n|       101|      Laptop|Electronics|55000|      10|\n|       103|       Chair|  Furniture| 2500|      50|\n|       106|       Table|  Furniture| 3200|      40|\n|       107|         Pen| Stationery|   20|     500|\n|       109|    Notebook| Stationery|   60|     300|\n|       110|        Sofa|  Furniture|45000|       5|\n+----------+------------+-----------+-----+--------+\n\nroot\n |-- product_id: long (nullable = true)\n |-- product_name: string (nullable = true)\n |-- category: string (nullable = true)\n |-- price: long (nullable = true)\n |-- quantity: long (nullable = true)\n\n"
     ]
    }
   ],
   "source": [
    "parquet_df=df\n",
    "parquet_df.write.mode(\"overwrite\").parquet(\"/tmp/output/parquet_data\")\n",
    "parquet_data=spark.read.parquet(\"/tmp/output/parquet_data\")\n",
    "parquet_data.show()\n",
    "parquet_data.printSchema()"
   ]
  },
  {
   "cell_type": "code",
   "execution_count": 0,
   "metadata": {
    "application/vnd.databricks.v1+cell": {
     "cellMetadata": {
      "byteLimit": 2048000,
      "rowLimit": 10000
     },
     "inputWidgets": {},
     "nuid": "853a2862-1dce-44a8-b08d-e0d61fcfa037",
     "showTitle": false,
     "tableResultSettingsMap": {},
     "title": ""
    }
   },
   "outputs": [
    {
     "output_type": "stream",
     "name": "stdout",
     "output_type": "stream",
     "text": [
      "Total directory size in btytes:  2881\nTotal directory size in btytes:  1689\nTotal directory size in btytes:  16210\n"
     ]
    }
   ],
   "source": [
    "files = dbutils.fs.ls(\"dbfs:/tmp/output/dfcsv\")  # Databricks example\n",
    "total=sum(f.size for f in files)\n",
    "print(\"Total directory size in btytes: \", total)\n",
    "files = dbutils.fs.ls(\"dbfs:/tmp/output/json_data\")  # Databricks example\n",
    "tota=sum(f.size for f in files)\n",
    "print(\"Total directory size in btytes: \", tota)\n",
    "files = dbutils.fs.ls(\"dbfs:/tmp/output/parquet_data\")\n",
    "tot=sum(f.size for f in files)\n",
    "print(\"Total directory size in btytes: \", tot)"
   ]
  },
  {
   "cell_type": "code",
   "execution_count": 0,
   "metadata": {
    "application/vnd.databricks.v1+cell": {
     "cellMetadata": {
      "byteLimit": 2048000,
      "rowLimit": 10000
     },
     "inputWidgets": {},
     "nuid": "e48ff1ae-56e8-4efd-b3bc-d738d005829d",
     "showTitle": false,
     "tableResultSettingsMap": {},
     "title": ""
    }
   },
   "outputs": [
    {
     "output_type": "stream",
     "name": "stdout",
     "output_type": "stream",
     "text": [
      "+----------+------------+-----------+-----+--------+-------------+\n|product_id|product_name|   category|price|quantity|total_revenue|\n+----------+------------+-----------+-----+--------+-------------+\n|       101|      Laptop|Electronics|55000|      10|       550000|\n|       102|  Smartphone|Electronics|30000|      25|       750000|\n|       103|       Chair|  Furniture| 2500|      50|       125000|\n|       104|        Book| Stationery|  400|     200|        80000|\n|       105|  Headphones|Electronics| 1500|     100|       150000|\n+----------+------------+-----------+-----+--------+-------------+\nonly showing top 5 rows\n"
     ]
    }
   ],
   "source": [
    "from pyspark.sql.functions import col,when\n",
    "\n",
    "csv_df = csv_df.withColumn(\"total_revenue\", col(\"price\") * col(\"quantity\"))\n",
    "csv_df.show(5)"
   ]
  },
  {
   "cell_type": "code",
   "execution_count": 0,
   "metadata": {
    "application/vnd.databricks.v1+cell": {
     "cellMetadata": {
      "byteLimit": 2048000,
      "rowLimit": 10000
     },
     "inputWidgets": {},
     "nuid": "7bd0025b-e47f-47fd-aa98-ee2fe605a771",
     "showTitle": false,
     "tableResultSettingsMap": {},
     "title": ""
    }
   },
   "outputs": [
    {
     "output_type": "stream",
     "name": "stdout",
     "output_type": "stream",
     "text": [
      "+----------+------------+-----------+-----+--------+-------------+\n|product_id|product_name|   category|price|quantity|total_revenue|\n+----------+------------+-----------+-----+--------+-------------+\n|       102|  Smartphone|Electronics|30000|      25|       750000|\n|       101|      Laptop|Electronics|55000|      10|       550000|\n|       110|        Sofa|  Furniture|45000|       5|       225000|\n+----------+------------+-----------+-----+--------+-------------+\nonly showing top 3 rows\n"
     ]
    }
   ],
   "source": [
    "csv_df.orderBy(\"total_revenue\", ascending=False).show(3)"
   ]
  },
  {
   "cell_type": "code",
   "execution_count": 0,
   "metadata": {
    "application/vnd.databricks.v1+cell": {
     "cellMetadata": {
      "byteLimit": 2048000,
      "rowLimit": 10000
     },
     "inputWidgets": {},
     "nuid": "712b6ca6-2643-48ac-8fb7-113bdd55df27",
     "showTitle": false,
     "tableResultSettingsMap": {},
     "title": ""
    }
   },
   "outputs": [
    {
     "output_type": "stream",
     "name": "stdout",
     "output_type": "stream",
     "text": [
      "+----------+------------+---------+-----+--------+-------------+\n|product_id|product_name| category|price|quantity|total_revenue|\n+----------+------------+---------+-----+--------+-------------+\n|       106|       Table|Furniture| 3200|      40|       128000|\n|       110|        Sofa|Furniture|45000|       5|       225000|\n+----------+------------+---------+-----+--------+-------------+\n\n"
     ]
    }
   ],
   "source": [
    "filtered=csv_df.filter(col('category')==\"Furniture\").filter(col('price')>3000)\n",
    "filtered.show()\n"
   ]
  },
  {
   "cell_type": "code",
   "execution_count": 0,
   "metadata": {
    "application/vnd.databricks.v1+cell": {
     "cellMetadata": {
      "byteLimit": 2048000,
      "rowLimit": 10000
     },
     "inputWidgets": {},
     "nuid": "794ad472-d365-4db4-99bf-8ff098f9596a",
     "showTitle": false,
     "tableResultSettingsMap": {},
     "title": ""
    }
   },
   "outputs": [
    {
     "output_type": "stream",
     "name": "stdout",
     "output_type": "stream",
     "text": [
      "+----------+------------+-----------+-----+--------+-------------+----------+\n|product_id|product_name|   category|price|quantity|total_revenue|price_band|\n+----------+------------+-----------+-----+--------+-------------+----------+\n|       101|      Laptop|Electronics|55000|      10|       550000|      High|\n|       102|  Smartphone|Electronics|30000|      25|       750000|      High|\n|       103|       Chair|  Furniture| 2500|      50|       125000|       Low|\n|       104|        Book| Stationery|  400|     200|        80000|       Low|\n|       105|  Headphones|Electronics| 1500|     100|       150000|       Low|\n|       106|       Table|  Furniture| 3200|      40|       128000|    Medium|\n|       107|         Pen| Stationery|   20|     500|        10000|       Low|\n|       108|     Monitor|Electronics|12000|      15|       180000|      High|\n|       109|    Notebook| Stationery|   60|     300|        18000|       Low|\n|       110|        Sofa|  Furniture|45000|       5|       225000|      High|\n+----------+------------+-----------+-----+--------+-------------+----------+\n\n"
     ]
    }
   ],
   "source": [
    "csv_df=csv_df.withColumn('price_band',when(col('price')>10000,\"High\").when(col('price')>3000,\"Medium\").otherwise(\"Low\"))\n",
    "csv_df.show()\n"
   ]
  },
  {
   "cell_type": "code",
   "execution_count": 0,
   "metadata": {
    "application/vnd.databricks.v1+cell": {
     "cellMetadata": {
      "byteLimit": 2048000,
      "rowLimit": 10000
     },
     "inputWidgets": {},
     "nuid": "97e58055-3778-446b-95ed-d59f1687dfbd",
     "showTitle": false,
     "tableResultSettingsMap": {},
     "title": ""
    }
   },
   "outputs": [
    {
     "output_type": "stream",
     "name": "stdout",
     "output_type": "stream",
     "text": [
      "+-----------+-------------+\n|   category|sum(quantity)|\n+-----------+-------------+\n|Electronics|          150|\n| Stationery|         1000|\n|  Furniture|           95|\n+-----------+-------------+\n\n"
     ]
    }
   ],
   "source": [
    "grouped=csv_df.groupBy('category').sum('quantity').alias('total_quantity_sold')\n",
    "grouped.show()"
   ]
  },
  {
   "cell_type": "code",
   "execution_count": 0,
   "metadata": {
    "application/vnd.databricks.v1+cell": {
     "cellMetadata": {
      "byteLimit": 2048000,
      "rowLimit": 10000
     },
     "inputWidgets": {},
     "nuid": "80cfa919-5528-4467-95f9-7e2855cee531",
     "showTitle": false,
     "tableResultSettingsMap": {},
     "title": ""
    }
   },
   "outputs": [
    {
     "output_type": "stream",
     "name": "stdout",
     "output_type": "stream",
     "text": [
      "+-----------+----------+\n|   category|avg(price)|\n+-----------+----------+\n|Electronics|   24625.0|\n| Stationery|     160.0|\n|  Furniture|   16900.0|\n+-----------+----------+\n\n"
     ]
    }
   ],
   "source": [
    "grouped_avg=csv_df.groupBy('category').avg('price')\n",
    "grouped_avg.show()\n"
   ]
  },
  {
   "cell_type": "code",
   "execution_count": 0,
   "metadata": {
    "application/vnd.databricks.v1+cell": {
     "cellMetadata": {
      "byteLimit": 2048000,
      "rowLimit": 10000
     },
     "inputWidgets": {},
     "nuid": "dc083b89-fda5-49cd-a6c3-ae79424a2541",
     "showTitle": false,
     "tableResultSettingsMap": {},
     "title": ""
    }
   },
   "outputs": [
    {
     "output_type": "stream",
     "name": "stdout",
     "output_type": "stream",
     "text": [
      "+----------+-----+\n|price_band|count|\n+----------+-----+\n|      High|    4|\n|       Low|    5|\n|    Medium|    1|\n+----------+-----+\n\n"
     ]
    }
   ],
   "source": [
    "grouped_price_band=csv_df.groupBy('price_band').count()\n",
    "grouped_price_band.show()"
   ]
  },
  {
   "cell_type": "code",
   "execution_count": 0,
   "metadata": {
    "application/vnd.databricks.v1+cell": {
     "cellMetadata": {
      "byteLimit": 2048000,
      "rowLimit": 10000
     },
     "inputWidgets": {},
     "nuid": "b6b38a30-0e8d-4425-a4ab-64d828e40f49",
     "showTitle": false,
     "tableResultSettingsMap": {},
     "title": ""
    }
   },
   "outputs": [
    {
     "output_type": "stream",
     "name": "stdout",
     "output_type": "stream",
     "text": [
      "+----------+------------+-----------+-----+--------+-------------+----------+\n|product_id|product_name|   category|price|quantity|total_revenue|price_band|\n+----------+------------+-----------+-----+--------+-------------+----------+\n|       101|      Laptop|Electronics|55000|      10|       550000|      High|\n|       102|  Smartphone|Electronics|30000|      25|       750000|      High|\n|       108|     Monitor|Electronics|12000|      15|       180000|      High|\n+----------+------------+-----------+-----+--------+-------------+----------+\n\n"
     ]
    }
   ],
   "source": [
    "filtered_elec=csv_df.filter((col('category')==\"Electronics\") & (col('price')>5000))\n",
    "filtered_elec.show()\n",
    "filtered_elec.write.mode(\"overwrite\").parquet(\"/tmp/output/filtered_electronics_parquet\")\n"
   ]
  },
  {
   "cell_type": "code",
   "execution_count": 0,
   "metadata": {
    "application/vnd.databricks.v1+cell": {
     "cellMetadata": {
      "byteLimit": 2048000,
      "rowLimit": 10000
     },
     "inputWidgets": {},
     "nuid": "2253cbd1-63e1-4bf0-bbcd-83165fbe2ca3",
     "showTitle": false,
     "tableResultSettingsMap": {},
     "title": ""
    }
   },
   "outputs": [],
   "source": [
    "csv_df.filter(col('category')==\"Stationery\").write.mode('overwrite').json(\"/tmp/output/stationary.json\")"
   ]
  },
  {
   "cell_type": "code",
   "execution_count": 0,
   "metadata": {
    "application/vnd.databricks.v1+cell": {
     "cellMetadata": {
      "byteLimit": 2048000,
      "rowLimit": 10000
     },
     "inputWidgets": {},
     "nuid": "cb481ff6-e539-47b7-8bfa-a0d1fcedb14e",
     "showTitle": false,
     "tableResultSettingsMap": {},
     "title": ""
    }
   },
   "outputs": [
    {
     "output_type": "stream",
     "name": "stdout",
     "output_type": "stream",
     "text": [
      "+-----------+------------------+\n|   category|sum(total_revenue)|\n+-----------+------------------+\n|Electronics|           1630000|\n+-----------+------------------+\nonly showing top 1 row\n"
     ]
    }
   ],
   "source": [
    "parquet_df_data=spark.read.parquet(\"/tmp/output/parquet_data\")\n",
    "parquet_df_data=parquet_df_data.withColumn(\"total_revenue\", col(\"price\") * col(\"quantity\")).groupBy('category').sum('total_revenue').orderBy('sum(total_revenue)', ascending=False)\n",
    "parquet_df_data.show(1)\n"
   ]
  },
  {
   "cell_type": "code",
   "execution_count": 0,
   "metadata": {
    "application/vnd.databricks.v1+cell": {
     "cellMetadata": {
      "byteLimit": 2048000,
      "rowLimit": 10000
     },
     "inputWidgets": {},
     "nuid": "808226f9-8ef2-462f-877c-fae56d2e6712",
     "showTitle": false,
     "tableResultSettingsMap": {},
     "title": ""
    }
   },
   "outputs": [
    {
     "output_type": "stream",
     "name": "stdout",
     "output_type": "stream",
     "text": [
      "+----------+------------+----------+-----+--------+-------------+----------+\n|product_id|product_name|  category|price|quantity|total_revenue|price_band|\n+----------+------------+----------+-----+--------+-------------+----------+\n|       104|        Book|Stationery|  400|     200|        80000|       Low|\n|       107|         Pen|Stationery|   20|     500|        10000|       Low|\n|       109|    Notebook|Stationery|   60|     300|        18000|       Low|\n+----------+------------+----------+-----+--------+-------------+----------+\n\n"
     ]
    }
   ],
   "source": [
    "csv_df.createOrReplaceTempView(\"products_view\")\n",
    "spark.sql(\"\"\" select * from products_view where quantity>100 and price<1000\"\"\").show()"
   ]
  }
 ],
 "metadata": {
  "application/vnd.databricks.v1+notebook": {
   "computePreferences": null,
   "dashboards": [],
   "environmentMetadata": {
    "base_environment": "",
    "environment_version": "2"
   },
   "inputWidgetPreferences": null,
   "language": "python",
   "notebookMetadata": {
    "pythonIndentUnit": 4
   },
   "notebookName": "Untitled Notebook 2025-08-07 10:40:34",
   "widgets": {}
  },
  "language_info": {
   "name": "python"
  }
 },
 "nbformat": 4,
 "nbformat_minor": 0
}