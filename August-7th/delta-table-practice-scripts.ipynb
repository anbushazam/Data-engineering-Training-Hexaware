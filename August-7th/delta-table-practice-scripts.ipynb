{
 "cells": [
  {
   "cell_type": "code",
   "execution_count": 0,
   "metadata": {
    "application/vnd.databricks.v1+cell": {
     "cellMetadata": {
      "byteLimit": 2048000,
      "rowLimit": 10000
     },
     "inputWidgets": {},
     "nuid": "46a883b3-fd4a-4a17-b9c2-1ba48dddaa23",
     "showTitle": false,
     "tableResultSettingsMap": {},
     "title": ""
    }
   },
   "outputs": [
    {
     "output_type": "stream",
     "name": "stdout",
     "output_type": "stream",
     "text": [
      "Wrote 139 bytes.\n"
     ]
    },
    {
     "output_type": "execute_result",
     "data": {
      "text/plain": [
       "True"
      ]
     },
     "execution_count": 4,
     "metadata": {},
     "output_type": "execute_result"
    }
   ],
   "source": [
    "csv_data = \"\"\"id,name,category,price\n",
    "1,Amit,Electronics,50000\n",
    "2,Priya,Furniture,3000\n",
    "3,Rahul,Stationery,200\n",
    "4,Neha,Books,800\n",
    "5,Karthik,Electronics,45000\n",
    "\"\"\"\n",
    "\n",
    "# Save the inline CSV string to a local file\n",
    "dbutils.fs.put(\"dbfs:/tmp/products.csv\", csv_data)"
   ]
  },
  {
   "cell_type": "code",
   "execution_count": 0,
   "metadata": {
    "application/vnd.databricks.v1+cell": {
     "cellMetadata": {
      "byteLimit": 2048000,
      "rowLimit": 10000
     },
     "inputWidgets": {},
     "nuid": "35982f7b-d355-4881-9324-b7165e35349e",
     "showTitle": false,
     "tableResultSettingsMap": {},
     "title": ""
    }
   },
   "outputs": [
    {
     "output_type": "stream",
     "name": "stdout",
     "output_type": "stream",
     "text": [
      "+---+-------+-----------+-----+\n| id|   name|   category|price|\n+---+-------+-----------+-----+\n|  1|   Amit|Electronics|50000|\n|  2|  Priya|  Furniture| 3000|\n|  3|  Rahul| Stationery|  200|\n|  4|   Neha|      Books|  800|\n|  5|Karthik|Electronics|45000|\n+---+-------+-----------+-----+\n\n"
     ]
    }
   ],
   "source": [
    "df=spark.read.options(header='true').csv(\"dbfs:/tmp/products.csv\")\n",
    "df.show()\n"
   ]
  },
  {
   "cell_type": "code",
   "execution_count": 0,
   "metadata": {
    "application/vnd.databricks.v1+cell": {
     "cellMetadata": {
      "byteLimit": 2048000,
      "rowLimit": 10000
     },
     "inputWidgets": {},
     "nuid": "b69c21a1-d1a5-4731-9b5d-9cf1e8e81f40",
     "showTitle": false,
     "tableResultSettingsMap": {},
     "title": ""
    }
   },
   "outputs": [
    {
     "output_type": "stream",
     "name": "stdout",
     "output_type": "stream",
     "text": [
      "+---+-------+-----------+-----+\n| id|   name|   category|price|\n+---+-------+-----------+-----+\n|  1|   Amit|Electronics|50000|\n|  2|  Priya|  Furniture| 3000|\n|  3|  Rahul| Stationery|  200|\n|  4|   Neha|      Books|  800|\n|  5|Karthik|Electronics|45000|\n+---+-------+-----------+-----+\n\n"
     ]
    }
   ],
   "source": [
    "df.write.format(\"delta\").mode(\"overwrite\").save(\"/temp/delta/products_table\")\n",
    "delta_df=spark.read.format(\"delta\").load(\"/temp/delta/products_table\")\n",
    "delta_df.show()"
   ]
  },
  {
   "cell_type": "code",
   "execution_count": 0,
   "metadata": {
    "application/vnd.databricks.v1+cell": {
     "cellMetadata": {
      "byteLimit": 2048000,
      "rowLimit": 10000
     },
     "inputWidgets": {},
     "nuid": "634cdc9f-f66d-417d-9594-3db4270a907e",
     "showTitle": false,
     "tableResultSettingsMap": {},
     "title": ""
    }
   },
   "outputs": [
    {
     "output_type": "stream",
     "name": "stdout",
     "output_type": "stream",
     "text": [
      "+---+-------+-----------+-----+\n| id|   name|   category|price|\n+---+-------+-----------+-----+\n|  1|   Amit|Electronics|50000|\n|  3|  Rahul| Stationery|  200|\n|  4|   Neha|      Books|  800|\n|  5|Karthik|Electronics|45000|\n|  2|  Priya|  Furniture| 3500|\n+---+-------+-----------+-----+\n\n"
     ]
    }
   ],
   "source": [
    "from delta.tables import DeltaTable\n",
    "delta_table=DeltaTable.forPath(spark,path=\"/temp/delta/products_table\")\n",
    "delta_table.update(condition=\"id=2\",set={\"price\":\"3500\"})\n",
    "delta_table.toDF().show()"
   ]
  },
  {
   "cell_type": "code",
   "execution_count": 0,
   "metadata": {
    "application/vnd.databricks.v1+cell": {
     "cellMetadata": {
      "byteLimit": 2048000,
      "rowLimit": 10000
     },
     "inputWidgets": {},
     "nuid": "aa8d9dd8-678c-422b-b0a4-d80c2d410d02",
     "showTitle": false,
     "tableResultSettingsMap": {},
     "title": ""
    }
   },
   "outputs": [
    {
     "output_type": "stream",
     "name": "stdout",
     "output_type": "stream",
     "text": [
      "+---+-----+---------+-----+\n| id| name| category|price|\n+---+-----+---------+-----+\n|  2|Priya|Furniture| 4000|\n|  6|Sneha|  Kitchen| 1200|\n+---+-----+---------+-----+\n\n+---+-------+-----------+-----+\n| id|   name|   category|price|\n+---+-------+-----------+-----+\n|  1|   Amit|Electronics|50000|\n|  3|  Rahul| Stationery|  200|\n|  4|   Neha|      Books|  800|\n|  5|Karthik|Electronics|45000|\n|  6|  Sneha|    Kitchen| 1200|\n|  2|  Priya|  Furniture| 4000|\n+---+-------+-----------+-----+\n\n"
     ]
    }
   ],
   "source": [
    "new_data = [\n",
    "    (2, \"Priya\", \"Furniture\", 4000),     # Update\n",
    "    (6, \"Sneha\", \"Kitchen\", 1200)        # Insert\n",
    "]\n",
    " \n",
    "update_df=spark.createDataFrame(new_data,[\"id\",\"name\",\"category\",\"price\"])\n",
    "update_df.show()\n",
    "delta_table.alias(\"target\").merge(update_df.alias(\"source\"),\"target.id=source.id\").whenMatchedUpdateAll().whenNotMatchedInsertAll().execute()\n",
    "delta_table.toDF().show()"
   ]
  },
  {
   "cell_type": "markdown",
   "metadata": {
    "application/vnd.databricks.v1+cell": {
     "cellMetadata": {},
     "inputWidgets": {},
     "nuid": "5d89828b-5bdd-4dcb-a5de-5d6797699bf3",
     "showTitle": false,
     "tableResultSettingsMap": {},
     "title": ""
    }
   },
   "source": [
    "Time traveling versions using delta table"
   ]
  },
  {
   "cell_type": "code",
   "execution_count": 0,
   "metadata": {
    "application/vnd.databricks.v1+cell": {
     "cellMetadata": {
      "byteLimit": 2048000,
      "rowLimit": 10000
     },
     "inputWidgets": {},
     "nuid": "62df2667-8ddb-4068-9456-bd278b4e3f8b",
     "showTitle": false,
     "tableResultSettingsMap": {},
     "title": ""
    }
   },
   "outputs": [
    {
     "output_type": "stream",
     "name": "stdout",
     "output_type": "stream",
     "text": [
      "+---+-------+-----------+-----+\n| id|   name|   category|price|\n+---+-------+-----------+-----+\n|  1|   Amit|Electronics|50000|\n|  3|  Rahul| Stationery|  200|\n|  4|   Neha|      Books|  800|\n|  5|Karthik|Electronics|45000|\n|  2|  Priya|  Furniture| 4000|\n|  6|  Sneha|    Kitchen| 1200|\n+---+-------+-----------+-----+\n\n+---+-------+-----------+-----+\n| id|   name|   category|price|\n+---+-------+-----------+-----+\n|  1|   Amit|Electronics|50000|\n|  2|  Priya|  Furniture| 3000|\n|  3|  Rahul| Stationery|  200|\n|  4|   Neha|      Books|  800|\n|  5|Karthik|Electronics|45000|\n+---+-------+-----------+-----+\n\n"
     ]
    }
   ],
   "source": [
    "delta_table.toDF().show()   \n",
    "previous_df=spark.read.format(\"delta\").option(\"versionAsOf\",0).load(\"/temp/delta/products_table\")\n",
    "previous_df.show()"
   ]
  },
  {
   "cell_type": "markdown",
   "metadata": {
    "application/vnd.databricks.v1+cell": {
     "cellMetadata": {},
     "inputWidgets": {},
     "nuid": "4c25caec-e852-4886-972b-57fbf67e8f9a",
     "showTitle": false,
     "tableResultSettingsMap": {},
     "title": ""
    }
   },
   "source": [
    "saving the files in partition"
   ]
  },
  {
   "cell_type": "code",
   "execution_count": 0,
   "metadata": {
    "application/vnd.databricks.v1+cell": {
     "cellMetadata": {
      "byteLimit": 2048000,
      "rowLimit": 10000
     },
     "inputWidgets": {},
     "nuid": "5604e084-20cb-446e-9c11-11e2045efdf4",
     "showTitle": false,
     "tableResultSettingsMap": {},
     "title": ""
    }
   },
   "outputs": [],
   "source": [
    "df.write.format(\"delta\").mode(\"overwrite\").partitionBy(\"category\").save(\"/temp/delta/products_table_partitioned\")\n"
   ]
  },
  {
   "cell_type": "code",
   "execution_count": 0,
   "metadata": {
    "application/vnd.databricks.v1+cell": {
     "cellMetadata": {
      "byteLimit": 2048000,
      "rowLimit": 10000
     },
     "inputWidgets": {},
     "nuid": "ac4ab359-842e-4f0c-9c43-4a9ddf13a0ba",
     "showTitle": false,
     "tableResultSettingsMap": {},
     "title": ""
    }
   },
   "outputs": [
    {
     "output_type": "stream",
     "name": "stdout",
     "output_type": "stream",
     "text": [
      "+---+-------+-----------+-----+\n| id|   name|   category|price|\n+---+-------+-----------+-----+\n|  5|Karthik|Electronics|45000|\n|  1|   Amit|Electronics|50000|\n|  2|  Priya|  Furniture| 3000|\n|  3|  Rahul| Stationery|  200|\n|  4|   Neha|      Books|  800|\n+---+-------+-----------+-----+\n\n"
     ]
    }
   ],
   "source": [
    "ff=spark.read.format(\"delta\").load(\"/temp/delta/products_table_partitioned\")\n",
    "ff.show()"
   ]
  }
 ],
 "metadata": {
  "application/vnd.databricks.v1+notebook": {
   "computePreferences": null,
   "dashboards": [],
   "environmentMetadata": {
    "base_environment": "",
    "environment_version": "2"
   },
   "inputWidgetPreferences": null,
   "language": "python",
   "notebookMetadata": {
    "pythonIndentUnit": 4
   },
   "notebookName": "Untitled Notebook 2025-08-07 14:57:41",
   "widgets": {}
  },
  "language_info": {
   "name": "python"
  }
 },
 "nbformat": 4,
 "nbformat_minor": 0
}