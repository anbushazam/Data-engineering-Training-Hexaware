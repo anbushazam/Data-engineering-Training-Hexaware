{
 "cells": [
  {
   "cell_type": "code",
   "execution_count": 0,
   "metadata": {
    "application/vnd.databricks.v1+cell": {
     "cellMetadata": {
      "byteLimit": 2048000,
      "rowLimit": 10000
     },
     "inputWidgets": {},
     "nuid": "ec3079ae-dc21-41e8-8d3f-6a82815e251f",
     "showTitle": false,
     "tableResultSettingsMap": {},
     "title": ""
    }
   },
   "outputs": [
    {
     "output_type": "stream",
     "name": "stdout",
     "output_type": "stream",
     "text": [
      "+-----+------+----------+---------+---------+\n|EmpID|  Name|Department|UnitsSold|UnitPrice|\n+-----+------+----------+---------+---------+\n| E101|  Amit|     Sales|       10|     1200|\n| E102| Sneha| Marketing|        8|     1500|\n| E103|  Ravi|     Sales|       12|     1300|\n| E104|Anjali|        HR|        7|     1100|\n| E105|   Raj|     Sales|        5|     1000|\n+-----+------+----------+---------+---------+\n\n"
     ]
    }
   ],
   "source": [
    "data = [\n",
    "\n",
    "    (\"E101\", \"Amit\", \"Sales\", 10, 1200),\n",
    "\n",
    "    (\"E102\", \"Sneha\", \"Marketing\", 8, 1500),\n",
    "\n",
    "    (\"E103\", \"Ravi\", \"Sales\", 12, 1300),\n",
    "\n",
    "    (\"E104\", \"Anjali\", \"HR\", 7, 1100),\n",
    "\n",
    "    (\"E105\", \"Raj\", \"Sales\", 5, 1000)\n",
    "\n",
    "]\n",
    " \n",
    "columns = [\"EmpID\", \"Name\", \"Department\", \"UnitsSold\", \"UnitPrice\"]\n",
    " \n",
    "df = spark.createDataFrame(data, columns)\n",
    "\n",
    "df.show()\n",
    "\n",
    " \n",
    " "
   ]
  },
  {
   "cell_type": "code",
   "execution_count": 0,
   "metadata": {
    "application/vnd.databricks.v1+cell": {
     "cellMetadata": {
      "byteLimit": 2048000,
      "rowLimit": 10000
     },
     "inputWidgets": {},
     "nuid": "5fddd720-3574-489c-ae9e-4421810f105b",
     "showTitle": false,
     "tableResultSettingsMap": {},
     "title": ""
    }
   },
   "outputs": [
    {
     "output_type": "stream",
     "name": "stdout",
     "output_type": "stream",
     "text": [
      "Total number of employees in the company: 5\n+-----+------+----------+---------+---------+-----------+\n|EmpID|  Name|Department|UnitsSold|UnitPrice|total_sales|\n+-----+------+----------+---------+---------+-----------+\n| E101|  Amit|     Sales|       10|     1200|      12000|\n| E102| Sneha| Marketing|        8|     1500|      12000|\n| E103|  Ravi|     Sales|       12|     1300|      15600|\n| E104|Anjali|        HR|        7|     1100|       7700|\n| E105|   Raj|     Sales|        5|     1000|       5000|\n+-----+------+----------+---------+---------+-----------+\n\n+-----+----+----------+---------+---------+-----------+\n|EmpID|Name|Department|UnitsSold|UnitPrice|total_sales|\n+-----+----+----------+---------+---------+-----------+\n| E101|Amit|     Sales|       10|     1200|      12000|\n| E103|Ravi|     Sales|       12|     1300|      15600|\n+-----+----+----------+---------+---------+-----------+\n\n+-----+----+----------+---------+---------+-----------+\n|EmpID|Name|Department|UnitsSold|UnitPrice|total_sales|\n+-----+----+----------+---------+---------+-----------+\n| E103|Ravi|     Sales|       12|     1300|      15600|\n+-----+----+----------+---------+---------+-----------+\n\n+-----+------+----------+---------+---------+-----------+\n|EmpID|  Name|Department|UnitsSold|UnitPrice|total_sales|\n+-----+------+----------+---------+---------+-----------+\n| E103|  Ravi|     Sales|       12|     1300|      15600|\n| E101|  Amit|     Sales|       10|     1200|      12000|\n| E102| Sneha| Marketing|        8|     1500|      12000|\n| E104|Anjali|        HR|        7|     1100|       7700|\n| E105|   Raj|     Sales|        5|     1000|       5000|\n+-----+------+----------+---------+---------+-----------+\n\n"
     ]
    }
   ],
   "source": [
    "total_employee=df.count()\n",
    "print(\"Total number of employees in the company:\",total_employee)\n",
    "\n",
    "df=df.withColumn(\"total_sales\",col(\"UnitsSold\")*col(\"UnitPrice\"))\n",
    "df.show()\n",
    "\n",
    "df_filtered=df.filter(col('Department')==\"Sales\").filter(col('total_sales')>10000)\n",
    "df_filtered.show()\n",
    "\n",
    "df_high=df.sort(col('total_sales').desc()).limit(1)\n",
    "df_high.show()\n",
    "\n",
    "df.sort(col('total_sales').desc()).show()"
   ]
  }
 ],
 "metadata": {
  "application/vnd.databricks.v1+notebook": {
   "computePreferences": {
    "hardware": {
     "accelerator": null,
     "gpuPoolId": null,
     "memory": null
    }
   },
   "dashboards": [],
   "environmentMetadata": {
    "base_environment": "",
    "environment_version": "2"
   },
   "inputWidgetPreferences": null,
   "language": "python",
   "notebookMetadata": {
    "pythonIndentUnit": 4
   },
   "notebookName": "Untitled Notebook 2025-08-06 16:08:38",
   "widgets": {}
  },
  "language_info": {
   "name": "python"
  }
 },
 "nbformat": 4,
 "nbformat_minor": 0
}