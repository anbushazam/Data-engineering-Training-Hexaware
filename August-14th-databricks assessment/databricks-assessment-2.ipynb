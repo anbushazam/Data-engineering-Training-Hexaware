{
  "nbformat": 4,
  "nbformat_minor": 0,
  "metadata": {
    "colab": {
      "provenance": []
    },
    "kernelspec": {
      "name": "python3",
      "display_name": "Python 3"
    },
    "language_info": {
      "name": "python"
    }
  },
  "cells": [
    {
      "cell_type": "code",
      "execution_count": 7,
      "metadata": {
        "colab": {
          "base_uri": "https://localhost:8080/",
          "height": 237
        },
        "id": "24I98URafaAi",
        "outputId": "c07fbe33-2ff0-4a26-ecfe-0bbd895013fc"
      },
      "outputs": [
        {
          "output_type": "stream",
          "name": "stdout",
          "text": [
            "Spark and Delta Lake are ready!\n"
          ]
        },
        {
          "output_type": "execute_result",
          "data": {
            "text/plain": [
              "<pyspark.sql.session.SparkSession at 0x79df71d0bed0>"
            ],
            "text/html": [
              "\n",
              "            <div>\n",
              "                <p><b>SparkSession - in-memory</b></p>\n",
              "                \n",
              "        <div>\n",
              "            <p><b>SparkContext</b></p>\n",
              "\n",
              "            <p><a href=\"http://3d33f25c7519:4040\">Spark UI</a></p>\n",
              "\n",
              "            <dl>\n",
              "              <dt>Version</dt>\n",
              "                <dd><code>v3.5.1</code></dd>\n",
              "              <dt>Master</dt>\n",
              "                <dd><code>local[*]</code></dd>\n",
              "              <dt>AppName</dt>\n",
              "                <dd><code>DeltaTutorial</code></dd>\n",
              "            </dl>\n",
              "        </div>\n",
              "        \n",
              "            </div>\n",
              "        "
            ]
          },
          "metadata": {},
          "execution_count": 7
        }
      ],
      "source": [
        "!pip install delta-spark==3.2.0 -q\n",
        "import pyspark\n",
        "from delta import *\n",
        "from pyspark.sql.functions import *\n",
        "\n",
        "# Create a SparkSession with Delta Lake extensions\n",
        "# The '.config(...)' lines are crucial for enabling Delta Lake's features\n",
        "builder = pyspark.sql.SparkSession.builder.appName(\"DeltaTutorial\") \\\n",
        "    .config(\"spark.sql.extensions\", \"io.delta.sql.DeltaSparkSessionExtension\") \\\n",
        "    .config(\"spark.sql.catalog.spark_catalog\", \"org.apache.spark.sql.delta.catalog.DeltaCatalog\")\n",
        "\n",
        "# Get or create the SparkSession\n",
        "spark = configure_spark_with_delta_pip(builder).getOrCreate()\n",
        "\n",
        "print(\"Spark and Delta Lake are ready!\")\n",
        "spark"
      ]
    },
    {
      "cell_type": "code",
      "source": [
        "from pyspark.sql import functions as F, types as T\n",
        "from datetime import datetime\n",
        "\n",
        "\n",
        "# Inline data definitions\n",
        "trip_schema = T.StructType([\n",
        "    T.StructField(\"trip_id\",    T.IntegerType()),\n",
        "    T.StructField(\"rider_id\",   T.StringType()),\n",
        "    T.StructField(\"driver_id\",  T.StringType()),\n",
        "    T.StructField(\"city\",       T.StringType()),\n",
        "    T.StructField(\"distance_km\",T.DoubleType()),\n",
        "    T.StructField(\"fare\",       T.DoubleType()),\n",
        "    T.StructField(\"tip\",        T.DoubleType()),\n",
        "    T.StructField(\"ts\",         T.TimestampType())\n",
        "])\n",
        "\n",
        "driver_schema = T.StructType([\n",
        "    T.StructField(\"driver_id\",   T.StringType()),\n",
        "    T.StructField(\"driver_name\", T.StringType()),\n",
        "    T.StructField(\"rating\",      T.DoubleType()),\n",
        "    T.StructField(\"vehicle\",     T.StringType())\n",
        "])\n",
        "\n",
        "trips_rows = [\n",
        "    (1001, \"R001\", \"D010\", \"Bengaluru\", 12.4, 320.0, 20.0,\n",
        "     datetime(2025, 8, 8,  8,  5,  0)),\n",
        "    (1002, \"R002\", \"D011\", \"Hyderabad\",  6.2, 150.0, 10.0,\n",
        "     datetime(2025, 8, 8,  8, 15,  0)),\n",
        "    (1003, \"R003\", \"D012\", \"Pune\",       3.5,  90.0,  0.0,\n",
        "     datetime(2025, 8, 8,  8, 20,  0)),\n",
        "    (1004, \"R001\", \"D010\", \"Bengaluru\", 18.9, 480.0, 25.0,\n",
        "     datetime(2025, 8, 8,  8, 45,  0)),\n",
        "    (1005, \"R004\", \"D013\", \"Chennai\",   10.0, 260.0, 15.0,\n",
        "     datetime(2025, 8, 8,  9,  5,  0)),\n",
        "    (1006, \"R005\", \"D012\", \"Pune\",       2.2,  70.0,  0.0,\n",
        "     datetime(2025, 8, 8,  9, 10,  0))\n",
        "]\n",
        "\n",
        "drivers_rows = [\n",
        "    (\"D010\", \"Anil\",  4.8, \"WagonR\"),\n",
        "    (\"D011\", \"Sana\",  4.6, \"i20\"),\n",
        "    (\"D012\", \"Rakesh\",4.4, \"Swift\"),\n",
        "    (\"D013\", \"Meera\", 4.9, \"Ciaz\")\n",
        "]\n",
        "\n",
        "trips_df   = spark.createDataFrame(trips_rows,   schema=trip_schema)\\\n",
        "                  .withColumn(\"ts\", F.to_timestamp(\"ts\"))\n",
        "drivers_df = spark.createDataFrame(drivers_rows, schema=driver_schema)\n",
        "\n",
        "BASE         = \"/tmp/delta/ride_hailing\"\n",
        "TRIPS_PATH   = f\"{BASE}/trips\"\n",
        "DRIVERS_PATH = f\"{BASE}/drivers\"\n",
        "\n",
        "trips_df.write.format(\"delta\").mode(\"overwrite\").save(TRIPS_PATH)\n",
        "drivers_df.write.format(\"delta\").mode(\"overwrite\").save(DRIVERS_PATH)\n",
        "print(\"Seeded:\")\n",
        "print(\" Trips   ->\", TRIPS_PATH)\n",
        "print(\" Drivers ->\", DRIVERS_PATH)"
      ],
      "metadata": {
        "colab": {
          "base_uri": "https://localhost:8080/"
        },
        "id": "CYC8nrZqfcZZ",
        "outputId": "f9afb472-0cd0-4be4-fe26-ef275790fec4"
      },
      "execution_count": 11,
      "outputs": [
        {
          "output_type": "stream",
          "name": "stdout",
          "text": [
            "Seeded:\n",
            " Trips   -> /tmp/delta/ride_hailing/trips\n",
            " Drivers -> /tmp/delta/ride_hailing/drivers\n"
          ]
        }
      ]
    },
    {
      "cell_type": "markdown",
      "source": [
        "# 1) Managed vs Unmanaged Tables"
      ],
      "metadata": {
        "id": "K8-POoWv0qHP"
      }
    },
    {
      "cell_type": "code",
      "source": [
        "spark.sql(\"\"\"create table if not exists trips_managed using delta as select*from delta.`/tmp/delta/ride_hailing/trips`;\"\"\")\n",
        "spark.sql(\"\"\"create table if not exists drivers_ext using delta location '/tmp/delta/ride_hailing/drivers';\"\"\")"
      ],
      "metadata": {
        "colab": {
          "base_uri": "https://localhost:8080/"
        },
        "id": "w0IiqIza0sWA",
        "outputId": "5d51319a-e2ce-4349-a674-5d4ce92f97ff"
      },
      "execution_count": 102,
      "outputs": [
        {
          "output_type": "execute_result",
          "data": {
            "text/plain": [
              "DataFrame[]"
            ]
          },
          "metadata": {},
          "execution_count": 102
        }
      ]
    },
    {
      "cell_type": "markdown",
      "source": [
        "in the below cell the location of managed table(trips_managed) is in file/content /spark-warehouse/managed_tables and the external table(driver_ext)is stored in absoulte file path"
      ],
      "metadata": {
        "id": "-URByhCh3oY0"
      }
    },
    {
      "cell_type": "code",
      "source": [
        "spark.sql(\"describe detail trips_managed\").show()\n",
        "spark.sql(\"describe detail drivers_ext\").show()"
      ],
      "metadata": {
        "colab": {
          "base_uri": "https://localhost:8080/"
        },
        "id": "LOC8WV-11o_d",
        "outputId": "6d4dd00b-29fd-4bbd-ed2c-325d7a534d86"
      },
      "execution_count": 103,
      "outputs": [
        {
          "output_type": "stream",
          "name": "stdout",
          "text": [
            "+------+--------------------+--------------------+-----------+--------------------+--------------------+--------------------+----------------+-----------------+--------+-----------+----------+----------------+----------------+--------------------+\n",
            "|format|                  id|                name|description|            location|           createdAt|        lastModified|partitionColumns|clusteringColumns|numFiles|sizeInBytes|properties|minReaderVersion|minWriterVersion|       tableFeatures|\n",
            "+------+--------------------+--------------------+-----------+--------------------+--------------------+--------------------+----------------+-----------------+--------+-----------+----------+----------------+----------------+--------------------+\n",
            "| delta|38ae0c95-227a-409...|spark_catalog.def...|       NULL|file:/content/spa...|2025-08-14 11:33:...|2025-08-14 11:33:...|              []|               []|       2|       5121|        {}|               1|               2|[appendOnly, inva...|\n",
            "+------+--------------------+--------------------+-----------+--------------------+--------------------+--------------------+----------------+-----------------+--------+-----------+----------+----------------+----------------+--------------------+\n",
            "\n",
            "+------+--------------------+--------------------+-----------+--------------------+--------------------+--------------------+----------------+-----------------+--------+-----------+----------+----------------+----------------+--------------------+\n",
            "|format|                  id|                name|description|            location|           createdAt|        lastModified|partitionColumns|clusteringColumns|numFiles|sizeInBytes|properties|minReaderVersion|minWriterVersion|       tableFeatures|\n",
            "+------+--------------------+--------------------+-----------+--------------------+--------------------+--------------------+----------------+-----------------+--------+-----------+----------+----------------+----------------+--------------------+\n",
            "| delta|50977766-6545-453...|spark_catalog.def...|       NULL|file:/tmp/delta/r...|2025-08-14 09:02:...|2025-08-14 09:02:...|              []|               []|       2|       2481|        {}|               1|               2|[appendOnly, inva...|\n",
            "+------+--------------------+--------------------+-----------+--------------------+--------------------+--------------------+----------------+-----------------+--------+-----------+----------+----------------+----------------+--------------------+\n",
            "\n"
          ]
        }
      ]
    },
    {
      "cell_type": "markdown",
      "source": [
        "# 2) Read & Explore"
      ],
      "metadata": {
        "id": "VvgW5-zX2HdT"
      }
    },
    {
      "cell_type": "code",
      "source": [
        "trips = spark.read.format(\"delta\").load(TRIPS_PATH)\n",
        "drivers = spark.read.format(\"delta\").load(DRIVERS_PATH)\n",
        "\n",
        "trips.printSchema()\n",
        "drivers.printSchema()\n",
        "\n",
        "trips.withColumn(\"total_amount\", F.col(\"fare\") + F.col(\"tip\")) \\\n",
        "     .orderBy(F.desc(\"total_amount\")) \\\n",
        "     .show(5)"
      ],
      "metadata": {
        "colab": {
          "base_uri": "https://localhost:8080/"
        },
        "id": "pc2tuK2s4ROa",
        "outputId": "86888b63-cbae-40e7-9d10-fde3e2a8772b"
      },
      "execution_count": 53,
      "outputs": [
        {
          "output_type": "stream",
          "name": "stdout",
          "text": [
            "root\n",
            " |-- trip_id: integer (nullable = true)\n",
            " |-- rider_id: string (nullable = true)\n",
            " |-- driver_id: string (nullable = true)\n",
            " |-- city: string (nullable = true)\n",
            " |-- distance_km: double (nullable = true)\n",
            " |-- fare: double (nullable = true)\n",
            " |-- tip: double (nullable = true)\n",
            " |-- ts: timestamp (nullable = true)\n",
            "\n",
            "root\n",
            " |-- driver_id: string (nullable = true)\n",
            " |-- driver_name: string (nullable = true)\n",
            " |-- rating: double (nullable = true)\n",
            " |-- vehicle: string (nullable = true)\n",
            "\n",
            "+-------+--------+---------+---------+-----------+-----+----+-------------------+------------+\n",
            "|trip_id|rider_id|driver_id|     city|distance_km| fare| tip|                 ts|total_amount|\n",
            "+-------+--------+---------+---------+-----------+-----+----+-------------------+------------+\n",
            "|   1004|    R001|     D010|Bengaluru|       18.9|480.0|25.0|2025-08-08 08:45:00|       505.0|\n",
            "|   1001|    R001|     D010|Bengaluru|       12.4|320.0|20.0|2025-08-08 08:05:00|       340.0|\n",
            "|   1005|    R004|     D013|  Chennai|       10.0|260.0|15.0|2025-08-08 09:05:00|       275.0|\n",
            "|   1002|    R002|     D011|Hyderabad|        6.2|150.0|10.0|2025-08-08 08:15:00|       160.0|\n",
            "|   1003|    R003|     D012|     Pune|        3.5| 90.0| 0.0|2025-08-08 08:20:00|        90.0|\n",
            "+-------+--------+---------+---------+-----------+-----+----+-------------------+------------+\n",
            "only showing top 5 rows\n",
            "\n"
          ]
        }
      ]
    },
    {
      "cell_type": "markdown",
      "source": [
        "# 3) Update (Business Rule)"
      ],
      "metadata": {
        "id": "ncFt3v365PtI"
      }
    },
    {
      "cell_type": "code",
      "source": [
        "from delta.tables import DeltaTable\n",
        "delta_trips = DeltaTable.forPath(spark, TRIPS_PATH)\n",
        "\n",
        "print(\"Before Update:\")\n",
        "delta_trips.toDF().filter(\"city = 'Bengaluru' AND distance_km > 15\").show()\n",
        "\n",
        "delta_trips.update(\n",
        "    condition=\"city = 'Bengaluru' AND distance_km > 15\",set={\"tip\": F.col(\"tip\") + 5}\n",
        ")\n",
        "\n",
        "print(\"After Update:\")\n",
        "delta_trips.toDF().filter(\"city = 'Bengaluru' AND distance_km > 15\").show()\n"
      ],
      "metadata": {
        "colab": {
          "base_uri": "https://localhost:8080/"
        },
        "id": "zm3I5GS_4x3A",
        "outputId": "71212acd-8958-4b64-d713-b94b5f57ec21"
      },
      "execution_count": 54,
      "outputs": [
        {
          "output_type": "stream",
          "name": "stdout",
          "text": [
            "Before Update:\n",
            "+-------+--------+---------+---------+-----------+-----+----+-------------------+\n",
            "|trip_id|rider_id|driver_id|     city|distance_km| fare| tip|                 ts|\n",
            "+-------+--------+---------+---------+-----------+-----+----+-------------------+\n",
            "|   1004|    R001|     D010|Bengaluru|       18.9|480.0|25.0|2025-08-08 08:45:00|\n",
            "+-------+--------+---------+---------+-----------+-----+----+-------------------+\n",
            "\n",
            "After Update:\n",
            "+-------+--------+---------+---------+-----------+-----+----+-------------------+\n",
            "|trip_id|rider_id|driver_id|     city|distance_km| fare| tip|                 ts|\n",
            "+-------+--------+---------+---------+-----------+-----+----+-------------------+\n",
            "|   1004|    R001|     D010|Bengaluru|       18.9|480.0|30.0|2025-08-08 08:45:00|\n",
            "+-------+--------+---------+---------+-----------+-----+----+-------------------+\n",
            "\n"
          ]
        }
      ]
    },
    {
      "cell_type": "markdown",
      "source": [
        "#4) Delete (Data Quality)"
      ],
      "metadata": {
        "id": "BKwz6ABE-yqH"
      }
    },
    {
      "cell_type": "code",
      "source": [
        "delta_trips.delete(\"fare <= 0 OR distance_km <= 0\")\n",
        "print(\"Remaining row count:\", delta_trips.toDF().count())\n"
      ],
      "metadata": {
        "colab": {
          "base_uri": "https://localhost:8080/"
        },
        "id": "LLVOKKg9AfV3",
        "outputId": "e5de7599-0863-43ee-f695-45168f75b124"
      },
      "execution_count": 55,
      "outputs": [
        {
          "output_type": "stream",
          "name": "stdout",
          "text": [
            "Remaining row count: 6\n"
          ]
        }
      ]
    },
    {
      "cell_type": "markdown",
      "source": [
        "# 5) Merge (Upsert New Batch)"
      ],
      "metadata": {
        "id": "YK061UggFG6W"
      }
    },
    {
      "cell_type": "code",
      "source": [
        "new_data = [\n",
        "    (1004,\"R001\",\"D010\",\"Bengaluru\", 18.9, 500.0,  30.0,datetime(2025,8,8,8,45,0)),\n",
        "    (1007,\"R006\",\"D011\",\"Hyderabad\",  5.0, 120.0,  15.0, datetime(2025,8,8,9,20,0)),\n",
        "]\n",
        "new_df = spark.createDataFrame(new_data, schema=trip_schema)\n",
        "delta_trips.alias(\"target\").merge(new_df.alias(\"source\"),\"target.trip_id=source.trip_id\").whenMatchedUpdateAll().whenNotMatchedInsertAll().execute()\n",
        "delta_trips.toDF().show()"
      ],
      "metadata": {
        "colab": {
          "base_uri": "https://localhost:8080/"
        },
        "id": "qHOUgdxDFKJA",
        "outputId": "d1c3ce0c-7b34-4d4e-8c93-062fcfe8cf8d"
      },
      "execution_count": 57,
      "outputs": [
        {
          "output_type": "stream",
          "name": "stdout",
          "text": [
            "+-------+--------+---------+---------+-----------+-----+----+-------------------+\n",
            "|trip_id|rider_id|driver_id|     city|distance_km| fare| tip|                 ts|\n",
            "+-------+--------+---------+---------+-----------+-----+----+-------------------+\n",
            "|   1004|    R001|     D010|Bengaluru|       18.9|500.0|30.0|2025-08-08 08:45:00|\n",
            "|   1005|    R004|     D013|  Chennai|       10.0|260.0|15.0|2025-08-08 09:05:00|\n",
            "|   1006|    R005|     D012|     Pune|        2.2| 70.0| 0.0|2025-08-08 09:10:00|\n",
            "|   1007|    R006|     D011|Hyderabad|        5.0|120.0|15.0|2025-08-08 09:20:00|\n",
            "|   1001|    R001|     D010|Bengaluru|       12.4|320.0|20.0|2025-08-08 08:05:00|\n",
            "|   1002|    R002|     D011|Hyderabad|        6.2|150.0|10.0|2025-08-08 08:15:00|\n",
            "|   1003|    R003|     D012|     Pune|        3.5| 90.0| 0.0|2025-08-08 08:20:00|\n",
            "+-------+--------+---------+---------+-----------+-----+----+-------------------+\n",
            "\n"
          ]
        }
      ]
    },
    {
      "cell_type": "markdown",
      "source": [
        "# 6) Gold View (Join & KPIs)"
      ],
      "metadata": {
        "id": "xu-EcE5JGr6f"
      }
    },
    {
      "cell_type": "code",
      "source": [
        "gold_df=delta_trips.toDF().join(drivers,\"driver_id\")\n",
        "gold_view=gold_df.withColumn(\"total_amount\",F.col(\"fare\")+F.col(\"tip\")).select(\"trip_id\",\"city\",\"driver_name\",\"rating\",\"distance_km\",\"total_amount\",\"ts\")\n",
        "gold_view.show()"
      ],
      "metadata": {
        "colab": {
          "base_uri": "https://localhost:8080/"
        },
        "id": "pu-HZMdbGv0g",
        "outputId": "3c4181f2-95af-4782-e228-3b1ee74d9486"
      },
      "execution_count": 60,
      "outputs": [
        {
          "output_type": "stream",
          "name": "stdout",
          "text": [
            "+-------+---------+-----------+------+-----------+------------+-------------------+\n",
            "|trip_id|     city|driver_name|rating|distance_km|total_amount|                 ts|\n",
            "+-------+---------+-----------+------+-----------+------------+-------------------+\n",
            "|   1004|Bengaluru|       Anil|   4.8|       18.9|       530.0|2025-08-08 08:45:00|\n",
            "|   1005|  Chennai|      Meera|   4.9|       10.0|       275.0|2025-08-08 09:05:00|\n",
            "|   1006|     Pune|     Rakesh|   4.4|        2.2|        70.0|2025-08-08 09:10:00|\n",
            "|   1007|Hyderabad|       Sana|   4.6|        5.0|       135.0|2025-08-08 09:20:00|\n",
            "|   1001|Bengaluru|       Anil|   4.8|       12.4|       340.0|2025-08-08 08:05:00|\n",
            "|   1002|Hyderabad|       Sana|   4.6|        6.2|       160.0|2025-08-08 08:15:00|\n",
            "|   1003|     Pune|     Rakesh|   4.4|        3.5|        90.0|2025-08-08 08:20:00|\n",
            "+-------+---------+-----------+------+-----------+------------+-------------------+\n",
            "\n"
          ]
        }
      ]
    },
    {
      "cell_type": "code",
      "source": [
        "from pyspark.sql.functions import sum as _sum,avg\n",
        "city_wise=gold_view.groupBy(\"city\").agg(_sum(\"total_amount\").alias(\"total_amount\"),avg(\"rating\").alias(\"average_driver_rating\"))\n",
        "city_wise.show()\n",
        "driver_wise=gold_view.groupBy(\"driver_name\").agg(count(\"*\").alias(\"total_trips\"),_sum(\"total_amount\").alias(\"total_amount\"))\n",
        "driver_wise.orderBy(desc(\"total_trips\")).show(3)"
      ],
      "metadata": {
        "colab": {
          "base_uri": "https://localhost:8080/"
        },
        "id": "0E4JaABEKAEg",
        "outputId": "d8bd54ff-4485-4e3d-dbe2-d18853653566"
      },
      "execution_count": 65,
      "outputs": [
        {
          "output_type": "stream",
          "name": "stdout",
          "text": [
            "+---------+------------+---------------------+\n",
            "|     city|total_amount|average_driver_rating|\n",
            "+---------+------------+---------------------+\n",
            "|  Chennai|       275.0|                  4.9|\n",
            "|     Pune|       160.0|                  4.4|\n",
            "|Bengaluru|       870.0|                  4.8|\n",
            "|Hyderabad|       295.0|                  4.6|\n",
            "+---------+------------+---------------------+\n",
            "\n",
            "+-----------+-----------+------------+\n",
            "|driver_name|total_trips|total_amount|\n",
            "+-----------+-----------+------------+\n",
            "|     Rakesh|          2|       160.0|\n",
            "|       Sana|          2|       295.0|\n",
            "|       Anil|          2|       870.0|\n",
            "+-----------+-----------+------------+\n",
            "only showing top 3 rows\n",
            "\n"
          ]
        }
      ]
    },
    {
      "cell_type": "markdown",
      "source": [
        "#7) Time Travel & History"
      ],
      "metadata": {
        "id": "fGWB72nOL2CI"
      }
    },
    {
      "cell_type": "code",
      "source": [
        "delta_trips.history().show(truncate=False)"
      ],
      "metadata": {
        "colab": {
          "base_uri": "https://localhost:8080/"
        },
        "id": "Fu0kx10yL4-m",
        "outputId": "32be1c4c-b4f9-4048-fd97-6ee0ef92fc49"
      },
      "execution_count": 66,
      "outputs": [
        {
          "output_type": "stream",
          "name": "stdout",
          "text": [
            "+-------+-----------------------+------+--------+---------+-----------------------------------------------------------------------------------------------------------------------------------------------------------------------------------------+----+--------+---------+-----------+--------------+-------------+--------------------------------------------------------------------------------------------------------------------------------------------------------------------------------------------------------------------------------------------------------------------------------------------------------------------------------------------------------------------------------------------------------------------------------------------------------------------------------------------------------------------------------------------------------------------------------------------------------------------------------------------------------+------------+-----------------------------------+\n",
            "|version|timestamp              |userId|userName|operation|operationParameters                                                                                                                                                                      |job |notebook|clusterId|readVersion|isolationLevel|isBlindAppend|operationMetrics                                                                                                                                                                                                                                                                                                                                                                                                                                                                                                                                                                                                                                        |userMetadata|engineInfo                         |\n",
            "+-------+-----------------------+------+--------+---------+-----------------------------------------------------------------------------------------------------------------------------------------------------------------------------------------+----+--------+---------+-----------+--------------+-------------+--------------------------------------------------------------------------------------------------------------------------------------------------------------------------------------------------------------------------------------------------------------------------------------------------------------------------------------------------------------------------------------------------------------------------------------------------------------------------------------------------------------------------------------------------------------------------------------------------------------------------------------------------------+------------+-----------------------------------+\n",
            "|2      |2025-08-14 10:22:45.717|NULL  |NULL    |MERGE    |{predicate -> [\"(trip_id#10332 = trip_id#12030)\"], matchedPredicates -> [{\"actionType\":\"update\"}], notMatchedPredicates -> [{\"actionType\":\"insert\"}], notMatchedBySourcePredicates -> []}|NULL|NULL    |NULL     |1          |Serializable  |false        |{numTargetRowsCopied -> 2, numTargetRowsDeleted -> 0, numTargetFilesAdded -> 1, numTargetBytesAdded -> 2354, numTargetBytesRemoved -> 2268, numTargetDeletionVectorsAdded -> 0, numTargetRowsMatchedUpdated -> 1, executionTimeMs -> 5671, numTargetRowsInserted -> 1, numTargetRowsMatchedDeleted -> 0, numTargetDeletionVectorsUpdated -> 0, scanTimeMs -> 2941, numTargetRowsUpdated -> 1, numOutputRows -> 4, numTargetDeletionVectorsRemoved -> 0, numTargetRowsNotMatchedBySourceUpdated -> 0, numTargetChangeFilesAdded -> 0, numSourceRows -> 2, numTargetFilesRemoved -> 1, numTargetRowsNotMatchedBySourceDeleted -> 0, rewriteTimeMs -> 1920}|NULL        |Apache-Spark/3.5.1 Delta-Lake/3.2.0|\n",
            "|1      |2025-08-14 10:14:51.496|NULL  |NULL    |UPDATE   |{predicate -> [\"((city#10335 = Bengaluru) AND (distance_km#10336 > 15.0))\"]}                                                                                                             |NULL|NULL    |NULL     |0          |Serializable  |false        |{numRemovedFiles -> 1, numRemovedBytes -> 2268, numCopiedRows -> 2, numDeletionVectorsAdded -> 0, numDeletionVectorsRemoved -> 0, numAddedChangeFiles -> 0, executionTimeMs -> 4759, numDeletionVectorsUpdated -> 0, scanTimeMs -> 3054, numAddedFiles -> 1, numUpdatedRows -> 1, numAddedBytes -> 2268, rewriteTimeMs -> 1702}                                                                                                                                                                                                                                                                                                                         |NULL        |Apache-Spark/3.5.1 Delta-Lake/3.2.0|\n",
            "|0      |2025-08-14 09:02:44.724|NULL  |NULL    |WRITE    |{mode -> Overwrite, partitionBy -> []}                                                                                                                                                   |NULL|NULL    |NULL     |NULL       |Serializable  |false        |{numFiles -> 2, numOutputRows -> 6, numOutputBytes -> 4536}                                                                                                                                                                                                                                                                                                                                                                                                                                                                                                                                                                                             |NULL        |Apache-Spark/3.5.1 Delta-Lake/3.2.0|\n",
            "+-------+-----------------------+------+--------+---------+-----------------------------------------------------------------------------------------------------------------------------------------------------------------------------------------+----+--------+---------+-----------+--------------+-------------+--------------------------------------------------------------------------------------------------------------------------------------------------------------------------------------------------------------------------------------------------------------------------------------------------------------------------------------------------------------------------------------------------------------------------------------------------------------------------------------------------------------------------------------------------------------------------------------------------------------------------------------------------------+------------+-----------------------------------+\n",
            "\n"
          ]
        }
      ]
    },
    {
      "cell_type": "code",
      "source": [
        "old=spark.read.format(\"delta\").option(\"versionAsOf\",0).load(TRIPS_PATH)\n",
        "old.head()\n",
        "delta_trips.toDF().head()\n",
        "print(\"count of old:\",old.count())\n",
        "print(\"count of new:\",delta_trips.toDF().count())"
      ],
      "metadata": {
        "colab": {
          "base_uri": "https://localhost:8080/"
        },
        "id": "jn_7sIw2MHf2",
        "outputId": "6e092176-5245-4c9f-f2ca-1cbb1565a807"
      },
      "execution_count": 71,
      "outputs": [
        {
          "output_type": "stream",
          "name": "stdout",
          "text": [
            "count of old: 6\n",
            "count of new: 7\n"
          ]
        }
      ]
    },
    {
      "cell_type": "markdown",
      "source": [
        "# 8) Partitioned Rewrite (Performance)"
      ],
      "metadata": {
        "id": "r7k7jk30NXAG"
      }
    },
    {
      "cell_type": "code",
      "source": [
        "partitoned_path=f\"{BASE}/trips_partitioned\"\n",
        "delta_trips.toDF().write.format(\"delta\").mode(\"overwrite\").partitionBy(\"city\").save(partitoned_path)\n"
      ],
      "metadata": {
        "id": "-g9SgDN9NY1k"
      },
      "execution_count": 72,
      "outputs": []
    },
    {
      "cell_type": "code",
      "source": [
        "import os\n",
        "import time\n",
        "files=os.listdir(partitoned_path)\n",
        "print(files)\n",
        "start_time = time.time()\n",
        "bengaluru_df = spark.read.format(\"delta\").load(partitoned_path).filter(\"city = 'Bengaluru'\")\n",
        "bengaluru_df.show()\n",
        "end_time = time.time()\n",
        "\n",
        "print(f\"Read time for city='Bengaluru': {end_time - start_time:.4f} seconds\")\n",
        "\n",
        "start_time = time.time()\n",
        "bengaluru_unpart = spark.read.format(\"delta\").load(TRIPS_PATH ).filter(\"city = 'Bengaluru'\").count()\n",
        "end_time = time.time()\n",
        "print(f\"Unpartitioned read time: {end_time - start_time:.4f} seconds (Rows: {bengaluru_unpart})\")"
      ],
      "metadata": {
        "colab": {
          "base_uri": "https://localhost:8080/"
        },
        "id": "FHy6rdaVOKDE",
        "outputId": "b1a035af-cb38-43c9-a0b0-b9478d3918d5"
      },
      "execution_count": 80,
      "outputs": [
        {
          "output_type": "stream",
          "name": "stdout",
          "text": [
            "['_delta_log', 'city=Chennai', 'city=Hyderabad', 'city=Bengaluru', 'city=Pune']\n",
            "+-------+--------+---------+---------+-----------+-----+----+-------------------+\n",
            "|trip_id|rider_id|driver_id|     city|distance_km| fare| tip|                 ts|\n",
            "+-------+--------+---------+---------+-----------+-----+----+-------------------+\n",
            "|   1001|    R001|     D010|Bengaluru|       12.4|320.0|20.0|2025-08-08 08:05:00|\n",
            "|   1004|    R001|     D010|Bengaluru|       18.9|500.0|30.0|2025-08-08 08:45:00|\n",
            "+-------+--------+---------+---------+-----------+-----+----+-------------------+\n",
            "\n",
            "Read time for city='Bengaluru': 1.1957 seconds\n",
            "Unpartitioned read time: 1.8264 seconds (Rows: 2)\n"
          ]
        }
      ]
    },
    {
      "cell_type": "markdown",
      "source": [
        "# 9) Incremental Load Simulation"
      ],
      "metadata": {
        "id": "WbKSep9vP6kV"
      }
    },
    {
      "cell_type": "code",
      "source": [
        "batch_data = [\n",
        "    (1008,\"R007\",\"D013\",\"Mumbai\", 12.0, 300.0,  20.0,datetime(2025,8,8,8,33,0)),\n",
        "    (1009,\"R008\",\"D010\",\"Mumbai\", 15.0, 400.0,  25.0, datetime(2025,8,8,9,55,0)),\n",
        "]\n",
        "update_df=spark.createDataFrame(batch_data,schema=trip_schema)\n",
        "update_df.write.format(\"delta\").mode(\"append\").save(TRIPS_PATH)\n",
        "\n",
        "recheck=spark.read.format(\"delta\").load(TRIPS_PATH)\n",
        "city_wise_recheck=recheck.groupBy(\"city\").agg(F.sum(\"fare\").alias(\"total_revenue\"))\n",
        "city_wise_recheck.show()"
      ],
      "metadata": {
        "colab": {
          "base_uri": "https://localhost:8080/"
        },
        "id": "u5UEWJJKP97m",
        "outputId": "59160817-020b-4091-e4a8-8ffbc9267cae"
      },
      "execution_count": 85,
      "outputs": [
        {
          "output_type": "stream",
          "name": "stdout",
          "text": [
            "+---------+-------------+\n",
            "|     city|total_revenue|\n",
            "+---------+-------------+\n",
            "|  Chennai|        260.0|\n",
            "|   Mumbai|       2100.0|\n",
            "|     Pune|        160.0|\n",
            "|Bengaluru|        820.0|\n",
            "|Hyderabad|        270.0|\n",
            "+---------+-------------+\n",
            "\n"
          ]
        }
      ]
    },
    {
      "cell_type": "markdown",
      "source": [
        "#10) Simple Streaming (File Stream → Console)"
      ],
      "metadata": {
        "id": "TgEGHRZ5SKlp"
      }
    },
    {
      "cell_type": "code",
      "source": [
        "from threading import Thread\n",
        "import time\n",
        "\n",
        "\n",
        "stream_query = (\n",
        "    spark.readStream.format(\"delta\").load(TRIPS_PATH)\n",
        "        .writeStream\n",
        "        .format(\"memory\")\n",
        "        .queryName(\"trip_stream\")\n",
        "        .outputMode(\"append\")\n",
        "        .trigger(processingTime='3 seconds')\n",
        "        .start()\n",
        ")\n",
        "\n",
        "\n",
        "time.sleep(5)\n",
        "\n",
        "\n",
        "extra_batch = [\n",
        "    (1012,\"R020\",\"D011\",\"Mumbai\", 7.0, 180.0, 15.0, datetime(2025,8,8,8,10,0))\n",
        "]\n",
        "extra_df = spark.createDataFrame(extra_batch, schema=trip_schema)\n",
        "extra_df.write.format(\"delta\").mode(\"append\").save(TRIPS_PATH)\n",
        "\n",
        "\n",
        "time.sleep(5)\n",
        "\n",
        "spark.sql(\"SELECT * FROM trip_stream ORDER BY ts DESC\").show()\n",
        "\n",
        "\n",
        "stream_query.stop()\n"
      ],
      "metadata": {
        "colab": {
          "base_uri": "https://localhost:8080/"
        },
        "id": "Q_LmO3NzSNKw",
        "outputId": "b4bc5e55-136a-4aa7-ae7c-a114ca24301c"
      },
      "execution_count": 86,
      "outputs": [
        {
          "output_type": "stream",
          "name": "stdout",
          "text": [
            "+-------+--------+---------+---------+-----------+-----+----+-------------------+\n",
            "|trip_id|rider_id|driver_id|     city|distance_km| fare| tip|                 ts|\n",
            "+-------+--------+---------+---------+-----------+-----+----+-------------------+\n",
            "|   1009|    R008|     D010|   Mumbai|       15.0|400.0|25.0|2025-08-08 09:55:00|\n",
            "|   1009|    R008|     D010|   Mumbai|       15.0|400.0|25.0|2025-08-08 09:55:00|\n",
            "|   1009|    R008|     D010|   Mumbai|       15.0|400.0|25.0|2025-08-08 09:55:00|\n",
            "|   1007|    R006|     D011|Hyderabad|        5.0|120.0|15.0|2025-08-08 09:20:00|\n",
            "|   1006|    R005|     D012|     Pune|        2.2| 70.0| 0.0|2025-08-08 09:10:00|\n",
            "|   1005|    R004|     D013|  Chennai|       10.0|260.0|15.0|2025-08-08 09:05:00|\n",
            "|   1004|    R001|     D010|Bengaluru|       18.9|500.0|30.0|2025-08-08 08:45:00|\n",
            "|   1008|    R007|     D013|   Mumbai|       12.0|300.0|20.0|2025-08-08 08:33:00|\n",
            "|   1008|    R007|     D013|   Mumbai|       12.0|300.0|20.0|2025-08-08 08:33:00|\n",
            "|   1008|    R007|     D013|   Mumbai|       12.0|300.0|20.0|2025-08-08 08:33:00|\n",
            "|   1003|    R003|     D012|     Pune|        3.5| 90.0| 0.0|2025-08-08 08:20:00|\n",
            "|   1002|    R002|     D011|Hyderabad|        6.2|150.0|10.0|2025-08-08 08:15:00|\n",
            "|   1012|    R020|     D011|   Mumbai|        7.0|180.0|15.0|2025-08-08 08:10:00|\n",
            "|   1001|    R001|     D010|Bengaluru|       12.4|320.0|20.0|2025-08-08 08:05:00|\n",
            "+-------+--------+---------+---------+-----------+-----+----+-------------------+\n",
            "\n"
          ]
        }
      ]
    },
    {
      "cell_type": "markdown",
      "source": [
        "# 11) Visualization"
      ],
      "metadata": {
        "id": "1WTMTY2eTiGg"
      }
    },
    {
      "cell_type": "code",
      "source": [
        "city_w=city_wise.toPandas()\n",
        "import matplotlib.pyplot as plt\n",
        "plt.bar(city_w[\"city\"],city_w['total_amount'])\n",
        "plt.xlabel(\"City\")\n",
        "plt.ylabel(\"Total Revenue\")\n",
        "plt.title(\"Total Revenue by City\")\n",
        "plt.show()"
      ],
      "metadata": {
        "colab": {
          "base_uri": "https://localhost:8080/",
          "height": 472
        },
        "id": "Pk3rWI9VTlDR",
        "outputId": "453a5dfb-a18a-492c-ddcf-ed2364877167"
      },
      "execution_count": 88,
      "outputs": [
        {
          "output_type": "display_data",
          "data": {
            "text/plain": [
              "<Figure size 640x480 with 1 Axes>"
            ],
            "image/png": "[encoded data removed]"
          },
          "metadata": {}
        }
      ]
    },
    {
      "cell_type": "code",
      "source": [
        "\n",
        "hourly_revenue_pd = gold_view.withColumn(\"hour\", F.hour(\"ts\")).groupBy(\"hour\").agg(F.sum(\"total_amount\").alias(\"total_revenue\")).toPandas()\n",
        "plt.plot(hourly_revenue_pd[\"hour\"], hourly_revenue_pd[\"total_revenue\"], marker='o')\n",
        "plt.xlabel(\"Hour\")\n",
        "plt.ylabel(\"Total Revenue\")\n",
        "plt.title(\"Hourly Revenue\")\n",
        "plt.show()"
      ],
      "metadata": {
        "colab": {
          "base_uri": "https://localhost:8080/",
          "height": 472
        },
        "id": "jXOUtoppULAa",
        "outputId": "783f1cd3-c809-4784-e159-d25d9c9f984b"
      },
      "execution_count": 96,
      "outputs": [
        {
          "output_type": "display_data",
          "data": {
            "text/plain": [
              "<Figure size 640x480 with 1 Axes>"
            ],
            "image/png": "[encoded data removed]"
          },
          "metadata": {}
        }
      ]
    },
    {
      "cell_type": "markdown",
      "source": [
        "## 12) MANAGED vs UNMANAGED CLEANUP"
      ],
      "metadata": {
        "id": "04QLlnsyVtyl"
      }
    },
    {
      "cell_type": "code",
      "source": [
        "spark.sql(\"DROP TABLE trips_managed\")\n",
        "spark.sql(\"DROP TABLE drivers_ext\")"
      ],
      "metadata": {
        "colab": {
          "base_uri": "https://localhost:8080/"
        },
        "collapsed": true,
        "id": "r7dPQLLaVv-R",
        "outputId": "2014397b-1437-4203-8b3d-bcb88580d43e"
      },
      "execution_count": 104,
      "outputs": [
        {
          "output_type": "execute_result",
          "data": {
            "text/plain": [
              "DataFrame[]"
            ]
          },
          "metadata": {},
          "execution_count": 104
        }
      ]
    },
    {
      "cell_type": "code",
      "source": [
        "import os\n",
        "print(\"Managed path exists after drop \", os.path.exists(\"/content/spark-warehouse/trips_managed\"))\n",
        "print(\"Unmanaged path exists after drop \", os.path.exists(DRIVERS_PATH))"
      ],
      "metadata": {
        "colab": {
          "base_uri": "https://localhost:8080/"
        },
        "id": "f6gPId3AV49X",
        "outputId": "7bdb797a-934e-459c-98eb-3b354c323a80"
      },
      "execution_count": 105,
      "outputs": [
        {
          "output_type": "stream",
          "name": "stdout",
          "text": [
            "Managed path exists after drop  False\n",
            "Unmanaged path exists after drop  True\n"
          ]
        }
      ]
    },
    {
      "cell_type": "markdown",
      "source": [
        "# 13) CONSTRAINT / QUALITY CHECK"
      ],
      "metadata": {
        "id": "HIcqpeocXdip"
      }
    },
    {
      "cell_type": "code",
      "source": [
        "bad_data = [(1011,\"R010\",\"D010\",\"Bengaluru\", 10.0, 300.0, -5.0, datetime(2025,8,10,4,27,0))]\n",
        "bad_df = spark.createDataFrame(bad_data, schema=trip_schema)\n",
        "if (bad_df.filter('tip<0')):\n",
        "  print(\"incorrect tip and its not appending to the file:\")\n",
        "else:\n",
        "  print(\"its a valid data\")\n",
        "  bad_df.write.format(\"delta\").mode(\"append\").save(TRIPS_PATH)"
      ],
      "metadata": {
        "colab": {
          "base_uri": "https://localhost:8080/"
        },
        "id": "omQ0n46dXf6D",
        "outputId": "ee71078d-5119-4bf6-b847-4523a49b15f3"
      },
      "execution_count": 112,
      "outputs": [
        {
          "output_type": "stream",
          "name": "stdout",
          "text": [
            "incorrect tip and its not appending to the file:\n"
          ]
        }
      ]
    },
    {
      "cell_type": "markdown",
      "source": [
        "# 14) CONVERT PARQUET → DELTA\n"
      ],
      "metadata": {
        "id": "qvvzgSGmaeiw"
      }
    },
    {
      "cell_type": "code",
      "source": [
        "PARQUET_PATH = f\"{BASE}/trips_parquet\"\n",
        "\n",
        "subset_df = spark.read.format(\"delta\").load(TRIPS_PATH).limit(3)\n",
        "subset_df.write.mode(\"overwrite\").parquet(PARQUET_PATH)\n",
        "\n",
        "print(\"Parquet files created at:\", PARQUET_PATH)\n",
        "!ls -R {PARQUET_PATH}"
      ],
      "metadata": {
        "colab": {
          "base_uri": "https://localhost:8080/"
        },
        "id": "-vOSfzAaagjZ",
        "outputId": "86b4c605-5461-4c55-f3c9-9267e90f1c89"
      },
      "execution_count": 113,
      "outputs": [
        {
          "output_type": "stream",
          "name": "stdout",
          "text": [
            "Parquet files created at: /tmp/delta/ride_hailing/trips_parquet\n",
            "/tmp/delta/ride_hailing/trips_parquet:\n",
            "part-00000-63af47f5-fe03-4bdc-a8c2-6c7fb479675b-c000.snappy.parquet  _SUCCESS\n"
          ]
        }
      ]
    },
    {
      "cell_type": "code",
      "source": [
        "spark.sql(f\"convert to delta parquet.`{PARQUET_PATH}`\")"
      ],
      "metadata": {
        "colab": {
          "base_uri": "https://localhost:8080/"
        },
        "id": "8-4ZLgOAbQVX",
        "outputId": "4f9e6582-362d-41b3-ec9c-32a458f35460"
      },
      "execution_count": 114,
      "outputs": [
        {
          "output_type": "execute_result",
          "data": {
            "text/plain": [
              "DataFrame[]"
            ]
          },
          "metadata": {},
          "execution_count": 114
        }
      ]
    },
    {
      "cell_type": "code",
      "source": [
        "print(\"\\nAfter Conversion to Delta:\")\n",
        "spark.read.format(\"delta\").load(PARQUET_PATH).show()\n",
        "\n",
        "\n",
        "\n",
        "delta_parquet = DeltaTable.forPath(spark, PARQUET_PATH)\n",
        "\n",
        "# New batch with:\n",
        "# - one existing trip_id (update fare)\n",
        "# - one new trip_id (insert)\n",
        "merge_data = [\n",
        "    (1001,\"R001\",\"D010\",\"Bengaluru\", 12.4, 350.0,  25.0, datetime(2025,9,9,9,45,0)),\n",
        "    (2001,\"R050\",\"D013\",\"Chennai\",    8.0, 200.0,  10.0, datetime(2025,9,9,10,45,0))\n",
        "]\n",
        "merge_df = spark.createDataFrame(merge_data, schema=trip_schema)\n",
        "\n",
        "delta_parquet.alias(\"t\").merge(\n",
        "    merge_df.alias(\"n\"),\n",
        "    \"t.trip_id = n.trip_id\"\n",
        ").whenMatchedUpdateAll() \\\n",
        " .whenNotMatchedInsertAll() \\\n",
        " .execute()\n",
        "\n",
        "print(\"\\nAfter MERGE:\")\n",
        "delta_parquet.toDF().show()\n",
        "\n",
        "\n",
        "print(\"\\nHistory of Converted Delta Table:\")\n",
        "delta_parquet.history().show()\n",
        "\n",
        "print(\"\\nVersion 0 (Before MERGE):\")\n",
        "spark.read.format(\"delta\").option(\"versionAsOf\", 0).load(PARQUET_PATH).show()\n",
        "\n",
        "print(\"\\nLatest Version (After MERGE):\")\n",
        "spark.read.format(\"delta\").load(PARQUET_PATH).show()"
      ],
      "metadata": {
        "colab": {
          "base_uri": "https://localhost:8080/"
        },
        "id": "bPGq3JG1bZSg",
        "outputId": "406dc477-80be-47e8-b28d-cf09d8581c07"
      },
      "execution_count": 116,
      "outputs": [
        {
          "output_type": "stream",
          "name": "stdout",
          "text": [
            "\n",
            "After Conversion to Delta:\n",
            "+-------+--------+---------+---------+-----------+-----+----+-------------------+\n",
            "|trip_id|rider_id|driver_id|     city|distance_km| fare| tip|                 ts|\n",
            "+-------+--------+---------+---------+-----------+-----+----+-------------------+\n",
            "|   1001|    R001|     D010|Bengaluru|       12.4|320.0|20.0|2025-08-08 08:05:00|\n",
            "|   1002|    R002|     D011|Hyderabad|        6.2|150.0|10.0|2025-08-08 08:15:00|\n",
            "|   1003|    R003|     D012|     Pune|        3.5| 90.0| 0.0|2025-08-08 08:20:00|\n",
            "+-------+--------+---------+---------+-----------+-----+----+-------------------+\n",
            "\n",
            "\n",
            "After MERGE:\n",
            "+-------+--------+---------+---------+-----------+-----+----+-------------------+\n",
            "|trip_id|rider_id|driver_id|     city|distance_km| fare| tip|                 ts|\n",
            "+-------+--------+---------+---------+-----------+-----+----+-------------------+\n",
            "|   1001|    R001|     D010|Bengaluru|       12.4|350.0|25.0|2025-09-09 09:45:00|\n",
            "|   1002|    R002|     D011|Hyderabad|        6.2|150.0|10.0|2025-08-08 08:15:00|\n",
            "|   1003|    R003|     D012|     Pune|        3.5| 90.0| 0.0|2025-08-08 08:20:00|\n",
            "|   2001|    R050|     D013|  Chennai|        8.0|200.0|10.0|2025-09-09 10:45:00|\n",
            "+-------+--------+---------+---------+-----------+-----+----+-------------------+\n",
            "\n",
            "\n",
            "History of Converted Delta Table:\n",
            "+-------+--------------------+------+--------+---------+--------------------+----+--------+---------+-----------+--------------+-------------+--------------------+------------+--------------------+\n",
            "|version|           timestamp|userId|userName|operation| operationParameters| job|notebook|clusterId|readVersion|isolationLevel|isBlindAppend|    operationMetrics|userMetadata|          engineInfo|\n",
            "+-------+--------------------+------+--------+---------+--------------------+----+--------+---------+-----------+--------------+-------------+--------------------+------------+--------------------+\n",
            "|      1|2025-08-14 11:55:...|  NULL|    NULL|    MERGE|{predicate -> [\"(...|NULL|    NULL|     NULL|          0|  Serializable|        false|{numTargetRowsCop...|        NULL|Apache-Spark/3.5....|\n",
            "|      0|2025-08-14 11:53:...|  NULL|    NULL|  CONVERT|{numFiles -> 1, p...|NULL|    NULL|     NULL|         -1|  Serializable|        false|{numConvertedFile...|        NULL|Apache-Spark/3.5....|\n",
            "+-------+--------------------+------+--------+---------+--------------------+----+--------+---------+-----------+--------------+-------------+--------------------+------------+--------------------+\n",
            "\n",
            "\n",
            "Version 0 (Before MERGE):\n",
            "+-------+--------+---------+---------+-----------+-----+----+-------------------+\n",
            "|trip_id|rider_id|driver_id|     city|distance_km| fare| tip|                 ts|\n",
            "+-------+--------+---------+---------+-----------+-----+----+-------------------+\n",
            "|   1001|    R001|     D010|Bengaluru|       12.4|320.0|20.0|2025-08-08 08:05:00|\n",
            "|   1002|    R002|     D011|Hyderabad|        6.2|150.0|10.0|2025-08-08 08:15:00|\n",
            "|   1003|    R003|     D012|     Pune|        3.5| 90.0| 0.0|2025-08-08 08:20:00|\n",
            "+-------+--------+---------+---------+-----------+-----+----+-------------------+\n",
            "\n",
            "\n",
            "Latest Version (After MERGE):\n",
            "+-------+--------+---------+---------+-----------+-----+----+-------------------+\n",
            "|trip_id|rider_id|driver_id|     city|distance_km| fare| tip|                 ts|\n",
            "+-------+--------+---------+---------+-----------+-----+----+-------------------+\n",
            "|   1001|    R001|     D010|Bengaluru|       12.4|350.0|25.0|2025-09-09 09:45:00|\n",
            "|   1002|    R002|     D011|Hyderabad|        6.2|150.0|10.0|2025-08-08 08:15:00|\n",
            "|   1003|    R003|     D012|     Pune|        3.5| 90.0| 0.0|2025-08-08 08:20:00|\n",
            "|   2001|    R050|     D013|  Chennai|        8.0|200.0|10.0|2025-09-09 10:45:00|\n",
            "+-------+--------+---------+---------+-----------+-----+----+-------------------+\n",
            "\n"
          ]
        }
      ]
    },
    {
      "cell_type": "markdown",
      "source": [
        "#  15) Bonus KPI Dashboard (Notebook Display)"
      ],
      "metadata": {
        "id": "D7kJmLpqb72q"
      }
    },
    {
      "cell_type": "code",
      "source": [
        "import matplotlib.pyplot as plt\n",
        "import pandas as pd\n",
        "\n",
        "trips_df_latest = spark.read.format(\"delta\").load(TRIPS_PATH)\n",
        "drivers_df_latest = spark.read.format(\"delta\").load(DRIVERS_PATH)\n",
        "\n",
        "gold_df = trips_df_latest.join(drivers_df_latest, \"driver_id\") .withColumn(\"total_amount\", F.col(\"fare\") + F.col(\"tip\")) .select(\"trip_id\", \"city\", \"driver_name\", \"rating\", \"distance_km\", \"total_amount\", \"ts\")\n",
        "\n",
        "\n",
        "total_revenue = gold_df.agg(F.sum(\"total_amount\")).collect()[0][0]\n",
        "print(f\" Total Revenue: {total_revenue:.2f}\")\n",
        "\n",
        "trips_per_city_pd = gold_df.groupBy(\"city\").count().toPandas()\n",
        "plt.figure(figsize=(6,4))\n",
        "plt.bar(trips_per_city_pd[\"city\"], trips_per_city_pd[\"count\"], color=\"skyblue\")\n",
        "plt.title(\"Trips per City\")\n",
        "plt.xlabel(\"City\")\n",
        "plt.ylabel(\"Number of Trips\")\n",
        "plt.show()\n",
        "\n",
        "\n",
        "top_drivers_pd = gold_df.groupBy(\"driver_name\") .agg(F.sum(\"total_amount\").alias(\"total_revenue\")) .orderBy(F.desc(\"total_revenue\")).toPandas()\n",
        "plt.figure(figsize=(6,4))\n",
        "plt.bar(top_drivers_pd[\"driver_name\"], top_drivers_pd[\"total_revenue\"], color=\"orange\")\n",
        "plt.title(\"Top Drivers by Revenue\")\n",
        "plt.xlabel(\"Driver\")\n",
        "plt.ylabel(\"Revenue\")\n",
        "plt.show()\n",
        "\n",
        "\n",
        "revenue_by_hour_pd = gold_df.withColumn(\"hour\", F.hour(\"ts\")) .groupBy(\"hour\") .agg(F.sum(\"total_amount\").alias(\"total_revenue\")) .orderBy(\"hour\") .toPandas()\n",
        "plt.figure(figsize=(6,4))\n",
        "plt.plot(revenue_by_hour_pd[\"hour\"], revenue_by_hour_pd[\"total_revenue\"], marker='o', color=\"green\")\n",
        "plt.title(\"Revenue by Hour\")\n",
        "plt.xlabel(\"Hour of Day\")\n",
        "plt.ylabel(\"Revenue\")\n",
        "plt.grid(True)\n",
        "plt.show()\n"
      ],
      "metadata": {
        "colab": {
          "base_uri": "https://localhost:8080/",
          "height": 1000
        },
        "id": "ih9xfL0Qb97p",
        "outputId": "49ceb8c2-542c-492d-96de-587cab0558a1"
      },
      "execution_count": 117,
      "outputs": [
        {
          "output_type": "stream",
          "name": "stdout",
          "text": [
            " Total Revenue: 4030.00\n"
          ]
        },
        {
          "output_type": "display_data",
          "data": {
            "text/plain": [
              "<Figure size 600x400 with 1 Axes>"
            ],
            "image/png": "[encoded data removed]"
          },
          "metadata": {}
        },
        {
          "output_type": "display_data",
          "data": {
            "text/plain": [
              "<Figure size 600x400 with 1 Axes>"
            ],
            "image/png": "[encoded data removed]"
          },
          "metadata": {}
        },
        {
          "output_type": "display_data",
          "data": {
            "text/plain": [
              "<Figure size 600x400 with 1 Axes>"
            ],
            "image/png": "[encoded data removed]"
          },
          "metadata": {}
        }
      ]
    }
  ]
}