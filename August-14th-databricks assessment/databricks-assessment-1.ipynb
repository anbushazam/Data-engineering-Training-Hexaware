{
  "nbformat": 4,
  "nbformat_minor": 0,
  "metadata": {
    "colab": {
      "provenance": []
    },
    "kernelspec": {
      "name": "python3",
      "display_name": "Python 3"
    },
    "language_info": {
      "name": "python"
    }
  },
  "cells": [
    {
      "cell_type": "code",
      "execution_count": 1,
      "metadata": {
        "colab": {
          "base_uri": "https://localhost:8080/",
          "height": 237
        },
        "id": "Y36I7ObKon7g",
        "outputId": "81332dc2-dc8c-45a6-ec9b-3f73b9e49fc1"
      },
      "outputs": [
        {
          "output_type": "stream",
          "name": "stdout",
          "text": [
            "Spark and Delta Lake are ready!\n"
          ]
        },
        {
          "output_type": "execute_result",
          "data": {
            "text/plain": [
              "<pyspark.sql.session.SparkSession at 0x7f7f8d895e90>"
            ],
            "text/html": [
              "\n",
              "            <div>\n",
              "                <p><b>SparkSession - in-memory</b></p>\n",
              "                \n",
              "        <div>\n",
              "            <p><b>SparkContext</b></p>\n",
              "\n",
              "            <p><a href=\"http://756e1c03b3ea:4040\">Spark UI</a></p>\n",
              "\n",
              "            <dl>\n",
              "              <dt>Version</dt>\n",
              "                <dd><code>v3.5.1</code></dd>\n",
              "              <dt>Master</dt>\n",
              "                <dd><code>local[*]</code></dd>\n",
              "              <dt>AppName</dt>\n",
              "                <dd><code>DeltaTutorial</code></dd>\n",
              "            </dl>\n",
              "        </div>\n",
              "        \n",
              "            </div>\n",
              "        "
            ]
          },
          "metadata": {},
          "execution_count": 1
        }
      ],
      "source": [
        "!pip install delta-spark==3.2.0 -q\n",
        "import pyspark\n",
        "from delta import *\n",
        "from pyspark.sql.functions import *\n",
        "\n",
        "# Create a SparkSession with Delta Lake extensions\n",
        "# The '.config(...)' lines are crucial for enabling Delta Lake's features\n",
        "builder = pyspark.sql.SparkSession.builder.appName(\"DeltaTutorial\") \\\n",
        "    .config(\"spark.sql.extensions\", \"io.delta.sql.DeltaSparkSessionExtension\") \\\n",
        "    .config(\"spark.sql.catalog.spark_catalog\", \"org.apache.spark.sql.delta.catalog.DeltaCatalog\")\n",
        "\n",
        "# Get or create the SparkSession\n",
        "spark = configure_spark_with_delta_pip(builder).getOrCreate()\n",
        "\n",
        "print(\"Spark and Delta Lake are ready!\")\n",
        "spark"
      ]
    },
    {
      "cell_type": "code",
      "source": [
        "data = [\n",
        "(1, \"John\", \"Electronics\", 2, 300),\n",
        "(2, \"Sara\", \"Clothing\", 1, 50),\n",
        "(3, \"Mike\", \"Electronics\", 4, 600),\n",
        "(4, \"Nina\", \"Clothing\", 3, 150),\n",
        "]\n",
        "columns = [\"order_id\", \"customer_name\", \"category\", \"quantity\", \"amount\"]\n",
        "df = spark.createDataFrame(data, columns)\n",
        "df.write.format(\"delta\").mode(\"overwrite\").save(\"/tmp/orders_delta\")"
      ],
      "metadata": {
        "id": "eN7cpV-8CMCM"
      },
      "execution_count": 3,
      "outputs": []
    },
    {
      "cell_type": "markdown",
      "source": [
        "# 1.managed vs unmanaged"
      ],
      "metadata": {
        "id": "vKYUbmxZG3b4"
      }
    },
    {
      "cell_type": "code",
      "source": [
        "df.write.format(\"delta\").mode(\"overwrite\").saveAsTable(\"order_managed\")\n",
        "spark.sql(\"CREATE TABLE if not exists  orders_unmanaged USING DELTA LOCATION '/tmp/orders_delta'\").show()"
      ],
      "metadata": {
        "colab": {
          "base_uri": "https://localhost:8080/"
        },
        "id": "Q8PlbxbkCYB0",
        "outputId": "b952e849-eab7-4ff3-a40f-aa3f4e841da2"
      },
      "execution_count": 28,
      "outputs": [
        {
          "output_type": "stream",
          "name": "stdout",
          "text": [
            "++\n",
            "||\n",
            "++\n",
            "++\n",
            "\n"
          ]
        }
      ]
    },
    {
      "cell_type": "code",
      "source": [
        "spark.sql(\"SELECT * FROM order_managed\").show()\n",
        "spark.sql(\"SELECT * FROM orders_unmanaged\").show()\n",
        "spark.sql(\"describe extended order_managed\").show()\n",
        "spark.sql(\"describe extended orders_unmanaged\").show()"
      ],
      "metadata": {
        "colab": {
          "base_uri": "https://localhost:8080/"
        },
        "id": "qKhKL7g7DVYJ",
        "outputId": "a9f73feb-3b58-49ac-cbba-327cb4ad0246"
      },
      "execution_count": 21,
      "outputs": [
        {
          "output_type": "stream",
          "name": "stdout",
          "text": [
            "+--------+-------------+-----------+--------+------+\n",
            "|order_id|customer_name|   category|quantity|amount|\n",
            "+--------+-------------+-----------+--------+------+\n",
            "|       1|         John|Electronics|       2|   300|\n",
            "|       2|         Sara|   Clothing|       1|    50|\n",
            "|       3|         Mike|Electronics|       4|   600|\n",
            "|       4|         Nina|   Clothing|       3|   150|\n",
            "+--------+-------------+-----------+--------+------+\n",
            "\n",
            "+--------+-------------+-----------+--------+------+\n",
            "|order_id|customer_name|   category|quantity|amount|\n",
            "+--------+-------------+-----------+--------+------+\n",
            "|       1|         John|Electronics|       2|   300|\n",
            "|       2|         Sara|   Clothing|       1|    50|\n",
            "|       3|         Mike|Electronics|       4|   600|\n",
            "|       4|         Nina|   Clothing|       3|   150|\n",
            "+--------+-------------+-----------+--------+------+\n",
            "\n",
            "+--------------------+--------------------+-------+\n",
            "|            col_name|           data_type|comment|\n",
            "+--------------------+--------------------+-------+\n",
            "|            order_id|              bigint|   NULL|\n",
            "|       customer_name|              string|   NULL|\n",
            "|            category|              string|   NULL|\n",
            "|            quantity|              bigint|   NULL|\n",
            "|              amount|              bigint|   NULL|\n",
            "|                    |                    |       |\n",
            "|# Detailed Table ...|                    |       |\n",
            "|                Name|spark_catalog.def...|       |\n",
            "|                Type|             MANAGED|       |\n",
            "|            Location|file:/content/spa...|       |\n",
            "|            Provider|               delta|       |\n",
            "|    Table Properties|[delta.minReaderV...|       |\n",
            "+--------------------+--------------------+-------+\n",
            "\n",
            "+--------------------+--------------------+-------+\n",
            "|            col_name|           data_type|comment|\n",
            "+--------------------+--------------------+-------+\n",
            "|            order_id|              bigint|   NULL|\n",
            "|       customer_name|              string|   NULL|\n",
            "|            category|              string|   NULL|\n",
            "|            quantity|              bigint|   NULL|\n",
            "|              amount|              bigint|   NULL|\n",
            "|                    |                    |       |\n",
            "|# Detailed Table ...|                    |       |\n",
            "|                Name|spark_catalog.def...|       |\n",
            "|                Type|            EXTERNAL|       |\n",
            "|            Location|file:/tmp/orders_...|       |\n",
            "|            Provider|               delta|       |\n",
            "|    Table Properties|[delta.minReaderV...|       |\n",
            "+--------------------+--------------------+-------+\n",
            "\n"
          ]
        }
      ]
    },
    {
      "cell_type": "markdown",
      "source": [
        "#  2. CRUD Operations"
      ],
      "metadata": {
        "id": "cOpkQsHlGy93"
      }
    },
    {
      "cell_type": "code",
      "source": [
        "spark.sql(\"select*from order_managed\").show()\n",
        "\n"
      ],
      "metadata": {
        "colab": {
          "base_uri": "https://localhost:8080/"
        },
        "id": "6N-IDMl7Gvbv",
        "outputId": "71078de4-cc11-4197-f2ac-d6473316862d"
      },
      "execution_count": 26,
      "outputs": [
        {
          "output_type": "stream",
          "name": "stdout",
          "text": [
            "+--------+-------------+-----------+--------+------+\n",
            "|order_id|customer_name|   category|quantity|amount|\n",
            "+--------+-------------+-----------+--------+------+\n",
            "|       3|         Mike|Electronics|       4|   600|\n",
            "|       4|         Nina|   Clothing|       3|   150|\n",
            "|       1|         John|Electronics|       2|   300|\n",
            "|       2|         Sara|   Clothing|       1|    50|\n",
            "+--------+-------------+-----------+--------+------+\n",
            "\n"
          ]
        }
      ]
    },
    {
      "cell_type": "code",
      "source": [
        "spark.sql(\"\"\"update order_managed set amount=amount+20 where category='Clothing'\"\"\").show()\n",
        "spark.sql(\"select*from order_managed\").show()"
      ],
      "metadata": {
        "colab": {
          "base_uri": "https://localhost:8080/"
        },
        "id": "LsRD2CSsNhtT",
        "outputId": "d3bdb15c-3e97-4cd4-d8b2-4a92379c766d"
      },
      "execution_count": 30,
      "outputs": [
        {
          "output_type": "stream",
          "name": "stdout",
          "text": [
            "+-----------------+\n",
            "|num_affected_rows|\n",
            "+-----------------+\n",
            "|                2|\n",
            "+-----------------+\n",
            "\n",
            "+--------+-------------+-----------+--------+------+\n",
            "|order_id|customer_name|   category|quantity|amount|\n",
            "+--------+-------------+-----------+--------+------+\n",
            "|       3|         Mike|Electronics|       4|   600|\n",
            "|       4|         Nina|   Clothing|       3|   170|\n",
            "|       1|         John|Electronics|       2|   300|\n",
            "|       2|         Sara|   Clothing|       1|    70|\n",
            "+--------+-------------+-----------+--------+------+\n",
            "\n"
          ]
        }
      ]
    },
    {
      "cell_type": "code",
      "source": [
        "spark.sql(\"\"\"delete from order_managed where quantity<2\"\"\").show()\n",
        "spark.sql(\"select*from order_managed\").show()\n",
        "source=spark.read.table(\"order_managed\")\n"
      ],
      "metadata": {
        "colab": {
          "base_uri": "https://localhost:8080/",
          "height": 634
        },
        "id": "1qa5dBJGOaml",
        "outputId": "6e92ff57-c7b1-47d0-d673-da08e26a75c0"
      },
      "execution_count": 44,
      "outputs": [
        {
          "output_type": "stream",
          "name": "stdout",
          "text": [
            "+-----------------+\n",
            "|num_affected_rows|\n",
            "+-----------------+\n",
            "|                0|\n",
            "+-----------------+\n",
            "\n",
            "+--------+-------------+-----------+--------+------+\n",
            "|order_id|customer_name|   category|quantity|amount|\n",
            "+--------+-------------+-----------+--------+------+\n",
            "|       1|         John|Electronics|       2|   300|\n",
            "|       3|         Mike|Electronics|       4|   600|\n",
            "|       4|         Nina|   Clothing|       3|   170|\n",
            "+--------+-------------+-----------+--------+------+\n",
            "\n"
          ]
        },
        {
          "output_type": "error",
          "ename": "IllegalArgumentException",
          "evalue": "requirement failed: The number of columns doesn't match.\nOld column names (5): order_id, customer_name, category, quantity, amount\nNew column names (0): ",
          "traceback": [
            "\u001b[0;31m---------------------------------------------------------------------------\u001b[0m",
            "\u001b[0;31mIllegalArgumentException\u001b[0m                  Traceback (most recent call last)",
            "\u001b[0;32m/tmp/ipython-input-4160726473.py\u001b[0m in \u001b[0;36m<cell line: 0>\u001b[0;34m()\u001b[0m\n\u001b[1;32m      2\u001b[0m \u001b[0mspark\u001b[0m\u001b[0;34m.\u001b[0m\u001b[0msql\u001b[0m\u001b[0;34m(\u001b[0m\u001b[0;34m\"select*from order_managed\"\u001b[0m\u001b[0;34m)\u001b[0m\u001b[0;34m.\u001b[0m\u001b[0mshow\u001b[0m\u001b[0;34m(\u001b[0m\u001b[0;34m)\u001b[0m\u001b[0;34m\u001b[0m\u001b[0;34m\u001b[0m\u001b[0m\n\u001b[1;32m      3\u001b[0m \u001b[0msource\u001b[0m\u001b[0;34m=\u001b[0m\u001b[0mspark\u001b[0m\u001b[0;34m.\u001b[0m\u001b[0mread\u001b[0m\u001b[0;34m.\u001b[0m\u001b[0mtable\u001b[0m\u001b[0;34m(\u001b[0m\u001b[0;34m\"order_managed\"\u001b[0m\u001b[0;34m)\u001b[0m\u001b[0;34m\u001b[0m\u001b[0;34m\u001b[0m\u001b[0m\n\u001b[0;32m----> 4\u001b[0;31m \u001b[0msource2\u001b[0m\u001b[0;34m=\u001b[0m\u001b[0msource\u001b[0m\u001b[0;34m.\u001b[0m\u001b[0mtoDF\u001b[0m\u001b[0;34m(\u001b[0m\u001b[0;34m)\u001b[0m\u001b[0;34m\u001b[0m\u001b[0;34m\u001b[0m\u001b[0m\n\u001b[0m",
            "\u001b[0;32m/usr/local/lib/python3.11/dist-packages/pyspark/sql/dataframe.py\u001b[0m in \u001b[0;36mtoDF\u001b[0;34m(self, *cols)\u001b[0m\n\u001b[1;32m   5488\u001b[0m                     \u001b[0mmessage_parameters\u001b[0m\u001b[0;34m=\u001b[0m\u001b[0;34m{\u001b[0m\u001b[0;34m\"arg_name\"\u001b[0m\u001b[0;34m:\u001b[0m \u001b[0;34m\"cols\"\u001b[0m\u001b[0;34m,\u001b[0m \u001b[0;34m\"arg_type\"\u001b[0m\u001b[0;34m:\u001b[0m \u001b[0mtype\u001b[0m\u001b[0;34m(\u001b[0m\u001b[0mcol\u001b[0m\u001b[0;34m)\u001b[0m\u001b[0;34m.\u001b[0m\u001b[0m__name__\u001b[0m\u001b[0;34m}\u001b[0m\u001b[0;34m,\u001b[0m\u001b[0;34m\u001b[0m\u001b[0;34m\u001b[0m\u001b[0m\n\u001b[1;32m   5489\u001b[0m                 )\n\u001b[0;32m-> 5490\u001b[0;31m         \u001b[0mjdf\u001b[0m \u001b[0;34m=\u001b[0m \u001b[0mself\u001b[0m\u001b[0;34m.\u001b[0m\u001b[0m_jdf\u001b[0m\u001b[0;34m.\u001b[0m\u001b[0mtoDF\u001b[0m\u001b[0;34m(\u001b[0m\u001b[0mself\u001b[0m\u001b[0;34m.\u001b[0m\u001b[0m_jseq\u001b[0m\u001b[0;34m(\u001b[0m\u001b[0mcols\u001b[0m\u001b[0;34m)\u001b[0m\u001b[0;34m)\u001b[0m\u001b[0;34m\u001b[0m\u001b[0;34m\u001b[0m\u001b[0m\n\u001b[0m\u001b[1;32m   5491\u001b[0m         \u001b[0;32mreturn\u001b[0m \u001b[0mDataFrame\u001b[0m\u001b[0;34m(\u001b[0m\u001b[0mjdf\u001b[0m\u001b[0;34m,\u001b[0m \u001b[0mself\u001b[0m\u001b[0;34m.\u001b[0m\u001b[0msparkSession\u001b[0m\u001b[0;34m)\u001b[0m\u001b[0;34m\u001b[0m\u001b[0;34m\u001b[0m\u001b[0m\n\u001b[1;32m   5492\u001b[0m \u001b[0;34m\u001b[0m\u001b[0m\n",
            "\u001b[0;32m/usr/local/lib/python3.11/dist-packages/py4j/java_gateway.py\u001b[0m in \u001b[0;36m__call__\u001b[0;34m(self, *args)\u001b[0m\n\u001b[1;32m   1320\u001b[0m \u001b[0;34m\u001b[0m\u001b[0m\n\u001b[1;32m   1321\u001b[0m         \u001b[0manswer\u001b[0m \u001b[0;34m=\u001b[0m \u001b[0mself\u001b[0m\u001b[0;34m.\u001b[0m\u001b[0mgateway_client\u001b[0m\u001b[0;34m.\u001b[0m\u001b[0msend_command\u001b[0m\u001b[0;34m(\u001b[0m\u001b[0mcommand\u001b[0m\u001b[0;34m)\u001b[0m\u001b[0;34m\u001b[0m\u001b[0;34m\u001b[0m\u001b[0m\n\u001b[0;32m-> 1322\u001b[0;31m         return_value = get_return_value(\n\u001b[0m\u001b[1;32m   1323\u001b[0m             answer, self.gateway_client, self.target_id, self.name)\n\u001b[1;32m   1324\u001b[0m \u001b[0;34m\u001b[0m\u001b[0m\n",
            "\u001b[0;32m/usr/local/lib/python3.11/dist-packages/pyspark/errors/exceptions/captured.py\u001b[0m in \u001b[0;36mdeco\u001b[0;34m(*a, **kw)\u001b[0m\n\u001b[1;32m    183\u001b[0m                 \u001b[0;31m# Hide where the exception came from that shows a non-Pythonic\u001b[0m\u001b[0;34m\u001b[0m\u001b[0;34m\u001b[0m\u001b[0m\n\u001b[1;32m    184\u001b[0m                 \u001b[0;31m# JVM exception message.\u001b[0m\u001b[0;34m\u001b[0m\u001b[0;34m\u001b[0m\u001b[0m\n\u001b[0;32m--> 185\u001b[0;31m                 \u001b[0;32mraise\u001b[0m \u001b[0mconverted\u001b[0m \u001b[0;32mfrom\u001b[0m \u001b[0;32mNone\u001b[0m\u001b[0;34m\u001b[0m\u001b[0;34m\u001b[0m\u001b[0m\n\u001b[0m\u001b[1;32m    186\u001b[0m             \u001b[0;32melse\u001b[0m\u001b[0;34m:\u001b[0m\u001b[0;34m\u001b[0m\u001b[0;34m\u001b[0m\u001b[0m\n\u001b[1;32m    187\u001b[0m                 \u001b[0;32mraise\u001b[0m\u001b[0;34m\u001b[0m\u001b[0;34m\u001b[0m\u001b[0m\n",
            "\u001b[0;31mIllegalArgumentException\u001b[0m: requirement failed: The number of columns doesn't match.\nOld column names (5): order_id, customer_name, category, quantity, amount\nNew column names (0): "
          ]
        }
      ]
    },
    {
      "cell_type": "code",
      "source": [
        "from delta.tables import DeltaTable\n",
        "deltatable=DeltaTable.forPath(spark,\"/tmp/orders_delta\")\n",
        "from pyspark.sql import Row\n",
        "new_data = [\n",
        "  Row(order_id=2, customer_name='Sara', category='Clothing', quantity=2, amount=100),\n",
        "  Row(order_id=5, customer_name='Liam', category='Electronics', quantity=1, amount=200)\n",
        "]\n",
        "updates_df = spark.createDataFrame(new_data)\n",
        "updates_df.show()"
      ],
      "metadata": {
        "colab": {
          "base_uri": "https://localhost:8080/"
        },
        "id": "OCuzxKY_OmdB",
        "outputId": "c6ab1de6-f2d0-4a66-b07b-7587812339c0"
      },
      "execution_count": 62,
      "outputs": [
        {
          "output_type": "stream",
          "name": "stdout",
          "text": [
            "+--------+-------------+-----------+--------+------+\n",
            "|order_id|customer_name|   category|quantity|amount|\n",
            "+--------+-------------+-----------+--------+------+\n",
            "|       2|         Sara|   Clothing|       2|   100|\n",
            "|       5|         Liam|Electronics|       1|   200|\n",
            "+--------+-------------+-----------+--------+------+\n",
            "\n"
          ]
        }
      ]
    },
    {
      "cell_type": "code",
      "source": [
        "deltatable.alias(\"target\").merge(updates_df.alias(\"updates\"),\"target.order_id=updates.order_id\").whenMatchedUpdateAll().whenNotMatchedInsertAll().execute()"
      ],
      "metadata": {
        "id": "-neX93anTOGQ"
      },
      "execution_count": 64,
      "outputs": []
    },
    {
      "cell_type": "code",
      "metadata": {
        "colab": {
          "base_uri": "https://localhost:8080/"
        },
        "id": "ca928351",
        "outputId": "21ae7998-2f8f-41a3-c2ba-430b6e74b7cb"
      },
      "source": [
        "deltatable.toDF().show()"
      ],
      "execution_count": 65,
      "outputs": [
        {
          "output_type": "stream",
          "name": "stdout",
          "text": [
            "+--------+-------------+-----------+--------+------+\n",
            "|order_id|customer_name|   category|quantity|amount|\n",
            "+--------+-------------+-----------+--------+------+\n",
            "|       1|         John|Electronics|       2|   300|\n",
            "|       2|         Sara|   Clothing|       2|   100|\n",
            "|       3|         Mike|Electronics|       4|   600|\n",
            "|       4|         Nina|   Clothing|       3|   170|\n",
            "|       5|         Liam|Electronics|       1|   200|\n",
            "+--------+-------------+-----------+--------+------+\n",
            "\n"
          ]
        }
      ]
    },
    {
      "cell_type": "markdown",
      "source": [
        "# 3. History & Time Travel"
      ],
      "metadata": {
        "id": "jnG68unWVrQ3"
      }
    },
    {
      "cell_type": "code",
      "source": [
        "spark.sql(\"describe history order_managed\").show()\n",
        "spark.sql(\"select*from order_managed version as of 0\").show()"
      ],
      "metadata": {
        "colab": {
          "base_uri": "https://localhost:8080/"
        },
        "id": "Lv8Gkr4pVunj",
        "outputId": "53632756-cac0-469e-8eb0-96ce5d0de88f"
      },
      "execution_count": 67,
      "outputs": [
        {
          "output_type": "stream",
          "name": "stdout",
          "text": [
            "+-------+--------------------+------+--------+--------------------+--------------------+----+--------+---------+-----------+--------------+-------------+--------------------+------------+--------------------+\n",
            "|version|           timestamp|userId|userName|           operation| operationParameters| job|notebook|clusterId|readVersion|isolationLevel|isBlindAppend|    operationMetrics|userMetadata|          engineInfo|\n",
            "+-------+--------------------+------+--------+--------------------+--------------------+----+--------+---------+-----------+--------------+-------------+--------------------+------------+--------------------+\n",
            "|      7|2025-08-14 06:17:...|  NULL|    NULL|              DELETE|{predicate -> [\"(...|NULL|    NULL|     NULL|          6|  Serializable|        false|{numRemovedFiles ...|        NULL|Apache-Spark/3.5....|\n",
            "|      6|2025-08-14 06:16:...|  NULL|    NULL|              UPDATE|{predicate -> [\"(...|NULL|    NULL|     NULL|          5|  Serializable|        false|{numRemovedFiles ...|        NULL|Apache-Spark/3.5....|\n",
            "|      5|2025-08-14 06:16:...|  NULL|    NULL|              UPDATE|{predicate -> [\"(...|NULL|    NULL|     NULL|          4|  Serializable|        false|{numRemovedFiles ...|        NULL|Apache-Spark/3.5....|\n",
            "|      4|2025-08-14 06:16:...|  NULL|    NULL|CREATE OR REPLACE...|{partitionBy -> [...|NULL|    NULL|     NULL|          3|  Serializable|        false|{numFiles -> 2, n...|        NULL|Apache-Spark/3.5....|\n",
            "|      3|2025-08-14 06:15:...|  NULL|    NULL|              UPDATE|{predicate -> [\"(...|NULL|    NULL|     NULL|          2|  Serializable|        false|{numRemovedFiles ...|        NULL|Apache-Spark/3.5....|\n",
            "|      2|2025-08-14 06:15:...|  NULL|    NULL|CREATE OR REPLACE...|{partitionBy -> [...|NULL|    NULL|     NULL|          1|  Serializable|        false|{numFiles -> 2, n...|        NULL|Apache-Spark/3.5....|\n",
            "|      1|2025-08-14 06:13:...|  NULL|    NULL|              UPDATE|{predicate -> [\"(...|NULL|    NULL|     NULL|          0|  Serializable|        false|{numRemovedFiles ...|        NULL|Apache-Spark/3.5....|\n",
            "|      0|2025-08-14 05:42:...|  NULL|    NULL|CREATE OR REPLACE...|{partitionBy -> [...|NULL|    NULL|     NULL|       NULL|  Serializable|        false|{numFiles -> 2, n...|        NULL|Apache-Spark/3.5....|\n",
            "+-------+--------------------+------+--------+--------------------+--------------------+----+--------+---------+-----------+--------------+-------------+--------------------+------------+--------------------+\n",
            "\n",
            "+--------+-------------+-----------+--------+------+\n",
            "|order_id|customer_name|   category|quantity|amount|\n",
            "+--------+-------------+-----------+--------+------+\n",
            "|       1|         John|Electronics|       2|   300|\n",
            "|       2|         Sara|   Clothing|       1|    50|\n",
            "|       3|         Mike|Electronics|       4|   600|\n",
            "|       4|         Nina|   Clothing|       3|   150|\n",
            "+--------+-------------+-----------+--------+------+\n",
            "\n"
          ]
        }
      ]
    },
    {
      "cell_type": "markdown",
      "source": [
        "# 4. Incremental Load Pattern"
      ],
      "metadata": {
        "id": "QZlCuf90Wbap"
      }
    },
    {
      "cell_type": "code",
      "source": [
        "batch_data = [\n",
        "  (5, \"Liam\", \"Electronics\", 1, 200),\n",
        "  (6, \"Emma\", \"Clothing\", 2, 120)\n",
        "]\n",
        "batch_df = spark.createDataFrame(batch_data, columns)\n",
        "batch_df.show()\n",
        "batch_df.write.format(\"delta\").mode(\"append\").save(\"/tmp/orders_delta\")\n",
        "check_df=spark.read.format(\"delta\").load(\"/tmp/orders_delta\")\n",
        "check_df.show()"
      ],
      "metadata": {
        "colab": {
          "base_uri": "https://localhost:8080/"
        },
        "id": "ceW5YaOGWc0_",
        "outputId": "5b3f9cfa-9901-4d32-b99f-d0de793ee87a"
      },
      "execution_count": 71,
      "outputs": [
        {
          "output_type": "stream",
          "name": "stdout",
          "text": [
            "+--------+-------------+-----------+--------+------+\n",
            "|order_id|customer_name|   category|quantity|amount|\n",
            "+--------+-------------+-----------+--------+------+\n",
            "|       5|         Liam|Electronics|       1|   200|\n",
            "|       6|         Emma|   Clothing|       2|   120|\n",
            "+--------+-------------+-----------+--------+------+\n",
            "\n",
            "+--------+-------------+-----------+--------+------+\n",
            "|order_id|customer_name|   category|quantity|amount|\n",
            "+--------+-------------+-----------+--------+------+\n",
            "|       1|         John|Electronics|       2|   300|\n",
            "|       2|         Sara|   Clothing|       2|   100|\n",
            "|       3|         Mike|Electronics|       4|   600|\n",
            "|       4|         Nina|   Clothing|       3|   170|\n",
            "|       5|         Liam|Electronics|       1|   200|\n",
            "|       5|         Liam|Electronics|       1|   200|\n",
            "|       5|         Liam|Electronics|       1|   200|\n",
            "|       6|         Emma|   Clothing|       2|   120|\n",
            "|       6|         Emma|   Clothing|       2|   120|\n",
            "+--------+-------------+-----------+--------+------+\n",
            "\n"
          ]
        }
      ]
    },
    {
      "cell_type": "markdown",
      "source": [
        "# simple streaming read"
      ],
      "metadata": {
        "id": "1qCqi8-AX68N"
      }
    },
    {
      "cell_type": "code",
      "source": [
        "delta_stream=(spark.readStream.format(\"delta\").load(\"/tmp/orders_delta\"))\n",
        "mem_q = (\n",
        "  delta_stream.writeStream\n",
        "              .format(\"memory\")\n",
        "              .queryName(\"orders_em\")\n",
        "              .outputMode(\"append\")\n",
        "              .trigger(processingTime=\"5 seconds\")\n",
        "              .start()\n",
        ")\n",
        "\n",
        "mem_q.awaitTermination(60)\n",
        "mem_q.stop()\n",
        "\n"
      ],
      "metadata": {
        "id": "fa3N7nbzZLLE"
      },
      "execution_count": 88,
      "outputs": []
    },
    {
      "cell_type": "code",
      "source": [
        "spark.sql(\"SELECT * FROM orders_em\").show()"
      ],
      "metadata": {
        "colab": {
          "base_uri": "https://localhost:8080/"
        },
        "id": "k-QboBDvdTEB",
        "outputId": "8f6610b9-a2b5-4b63-dc90-4e6fd7b1ff9a"
      },
      "execution_count": 89,
      "outputs": [
        {
          "output_type": "stream",
          "name": "stdout",
          "text": [
            "+--------+-------------+-----------+--------+------+\n",
            "|order_id|customer_name|   category|quantity|amount|\n",
            "+--------+-------------+-----------+--------+------+\n",
            "|       1|         John|Electronics|       2|   300|\n",
            "|       2|         Sara|   Clothing|       2|   100|\n",
            "|       3|         Mike|Electronics|       4|   600|\n",
            "|       4|         Nina|   Clothing|       3|   170|\n",
            "|       5|         Liam|Electronics|       1|   200|\n",
            "|       3|        kumar|Electronics|       1|   200|\n",
            "|       5|         Liam|Electronics|       1|   200|\n",
            "|       5|         Liam|Electronics|       1|   200|\n",
            "|       6|         Emma|   Clothing|       2|   120|\n",
            "|       6|         Emma|   Clothing|       2|   120|\n",
            "+--------+-------------+-----------+--------+------+\n",
            "\n"
          ]
        }
      ]
    },
    {
      "cell_type": "markdown",
      "source": [
        "#  6. Visualization"
      ],
      "metadata": {
        "id": "1yDJqXxYdw-p"
      }
    },
    {
      "cell_type": "code",
      "source": [
        "dp=deltatable.toDF()\n",
        "DP=dp.toPandas()\n",
        "DP['total_amount']=DP['quantity']*DP['amount']\n",
        "import matplotlib.pyplot as plt\n",
        "plt.bar(DP['category'],DP['total_amount'])\n",
        "plt.xlabel('Category')\n",
        "plt.ylabel('Total Amount')\n",
        "plt.title('Total Amount by Category')\n",
        "plt.show()\n"
      ],
      "metadata": {
        "colab": {
          "base_uri": "https://localhost:8080/",
          "height": 472
        },
        "id": "IKE3yFLyd02Y",
        "outputId": "5c84c087-2390-4b58-c5b0-8e3177a96502"
      },
      "execution_count": 96,
      "outputs": [
        {
          "output_type": "display_data",
          "data": {
            "text/plain": [
              "<Figure size 640x480 with 1 Axes>"
            ],
            "image/png": "[encoded data removed]"
          },
          "metadata": {}
        }
      ]
    }
  ]
}