{
 "cells": [
  {
   "cell_type": "code",
   "execution_count": 0,
   "metadata": {
    "application/vnd.databricks.v1+cell": {
     "cellMetadata": {
      "byteLimit": 2048000,
      "rowLimit": 10000
     },
     "inputWidgets": {},
     "nuid": "35ea4aea-4537-4271-b7dd-49aea89ba097",
     "showTitle": false,
     "tableResultSettingsMap": {},
     "title": ""
    }
   },
   "outputs": [
    {
     "output_type": "display_data",
     "data": {
      "text/html": [
       "<style scoped>\n",
       "  .table-result-container {\n",
       "    max-height: 300px;\n",
       "    overflow: auto;\n",
       "  }\n",
       "  table, th, td {\n",
       "    border: 1px solid black;\n",
       "    border-collapse: collapse;\n",
       "  }\n",
       "  th, td {\n",
       "    padding: 5px;\n",
       "  }\n",
       "  th {\n",
       "    text-align: left;\n",
       "  }\n",
       "</style><div class='table-result-container'><table class='table-result'><thead style='background-color: white'><tr><th>item_id</th><th>supplier_id</th><th>stock_level</th><th>reorder_threshold</th></tr></thead><tbody><tr><td>1</td><td>1</td><td>250</td><td>50</td></tr><tr><td>2</td><td>1</td><td>45</td><td>20</td></tr><tr><td>3</td><td>2</td><td>0</td><td>30</td></tr><tr><td>4</td><td>3</td><td>500</td><td>100</td></tr><tr><td>5</td><td>4</td><td>10</td><td>10</td></tr><tr><td>6</td><td>5</td><td>5</td><td>10</td></tr><tr><td>7</td><td>2</td><td>200</td><td>25</td></tr><tr><td>8</td><td>3</td><td>75</td><td>15</td></tr><tr><td>9</td><td>4</td><td>0</td><td>5</td></tr><tr><td>10</td><td>5</td><td>120</td><td>30</td></tr></tbody></table></div>"
      ]
     },
     "metadata": {
      "application/vnd.databricks.v1+output": {
       "addedWidgets": {},
       "aggData": [],
       "aggError": "",
       "aggOverflow": false,
       "aggSchema": [],
       "aggSeriesLimitReached": false,
       "aggType": "",
       "arguments": {},
       "columnCustomDisplayInfos": {},
       "data": [
        [
         1,
         1,
         250,
         50
        ],
        [
         2,
         1,
         45,
         20
        ],
        [
         3,
         2,
         0,
         30
        ],
        [
         4,
         3,
         500,
         100
        ],
        [
         5,
         4,
         10,
         10
        ],
        [
         6,
         5,
         5,
         10
        ],
        [
         7,
         2,
         200,
         25
        ],
        [
         8,
         3,
         75,
         15
        ],
        [
         9,
         4,
         0,
         5
        ],
        [
         10,
         5,
         120,
         30
        ]
       ],
       "datasetInfos": [],
       "dbfsResultPath": null,
       "isJsonSchema": true,
       "metadata": {},
       "overflow": false,
       "plotOptions": {
        "customPlotOptions": {},
        "displayType": "table",
        "pivotAggregation": null,
        "pivotColumns": null,
        "xColumns": null,
        "yColumns": null
       },
       "removedWidgets": [],
       "schema": [
        {
         "metadata": "{}",
         "name": "item_id",
         "type": "\"integer\""
        },
        {
         "metadata": "{}",
         "name": "supplier_id",
         "type": "\"integer\""
        },
        {
         "metadata": "{}",
         "name": "stock_level",
         "type": "\"integer\""
        },
        {
         "metadata": "{}",
         "name": "reorder_threshold",
         "type": "\"integer\""
        }
       ],
       "type": "table"
      }
     },
     "output_type": "display_data"
    },
    {
     "output_type": "display_data",
     "data": {
      "text/html": [
       "<style scoped>\n",
       "  .table-result-container {\n",
       "    max-height: 300px;\n",
       "    overflow: auto;\n",
       "  }\n",
       "  table, th, td {\n",
       "    border: 1px solid black;\n",
       "    border-collapse: collapse;\n",
       "  }\n",
       "  th, td {\n",
       "    padding: 5px;\n",
       "  }\n",
       "  th {\n",
       "    text-align: left;\n",
       "  }\n",
       "</style><div class='table-result-container'><table class='table-result'><thead style='background-color: white'><tr><th>order_id</th><th>supplier_id</th><th>order_date</th><th>delivery_date</th><th>quantity</th><th>status</th></tr></thead><tbody><tr><td>1</td><td>1</td><td>2025-07-01</td><td>null</td><td>100</td><td>pending</td></tr><tr><td>2</td><td>2</td><td>2025-07-02</td><td>2025-07-06</td><td>200</td><td>fulfilled</td></tr><tr><td>3</td><td>3</td><td>2025-07-03</td><td>null</td><td>150</td><td>cancelled</td></tr><tr><td>4</td><td>1</td><td>2025-07-05</td><td>2025-07-08</td><td>50</td><td>fulfilled</td></tr><tr><td>5</td><td>4</td><td>2025-07-07</td><td>null</td><td>75</td><td>pending</td></tr><tr><td>6</td><td>5</td><td>2025-07-08</td><td>2025-07-15</td><td>20</td><td>fulfilled</td></tr><tr><td>7</td><td>2</td><td>2025-07-10</td><td>2025-07-12</td><td>300</td><td>fulfilled</td></tr><tr><td>8</td><td>3</td><td>2025-07-11</td><td>null</td><td>50</td><td>pending</td></tr><tr><td>9</td><td>4</td><td>2025-07-12</td><td>null</td><td>100</td><td>cancelled</td></tr><tr><td>10</td><td>5</td><td>2025-07-13</td><td>2025-07-14</td><td>60</td><td>fulfilled</td></tr><tr><td>11</td><td>1</td><td>2025-07-14</td><td>null</td><td>90</td><td>pending</td></tr><tr><td>12</td><td>2</td><td>2025-07-15</td><td>2025-07-18</td><td>40</td><td>fulfilled</td></tr><tr><td>13</td><td>3</td><td>2025-07-16</td><td>2025-07-20</td><td>30</td><td>fulfilled</td></tr><tr><td>14</td><td>4</td><td>2025-07-17</td><td>null</td><td>80</td><td>pending</td></tr><tr><td>15</td><td>5</td><td>2025-07-18</td><td>null</td><td>55</td><td>cancelled</td></tr></tbody></table></div>"
      ]
     },
     "metadata": {
      "application/vnd.databricks.v1+output": {
       "addedWidgets": {},
       "aggData": [],
       "aggError": "",
       "aggOverflow": false,
       "aggSchema": [],
       "aggSeriesLimitReached": false,
       "aggType": "",
       "arguments": {},
       "columnCustomDisplayInfos": {},
       "data": [
        [
         1,
         1,
         "2025-07-01",
         null,
         100,
         "pending"
        ],
        [
         2,
         2,
         "2025-07-02",
         "2025-07-06",
         200,
         "fulfilled"
        ],
        [
         3,
         3,
         "2025-07-03",
         null,
         150,
         "cancelled"
        ],
        [
         4,
         1,
         "2025-07-05",
         "2025-07-08",
         50,
         "fulfilled"
        ],
        [
         5,
         4,
         "2025-07-07",
         null,
         75,
         "pending"
        ],
        [
         6,
         5,
         "2025-07-08",
         "2025-07-15",
         20,
         "fulfilled"
        ],
        [
         7,
         2,
         "2025-07-10",
         "2025-07-12",
         300,
         "fulfilled"
        ],
        [
         8,
         3,
         "2025-07-11",
         null,
         50,
         "pending"
        ],
        [
         9,
         4,
         "2025-07-12",
         null,
         100,
         "cancelled"
        ],
        [
         10,
         5,
         "2025-07-13",
         "2025-07-14",
         60,
         "fulfilled"
        ],
        [
         11,
         1,
         "2025-07-14",
         null,
         90,
         "pending"
        ],
        [
         12,
         2,
         "2025-07-15",
         "2025-07-18",
         40,
         "fulfilled"
        ],
        [
         13,
         3,
         "2025-07-16",
         "2025-07-20",
         30,
         "fulfilled"
        ],
        [
         14,
         4,
         "2025-07-17",
         null,
         80,
         "pending"
        ],
        [
         15,
         5,
         "2025-07-18",
         null,
         55,
         "cancelled"
        ]
       ],
       "datasetInfos": [],
       "dbfsResultPath": null,
       "isJsonSchema": true,
       "metadata": {},
       "overflow": false,
       "plotOptions": {
        "customPlotOptions": {},
        "displayType": "table",
        "pivotAggregation": null,
        "pivotColumns": null,
        "xColumns": null,
        "yColumns": null
       },
       "removedWidgets": [],
       "schema": [
        {
         "metadata": "{}",
         "name": "order_id",
         "type": "\"integer\""
        },
        {
         "metadata": "{}",
         "name": "supplier_id",
         "type": "\"integer\""
        },
        {
         "metadata": "{\"__detected_date_formats\": \"yyyy-M-d\"}",
         "name": "order_date",
         "type": "\"date\""
        },
        {
         "metadata": "{\"__detected_date_formats\": \"yyyy-M-d\"}",
         "name": "delivery_date",
         "type": "\"date\""
        },
        {
         "metadata": "{}",
         "name": "quantity",
         "type": "\"integer\""
        },
        {
         "metadata": "{}",
         "name": "status",
         "type": "\"string\""
        }
       ],
       "type": "table"
      }
     },
     "output_type": "display_data"
    },
    {
     "output_type": "display_data",
     "data": {
      "text/html": [
       "<style scoped>\n",
       "  .table-result-container {\n",
       "    max-height: 300px;\n",
       "    overflow: auto;\n",
       "  }\n",
       "  table, th, td {\n",
       "    border: 1px solid black;\n",
       "    border-collapse: collapse;\n",
       "  }\n",
       "  th, td {\n",
       "    padding: 5px;\n",
       "  }\n",
       "  th {\n",
       "    text-align: left;\n",
       "  }\n",
       "</style><div class='table-result-container'><table class='table-result'><thead style='background-color: white'><tr><th>supplier_id</th><th>name</th><th>contact_email</th></tr></thead><tbody><tr><td>1</td><td>Alpha Components</td><td>alpha@components.com</td></tr><tr><td>2</td><td>Beta Industrial</td><td>beta@industrial.com</td></tr><tr><td>3</td><td>Catalyst Co.</td><td>contact@catalyst.co</td></tr><tr><td>4</td><td>Delta Supplies</td><td>info@deltasupplies.com</td></tr><tr><td>5</td><td>Epsilon Goods</td><td>epsilon@goods.net</td></tr></tbody></table></div>"
      ]
     },
     "metadata": {
      "application/vnd.databricks.v1+output": {
       "addedWidgets": {},
       "aggData": [],
       "aggError": "",
       "aggOverflow": false,
       "aggSchema": [],
       "aggSeriesLimitReached": false,
       "aggType": "",
       "arguments": {},
       "columnCustomDisplayInfos": {},
       "data": [
        [
         1,
         "Alpha Components",
         "alpha@components.com"
        ],
        [
         2,
         "Beta Industrial",
         "beta@industrial.com"
        ],
        [
         3,
         "Catalyst Co.",
         "contact@catalyst.co"
        ],
        [
         4,
         "Delta Supplies",
         "info@deltasupplies.com"
        ],
        [
         5,
         "Epsilon Goods",
         "epsilon@goods.net"
        ]
       ],
       "datasetInfos": [],
       "dbfsResultPath": null,
       "isJsonSchema": true,
       "metadata": {},
       "overflow": false,
       "plotOptions": {
        "customPlotOptions": {},
        "displayType": "table",
        "pivotAggregation": null,
        "pivotColumns": null,
        "xColumns": null,
        "yColumns": null
       },
       "removedWidgets": [],
       "schema": [
        {
         "metadata": "{}",
         "name": "supplier_id",
         "type": "\"integer\""
        },
        {
         "metadata": "{}",
         "name": "name",
         "type": "\"string\""
        },
        {
         "metadata": "{}",
         "name": "contact_email",
         "type": "\"string\""
        }
       ],
       "type": "table"
      }
     },
     "output_type": "display_data"
    },
    {
     "output_type": "stream",
     "name": "stdout",
     "output_type": "stream",
     "text": [
      "root\n |-- item_id: integer (nullable = true)\n |-- supplier_id: integer (nullable = true)\n |-- stock_level: integer (nullable = true)\n |-- reorder_threshold: integer (nullable = true)\n\n"
     ]
    }
   ],
   "source": [
    "nf=spark.read.csv(\"/Volumes/hexaware_training_workspace_3/default/supply_chain_management_uncleaned/inventory.csv\", header=True, inferSchema=True)\n",
    "vf=spark.read.csv(\"/Volumes/hexaware_training_workspace_3/default/supply_chain_management_uncleaned/orders.csv\", header=True, inferSchema=True)\n",
    "sf=spark.read.csv(\"/Volumes/hexaware_training_workspace_3/default/supply_chain_management_uncleaned/suppliers.csv\", header=True, inferSchema=True)\n",
    "display(nf)\n",
    "display(vf)\n",
    "display(sf)\n",
    "nf.printSchema()"
   ]
  },
  {
   "cell_type": "code",
   "execution_count": 0,
   "metadata": {
    "application/vnd.databricks.v1+cell": {
     "cellMetadata": {
      "byteLimit": 2048000,
      "rowLimit": 10000
     },
     "inputWidgets": {},
     "nuid": "cadeaeaa-361b-40da-b3c3-280fb8891c12",
     "showTitle": false,
     "tableResultSettingsMap": {},
     "title": ""
    }
   },
   "outputs": [
    {
     "output_type": "stream",
     "name": "stdout",
     "output_type": "stream",
     "text": [
      "+-------+-----------+-----------+-----------------+\n|item_id|supplier_id|stock_level|reorder_threshold|\n+-------+-----------+-----------+-----------------+\n|      1|          1|        250|             50.0|\n|      2|          1|         45|             20.0|\n|      3|          2|          0|             30.0|\n|      4|          3|        500|            100.0|\n|      5|          4|         10|             10.0|\n|      6|          5|          5|             10.0|\n|      7|          2|        200|             25.0|\n|      8|          3|         75|             15.0|\n|      9|          4|          0|              5.0|\n|     10|          5|        120|             30.0|\n+-------+-----------+-----------+-----------------+\n\n"
     ]
    }
   ],
   "source": [
    "from pyspark.sql.functions import col,when,date_diff\n",
    "nf=nf.dropna(subset=['item_id','supplier_id'])\n",
    "nf=nf.fillna({'stock_level':0})\n",
    "nf=nf.withColumn('reorder_threshold',when(col('reorder_threshold').isNull(),col('stock_level')*0.5).otherwise(col('reorder_threshold')))\n",
    "nf.show()\n"
   ]
  },
  {
   "cell_type": "code",
   "execution_count": 0,
   "metadata": {
    "application/vnd.databricks.v1+cell": {
     "cellMetadata": {
      "byteLimit": 2048000,
      "rowLimit": 10000
     },
     "inputWidgets": {},
     "nuid": "7a761bf1-e8cd-4df1-a78a-5403e17d598c",
     "showTitle": false,
     "tableResultSettingsMap": {},
     "title": ""
    }
   },
   "outputs": [
    {
     "output_type": "stream",
     "name": "stdout",
     "output_type": "stream",
     "text": [
      "+--------+-----------+----------+-------------+--------+---------+----------+------------+\n|order_id|supplier_id|order_date|delivery_date|quantity|   status|is_delayed|delayed_days|\n+--------+-----------+----------+-------------+--------+---------+----------+------------+\n|       1|          1|2025-07-01|   2025-07-08|     100|  pending|         1|           7|\n|       2|          2|2025-07-02|   2025-07-06|     200|fulfilled|         0|           0|\n|       3|          3|2025-07-03|   2025-07-03|     150|cancelled|         0|           0|\n|       4|          1|2025-07-05|   2025-07-08|      50|fulfilled|         0|           0|\n|       5|          4|2025-07-07|   2025-07-14|      75|  pending|         1|           7|\n|       6|          5|2025-07-08|   2025-07-15|      20|fulfilled|         0|           0|\n|       7|          2|2025-07-10|   2025-07-12|     300|fulfilled|         0|           0|\n|       8|          3|2025-07-11|   2025-07-18|      50|  pending|         1|           7|\n|       9|          4|2025-07-12|   2025-07-12|     100|cancelled|         0|           0|\n|      10|          5|2025-07-13|   2025-07-14|      60|fulfilled|         0|           0|\n|      11|          1|2025-07-14|   2025-07-21|      90|  pending|         1|           7|\n|      12|          2|2025-07-15|   2025-07-18|      40|fulfilled|         0|           0|\n|      13|          3|2025-07-16|   2025-07-20|      30|fulfilled|         0|           0|\n|      14|          4|2025-07-17|   2025-07-24|      80|  pending|         1|           7|\n|      15|          5|2025-07-18|   2025-07-18|      55|cancelled|         0|           0|\n+--------+-----------+----------+-------------+--------+---------+----------+------------+\n\n"
     ]
    }
   ],
   "source": [
    "vf=vf.dropna(subset=['order_id','supplier_id'])\n",
    "vf=vf.withColumn('order_date',col('order_date').cast('date'))\n",
    "vf=vf.withColumn('delivery_date',col('delivery_date').cast('date'))\n",
    "vf=vf.fillna({'quantity':0})\n",
    "vf=vf.withColumn('delivery_date',when((col('status')==\"pending\")&(col('delivery_date').isNull()),col('order_date')+7).otherwise(col('delivery_date')))\n",
    "vf=vf.withColumn('delivery_date',when(col('status')==\"cancelled\",col('order_date')).otherwise(col('delivery_date')))\n",
    "vf=vf.withColumn('is_delayed',when(col('status')=='pending',1).otherwise(0))\n",
    "vf=vf.withColumn('delayed_days',when(col('is_delayed')==1,date_diff(col('delivery_date'),col('order_date'))).otherwise(0))\n",
    "vf.show(40)"
   ]
  },
  {
   "cell_type": "code",
   "execution_count": 0,
   "metadata": {
    "application/vnd.databricks.v1+cell": {
     "cellMetadata": {
      "byteLimit": 2048000,
      "rowLimit": 10000
     },
     "inputWidgets": {},
     "nuid": "6efd69c3-439f-4705-b6ed-da4d0ebad551",
     "showTitle": false,
     "tableResultSettingsMap": {},
     "title": ""
    }
   },
   "outputs": [
    {
     "output_type": "stream",
     "name": "stdout",
     "output_type": "stream",
     "text": [
      "+-----------+----------------+--------------------+\n|supplier_id|            name|       contact_email|\n+-----------+----------------+--------------------+\n|          1|Alpha Components|alpha@components.com|\n|          2| Beta Industrial| beta@industrial.com|\n|          3|    Catalyst Co.| contact@catalyst.co|\n|          4|  Delta Supplies|info@deltasupplie...|\n|          5|   Epsilon Goods|   epsilon@goods.net|\n+-----------+----------------+--------------------+\n\n"
     ]
    }
   ],
   "source": [
    "sf=sf.dropna(subset=['supplier_id','name'])\n",
    "sf.show()"
   ]
  },
  {
   "cell_type": "markdown",
   "metadata": {
    "application/vnd.databricks.v1+cell": {
     "cellMetadata": {},
     "inputWidgets": {},
     "nuid": "ff96c49a-1031-4fee-8582-0745ba698ae3",
     "showTitle": false,
     "tableResultSettingsMap": {},
     "title": ""
    }
   },
   "source": [
    "saving the cleaned and filtered data in delta format"
   ]
  },
  {
   "cell_type": "code",
   "execution_count": 0,
   "metadata": {
    "application/vnd.databricks.v1+cell": {
     "cellMetadata": {
      "byteLimit": 2048000,
      "rowLimit": 10000
     },
     "inputWidgets": {},
     "nuid": "ed978b9f-76c7-4e71-a908-4c057c533128",
     "showTitle": false,
     "tableResultSettingsMap": {},
     "title": ""
    }
   },
   "outputs": [],
   "source": [
    "sf.write.format(\"delta\").mode(\"overwrite\").save(\"dbfs:/FileStore/supply_chain_management_cleaned/suppliers\")\n",
    "nf.write.format(\"delta\").mode(\"overwrite\").save(\"dbfs:/FileStore/supply_chain_management_cleaned/inventory\")\n",
    "vf.write.format(\"delta\").mode(\"overwrite\").save(\"dbfs:/FileStore/supply_chain_management_cleaned/orders\")\n"
   ]
  },
  {
   "cell_type": "markdown",
   "metadata": {
    "application/vnd.databricks.v1+cell": {
     "cellMetadata": {},
     "inputWidgets": {},
     "nuid": "0f0ae454-197c-4de1-be24-772a6995b40e",
     "showTitle": false,
     "tableResultSettingsMap": {},
     "title": ""
    }
   },
   "source": [
    "basic analysis and querying"
   ]
  },
  {
   "cell_type": "code",
   "execution_count": 0,
   "metadata": {
    "application/vnd.databricks.v1+cell": {
     "cellMetadata": {
      "byteLimit": 2048000,
      "rowLimit": 10000
     },
     "inputWidgets": {},
     "nuid": "7d039b04-dd9f-48a8-b321-d85c0cdacfc3",
     "showTitle": false,
     "tableResultSettingsMap": {},
     "title": ""
    }
   },
   "outputs": [
    {
     "output_type": "execute_result",
     "data": {
      "text/plain": [
       "DataFrame[]"
      ]
     },
     "execution_count": 126,
     "metadata": {},
     "output_type": "execute_result"
    }
   ],
   "source": [
    "#creating delta tables from locations\n",
    "spark.sql(\"use catalog hive_metastore\")\n",
    "spark.sql(\"create database if not exists supplier_chain_management\")\n",
    "spark.sql(\"create table if not exists suppliers using delta location 'dbfs:/FileStore/supply_chain_management_cleaned/suppliers'\")\n",
    "spark.sql(\"create table if not exists inventory using delta location 'dbfs:/FileStore/supply_chain_management_cleaned/inventory'\")\n",
    "spark.sql(\"create table if not exists orders using delta location 'dbfs:/FileStore/supply_chain_management_cleaned/orders'\")\n"
   ]
  },
  {
   "cell_type": "code",
   "execution_count": 0,
   "metadata": {
    "application/vnd.databricks.v1+cell": {
     "cellMetadata": {
      "byteLimit": 2048000,
      "rowLimit": 10000
     },
     "inputWidgets": {},
     "nuid": "ff9aa46b-a62d-4656-a226-f7eb58d11ab0",
     "showTitle": false,
     "tableResultSettingsMap": {},
     "title": ""
    }
   },
   "outputs": [
    {
     "output_type": "stream",
     "name": "stdout",
     "output_type": "stream",
     "text": [
      "+-----------+----------------+--------------------+\n|supplier_id|            name|       contact_email|\n+-----------+----------------+--------------------+\n|          1|Alpha Components|alpha@components.com|\n|          2| Beta Industrial| beta@industrial.com|\n|          3|    Catalyst Co.| contact@catalyst.co|\n|          4|  Delta Supplies|info@deltasupplie...|\n|          5|   Epsilon Goods|   epsilon@goods.net|\n+-----------+----------------+--------------------+\n\n"
     ]
    }
   ],
   "source": [
    "spark.sql(\"select*from suppliers\").show()\n"
   ]
  },
  {
   "cell_type": "code",
   "execution_count": 0,
   "metadata": {
    "application/vnd.databricks.v1+cell": {
     "cellMetadata": {
      "byteLimit": 2048000,
      "rowLimit": 10000
     },
     "inputWidgets": {},
     "nuid": "f404fe3b-01d2-486a-aff8-09d12d202fb4",
     "showTitle": false,
     "tableResultSettingsMap": {},
     "title": ""
    }
   },
   "outputs": [
    {
     "output_type": "stream",
     "name": "stdout",
     "output_type": "stream",
     "text": [
      "+-----------+----------------+--------+\n|supplier_id|    company_name|count(*)|\n+-----------+----------------+--------+\n|          1|Alpha Components|       3|\n|          2| Beta Industrial|       3|\n|          3|    Catalyst Co.|       3|\n|          4|  Delta Supplies|       3|\n|          5|   Epsilon Goods|       3|\n+-----------+----------------+--------+\n\n"
     ]
    }
   ],
   "source": [
    "#how many orders each supplier placed\n",
    "spark.sql(\"\"\"select s.supplier_id,name  as company_name,count(*) from orders as o join suppliers as s on o.supplier_id=s.supplier_id \n",
    "          group by s.supplier_id, s.name order by s.supplier_id\"\"\").show()"
   ]
  },
  {
   "cell_type": "code",
   "execution_count": 0,
   "metadata": {
    "application/vnd.databricks.v1+cell": {
     "cellMetadata": {
      "byteLimit": 2048000,
      "rowLimit": 10000
     },
     "inputWidgets": {},
     "nuid": "f013ef29-4aed-487e-9c3e-8a44e3ba1e08",
     "showTitle": false,
     "tableResultSettingsMap": {},
     "title": ""
    }
   },
   "outputs": [
    {
     "output_type": "stream",
     "name": "stdout",
     "output_type": "stream",
     "text": [
      "+-----------------------------------------+\n|top_2_emails_of_orders_cancelled_companys|\n+-----------------------------------------+\n|                     info@deltasupplie...|\n|                        epsilon@goods.net|\n+-----------------------------------------+\nonly showing top 2 rows\n"
     ]
    }
   ],
   "source": [
    "spark.sql(\"\"\"select contact_email as top_2_emails_of_orders_cancelled_companys from(select s.supplier_id,contact_email,count(*) as cancelled_orders from orders as o join suppliers as s on o.supplier_id=s.supplier_id where status='cancelled'\n",
    "          group by s.supplier_id , contact_email\n",
    "          order by cancelled_orders desc) as filtered \"\"\").show(2)"
   ]
  }
 ],
 "metadata": {
  "application/vnd.databricks.v1+notebook": {
   "computePreferences": null,
   "dashboards": [],
   "environmentMetadata": {
    "base_environment": "",
    "environment_version": "2"
   },
   "inputWidgetPreferences": null,
   "language": "python",
   "notebookMetadata": {
    "pythonIndentUnit": 4
   },
   "notebookName": "Untitled Notebook 2025-08-16 17:32:18",
   "widgets": {}
  },
  "language_info": {
   "name": "python"
  }
 },
 "nbformat": 4,
 "nbformat_minor": 0
}