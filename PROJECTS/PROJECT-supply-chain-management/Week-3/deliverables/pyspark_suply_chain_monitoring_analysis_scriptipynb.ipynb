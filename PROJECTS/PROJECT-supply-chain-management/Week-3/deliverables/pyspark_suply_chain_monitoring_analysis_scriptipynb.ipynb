{
  "nbformat": 4,
  "nbformat_minor": 0,
  "metadata": {
    "colab": {
      "provenance": []
    },
    "kernelspec": {
      "name": "python3",
      "display_name": "Python 3"
    },
    "language_info": {
      "name": "python"
    }
  },
  "cells": [
    {
      "cell_type": "markdown",
      "source": [
        "# loading order data from csv using pyspark"
      ],
      "metadata": {
        "id": "Q0wzv0IjL77n"
      }
    },
    {
      "cell_type": "code",
      "execution_count": 1,
      "metadata": {
        "colab": {
          "base_uri": "https://localhost:8080/",
          "height": 142
        },
        "id": "PnLMoK84LaLk",
        "outputId": "3e17a031-9848-4187-fdc1-e1a4b22251ac"
      },
      "outputs": [
        {
          "output_type": "display_data",
          "data": {
            "text/plain": [
              "<IPython.core.display.HTML object>"
            ],
            "text/html": [
              "\n",
              "     <input type=\"file\" id=\"files-95bbb25f-a577-4af0-bf9e-02b0e0ad10dc\" name=\"files[]\" multiple disabled\n",
              "        style=\"border:none\" />\n",
              "     <output id=\"result-95bbb25f-a577-4af0-bf9e-02b0e0ad10dc\">\n",
              "      Upload widget is only available when the cell has been executed in the\n",
              "      current browser session. Please rerun this cell to enable.\n",
              "      </output>\n",
              "      <script>// Copyright 2017 Google LLC\n",
              "//\n",
              "// Licensed under the Apache License, Version 2.0 (the \"License\");\n",
              "// you may not use this file except in compliance with the License.\n",
              "// You may obtain a copy of the License at\n",
              "//\n",
              "//      http://www.apache.org/licenses/LICENSE-2.0\n",
              "//\n",
              "// Unless required by applicable law or agreed to in writing, software\n",
              "// distributed under the License is distributed on an \"AS IS\" BASIS,\n",
              "// WITHOUT WARRANTIES OR CONDITIONS OF ANY KIND, either express or implied.\n",
              "// See the License for the specific language governing permissions and\n",
              "// limitations under the License.\n",
              "\n",
              "/**\n",
              " * @fileoverview Helpers for google.colab Python module.\n",
              " */\n",
              "(function(scope) {\n",
              "function span(text, styleAttributes = {}) {\n",
              "  const element = document.createElement('span');\n",
              "  element.textContent = text;\n",
              "  for (const key of Object.keys(styleAttributes)) {\n",
              "    element.style[key] = styleAttributes[key];\n",
              "  }\n",
              "  return element;\n",
              "}\n",
              "\n",
              "// Max number of bytes which will be uploaded at a time.\n",
              "const MAX_PAYLOAD_SIZE = 100 * 1024;\n",
              "\n",
              "function _uploadFiles(inputId, outputId) {\n",
              "  const steps = uploadFilesStep(inputId, outputId);\n",
              "  const outputElement = document.getElementById(outputId);\n",
              "  // Cache steps on the outputElement to make it available for the next call\n",
              "  // to uploadFilesContinue from Python.\n",
              "  outputElement.steps = steps;\n",
              "\n",
              "  return _uploadFilesContinue(outputId);\n",
              "}\n",
              "\n",
              "// This is roughly an async generator (not supported in the browser yet),\n",
              "// where there are multiple asynchronous steps and the Python side is going\n",
              "// to poll for completion of each step.\n",
              "// This uses a Promise to block the python side on completion of each step,\n",
              "// then passes the result of the previous step as the input to the next step.\n",
              "function _uploadFilesContinue(outputId) {\n",
              "  const outputElement = document.getElementById(outputId);\n",
              "  const steps = outputElement.steps;\n",
              "\n",
              "  const next = steps.next(outputElement.lastPromiseValue);\n",
              "  return Promise.resolve(next.value.promise).then((value) => {\n",
              "    // Cache the last promise value to make it available to the next\n",
              "    // step of the generator.\n",
              "    outputElement.lastPromiseValue = value;\n",
              "    return next.value.response;\n",
              "  });\n",
              "}\n",
              "\n",
              "/**\n",
              " * Generator function which is called between each async step of the upload\n",
              " * process.\n",
              " * @param {string} inputId Element ID of the input file picker element.\n",
              " * @param {string} outputId Element ID of the output display.\n",
              " * @return {!Iterable<!Object>} Iterable of next steps.\n",
              " */\n",
              "function* uploadFilesStep(inputId, outputId) {\n",
              "  const inputElement = document.getElementById(inputId);\n",
              "  inputElement.disabled = false;\n",
              "\n",
              "  const outputElement = document.getElementById(outputId);\n",
              "  outputElement.innerHTML = '';\n",
              "\n",
              "  const pickedPromise = new Promise((resolve) => {\n",
              "    inputElement.addEventListener('change', (e) => {\n",
              "      resolve(e.target.files);\n",
              "    });\n",
              "  });\n",
              "\n",
              "  const cancel = document.createElement('button');\n",
              "  inputElement.parentElement.appendChild(cancel);\n",
              "  cancel.textContent = 'Cancel upload';\n",
              "  const cancelPromise = new Promise((resolve) => {\n",
              "    cancel.onclick = () => {\n",
              "      resolve(null);\n",
              "    };\n",
              "  });\n",
              "\n",
              "  // Wait for the user to pick the files.\n",
              "  const files = yield {\n",
              "    promise: Promise.race([pickedPromise, cancelPromise]),\n",
              "    response: {\n",
              "      action: 'starting',\n",
              "    }\n",
              "  };\n",
              "\n",
              "  cancel.remove();\n",
              "\n",
              "  // Disable the input element since further picks are not allowed.\n",
              "  inputElement.disabled = true;\n",
              "\n",
              "  if (!files) {\n",
              "    return {\n",
              "      response: {\n",
              "        action: 'complete',\n",
              "      }\n",
              "    };\n",
              "  }\n",
              "\n",
              "  for (const file of files) {\n",
              "    const li = document.createElement('li');\n",
              "    li.append(span(file.name, {fontWeight: 'bold'}));\n",
              "    li.append(span(\n",
              "        `(${file.type || 'n/a'}) - ${file.size} bytes, ` +\n",
              "        `last modified: ${\n",
              "            file.lastModifiedDate ? file.lastModifiedDate.toLocaleDateString() :\n",
              "                                    'n/a'} - `));\n",
              "    const percent = span('0% done');\n",
              "    li.appendChild(percent);\n",
              "\n",
              "    outputElement.appendChild(li);\n",
              "\n",
              "    const fileDataPromise = new Promise((resolve) => {\n",
              "      const reader = new FileReader();\n",
              "      reader.onload = (e) => {\n",
              "        resolve(e.target.result);\n",
              "      };\n",
              "      reader.readAsArrayBuffer(file);\n",
              "    });\n",
              "    // Wait for the data to be ready.\n",
              "    let fileData = yield {\n",
              "      promise: fileDataPromise,\n",
              "      response: {\n",
              "        action: 'continue',\n",
              "      }\n",
              "    };\n",
              "\n",
              "    // Use a chunked sending to avoid message size limits. See b/62115660.\n",
              "    let position = 0;\n",
              "    do {\n",
              "      const length = Math.min(fileData.byteLength - position, MAX_PAYLOAD_SIZE);\n",
              "      const chunk = new Uint8Array(fileData, position, length);\n",
              "      position += length;\n",
              "\n",
              "      const base64 = btoa(String.fromCharCode.apply(null, chunk));\n",
              "      yield {\n",
              "        response: {\n",
              "          action: 'append',\n",
              "          file: file.name,\n",
              "          data: base64,\n",
              "        },\n",
              "      };\n",
              "\n",
              "      let percentDone = fileData.byteLength === 0 ?\n",
              "          100 :\n",
              "          Math.round((position / fileData.byteLength) * 100);\n",
              "      percent.textContent = `${percentDone}% done`;\n",
              "\n",
              "    } while (position < fileData.byteLength);\n",
              "  }\n",
              "\n",
              "  // All done.\n",
              "  yield {\n",
              "    response: {\n",
              "      action: 'complete',\n",
              "    }\n",
              "  };\n",
              "}\n",
              "\n",
              "scope.google = scope.google || {};\n",
              "scope.google.colab = scope.google.colab || {};\n",
              "scope.google.colab._files = {\n",
              "  _uploadFiles,\n",
              "  _uploadFilesContinue,\n",
              "};\n",
              "})(self);\n",
              "</script> "
            ]
          },
          "metadata": {}
        },
        {
          "output_type": "stream",
          "name": "stdout",
          "text": [
            "Saving cleaned_suppliers.csv to cleaned_suppliers.csv\n",
            "Saving cleaned_inventory.csv to cleaned_inventory.csv\n",
            "Saving cleaned_orders.csv to cleaned_orders.csv\n"
          ]
        }
      ],
      "source": [
        "from google.colab import files\n",
        "uploaded=files.upload()"
      ]
    },
    {
      "cell_type": "code",
      "source": [
        "from pyspark.sql import SparkSession\n",
        "spark=SparkSession.builder.appName(\"supply_chain_monitor_optimization\").getOrCreate()\n",
        "spark"
      ],
      "metadata": {
        "colab": {
          "base_uri": "https://localhost:8080/",
          "height": 219
        },
        "id": "toILVXScMDhK",
        "outputId": "af32902e-70c6-488e-eb97-ac307484fd6a"
      },
      "execution_count": 2,
      "outputs": [
        {
          "output_type": "execute_result",
          "data": {
            "text/plain": [
              "<pyspark.sql.session.SparkSession at 0x7a373380d4d0>"
            ],
            "text/html": [
              "\n",
              "            <div>\n",
              "                <p><b>SparkSession - in-memory</b></p>\n",
              "                \n",
              "        <div>\n",
              "            <p><b>SparkContext</b></p>\n",
              "\n",
              "            <p><a href=\"http://e8aeb30416c6:4040\">Spark UI</a></p>\n",
              "\n",
              "            <dl>\n",
              "              <dt>Version</dt>\n",
              "                <dd><code>v3.5.1</code></dd>\n",
              "              <dt>Master</dt>\n",
              "                <dd><code>local[*]</code></dd>\n",
              "              <dt>AppName</dt>\n",
              "                <dd><code>supply_chain_monitor_optimization</code></dd>\n",
              "            </dl>\n",
              "        </div>\n",
              "        \n",
              "            </div>\n",
              "        "
            ]
          },
          "metadata": {},
          "execution_count": 2
        }
      ]
    },
    {
      "cell_type": "code",
      "source": [
        "sf=spark.read.csv('cleaned_suppliers.csv',header=True,inferSchema=True)\n",
        "of=spark.read.csv('cleaned_orders.csv',header=True,inferSchema=True)\n",
        "nf=spark.read.csv('cleaned_inventory.csv',header=True,inferSchema=True)\n",
        "sf.show()\n",
        "of.show()\n",
        "nf.show()"
      ],
      "metadata": {
        "colab": {
          "base_uri": "https://localhost:8080/"
        },
        "id": "DT--iEjSMkvJ",
        "outputId": "36d5ac4c-3c7f-4fb6-ffe4-2946a67e810e"
      },
      "execution_count": 4,
      "outputs": [
        {
          "output_type": "stream",
          "name": "stdout",
          "text": [
            "+-----------+----------------+--------------------+\n",
            "|supplier_id|            name|       contact_email|\n",
            "+-----------+----------------+--------------------+\n",
            "|          1|Alpha Components|alpha@components.com|\n",
            "|          2| Beta Industrial| beta@industrial.com|\n",
            "|          3|    Catalyst Co.| contact@catalyst.co|\n",
            "|          4|  Delta Supplies|info@deltasupplie...|\n",
            "|          5|   Epsilon Goods|   epsilon@goods.net|\n",
            "+-----------+----------------+--------------------+\n",
            "\n",
            "+--------+-----------+----------+-------------+--------+---------+------------+\n",
            "|order_id|supplier_id|order_date|delivery_date|quantity|   status|delayed_days|\n",
            "+--------+-----------+----------+-------------+--------+---------+------------+\n",
            "|       1|          1|2025-07-01|   2025-07-08|     100|  pending|           7|\n",
            "|       2|          2|2025-07-02|   2025-07-06|     200|fulfilled|           0|\n",
            "|       3|          3|2025-07-03|   2025-07-03|     150|cancelled|           0|\n",
            "|       4|          1|2025-07-05|   2025-07-08|      50|fulfilled|           0|\n",
            "|       5|          4|2025-07-07|   2025-07-14|      75|  pending|           7|\n",
            "|       6|          5|2025-07-08|   2025-07-15|      20|fulfilled|           0|\n",
            "|       7|          2|2025-07-10|   2025-07-12|     300|fulfilled|           0|\n",
            "|       8|          3|2025-07-11|   2025-07-18|      50|  pending|           7|\n",
            "|       9|          4|2025-07-12|   2025-07-12|     100|cancelled|           0|\n",
            "|      10|          5|2025-07-13|   2025-07-14|      60|fulfilled|           0|\n",
            "|      11|          1|2025-07-14|   2025-07-21|      90|  pending|           7|\n",
            "|      12|          2|2025-07-15|   2025-07-18|      40|fulfilled|           0|\n",
            "|      13|          3|2025-07-16|   2025-07-20|      30|fulfilled|           0|\n",
            "|      14|          4|2025-07-17|   2025-07-24|      80|  pending|           7|\n",
            "|      15|          5|2025-07-18|   2025-07-18|      55|cancelled|           0|\n",
            "+--------+-----------+----------+-------------+--------+---------+------------+\n",
            "\n",
            "+-------+-----------+-----------+-----------------+-----------------+\n",
            "|item_id|supplier_id|stock_level|reorder_threshold|reordering status|\n",
            "+-------+-----------+-----------+-----------------+-----------------+\n",
            "|      1|          1|        250|               50|               NO|\n",
            "|      2|          1|         45|               20|               NO|\n",
            "|      3|          2|          0|               30|Reordering needed|\n",
            "|      4|          3|        500|              100|               NO|\n",
            "|      5|          4|         10|               10|               NO|\n",
            "|      6|          5|          5|               10|Reordering needed|\n",
            "|      7|          2|        200|               25|               NO|\n",
            "|      8|          3|         75|               15|               NO|\n",
            "|      9|          4|          0|                5|Reordering needed|\n",
            "|     10|          5|        120|               30|               NO|\n",
            "+-------+-----------+-----------+-----------------+-----------------+\n",
            "\n"
          ]
        }
      ]
    },
    {
      "cell_type": "markdown",
      "source": [
        "# Filter delayed shipments"
      ],
      "metadata": {
        "id": "YJCUwus8NR1Q"
      }
    },
    {
      "cell_type": "code",
      "source": [
        "from pyspark.sql.functions import col\n",
        "of_filtered=of.filter(col('status')=='pending')\n",
        "of_filtered.show()"
      ],
      "metadata": {
        "colab": {
          "base_uri": "https://localhost:8080/"
        },
        "id": "Qf88Yxr4NXIw",
        "outputId": "2f01697c-8569-4c0c-8081-2ea56252042d"
      },
      "execution_count": 6,
      "outputs": [
        {
          "output_type": "stream",
          "name": "stdout",
          "text": [
            "+--------+-----------+----------+-------------+--------+-------+------------+\n",
            "|order_id|supplier_id|order_date|delivery_date|quantity| status|delayed_days|\n",
            "+--------+-----------+----------+-------------+--------+-------+------------+\n",
            "|       1|          1|2025-07-01|   2025-07-08|     100|pending|           7|\n",
            "|       5|          4|2025-07-07|   2025-07-14|      75|pending|           7|\n",
            "|       8|          3|2025-07-11|   2025-07-18|      50|pending|           7|\n",
            "|      11|          1|2025-07-14|   2025-07-21|      90|pending|           7|\n",
            "|      14|          4|2025-07-17|   2025-07-24|      80|pending|           7|\n",
            "+--------+-----------+----------+-------------+--------+-------+------------+\n",
            "\n"
          ]
        }
      ]
    },
    {
      "cell_type": "markdown",
      "source": [
        "# Group by supplier and count delayed orders"
      ],
      "metadata": {
        "id": "QGOf4Th6PUPA"
      }
    },
    {
      "cell_type": "code",
      "source": [
        "grouped_suppliers=of_filtered.groupBy('supplier_id').count()\n",
        "grouped_suppliers.show()"
      ],
      "metadata": {
        "colab": {
          "base_uri": "https://localhost:8080/"
        },
        "id": "iqRry0XXPYUz",
        "outputId": "f84e0be8-07e3-4f3c-e155-1f418d44e9ac"
      },
      "execution_count": 11,
      "outputs": [
        {
          "output_type": "stream",
          "name": "stdout",
          "text": [
            "+-----------+-----+\n",
            "|supplier_id|count|\n",
            "+-----------+-----+\n",
            "|          1|    2|\n",
            "|          3|    1|\n",
            "|          4|    2|\n",
            "+-----------+-----+\n",
            "\n"
          ]
        }
      ]
    },
    {
      "cell_type": "markdown",
      "source": [
        "# saving the the processed data as acsv file\n"
      ],
      "metadata": {
        "id": "lMG1sXOQS8Vc"
      }
    },
    {
      "cell_type": "code",
      "source": [
        "of_filtered.write.csv('filtered_orders.csv',header=True)\n",
        "grouped_suppliers.write.csv('grouped_by_supplier_delay.csv',header=True)"
      ],
      "metadata": {
        "id": "8ojGJFuSTB7S"
      },
      "execution_count": 12,
      "outputs": []
    }
  ]
}