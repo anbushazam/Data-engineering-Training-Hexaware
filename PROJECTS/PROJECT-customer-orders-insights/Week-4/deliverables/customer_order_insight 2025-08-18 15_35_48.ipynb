{
 "cells": [
  {
   "cell_type": "markdown",
   "metadata": {
    "application/vnd.databricks.v1+cell": {
     "cellMetadata": {},
     "inputWidgets": {},
     "nuid": "fd0e40ca-096e-41f7-bbe5-8db5a48904cb",
     "showTitle": false,
     "tableResultSettingsMap": {},
     "title": ""
    }
   },
   "source": [
    "Reading data from storage"
   ]
  },
  {
   "cell_type": "code",
   "execution_count": 0,
   "metadata": {
    "application/vnd.databricks.v1+cell": {
     "cellMetadata": {
      "byteLimit": 2048000,
      "rowLimit": 10000
     },
     "inputWidgets": {},
     "nuid": "84174088-0823-48dd-ad25-0516261d3092",
     "showTitle": false,
     "tableResultSettingsMap": {},
     "title": ""
    }
   },
   "outputs": [
    {
     "output_type": "stream",
     "name": "stdout",
     "output_type": "stream",
     "text": [
      "root\n |-- _c0: string (nullable = true)\n |-- customer_id: string (nullable = true)\n |-- name: string (nullable = true)\n |-- email: string (nullable = true)\n |-- phone: string (nullable = true)\n\nroot\n |-- _c0: string (nullable = true)\n |-- status_id: string (nullable = true)\n |-- order_id: string (nullable = true)\n |-- status: string (nullable = true)\n |-- status_time: string (nullable = true)\n |-- remarks: string (nullable = true)\n\nroot\n |-- _c0: string (nullable = true)\n |-- order_id: string (nullable = true)\n |-- customer_id: string (nullable = true)\n |-- order_date: string (nullable = true)\n |-- total_amount: string (nullable = true)\n |-- delivery_date: string (nullable = true)\n\n"
     ]
    }
   ],
   "source": [
    "cf = spark.read.format(\"csv\").option(\n",
    "    \"header\", True\n",
    ").load(\n",
    "    \"/Volumes/hexaware_training_workspace_3/default/customer_orders_insight/cleaned_data/customers_cleaned.csv\"\n",
    ")\n",
    "cf.printSchema()\n",
    "\n",
    "df = spark.read.format(\"csv\").option(\n",
    "    \"header\", True\n",
    ").load(\n",
    "    \"/Volumes/hexaware_training_workspace_3/default/customer_orders_insight/cleaned_data/deliveries_cleaned.csv\"\n",
    ")\n",
    "df.printSchema()\n",
    "\n",
    "of = spark.read.format(\"csv\").option(\n",
    "    \"header\", True\n",
    ").load(\n",
    "    \"/Volumes/hexaware_training_workspace_3/default/customer_orders_insight/cleaned_data/orders_cleaned.csv\"\n",
    ")\n",
    "of.printSchema()"
   ]
  },
  {
   "cell_type": "code",
   "execution_count": 0,
   "metadata": {
    "application/vnd.databricks.v1+cell": {
     "cellMetadata": {
      "byteLimit": 2048000,
      "rowLimit": 10000
     },
     "inputWidgets": {},
     "nuid": "740c5d4b-1ea4-4a6f-9311-4f423291b10e",
     "showTitle": false,
     "tableResultSettingsMap": {},
     "title": ""
    }
   },
   "outputs": [
    {
     "output_type": "stream",
     "name": "stdout",
     "output_type": "stream",
     "text": [
      "+---+---------+--------+-----------+-------------+------------+-------+\n|_c0|status_id|order_id|customer_id|delivery_date|delayed_Days|delayed|\n+---+---------+--------+-----------+-------------+------------+-------+\n|  2|        3|    1001|          1|   2025-07-03|           2|      1|\n|  5|        6|    1002|          2|   2025-07-05|           3|      1|\n|  8|        9|    1003|          3|   2025-07-07|           2|      1|\n| 11|       12|    1004|          1|   2025-07-09|           2|      1|\n| 14|       15|    1005|          4|   2025-07-12|           6|      1|\n| 17|       18|    1006|          2|   2025-07-13|           1|      1|\n| 20|       21|    1007|          5|   2025-07-14|           6|      1|\n| 23|       24|    1008|          3|   2025-07-16|           1|      1|\n| 26|       27|    1009|          4|   2025-07-17|           2|      1|\n| 29|       30|    1010|          5|   2025-07-18|           1|      1|\n+---+---------+--------+-----------+-------------+------------+-------+\n\n"
     ]
    }
   ],
   "source": [
    "ef=spark.read.option(\"header\",True).csv(\"/Volumes/hexaware_training_workspace_3/default/customer_orders_insight/cleaned_data/extracted_delays.csv\")\n",
    "ef.show()"
   ]
  },
  {
   "cell_type": "code",
   "execution_count": 0,
   "metadata": {
    "application/vnd.databricks.v1+cell": {
     "cellMetadata": {
      "byteLimit": 2048000,
      "rowLimit": 10000
     },
     "inputWidgets": {},
     "nuid": "e861c016-cdfb-4365-ab1a-c231c6357692",
     "showTitle": false,
     "tableResultSettingsMap": {},
     "title": ""
    }
   },
   "outputs": [
    {
     "output_type": "stream",
     "name": "stdout",
     "output_type": "stream",
     "text": [
      "+---+-----------+-------------+--------------------+--------+\n|_c0|customer_id|         name|               email|   phone|\n+---+-----------+-------------+--------------------+--------+\n|  0|          1|Alice Johnson|alice.johnson@exa...|555-0101|\n|  1|          2|    Bob Smith|bob.smith@example...|555-0202|\n|  2|          3|    Carol Lee|carol.lee@example...|555-0303|\n|  3|          4|  David Patel|david.patel@examp...|555-0404|\n|  4|          5|     Eva Wang|eva.wang@example.com|555-0505|\n+---+-----------+-------------+--------------------+--------+\n\n+---+---------+--------+---------+-------------------+--------------------+\n|_c0|status_id|order_id|   status|        status_time|             remarks|\n+---+---------+--------+---------+-------------------+--------------------+\n|  0|        1|    1001|  pending|2025-07-02 08:00:00|      left warehouse|\n|  1|        2|    1001|  shipped|2025-07-03 09:30:00|  departed warehouse|\n|  2|        3|    1001|delivered|2025-07-05 14:15:00|  signed by customer|\n|  3|        4|    1002|  pending|2025-07-04 10:00:00|      order received|\n|  4|        5|    1002|  shipped|2025-07-05 11:00:00|picked up by carrier|\n|  5|        6|    1002|  delayed|2025-07-08 16:00:00|       weather delay|\n|  6|        7|    1003|  pending|2025-07-06 07:45:00|      order received|\n|  7|        8|    1003|  shipped|2025-07-07 12:20:00|          in transit|\n|  8|        9|    1003|delivered|2025-07-09 09:10:00|  left at front door|\n|  9|       10|    1004|  pending|2025-07-08 08:30:00|      order received|\n| 10|       11|    1004|  shipped|2025-07-09 10:05:00|          in transit|\n| 11|       12|    1004|delivered|2025-07-11 15:00:00|   signature on file|\n| 12|       13|    1005|  pending|2025-07-11 09:00:00|      order received|\n| 13|       14|    1005|  shipped|2025-07-12 13:45:00|      departed depot|\n| 14|       15|    1005|  delayed|2025-07-18 18:20:00|        customs hold|\n| 15|       16|    1006|  pending|2025-07-12 08:00:00|      order received|\n| 16|       17|    1006|  shipped|2025-07-13 14:30:00|          in transit|\n| 17|       18|    1006|delivered|2025-07-14 11:00:00|delivered to neig...|\n| 18|       19|    1007|  pending|2025-07-13 09:15:00|      order received|\n| 19|       20|    1007|  shipped|2025-07-14 10:10:00|          in transit|\n+---+---------+--------+---------+-------------------+--------------------+\nonly showing top 20 rows\n+---+--------+-----------+----------+------------+-------------+\n|_c0|order_id|customer_id|order_date|total_amount|delivery_date|\n+---+--------+-----------+----------+------------+-------------+\n|  0|    1001|          1|2025-07-01|       120.5|   2025-07-03|\n|  1|    1002|          2|2025-07-03|        75.0|   2025-07-05|\n|  2|    1003|          3|2025-07-05|       200.0|   2025-07-07|\n|  3|    1004|          1|2025-07-07|        50.0|   2025-07-09|\n|  4|    1005|          4|2025-07-10|      315.75|   2025-07-12|\n|  5|    1006|          2|2025-07-11|       99.99|   2025-07-13|\n|  6|    1007|          5|2025-07-12|       150.0|   2025-07-14|\n|  7|    1008|          3|2025-07-14|       65.25|   2025-07-16|\n|  8|    1009|          4|2025-07-15|       230.0|   2025-07-17|\n|  9|    1010|          5|2025-07-16|        45.0|   2025-07-18|\n+---+--------+-----------+----------+------------+-------------+\n\n"
     ]
    }
   ],
   "source": [
    "cf.show()\n",
    "df.show()\n",
    "of.show(100)"
   ]
  },
  {
   "cell_type": "markdown",
   "metadata": {
    "application/vnd.databricks.v1+cell": {
     "cellMetadata": {},
     "inputWidgets": {},
     "nuid": "a4d3037c-8606-44b3-a42d-48f7784c7b7f",
     "showTitle": false,
     "tableResultSettingsMap": {},
     "title": ""
    }
   },
   "source": [
    "preparing gold view data\n",
    "and preparing delta tables\n"
   ]
  },
  {
   "cell_type": "code",
   "execution_count": 0,
   "metadata": {
    "application/vnd.databricks.v1+cell": {
     "cellMetadata": {
      "byteLimit": 2048000,
      "rowLimit": 10000
     },
     "inputWidgets": {},
     "nuid": "6d33c3aa-c3b1-4acf-bb64-d29b817bfe04",
     "showTitle": false,
     "tableResultSettingsMap": {},
     "title": ""
    }
   },
   "outputs": [
    {
     "output_type": "stream",
     "name": "stdout",
     "output_type": "stream",
     "text": [
      "+--------+---------+---------+-------------------+--------------------+-----------+-------------+------------+-------+\n|order_id|status_id|   status|        status_time|             remarks|customer_id|delivery_date|delayed_Days|delayed|\n+--------+---------+---------+-------------------+--------------------+-----------+-------------+------------+-------+\n|    1001|        1|  pending|2025-07-02 08:00:00|      left warehouse|          0|            0|           0|      0|\n|    1001|        2|  shipped|2025-07-03 09:30:00|  departed warehouse|          0|            0|           0|      0|\n|    1001|        3|delivered|2025-07-05 14:15:00|  signed by customer|          1|   2025-07-03|           2|      1|\n|    1002|        4|  pending|2025-07-04 10:00:00|      order received|          0|            0|           0|      0|\n|    1002|        5|  shipped|2025-07-05 11:00:00|picked up by carrier|          0|            0|           0|      0|\n|    1002|        6|  delayed|2025-07-08 16:00:00|       weather delay|          2|   2025-07-05|           3|      1|\n|    1003|        7|  pending|2025-07-06 07:45:00|      order received|          0|            0|           0|      0|\n|    1003|        8|  shipped|2025-07-07 12:20:00|          in transit|          0|            0|           0|      0|\n|    1003|        9|delivered|2025-07-09 09:10:00|  left at front door|          3|   2025-07-07|           2|      1|\n|    1004|       10|  pending|2025-07-08 08:30:00|      order received|          0|            0|           0|      0|\n|    1004|       11|  shipped|2025-07-09 10:05:00|          in transit|          0|            0|           0|      0|\n|    1004|       12|delivered|2025-07-11 15:00:00|   signature on file|          1|   2025-07-09|           2|      1|\n|    1005|       13|  pending|2025-07-11 09:00:00|      order received|          0|            0|           0|      0|\n|    1005|       14|  shipped|2025-07-12 13:45:00|      departed depot|          0|            0|           0|      0|\n|    1005|       15|  delayed|2025-07-18 18:20:00|        customs hold|          4|   2025-07-12|           6|      1|\n|    1006|       16|  pending|2025-07-12 08:00:00|      order received|          0|            0|           0|      0|\n|    1006|       17|  shipped|2025-07-13 14:30:00|          in transit|          0|            0|           0|      0|\n|    1006|       18|delivered|2025-07-14 11:00:00|delivered to neig...|          2|   2025-07-13|           1|      1|\n|    1007|       19|  pending|2025-07-13 09:15:00|      order received|          0|            0|           0|      0|\n|    1007|       20|  shipped|2025-07-14 10:10:00|          in transit|          0|            0|           0|      0|\n|    1007|       21|  delayed|2025-07-20 17:50:00|     route diversion|          5|   2025-07-14|           6|      1|\n|    1008|       22|  pending|2025-07-15 08:40:00|      order received|          0|            0|           0|      0|\n|    1008|       23|  shipped|2025-07-16 09:50:00|          in transit|          0|            0|           0|      0|\n|    1008|       24|delivered|2025-07-17 14:25:00|   left at reception|          3|   2025-07-16|           1|      1|\n|    1009|       25|  pending|2025-07-16 12:00:00|      order received|          0|            0|           0|      0|\n|    1009|       26|  shipped|2025-07-17 11:30:00|          in transit|          0|            0|           0|      0|\n|    1009|       27|delivered|2025-07-19 13:00:00| signed by recipient|          4|   2025-07-17|           2|      1|\n|    1010|       28|  pending|2025-07-17 07:30:00|      order received|          0|            0|           0|      0|\n|    1010|       29|  shipped|2025-07-18 15:20:00|          in transit|          0|            0|           0|      0|\n|    1010|       30|delivered|2025-07-19 16:45:00|package left at d...|          5|   2025-07-18|           1|      1|\n+--------+---------+---------+-------------------+--------------------+-----------+-------------+------------+-------+\n\nroot\n |-- order_id: string (nullable = true)\n |-- status_id: string (nullable = true)\n |-- status: string (nullable = true)\n |-- status_time: string (nullable = true)\n |-- remarks: string (nullable = true)\n |-- customer_id: string (nullable = false)\n |-- delivery_date: string (nullable = false)\n |-- delayed_Days: string (nullable = false)\n |-- delayed: string (nullable = false)\n\n"
     ]
    }
   ],
   "source": [
    "\n",
    "joined_table=df.join(ef,on='status_id',how='left').select(df.order_id.alias('order_id'),df.status_id.alias(\"status_id\"),\"status\",\"status_time\",\"remarks\",\"customer_id\",\"delivery_date\",\"delayed_Days\",\"delayed\")\n",
    "joined_table=joined_table.fillna(\"0\",subset=[\"delayed_Days\",\"delayed\",\"customer_id\",\"delivery_date\"])\n",
    "joined_table.show(40)\n",
    "joined_table.printSchema()"
   ]
  },
  {
   "cell_type": "code",
   "execution_count": 0,
   "metadata": {
    "application/vnd.databricks.v1+cell": {
     "cellMetadata": {
      "byteLimit": 2048000,
      "rowLimit": 10000
     },
     "inputWidgets": {},
     "nuid": "41fec02f-7128-4621-81ab-24feba1f044d",
     "showTitle": false,
     "tableResultSettingsMap": {},
     "title": ""
    }
   },
   "outputs": [],
   "source": [
    "joined_table.write.format(\"delta\").mode(\"overwrite\").save(\"/Volumes/hexaware_training_workspace_3/default/customer_orders_insight/gold_order_Data/orders\")"
   ]
  },
  {
   "cell_type": "markdown",
   "metadata": {
    "application/vnd.databricks.v1+cell": {
     "cellMetadata": {},
     "inputWidgets": {},
     "nuid": "b7ab22a5-bcbf-4b4c-96dc-7055349d559b",
     "showTitle": false,
     "tableResultSettingsMap": {},
     "title": ""
    }
   },
   "source": [
    "creating sample data for updation and insertion"
   ]
  },
  {
   "cell_type": "code",
   "execution_count": 0,
   "metadata": {
    "application/vnd.databricks.v1+cell": {
     "cellMetadata": {
      "byteLimit": 2048000,
      "rowLimit": 10000
     },
     "inputWidgets": {},
     "nuid": "09db0d4e-5b0f-462d-b26f-43befe0e8586",
     "showTitle": false,
     "tableResultSettingsMap": {},
     "title": ""
    }
   },
   "outputs": [],
   "source": [
    "csv_data=\"\"\"order_id,status_id,status,status_time,remarks,customer_id,delivery_date,delayed_Days,delayed\n",
    "1010,30,not-delivered,2025-07-19 16:45:00,package stolen,5,2025-07-18,1,1\n",
    "1010,31,delivered,2025-07-25 16:45:00,package delivered to customer in-hand,5,2025-07-25,7,1\"\"\"\n",
    "with open(\"/Volumes/hexaware_training_workspace_3/default/customer_orders_insight/updation_Data/new_data.csv\",\"w\")as f:\n",
    "    f.write(csv_data)\n"
   ]
  },
  {
   "cell_type": "code",
   "execution_count": 0,
   "metadata": {
    "application/vnd.databricks.v1+cell": {
     "cellMetadata": {
      "byteLimit": 2048000,
      "rowLimit": 10000
     },
     "inputWidgets": {},
     "nuid": "55ab62ca-d692-41e4-ac7c-ec35228c049c",
     "showTitle": false,
     "tableResultSettingsMap": {},
     "title": ""
    }
   },
   "outputs": [
    {
     "output_type": "stream",
     "name": "stdout",
     "output_type": "stream",
     "text": [
      "+--------+---------+-------------+-------------------+--------------------+-----------+-------------+------------+-------+\n|order_id|status_id|       status|        status_time|             remarks|customer_id|delivery_date|delayed_Days|delayed|\n+--------+---------+-------------+-------------------+--------------------+-----------+-------------+------------+-------+\n|    1010|       30|not-delivered|2025-07-19 16:45:00|      package stolen|          5|   2025-07-18|           1|      1|\n|    1010|       31|    delivered|2025-07-25 16:45:00|package delivered...|          5|   2025-07-25|           7|      1|\n+--------+---------+-------------+-------------------+--------------------+-----------+-------------+------------+-------+\n\n"
     ]
    }
   ],
   "source": [
    "from pyspark.sql.functions import to_timestamp\n",
    "new_data=spark.read.option(\"header\",True).csv(\"/Volumes/hexaware_training_workspace_3/default/customer_orders_insight/updation_Data/new_data.csv\")\n",
    "new_data.show()\n",
    "new_data=new_data.withColumn('status_time',to_timestamp(\"status_time\"))\n",
    "new_data=new_data.withColumn('delivery_date',to_timestamp(\"delivery_date\"))\n",
    "#new_data.write.format(\"delta\").mode(\"overwrite\").save(\"/Volumes/hexaware_training_workspace_3/default/#customer_orders_insight/updation_Data/new_data_delta\")\n"
   ]
  },
  {
   "cell_type": "code",
   "execution_count": 0,
   "metadata": {
    "application/vnd.databricks.v1+cell": {
     "cellMetadata": {},
     "inputWidgets": {},
     "nuid": "d7b1ae20-c86b-4a92-9080-10a3dcc4cf26",
     "showTitle": false,
     "tableResultSettingsMap": {},
     "title": ""
    }
   },
   "outputs": [],
   "source": []
  },
  {
   "cell_type": "code",
   "execution_count": 0,
   "metadata": {
    "application/vnd.databricks.v1+cell": {
     "cellMetadata": {
      "byteLimit": 2048000,
      "rowLimit": 10000
     },
     "inputWidgets": {},
     "nuid": "47f9dcb0-eab5-4e43-93b1-3b1f138231f9",
     "showTitle": false,
     "tableResultSettingsMap": {},
     "title": ""
    }
   },
   "outputs": [
    {
     "output_type": "stream",
     "name": "stdout",
     "output_type": "stream",
     "text": [
      "+--------+---------+-------------+-------------------+--------------------+-----------+-------------------+------------+-------+\n|order_id|status_id|       status|        status_time|             remarks|customer_id|      delivery_date|delayed_Days|delayed|\n+--------+---------+-------------+-------------------+--------------------+-----------+-------------------+------------+-------+\n|    1001|        1|      pending|2025-07-02 08:00:00|      left warehouse|          0|                  0|           0|      0|\n|    1001|        2|      shipped|2025-07-03 09:30:00|  departed warehouse|          0|                  0|           0|      0|\n|    1001|        3|    delivered|2025-07-05 14:15:00|  signed by customer|          1|         2025-07-03|           2|      1|\n|    1002|        4|      pending|2025-07-04 10:00:00|      order received|          0|                  0|           0|      0|\n|    1002|        5|      shipped|2025-07-05 11:00:00|picked up by carrier|          0|                  0|           0|      0|\n|    1002|        6|      delayed|2025-07-08 16:00:00|       weather delay|          2|         2025-07-05|           3|      1|\n|    1003|        7|      pending|2025-07-06 07:45:00|      order received|          0|                  0|           0|      0|\n|    1003|        8|      shipped|2025-07-07 12:20:00|          in transit|          0|                  0|           0|      0|\n|    1003|        9|    delivered|2025-07-09 09:10:00|  left at front door|          3|         2025-07-07|           2|      1|\n|    1004|       10|      pending|2025-07-08 08:30:00|      order received|          0|                  0|           0|      0|\n|    1004|       11|      shipped|2025-07-09 10:05:00|          in transit|          0|                  0|           0|      0|\n|    1004|       12|    delivered|2025-07-11 15:00:00|   signature on file|          1|         2025-07-09|           2|      1|\n|    1005|       13|      pending|2025-07-11 09:00:00|      order received|          0|                  0|           0|      0|\n|    1005|       14|      shipped|2025-07-12 13:45:00|      departed depot|          0|                  0|           0|      0|\n|    1005|       15|      delayed|2025-07-18 18:20:00|        customs hold|          4|         2025-07-12|           6|      1|\n|    1006|       16|      pending|2025-07-12 08:00:00|      order received|          0|                  0|           0|      0|\n|    1006|       17|      shipped|2025-07-13 14:30:00|          in transit|          0|                  0|           0|      0|\n|    1006|       18|    delivered|2025-07-14 11:00:00|delivered to neig...|          2|         2025-07-13|           1|      1|\n|    1007|       19|      pending|2025-07-13 09:15:00|      order received|          0|                  0|           0|      0|\n|    1007|       20|      shipped|2025-07-14 10:10:00|          in transit|          0|                  0|           0|      0|\n|    1007|       21|      delayed|2025-07-20 17:50:00|     route diversion|          5|         2025-07-14|           6|      1|\n|    1008|       22|      pending|2025-07-15 08:40:00|      order received|          0|                  0|           0|      0|\n|    1008|       23|      shipped|2025-07-16 09:50:00|          in transit|          0|                  0|           0|      0|\n|    1008|       24|    delivered|2025-07-17 14:25:00|   left at reception|          3|         2025-07-16|           1|      1|\n|    1009|       25|      pending|2025-07-16 12:00:00|      order received|          0|                  0|           0|      0|\n|    1009|       26|      shipped|2025-07-17 11:30:00|          in transit|          0|                  0|           0|      0|\n|    1009|       27|    delivered|2025-07-19 13:00:00| signed by recipient|          4|         2025-07-17|           2|      1|\n|    1010|       28|      pending|2025-07-17 07:30:00|      order received|          0|                  0|           0|      0|\n|    1010|       29|      shipped|2025-07-18 15:20:00|          in transit|          0|                  0|           0|      0|\n|    1010|       30|not-delivered|2025-07-19 16:45:00|      package stolen|          5|2025-07-18 00:00:00|           1|      1|\n|    1010|       31|    delivered|2025-07-25 16:45:00|package delivered...|          5|2025-07-25 00:00:00|           7|      1|\n+--------+---------+-------------+-------------------+--------------------+-----------+-------------------+------------+-------+\n\n"
     ]
    }
   ],
   "source": [
    "from delta.tables import DeltaTable\n",
    "deltaTable = DeltaTable.forPath(spark,\"/Volumes/hexaware_training_workspace_3/default/customer_orders_insight/gold_order_Data/orders\")\n",
    "deltaTable.alias(\"old\").merge(new_data.alias(\"new\"),\"old.status_id=new.status_id\").whenMatchedUpdateAll().whenNotMatchedInsertAll().execute()\n",
    "deltaTable.toDF().show(45)\n",
    "deltaTable.toDF().write.format(\"delta\").mode(\"overwrite\").save(\"/Volumes/hexaware_training_workspace_3/default/customer_orders_insight/final_data/updated_data_delta\")"
   ]
  },
  {
   "cell_type": "markdown",
   "metadata": {
    "application/vnd.databricks.v1+cell": {
     "cellMetadata": {},
     "inputWidgets": {},
     "nuid": "6e81476c-692a-406d-bf22-c74fd5746a0f",
     "showTitle": false,
     "tableResultSettingsMap": {},
     "title": ""
    }
   },
   "source": [
    "top 5 delayed customers"
   ]
  },
  {
   "cell_type": "code",
   "execution_count": 0,
   "metadata": {
    "application/vnd.databricks.v1+cell": {
     "cellMetadata": {
      "byteLimit": 2048000,
      "rowLimit": 10000
     },
     "inputWidgets": {},
     "nuid": "ab47a589-5b6f-45a0-b07f-c86862e232e2",
     "showTitle": false,
     "tableResultSettingsMap": {},
     "title": ""
    }
   },
   "outputs": [],
   "source": [
    "deltaTable.toDF().write.format(\"delta\").mode(\"overwrite\").save(\"dbfs:/FileStore/shared_uploads/delta_table_temp\")"
   ]
  },
  {
   "cell_type": "code",
   "execution_count": 0,
   "metadata": {
    "application/vnd.databricks.v1+cell": {
     "cellMetadata": {
      "byteLimit": 2048000,
      "rowLimit": 10000
     },
     "inputWidgets": {},
     "nuid": "9955c0f5-79ee-499e-9a3e-48e1b1b6d85c",
     "showTitle": false,
     "tableResultSettingsMap": {},
     "title": ""
    }
   },
   "outputs": [
    {
     "output_type": "stream",
     "name": "stdout",
     "output_type": "stream",
     "text": [
      "+--------+-----------+\n|order_id|total_delay|\n+--------+-----------+\n|    1010|          7|\n|    1005|          6|\n|    1007|          6|\n|    1002|          3|\n|    1001|          2|\n+--------+-----------+\n\n"
     ]
    }
   ],
   "source": [
    "spark.sql(\"\"\"use catalog hive_metastore\"\"\")\n",
    "spark.sql(\"\"\"create database if not exists customer_order_insight\"\"\")\n",
    "spark.sql(\"\"\"use customer_order_insight\"\"\")\n",
    "spark.sql(\"\"\"create table if not exists orders using delta location \"dbfs:/FileStore/shared_uploads/delta_table_temp\" \"\"\")\n",
    "spark.sql(\"\"\"select order_id,max(delayed_Days)as total_delay from orders where delayed_Days>0 group by order_id order by total_delay desc limit 5\"\"\").show()"
   ]
  }
 ],
 "metadata": {
  "application/vnd.databricks.v1+notebook": {
   "computePreferences": null,
   "dashboards": [],
   "environmentMetadata": {
    "base_environment": "",
    "environment_version": "2"
   },
   "inputWidgetPreferences": null,
   "language": "python",
   "notebookMetadata": {
    "pythonIndentUnit": 4
   },
   "notebookName": "customer_order_insight 2025-08-18 15:35:48",
   "widgets": {}
  },
  "language_info": {
   "name": "python"
  }
 },
 "nbformat": 4,
 "nbformat_minor": 0
}