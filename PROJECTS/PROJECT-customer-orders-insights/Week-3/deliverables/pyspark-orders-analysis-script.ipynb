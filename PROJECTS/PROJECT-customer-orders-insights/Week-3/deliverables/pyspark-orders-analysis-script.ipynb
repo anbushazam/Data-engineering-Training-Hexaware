{
  "nbformat": 4,
  "nbformat_minor": 0,
  "metadata": {
    "colab": {
      "provenance": []
    },
    "kernelspec": {
      "name": "python3",
      "display_name": "Python 3"
    },
    "language_info": {
      "name": "python"
    }
  },
  "cells": [
    {
      "cell_type": "markdown",
      "source": [
        "# Reading files"
      ],
      "metadata": {
        "id": "0mzzezPzt2FI"
      }
    },
    {
      "cell_type": "code",
      "execution_count": 10,
      "metadata": {
        "colab": {
          "base_uri": "https://localhost:8080/",
          "height": 73
        },
        "id": "Od2Fb2rEqpjG",
        "outputId": "03c5e853-6d98-4155-f2ea-122be1600b0c"
      },
      "outputs": [
        {
          "output_type": "display_data",
          "data": {
            "text/plain": [
              "<IPython.core.display.HTML object>"
            ],
            "text/html": [
              "\n",
              "     <input type=\"file\" id=\"files-2df78737-c1de-4643-aa16-765a93846957\" name=\"files[]\" multiple disabled\n",
              "        style=\"border:none\" />\n",
              "     <output id=\"result-2df78737-c1de-4643-aa16-765a93846957\">\n",
              "      Upload widget is only available when the cell has been executed in the\n",
              "      current browser session. Please rerun this cell to enable.\n",
              "      </output>\n",
              "      <script>// Copyright 2017 Google LLC\n",
              "//\n",
              "// Licensed under the Apache License, Version 2.0 (the \"License\");\n",
              "// you may not use this file except in compliance with the License.\n",
              "// You may obtain a copy of the License at\n",
              "//\n",
              "//      http://www.apache.org/licenses/LICENSE-2.0\n",
              "//\n",
              "// Unless required by applicable law or agreed to in writing, software\n",
              "// distributed under the License is distributed on an \"AS IS\" BASIS,\n",
              "// WITHOUT WARRANTIES OR CONDITIONS OF ANY KIND, either express or implied.\n",
              "// See the License for the specific language governing permissions and\n",
              "// limitations under the License.\n",
              "\n",
              "/**\n",
              " * @fileoverview Helpers for google.colab Python module.\n",
              " */\n",
              "(function(scope) {\n",
              "function span(text, styleAttributes = {}) {\n",
              "  const element = document.createElement('span');\n",
              "  element.textContent = text;\n",
              "  for (const key of Object.keys(styleAttributes)) {\n",
              "    element.style[key] = styleAttributes[key];\n",
              "  }\n",
              "  return element;\n",
              "}\n",
              "\n",
              "// Max number of bytes which will be uploaded at a time.\n",
              "const MAX_PAYLOAD_SIZE = 100 * 1024;\n",
              "\n",
              "function _uploadFiles(inputId, outputId) {\n",
              "  const steps = uploadFilesStep(inputId, outputId);\n",
              "  const outputElement = document.getElementById(outputId);\n",
              "  // Cache steps on the outputElement to make it available for the next call\n",
              "  // to uploadFilesContinue from Python.\n",
              "  outputElement.steps = steps;\n",
              "\n",
              "  return _uploadFilesContinue(outputId);\n",
              "}\n",
              "\n",
              "// This is roughly an async generator (not supported in the browser yet),\n",
              "// where there are multiple asynchronous steps and the Python side is going\n",
              "// to poll for completion of each step.\n",
              "// This uses a Promise to block the python side on completion of each step,\n",
              "// then passes the result of the previous step as the input to the next step.\n",
              "function _uploadFilesContinue(outputId) {\n",
              "  const outputElement = document.getElementById(outputId);\n",
              "  const steps = outputElement.steps;\n",
              "\n",
              "  const next = steps.next(outputElement.lastPromiseValue);\n",
              "  return Promise.resolve(next.value.promise).then((value) => {\n",
              "    // Cache the last promise value to make it available to the next\n",
              "    // step of the generator.\n",
              "    outputElement.lastPromiseValue = value;\n",
              "    return next.value.response;\n",
              "  });\n",
              "}\n",
              "\n",
              "/**\n",
              " * Generator function which is called between each async step of the upload\n",
              " * process.\n",
              " * @param {string} inputId Element ID of the input file picker element.\n",
              " * @param {string} outputId Element ID of the output display.\n",
              " * @return {!Iterable<!Object>} Iterable of next steps.\n",
              " */\n",
              "function* uploadFilesStep(inputId, outputId) {\n",
              "  const inputElement = document.getElementById(inputId);\n",
              "  inputElement.disabled = false;\n",
              "\n",
              "  const outputElement = document.getElementById(outputId);\n",
              "  outputElement.innerHTML = '';\n",
              "\n",
              "  const pickedPromise = new Promise((resolve) => {\n",
              "    inputElement.addEventListener('change', (e) => {\n",
              "      resolve(e.target.files);\n",
              "    });\n",
              "  });\n",
              "\n",
              "  const cancel = document.createElement('button');\n",
              "  inputElement.parentElement.appendChild(cancel);\n",
              "  cancel.textContent = 'Cancel upload';\n",
              "  const cancelPromise = new Promise((resolve) => {\n",
              "    cancel.onclick = () => {\n",
              "      resolve(null);\n",
              "    };\n",
              "  });\n",
              "\n",
              "  // Wait for the user to pick the files.\n",
              "  const files = yield {\n",
              "    promise: Promise.race([pickedPromise, cancelPromise]),\n",
              "    response: {\n",
              "      action: 'starting',\n",
              "    }\n",
              "  };\n",
              "\n",
              "  cancel.remove();\n",
              "\n",
              "  // Disable the input element since further picks are not allowed.\n",
              "  inputElement.disabled = true;\n",
              "\n",
              "  if (!files) {\n",
              "    return {\n",
              "      response: {\n",
              "        action: 'complete',\n",
              "      }\n",
              "    };\n",
              "  }\n",
              "\n",
              "  for (const file of files) {\n",
              "    const li = document.createElement('li');\n",
              "    li.append(span(file.name, {fontWeight: 'bold'}));\n",
              "    li.append(span(\n",
              "        `(${file.type || 'n/a'}) - ${file.size} bytes, ` +\n",
              "        `last modified: ${\n",
              "            file.lastModifiedDate ? file.lastModifiedDate.toLocaleDateString() :\n",
              "                                    'n/a'} - `));\n",
              "    const percent = span('0% done');\n",
              "    li.appendChild(percent);\n",
              "\n",
              "    outputElement.appendChild(li);\n",
              "\n",
              "    const fileDataPromise = new Promise((resolve) => {\n",
              "      const reader = new FileReader();\n",
              "      reader.onload = (e) => {\n",
              "        resolve(e.target.result);\n",
              "      };\n",
              "      reader.readAsArrayBuffer(file);\n",
              "    });\n",
              "    // Wait for the data to be ready.\n",
              "    let fileData = yield {\n",
              "      promise: fileDataPromise,\n",
              "      response: {\n",
              "        action: 'continue',\n",
              "      }\n",
              "    };\n",
              "\n",
              "    // Use a chunked sending to avoid message size limits. See b/62115660.\n",
              "    let position = 0;\n",
              "    do {\n",
              "      const length = Math.min(fileData.byteLength - position, MAX_PAYLOAD_SIZE);\n",
              "      const chunk = new Uint8Array(fileData, position, length);\n",
              "      position += length;\n",
              "\n",
              "      const base64 = btoa(String.fromCharCode.apply(null, chunk));\n",
              "      yield {\n",
              "        response: {\n",
              "          action: 'append',\n",
              "          file: file.name,\n",
              "          data: base64,\n",
              "        },\n",
              "      };\n",
              "\n",
              "      let percentDone = fileData.byteLength === 0 ?\n",
              "          100 :\n",
              "          Math.round((position / fileData.byteLength) * 100);\n",
              "      percent.textContent = `${percentDone}% done`;\n",
              "\n",
              "    } while (position < fileData.byteLength);\n",
              "  }\n",
              "\n",
              "  // All done.\n",
              "  yield {\n",
              "    response: {\n",
              "      action: 'complete',\n",
              "    }\n",
              "  };\n",
              "}\n",
              "\n",
              "scope.google = scope.google || {};\n",
              "scope.google.colab = scope.google.colab || {};\n",
              "scope.google.colab._files = {\n",
              "  _uploadFiles,\n",
              "  _uploadFilesContinue,\n",
              "};\n",
              "})(self);\n",
              "</script> "
            ]
          },
          "metadata": {}
        },
        {
          "output_type": "stream",
          "name": "stdout",
          "text": [
            "Saving orders_cleaned.csv to orders_cleaned.csv\n"
          ]
        }
      ],
      "source": [
        "from google.colab import files\n",
        "uploaded=files.upload()"
      ]
    },
    {
      "cell_type": "code",
      "source": [
        "from pyspark.sql import SparkSession\n",
        "spark=SparkSession.builder.appName(\"orders_analysis\").getOrCreate()\n",
        "spark"
      ],
      "metadata": {
        "colab": {
          "base_uri": "https://localhost:8080/",
          "height": 219
        },
        "id": "MxL8I-hnt50D",
        "outputId": "f6065a1b-81ae-4340-cf19-da4cd29ec4dd"
      },
      "execution_count": 5,
      "outputs": [
        {
          "output_type": "execute_result",
          "data": {
            "text/plain": [
              "<pyspark.sql.session.SparkSession at 0x78cbdcf74c50>"
            ],
            "text/html": [
              "\n",
              "            <div>\n",
              "                <p><b>SparkSession - in-memory</b></p>\n",
              "                \n",
              "        <div>\n",
              "            <p><b>SparkContext</b></p>\n",
              "\n",
              "            <p><a href=\"http://fab7a5d59e7c:4040\">Spark UI</a></p>\n",
              "\n",
              "            <dl>\n",
              "              <dt>Version</dt>\n",
              "                <dd><code>v3.5.1</code></dd>\n",
              "              <dt>Master</dt>\n",
              "                <dd><code>local[*]</code></dd>\n",
              "              <dt>AppName</dt>\n",
              "                <dd><code>orders_analysis</code></dd>\n",
              "            </dl>\n",
              "        </div>\n",
              "        \n",
              "            </div>\n",
              "        "
            ]
          },
          "metadata": {},
          "execution_count": 5
        }
      ]
    },
    {
      "cell_type": "code",
      "source": [
        "cf=spark.read.csv('customers_cleaned.csv',header=True,inferSchema=True)\n",
        "cf.show()\n"
      ],
      "metadata": {
        "colab": {
          "base_uri": "https://localhost:8080/"
        },
        "id": "VWnLwXNjuShP",
        "outputId": "1572c919-b349-4065-c574-d7239159df99"
      },
      "execution_count": 6,
      "outputs": [
        {
          "output_type": "stream",
          "name": "stdout",
          "text": [
            "+---+-----------+-------------+--------------------+--------+--------------------+\n",
            "|_c0|customer_id|         name|               email|   phone|             address|\n",
            "+---+-----------+-------------+--------------------+--------+--------------------+\n",
            "|  0|          1|Alice Johnson|alice.johnson@exa...|555-0101|123 Maple St, Spr...|\n",
            "|  1|          2|    Bob Smith|bob.smith@example...|555-0202|456 Oak St, Orlan...|\n",
            "|  2|          3|    Carol Lee|carol.lee@example...|555-0303|789 Pine St, Seat...|\n",
            "|  3|          4|  David Patel|david.patel@examp...|555-0404|101 Birch St, Bos...|\n",
            "|  4|          5|     Eva Wang|eva.wang@example.com|555-0505|202 Cedar St, Pho...|\n",
            "+---+-----------+-------------+--------------------+--------+--------------------+\n",
            "\n"
          ]
        }
      ]
    },
    {
      "cell_type": "code",
      "source": [
        "df=spark.read.csv('deliveries_cleaned.csv',header=True,inferSchema=True)\n",
        "df.show()"
      ],
      "metadata": {
        "colab": {
          "base_uri": "https://localhost:8080/"
        },
        "id": "6TpGxTuJxgsi",
        "outputId": "2c02cdba-1977-4bf8-d15b-33ed6e6ed490"
      },
      "execution_count": 11,
      "outputs": [
        {
          "output_type": "stream",
          "name": "stdout",
          "text": [
            "+---+---------+--------+---------+-------------------+--------------------+\n",
            "|_c0|status_id|order_id|   status|        status_time|             remarks|\n",
            "+---+---------+--------+---------+-------------------+--------------------+\n",
            "|  0|        1|    1001|  pending|2025-07-02 08:00:00|      left warehouse|\n",
            "|  1|        2|    1001|  shipped|2025-07-03 09:30:00|  departed warehouse|\n",
            "|  2|        3|    1001|delivered|2025-07-05 14:15:00|  signed by customer|\n",
            "|  3|        4|    1002|  pending|2025-07-04 10:00:00|      order received|\n",
            "|  4|        5|    1002|  shipped|2025-07-05 11:00:00|picked up by carrier|\n",
            "|  5|        6|    1002|  delayed|2025-07-08 16:00:00|       weather delay|\n",
            "|  6|        7|    1003|  pending|2025-07-06 07:45:00|      order received|\n",
            "|  7|        8|    1003|  shipped|2025-07-07 12:20:00|          in transit|\n",
            "|  8|        9|    1003|delivered|2025-07-09 09:10:00|  left at front door|\n",
            "|  9|       10|    1004|  pending|2025-07-08 08:30:00|      order received|\n",
            "| 10|       11|    1004|  shipped|2025-07-09 10:05:00|          in transit|\n",
            "| 11|       12|    1004|delivered|2025-07-11 15:00:00|   signature on file|\n",
            "| 12|       13|    1005|  pending|2025-07-11 09:00:00|      order received|\n",
            "| 13|       14|    1005|  shipped|2025-07-12 13:45:00|      departed depot|\n",
            "| 14|       15|    1005|  delayed|2025-07-18 18:20:00|        customs hold|\n",
            "| 15|       16|    1006|  pending|2025-07-12 08:00:00|      order received|\n",
            "| 16|       17|    1006|  shipped|2025-07-13 14:30:00|          in transit|\n",
            "| 17|       18|    1006|delivered|2025-07-14 11:00:00|delivered to neig...|\n",
            "| 18|       19|    1007|  pending|2025-07-13 09:15:00|      order received|\n",
            "| 19|       20|    1007|  shipped|2025-07-14 10:10:00|          in transit|\n",
            "+---+---------+--------+---------+-------------------+--------------------+\n",
            "only showing top 20 rows\n",
            "\n"
          ]
        }
      ]
    },
    {
      "cell_type": "code",
      "source": [
        "of=spark.read.csv('orders_cleaned.csv',header=True,inferSchema=True)\n",
        "of.show()"
      ],
      "metadata": {
        "colab": {
          "base_uri": "https://localhost:8080/"
        },
        "id": "5LXCN2AwxpBv",
        "outputId": "0ee1a6cb-4b82-4d43-f25b-9f711f53f5ed"
      },
      "execution_count": 12,
      "outputs": [
        {
          "output_type": "stream",
          "name": "stdout",
          "text": [
            "+---+--------+-----------+----------+------------+-------------+\n",
            "|_c0|order_id|customer_id|order_date|total_amount|delivery_date|\n",
            "+---+--------+-----------+----------+------------+-------------+\n",
            "|  0|    1001|          1|2025-07-01|       120.5|   2025-07-03|\n",
            "|  1|    1002|          2|2025-07-03|        75.0|   2025-07-05|\n",
            "|  2|    1003|          3|2025-07-05|       200.0|   2025-07-07|\n",
            "|  3|    1004|          1|2025-07-07|        50.0|   2025-07-09|\n",
            "|  4|    1005|          4|2025-07-10|      315.75|   2025-07-12|\n",
            "|  5|    1006|          2|2025-07-11|       99.99|   2025-07-13|\n",
            "|  6|    1007|          5|2025-07-12|       150.0|   2025-07-14|\n",
            "|  7|    1008|          3|2025-07-14|       65.25|   2025-07-16|\n",
            "|  8|    1009|          4|2025-07-15|       230.0|   2025-07-17|\n",
            "|  9|    1010|          5|2025-07-16|        45.0|   2025-07-18|\n",
            "+---+--------+-----------+----------+------------+-------------+\n",
            "\n"
          ]
        }
      ]
    },
    {
      "cell_type": "markdown",
      "source": [
        "# Joining orders with customer tables"
      ],
      "metadata": {
        "id": "8DDXRvOwyYMI"
      }
    },
    {
      "cell_type": "code",
      "source": [
        "oc=of.join(cf.select(\"customer_id\",\"name\",\"email\",\"phone\",\"address\"),on='customer_id',how='left')\n",
        "\n",
        "oc=oc.join(df.select(\"order_id\",\"status_id\",\"status\",\"status_time\",\"remarks\"),on=\"order_id\",how=\"right\")\n",
        "oc=oc.select(\"_c0\",\"order_id\",\"customer_id\",\"status_id\",\"order_date\",\"delivery_date\",\"status\",\"name\",\"total_amount\",\"email\",\"phone\",\"status_time\",\"address\",\"remarks\")\n",
        "oc.show()"
      ],
      "metadata": {
        "colab": {
          "base_uri": "https://localhost:8080/"
        },
        "id": "KnOtLvpLx85S",
        "outputId": "dfbac31e-9719-4a7b-8768-dd0162584159"
      },
      "execution_count": 18,
      "outputs": [
        {
          "output_type": "stream",
          "name": "stdout",
          "text": [
            "+---+--------+-----------+---------+----------+-------------+---------+-------------+------------+--------------------+--------+-------------------+--------------------+--------------------+\n",
            "|_c0|order_id|customer_id|status_id|order_date|delivery_date|   status|         name|total_amount|               email|   phone|        status_time|             address|             remarks|\n",
            "+---+--------+-----------+---------+----------+-------------+---------+-------------+------------+--------------------+--------+-------------------+--------------------+--------------------+\n",
            "|  0|    1001|          1|        1|2025-07-01|   2025-07-03|  pending|Alice Johnson|       120.5|alice.johnson@exa...|555-0101|2025-07-02 08:00:00|123 Maple St, Spr...|      left warehouse|\n",
            "|  0|    1001|          1|        2|2025-07-01|   2025-07-03|  shipped|Alice Johnson|       120.5|alice.johnson@exa...|555-0101|2025-07-03 09:30:00|123 Maple St, Spr...|  departed warehouse|\n",
            "|  0|    1001|          1|        3|2025-07-01|   2025-07-03|delivered|Alice Johnson|       120.5|alice.johnson@exa...|555-0101|2025-07-05 14:15:00|123 Maple St, Spr...|  signed by customer|\n",
            "|  1|    1002|          2|        4|2025-07-03|   2025-07-05|  pending|    Bob Smith|        75.0|bob.smith@example...|555-0202|2025-07-04 10:00:00|456 Oak St, Orlan...|      order received|\n",
            "|  1|    1002|          2|        5|2025-07-03|   2025-07-05|  shipped|    Bob Smith|        75.0|bob.smith@example...|555-0202|2025-07-05 11:00:00|456 Oak St, Orlan...|picked up by carrier|\n",
            "|  1|    1002|          2|        6|2025-07-03|   2025-07-05|  delayed|    Bob Smith|        75.0|bob.smith@example...|555-0202|2025-07-08 16:00:00|456 Oak St, Orlan...|       weather delay|\n",
            "|  2|    1003|          3|        7|2025-07-05|   2025-07-07|  pending|    Carol Lee|       200.0|carol.lee@example...|555-0303|2025-07-06 07:45:00|789 Pine St, Seat...|      order received|\n",
            "|  2|    1003|          3|        8|2025-07-05|   2025-07-07|  shipped|    Carol Lee|       200.0|carol.lee@example...|555-0303|2025-07-07 12:20:00|789 Pine St, Seat...|          in transit|\n",
            "|  2|    1003|          3|        9|2025-07-05|   2025-07-07|delivered|    Carol Lee|       200.0|carol.lee@example...|555-0303|2025-07-09 09:10:00|789 Pine St, Seat...|  left at front door|\n",
            "|  3|    1004|          1|       10|2025-07-07|   2025-07-09|  pending|Alice Johnson|        50.0|alice.johnson@exa...|555-0101|2025-07-08 08:30:00|123 Maple St, Spr...|      order received|\n",
            "|  3|    1004|          1|       11|2025-07-07|   2025-07-09|  shipped|Alice Johnson|        50.0|alice.johnson@exa...|555-0101|2025-07-09 10:05:00|123 Maple St, Spr...|          in transit|\n",
            "|  3|    1004|          1|       12|2025-07-07|   2025-07-09|delivered|Alice Johnson|        50.0|alice.johnson@exa...|555-0101|2025-07-11 15:00:00|123 Maple St, Spr...|   signature on file|\n",
            "|  4|    1005|          4|       13|2025-07-10|   2025-07-12|  pending|  David Patel|      315.75|david.patel@examp...|555-0404|2025-07-11 09:00:00|101 Birch St, Bos...|      order received|\n",
            "|  4|    1005|          4|       14|2025-07-10|   2025-07-12|  shipped|  David Patel|      315.75|david.patel@examp...|555-0404|2025-07-12 13:45:00|101 Birch St, Bos...|      departed depot|\n",
            "|  4|    1005|          4|       15|2025-07-10|   2025-07-12|  delayed|  David Patel|      315.75|david.patel@examp...|555-0404|2025-07-18 18:20:00|101 Birch St, Bos...|        customs hold|\n",
            "|  5|    1006|          2|       16|2025-07-11|   2025-07-13|  pending|    Bob Smith|       99.99|bob.smith@example...|555-0202|2025-07-12 08:00:00|456 Oak St, Orlan...|      order received|\n",
            "|  5|    1006|          2|       17|2025-07-11|   2025-07-13|  shipped|    Bob Smith|       99.99|bob.smith@example...|555-0202|2025-07-13 14:30:00|456 Oak St, Orlan...|          in transit|\n",
            "|  5|    1006|          2|       18|2025-07-11|   2025-07-13|delivered|    Bob Smith|       99.99|bob.smith@example...|555-0202|2025-07-14 11:00:00|456 Oak St, Orlan...|delivered to neig...|\n",
            "|  6|    1007|          5|       19|2025-07-12|   2025-07-14|  pending|     Eva Wang|       150.0|eva.wang@example.com|555-0505|2025-07-13 09:15:00|202 Cedar St, Pho...|      order received|\n",
            "|  6|    1007|          5|       20|2025-07-12|   2025-07-14|  shipped|     Eva Wang|       150.0|eva.wang@example.com|555-0505|2025-07-14 10:10:00|202 Cedar St, Pho...|          in transit|\n",
            "+---+--------+-----------+---------+----------+-------------+---------+-------------+------------+--------------------+--------+-------------------+--------------------+--------------------+\n",
            "only showing top 20 rows\n",
            "\n"
          ]
        }
      ]
    },
    {
      "cell_type": "code",
      "source": [
        "from pyspark.sql.functions import col,sum,split,count\n",
        "oc=oc.withColumn(\"region\",split(col(\"address\"),\",\")[len('address')-4])\n",
        "oc.show()\n",
        "oc_filtered=oc.filter(col(\"status\")==\"delayed\")\n",
        "oc_filtered.show()\n",
        "grouped_region=oc_filtered.groupBy(\"region\").count().alias(\"grouped_region\")\n",
        "grouped_region.show()"
      ],
      "metadata": {
        "colab": {
          "base_uri": "https://localhost:8080/"
        },
        "id": "ASaheCt2yejk",
        "outputId": "93a24dd9-5572-4405-f3be-f0f47b740cef"
      },
      "execution_count": 52,
      "outputs": [
        {
          "output_type": "stream",
          "name": "stdout",
          "text": [
            "+---+--------+-----------+---------+----------+-------------+---------+-------------+------------+--------------------+--------+-------------------+--------------------+--------------------+-----------+\n",
            "|_c0|order_id|customer_id|status_id|order_date|delivery_date|   status|         name|total_amount|               email|   phone|        status_time|             address|             remarks|     region|\n",
            "+---+--------+-----------+---------+----------+-------------+---------+-------------+------------+--------------------+--------+-------------------+--------------------+--------------------+-----------+\n",
            "|  0|    1001|          1|        1|2025-07-01|   2025-07-03|  pending|Alice Johnson|       120.5|alice.johnson@exa...|555-0101|2025-07-02 08:00:00|123 Maple St, Spr...|      left warehouse|    Midwest|\n",
            "|  0|    1001|          1|        2|2025-07-01|   2025-07-03|  shipped|Alice Johnson|       120.5|alice.johnson@exa...|555-0101|2025-07-03 09:30:00|123 Maple St, Spr...|  departed warehouse|    Midwest|\n",
            "|  0|    1001|          1|        3|2025-07-01|   2025-07-03|delivered|Alice Johnson|       120.5|alice.johnson@exa...|555-0101|2025-07-05 14:15:00|123 Maple St, Spr...|  signed by customer|    Midwest|\n",
            "|  1|    1002|          2|        4|2025-07-03|   2025-07-05|  pending|    Bob Smith|        75.0|bob.smith@example...|555-0202|2025-07-04 10:00:00|456 Oak St, Orlan...|      order received|  Southeast|\n",
            "|  1|    1002|          2|        5|2025-07-03|   2025-07-05|  shipped|    Bob Smith|        75.0|bob.smith@example...|555-0202|2025-07-05 11:00:00|456 Oak St, Orlan...|picked up by carrier|  Southeast|\n",
            "|  1|    1002|          2|        6|2025-07-03|   2025-07-05|  delayed|    Bob Smith|        75.0|bob.smith@example...|555-0202|2025-07-08 16:00:00|456 Oak St, Orlan...|       weather delay|  Southeast|\n",
            "|  2|    1003|          3|        7|2025-07-05|   2025-07-07|  pending|    Carol Lee|       200.0|carol.lee@example...|555-0303|2025-07-06 07:45:00|789 Pine St, Seat...|      order received|  Northwest|\n",
            "|  2|    1003|          3|        8|2025-07-05|   2025-07-07|  shipped|    Carol Lee|       200.0|carol.lee@example...|555-0303|2025-07-07 12:20:00|789 Pine St, Seat...|          in transit|  Northwest|\n",
            "|  2|    1003|          3|        9|2025-07-05|   2025-07-07|delivered|    Carol Lee|       200.0|carol.lee@example...|555-0303|2025-07-09 09:10:00|789 Pine St, Seat...|  left at front door|  Northwest|\n",
            "|  3|    1004|          1|       10|2025-07-07|   2025-07-09|  pending|Alice Johnson|        50.0|alice.johnson@exa...|555-0101|2025-07-08 08:30:00|123 Maple St, Spr...|      order received|    Midwest|\n",
            "|  3|    1004|          1|       11|2025-07-07|   2025-07-09|  shipped|Alice Johnson|        50.0|alice.johnson@exa...|555-0101|2025-07-09 10:05:00|123 Maple St, Spr...|          in transit|    Midwest|\n",
            "|  3|    1004|          1|       12|2025-07-07|   2025-07-09|delivered|Alice Johnson|        50.0|alice.johnson@exa...|555-0101|2025-07-11 15:00:00|123 Maple St, Spr...|   signature on file|    Midwest|\n",
            "|  4|    1005|          4|       13|2025-07-10|   2025-07-12|  pending|  David Patel|      315.75|david.patel@examp...|555-0404|2025-07-11 09:00:00|101 Birch St, Bos...|      order received|  Northeast|\n",
            "|  4|    1005|          4|       14|2025-07-10|   2025-07-12|  shipped|  David Patel|      315.75|david.patel@examp...|555-0404|2025-07-12 13:45:00|101 Birch St, Bos...|      departed depot|  Northeast|\n",
            "|  4|    1005|          4|       15|2025-07-10|   2025-07-12|  delayed|  David Patel|      315.75|david.patel@examp...|555-0404|2025-07-18 18:20:00|101 Birch St, Bos...|        customs hold|  Northeast|\n",
            "|  5|    1006|          2|       16|2025-07-11|   2025-07-13|  pending|    Bob Smith|       99.99|bob.smith@example...|555-0202|2025-07-12 08:00:00|456 Oak St, Orlan...|      order received|  Southeast|\n",
            "|  5|    1006|          2|       17|2025-07-11|   2025-07-13|  shipped|    Bob Smith|       99.99|bob.smith@example...|555-0202|2025-07-13 14:30:00|456 Oak St, Orlan...|          in transit|  Southeast|\n",
            "|  5|    1006|          2|       18|2025-07-11|   2025-07-13|delivered|    Bob Smith|       99.99|bob.smith@example...|555-0202|2025-07-14 11:00:00|456 Oak St, Orlan...|delivered to neig...|  Southeast|\n",
            "|  6|    1007|          5|       19|2025-07-12|   2025-07-14|  pending|     Eva Wang|       150.0|eva.wang@example.com|555-0505|2025-07-13 09:15:00|202 Cedar St, Pho...|      order received| Southwest |\n",
            "|  6|    1007|          5|       20|2025-07-12|   2025-07-14|  shipped|     Eva Wang|       150.0|eva.wang@example.com|555-0505|2025-07-14 10:10:00|202 Cedar St, Pho...|          in transit| Southwest |\n",
            "+---+--------+-----------+---------+----------+-------------+---------+-------------+------------+--------------------+--------+-------------------+--------------------+--------------------+-----------+\n",
            "only showing top 20 rows\n",
            "\n",
            "+---+--------+-----------+---------+----------+-------------+-------+-----------+------------+--------------------+--------+-------------------+--------------------+---------------+-----------+\n",
            "|_c0|order_id|customer_id|status_id|order_date|delivery_date| status|       name|total_amount|               email|   phone|        status_time|             address|        remarks|     region|\n",
            "+---+--------+-----------+---------+----------+-------------+-------+-----------+------------+--------------------+--------+-------------------+--------------------+---------------+-----------+\n",
            "|  1|    1002|          2|        6|2025-07-03|   2025-07-05|delayed|  Bob Smith|        75.0|bob.smith@example...|555-0202|2025-07-08 16:00:00|456 Oak St, Orlan...|  weather delay|  Southeast|\n",
            "|  4|    1005|          4|       15|2025-07-10|   2025-07-12|delayed|David Patel|      315.75|david.patel@examp...|555-0404|2025-07-18 18:20:00|101 Birch St, Bos...|   customs hold|  Northeast|\n",
            "|  6|    1007|          5|       21|2025-07-12|   2025-07-14|delayed|   Eva Wang|       150.0|eva.wang@example.com|555-0505|2025-07-20 17:50:00|202 Cedar St, Pho...|route diversion| Southwest |\n",
            "+---+--------+-----------+---------+----------+-------------+-------+-----------+------------+--------------------+--------+-------------------+--------------------+---------------+-----------+\n",
            "\n",
            "+-----------+-----+\n",
            "|     region|count|\n",
            "+-----------+-----+\n",
            "|  Southeast|    1|\n",
            "| Southwest |    1|\n",
            "|  Northeast|    1|\n",
            "+-----------+-----+\n",
            "\n"
          ]
        }
      ]
    },
    {
      "cell_type": "markdown",
      "source": [
        "# saving the result"
      ],
      "metadata": {
        "id": "0xuonA-E1-7-"
      }
    },
    {
      "cell_type": "code",
      "source": [
        "grouped_region.write.csv(\"grouped_region.csv\",header=True)"
      ],
      "metadata": {
        "id": "vmSgxATi2BEg"
      },
      "execution_count": 53,
      "outputs": []
    },
    {
      "cell_type": "code",
      "source": [
        "oc.write.csv(\"joined_tables.csv\",header=True)\n"
      ],
      "metadata": {
        "id": "rkji6fCV2nsW"
      },
      "execution_count": 54,
      "outputs": []
    }
  ]
}