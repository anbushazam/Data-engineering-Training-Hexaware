{
  "nbformat": 4,
  "nbformat_minor": 0,
  "metadata": {
    "colab": {
      "provenance": []
    },
    "kernelspec": {
      "name": "python3",
      "display_name": "Python 3"
    },
    "language_info": {
      "name": "python"
    }
  },
  "cells": [
    {
      "cell_type": "code",
      "source": [
        "data = \"\"\"OrderID,OrderDate,Customer,Segment,Region,Product,Category,SubCategory,Quantity,UnitPrice,Discount,Profit\n",
        "CA-1001,2023-01-15,Ravi,Consumer,South,Laptop,Technology,Computers,1,55000,0.10,5000\n",
        "CA-1002,2023-02-20,Priya,Corporate,North,Printer,Technology,Peripherals,2,12000,0.15,1800\n",
        "CA-1003,2023-01-25,Amit,Consumer,East,Notebook,Office Supplies,Paper,3,200,0.05,150\n",
        "CA-1004,2023-03-01,Anita,Home Office,West,Table,Furniture,Tables,1,18000,0.20,-1500\n",
        "CA-1005,2023-02-05,Divya,Consumer,South,Phone,Technology,Phones,2,20000,0.00,3000\"\"\"\n",
        "\n",
        "with open(\"superstore.csv\", \"w\") as f:\n",
        "    f.write(data)"
      ],
      "metadata": {
        "id": "3BXqx6612yod"
      },
      "execution_count": 9,
      "outputs": []
    },
    {
      "cell_type": "code",
      "execution_count": 11,
      "metadata": {
        "colab": {
          "base_uri": "https://localhost:8080/"
        },
        "id": "oUZ5ySuIxWuG",
        "outputId": "8eedf4c5-555a-4644-89dc-69f496d7a82f"
      },
      "outputs": [
        {
          "output_type": "stream",
          "name": "stdout",
          "text": [
            "   OrderID   OrderDate Customer      Segment Region   Product  \\\n",
            "0  CA-1001  2023-01-15     Ravi     Consumer  South    Laptop   \n",
            "1  CA-1002  2023-02-20    Priya    Corporate  North   Printer   \n",
            "2  CA-1003  2023-01-25     Amit     Consumer   East  Notebook   \n",
            "3  CA-1004  2023-03-01    Anita  Home Office   West     Table   \n",
            "4  CA-1005  2023-02-05    Divya     Consumer  South     Phone   \n",
            "\n",
            "          Category  SubCategory  Quantity  UnitPrice  Discount  Profit  \n",
            "0       Technology    Computers         1      55000      0.10    5000  \n",
            "1       Technology  Peripherals         2      12000      0.15    1800  \n",
            "2  Office Supplies        Paper         3        200      0.05     150  \n",
            "3        Furniture       Tables         1      18000      0.20   -1500  \n",
            "4       Technology       Phones         2      20000      0.00    3000  \n"
          ]
        }
      ],
      "source": [
        "import pandas as pd\n",
        "df=pd.read_csv(\"superstore.csv\")\n",
        "print(df)"
      ]
    },
    {
      "cell_type": "code",
      "source": [
        "print(df.info())\n",
        "print(\"----------------------------------------------\")\n",
        "print(df.head())\n",
        "print(\"----------------------------------------------\")\n",
        "print(df.shape)\n",
        "print(\"----------------------------------------------\")\n",
        "print(df.dtypes)"
      ],
      "metadata": {
        "colab": {
          "base_uri": "https://localhost:8080/"
        },
        "id": "W1XBHiMWyGtm",
        "outputId": "0fdf0024-a0da-49af-eef8-46dfadf7844d"
      },
      "execution_count": 17,
      "outputs": [
        {
          "output_type": "stream",
          "name": "stdout",
          "text": [
            "<class 'pandas.core.frame.DataFrame'>\n",
            "RangeIndex: 5 entries, 0 to 4\n",
            "Data columns (total 12 columns):\n",
            " #   Column       Non-Null Count  Dtype  \n",
            "---  ------       --------------  -----  \n",
            " 0   OrderID      5 non-null      object \n",
            " 1   OrderDate    5 non-null      object \n",
            " 2   Customer     5 non-null      object \n",
            " 3   Segment      5 non-null      object \n",
            " 4   Region       5 non-null      object \n",
            " 5   Product      5 non-null      object \n",
            " 6   Category     5 non-null      object \n",
            " 7   SubCategory  5 non-null      object \n",
            " 8   Quantity     5 non-null      int64  \n",
            " 9   UnitPrice    5 non-null      int64  \n",
            " 10  Discount     5 non-null      float64\n",
            " 11  Profit       5 non-null      int64  \n",
            "dtypes: float64(1), int64(3), object(8)\n",
            "memory usage: 612.0+ bytes\n",
            "None\n",
            "----------------------------------------------\n",
            "   OrderID   OrderDate Customer      Segment Region   Product  \\\n",
            "0  CA-1001  2023-01-15     Ravi     Consumer  South    Laptop   \n",
            "1  CA-1002  2023-02-20    Priya    Corporate  North   Printer   \n",
            "2  CA-1003  2023-01-25     Amit     Consumer   East  Notebook   \n",
            "3  CA-1004  2023-03-01    Anita  Home Office   West     Table   \n",
            "4  CA-1005  2023-02-05    Divya     Consumer  South     Phone   \n",
            "\n",
            "          Category  SubCategory  Quantity  UnitPrice  Discount  Profit  \n",
            "0       Technology    Computers         1      55000      0.10    5000  \n",
            "1       Technology  Peripherals         2      12000      0.15    1800  \n",
            "2  Office Supplies        Paper         3        200      0.05     150  \n",
            "3        Furniture       Tables         1      18000      0.20   -1500  \n",
            "4       Technology       Phones         2      20000      0.00    3000  \n",
            "----------------------------------------------\n",
            "(5, 12)\n",
            "----------------------------------------------\n",
            "OrderID         object\n",
            "OrderDate       object\n",
            "Customer        object\n",
            "Segment         object\n",
            "Region          object\n",
            "Product         object\n",
            "Category        object\n",
            "SubCategory     object\n",
            "Quantity         int64\n",
            "UnitPrice        int64\n",
            "Discount       float64\n",
            "Profit           int64\n",
            "dtype: object\n"
          ]
        }
      ]
    },
    {
      "cell_type": "code",
      "source": [
        "df_selected=df[[\"Customer\",\"Product\",\"Profit\"]]\n",
        "print(df_selected)\n",
        "print(\"----------------------------------------------\")\n",
        "print(\"----------------------------------------------\")\n",
        "\n",
        "df_filtered=df[(df[\"Profit\"]>2000)&(df[\"Discount\"]==0)]\n",
        "print(df_filtered)\n",
        "print(\"----------------------------------------------\")\n",
        "print(\"----------------------------------------------\")\n",
        "\n",
        "df_sorted=df.sort_values(by=\"Profit\",ascending=False)\n",
        "print(df_sorted)\n",
        "print(\"----------------------------------------------\")\n",
        "print(\"----------------------------------------------\")\n",
        "\n",
        "df_grouped=df.groupby(\"Category\").agg({\"Profit\":\"sum\",\"Discount\":\"mean\"})\n",
        "print(df_grouped)\n",
        "print(\"----------------------------------------------\")\n",
        "print(\"----------------------------------------------\")\n",
        "\n",
        "df['TotalPrice']=df[\"Quantity\"]*df[\"UnitPrice\"]\n",
        "print(df)\n",
        "print(\"----------------------------------------------\")\n",
        "print(\"----------------------------------------------\")\n",
        "\n",
        "df=df.drop(\"SubCategory\",axis=1)\n",
        "print(df)\n",
        "print(\"----------------------------------------------\")\n",
        "print(\"----------------------------------------------\")\n",
        "\n",
        "\n",
        "\n",
        "\n",
        "\n",
        "\n"
      ],
      "metadata": {
        "colab": {
          "base_uri": "https://localhost:8080/",
          "height": 1000
        },
        "id": "N_T8iT7s2R1c",
        "outputId": "68317c1a-2be2-49e8-e9ed-9171b31b16b2"
      },
      "execution_count": 31,
      "outputs": [
        {
          "output_type": "stream",
          "name": "stdout",
          "text": [
            "  Customer   Product  Profit\n",
            "0     Ravi    Laptop    5000\n",
            "1    Priya   Printer    1800\n",
            "2     Amit  Notebook     150\n",
            "3    Anita     Table   -1500\n",
            "4    Divya     Phone    3000\n",
            "----------------------------------------------\n",
            "----------------------------------------------\n",
            "   OrderID   OrderDate Customer   Segment Region Product    Category  \\\n",
            "4  CA-1005  2023-02-05    Divya  Consumer  South   Phone  Technology   \n",
            "\n",
            "   Quantity  UnitPrice  Discount  Profit  TotalPrice  \n",
            "4         2      20000       0.0    3000       40000  \n",
            "----------------------------------------------\n",
            "----------------------------------------------\n",
            "   OrderID   OrderDate Customer      Segment Region   Product  \\\n",
            "0  CA-1001  2023-01-15     Ravi     Consumer  South    Laptop   \n",
            "4  CA-1005  2023-02-05    Divya     Consumer  South     Phone   \n",
            "1  CA-1002  2023-02-20    Priya    Corporate  North   Printer   \n",
            "2  CA-1003  2023-01-25     Amit     Consumer   East  Notebook   \n",
            "3  CA-1004  2023-03-01    Anita  Home Office   West     Table   \n",
            "\n",
            "          Category  Quantity  UnitPrice  Discount  Profit  TotalPrice  \n",
            "0       Technology         1      55000      0.10    5000       55000  \n",
            "4       Technology         2      20000      0.00    3000       40000  \n",
            "1       Technology         2      12000      0.15    1800       24000  \n",
            "2  Office Supplies         3        200      0.05     150         600  \n",
            "3        Furniture         1      18000      0.20   -1500       18000  \n",
            "----------------------------------------------\n",
            "----------------------------------------------\n",
            "                 Profit  Discount\n",
            "Category                         \n",
            "Furniture         -1500  0.200000\n",
            "Office Supplies     150  0.050000\n",
            "Technology         9800  0.083333\n",
            "----------------------------------------------\n",
            "----------------------------------------------\n",
            "   OrderID   OrderDate Customer      Segment Region   Product  \\\n",
            "0  CA-1001  2023-01-15     Ravi     Consumer  South    Laptop   \n",
            "1  CA-1002  2023-02-20    Priya    Corporate  North   Printer   \n",
            "2  CA-1003  2023-01-25     Amit     Consumer   East  Notebook   \n",
            "3  CA-1004  2023-03-01    Anita  Home Office   West     Table   \n",
            "4  CA-1005  2023-02-05    Divya     Consumer  South     Phone   \n",
            "\n",
            "          Category  Quantity  UnitPrice  Discount  Profit  TotalPrice  \n",
            "0       Technology         1      55000      0.10    5000       55000  \n",
            "1       Technology         2      12000      0.15    1800       24000  \n",
            "2  Office Supplies         3        200      0.05     150         600  \n",
            "3        Furniture         1      18000      0.20   -1500       18000  \n",
            "4       Technology         2      20000      0.00    3000       40000  \n",
            "----------------------------------------------\n",
            "----------------------------------------------\n"
          ]
        },
        {
          "output_type": "error",
          "ename": "KeyError",
          "evalue": "\"['SubCategory'] not found in axis\"",
          "traceback": [
            "\u001b[0;31m---------------------------------------------------------------------------\u001b[0m",
            "\u001b[0;31mKeyError\u001b[0m                                  Traceback (most recent call last)",
            "\u001b[0;32m/tmp/ipython-input-3454557839.py\u001b[0m in \u001b[0;36m<cell line: 0>\u001b[0;34m()\u001b[0m\n\u001b[1;32m     24\u001b[0m \u001b[0mprint\u001b[0m\u001b[0;34m(\u001b[0m\u001b[0;34m\"----------------------------------------------\"\u001b[0m\u001b[0;34m)\u001b[0m\u001b[0;34m\u001b[0m\u001b[0;34m\u001b[0m\u001b[0m\n\u001b[1;32m     25\u001b[0m \u001b[0;34m\u001b[0m\u001b[0m\n\u001b[0;32m---> 26\u001b[0;31m \u001b[0mdf\u001b[0m\u001b[0;34m=\u001b[0m\u001b[0mdf\u001b[0m\u001b[0;34m.\u001b[0m\u001b[0mdrop\u001b[0m\u001b[0;34m(\u001b[0m\u001b[0;34m\"SubCategory\"\u001b[0m\u001b[0;34m,\u001b[0m\u001b[0maxis\u001b[0m\u001b[0;34m=\u001b[0m\u001b[0;36m1\u001b[0m\u001b[0;34m)\u001b[0m\u001b[0;34m\u001b[0m\u001b[0;34m\u001b[0m\u001b[0m\n\u001b[0m\u001b[1;32m     27\u001b[0m \u001b[0mprint\u001b[0m\u001b[0;34m(\u001b[0m\u001b[0mdf\u001b[0m\u001b[0;34m)\u001b[0m\u001b[0;34m\u001b[0m\u001b[0;34m\u001b[0m\u001b[0m\n\u001b[1;32m     28\u001b[0m \u001b[0mprint\u001b[0m\u001b[0;34m(\u001b[0m\u001b[0;34m\"----------------------------------------------\"\u001b[0m\u001b[0;34m)\u001b[0m\u001b[0;34m\u001b[0m\u001b[0;34m\u001b[0m\u001b[0m\n",
            "\u001b[0;32m/usr/local/lib/python3.11/dist-packages/pandas/core/frame.py\u001b[0m in \u001b[0;36mdrop\u001b[0;34m(self, labels, axis, index, columns, level, inplace, errors)\u001b[0m\n\u001b[1;32m   5579\u001b[0m                 \u001b[0mweight\u001b[0m  \u001b[0;36m1.0\u001b[0m     \u001b[0;36m0.8\u001b[0m\u001b[0;34m\u001b[0m\u001b[0;34m\u001b[0m\u001b[0m\n\u001b[1;32m   5580\u001b[0m         \"\"\"\n\u001b[0;32m-> 5581\u001b[0;31m         return super().drop(\n\u001b[0m\u001b[1;32m   5582\u001b[0m             \u001b[0mlabels\u001b[0m\u001b[0;34m=\u001b[0m\u001b[0mlabels\u001b[0m\u001b[0;34m,\u001b[0m\u001b[0;34m\u001b[0m\u001b[0;34m\u001b[0m\u001b[0m\n\u001b[1;32m   5583\u001b[0m             \u001b[0maxis\u001b[0m\u001b[0;34m=\u001b[0m\u001b[0maxis\u001b[0m\u001b[0;34m,\u001b[0m\u001b[0;34m\u001b[0m\u001b[0;34m\u001b[0m\u001b[0m\n",
            "\u001b[0;32m/usr/local/lib/python3.11/dist-packages/pandas/core/generic.py\u001b[0m in \u001b[0;36mdrop\u001b[0;34m(self, labels, axis, index, columns, level, inplace, errors)\u001b[0m\n\u001b[1;32m   4786\u001b[0m         \u001b[0;32mfor\u001b[0m \u001b[0maxis\u001b[0m\u001b[0;34m,\u001b[0m \u001b[0mlabels\u001b[0m \u001b[0;32min\u001b[0m \u001b[0maxes\u001b[0m\u001b[0;34m.\u001b[0m\u001b[0mitems\u001b[0m\u001b[0;34m(\u001b[0m\u001b[0;34m)\u001b[0m\u001b[0;34m:\u001b[0m\u001b[0;34m\u001b[0m\u001b[0;34m\u001b[0m\u001b[0m\n\u001b[1;32m   4787\u001b[0m             \u001b[0;32mif\u001b[0m \u001b[0mlabels\u001b[0m \u001b[0;32mis\u001b[0m \u001b[0;32mnot\u001b[0m \u001b[0;32mNone\u001b[0m\u001b[0;34m:\u001b[0m\u001b[0;34m\u001b[0m\u001b[0;34m\u001b[0m\u001b[0m\n\u001b[0;32m-> 4788\u001b[0;31m                 \u001b[0mobj\u001b[0m \u001b[0;34m=\u001b[0m \u001b[0mobj\u001b[0m\u001b[0;34m.\u001b[0m\u001b[0m_drop_axis\u001b[0m\u001b[0;34m(\u001b[0m\u001b[0mlabels\u001b[0m\u001b[0;34m,\u001b[0m \u001b[0maxis\u001b[0m\u001b[0;34m,\u001b[0m \u001b[0mlevel\u001b[0m\u001b[0;34m=\u001b[0m\u001b[0mlevel\u001b[0m\u001b[0;34m,\u001b[0m \u001b[0merrors\u001b[0m\u001b[0;34m=\u001b[0m\u001b[0merrors\u001b[0m\u001b[0;34m)\u001b[0m\u001b[0;34m\u001b[0m\u001b[0;34m\u001b[0m\u001b[0m\n\u001b[0m\u001b[1;32m   4789\u001b[0m \u001b[0;34m\u001b[0m\u001b[0m\n\u001b[1;32m   4790\u001b[0m         \u001b[0;32mif\u001b[0m \u001b[0minplace\u001b[0m\u001b[0;34m:\u001b[0m\u001b[0;34m\u001b[0m\u001b[0;34m\u001b[0m\u001b[0m\n",
            "\u001b[0;32m/usr/local/lib/python3.11/dist-packages/pandas/core/generic.py\u001b[0m in \u001b[0;36m_drop_axis\u001b[0;34m(self, labels, axis, level, errors, only_slice)\u001b[0m\n\u001b[1;32m   4828\u001b[0m                 \u001b[0mnew_axis\u001b[0m \u001b[0;34m=\u001b[0m \u001b[0maxis\u001b[0m\u001b[0;34m.\u001b[0m\u001b[0mdrop\u001b[0m\u001b[0;34m(\u001b[0m\u001b[0mlabels\u001b[0m\u001b[0;34m,\u001b[0m \u001b[0mlevel\u001b[0m\u001b[0;34m=\u001b[0m\u001b[0mlevel\u001b[0m\u001b[0;34m,\u001b[0m \u001b[0merrors\u001b[0m\u001b[0;34m=\u001b[0m\u001b[0merrors\u001b[0m\u001b[0;34m)\u001b[0m\u001b[0;34m\u001b[0m\u001b[0;34m\u001b[0m\u001b[0m\n\u001b[1;32m   4829\u001b[0m             \u001b[0;32melse\u001b[0m\u001b[0;34m:\u001b[0m\u001b[0;34m\u001b[0m\u001b[0;34m\u001b[0m\u001b[0m\n\u001b[0;32m-> 4830\u001b[0;31m                 \u001b[0mnew_axis\u001b[0m \u001b[0;34m=\u001b[0m \u001b[0maxis\u001b[0m\u001b[0;34m.\u001b[0m\u001b[0mdrop\u001b[0m\u001b[0;34m(\u001b[0m\u001b[0mlabels\u001b[0m\u001b[0;34m,\u001b[0m \u001b[0merrors\u001b[0m\u001b[0;34m=\u001b[0m\u001b[0merrors\u001b[0m\u001b[0;34m)\u001b[0m\u001b[0;34m\u001b[0m\u001b[0;34m\u001b[0m\u001b[0m\n\u001b[0m\u001b[1;32m   4831\u001b[0m             \u001b[0mindexer\u001b[0m \u001b[0;34m=\u001b[0m \u001b[0maxis\u001b[0m\u001b[0;34m.\u001b[0m\u001b[0mget_indexer\u001b[0m\u001b[0;34m(\u001b[0m\u001b[0mnew_axis\u001b[0m\u001b[0;34m)\u001b[0m\u001b[0;34m\u001b[0m\u001b[0;34m\u001b[0m\u001b[0m\n\u001b[1;32m   4832\u001b[0m \u001b[0;34m\u001b[0m\u001b[0m\n",
            "\u001b[0;32m/usr/local/lib/python3.11/dist-packages/pandas/core/indexes/base.py\u001b[0m in \u001b[0;36mdrop\u001b[0;34m(self, labels, errors)\u001b[0m\n\u001b[1;32m   7068\u001b[0m         \u001b[0;32mif\u001b[0m \u001b[0mmask\u001b[0m\u001b[0;34m.\u001b[0m\u001b[0many\u001b[0m\u001b[0;34m(\u001b[0m\u001b[0;34m)\u001b[0m\u001b[0;34m:\u001b[0m\u001b[0;34m\u001b[0m\u001b[0;34m\u001b[0m\u001b[0m\n\u001b[1;32m   7069\u001b[0m             \u001b[0;32mif\u001b[0m \u001b[0merrors\u001b[0m \u001b[0;34m!=\u001b[0m \u001b[0;34m\"ignore\"\u001b[0m\u001b[0;34m:\u001b[0m\u001b[0;34m\u001b[0m\u001b[0;34m\u001b[0m\u001b[0m\n\u001b[0;32m-> 7070\u001b[0;31m                 \u001b[0;32mraise\u001b[0m \u001b[0mKeyError\u001b[0m\u001b[0;34m(\u001b[0m\u001b[0;34mf\"{labels[mask].tolist()} not found in axis\"\u001b[0m\u001b[0;34m)\u001b[0m\u001b[0;34m\u001b[0m\u001b[0;34m\u001b[0m\u001b[0m\n\u001b[0m\u001b[1;32m   7071\u001b[0m             \u001b[0mindexer\u001b[0m \u001b[0;34m=\u001b[0m \u001b[0mindexer\u001b[0m\u001b[0;34m[\u001b[0m\u001b[0;34m~\u001b[0m\u001b[0mmask\u001b[0m\u001b[0;34m]\u001b[0m\u001b[0;34m\u001b[0m\u001b[0;34m\u001b[0m\u001b[0m\n\u001b[1;32m   7072\u001b[0m         \u001b[0;32mreturn\u001b[0m \u001b[0mself\u001b[0m\u001b[0;34m.\u001b[0m\u001b[0mdelete\u001b[0m\u001b[0;34m(\u001b[0m\u001b[0mindexer\u001b[0m\u001b[0;34m)\u001b[0m\u001b[0;34m\u001b[0m\u001b[0;34m\u001b[0m\u001b[0m\n",
            "\u001b[0;31mKeyError\u001b[0m: \"['SubCategory'] not found in axis\""
          ]
        }
      ]
    },
    {
      "cell_type": "code",
      "source": [
        "df['Discount']=df['Discount'].fillna(0.10)\n",
        "print(df)"
      ],
      "metadata": {
        "colab": {
          "base_uri": "https://localhost:8080/"
        },
        "id": "su9AH1eJ4em9",
        "outputId": "c41d5ad0-2701-4538-ccfb-9b487bd1a22a"
      },
      "execution_count": 32,
      "outputs": [
        {
          "output_type": "stream",
          "name": "stdout",
          "text": [
            "   OrderID   OrderDate Customer      Segment Region   Product  \\\n",
            "0  CA-1001  2023-01-15     Ravi     Consumer  South    Laptop   \n",
            "1  CA-1002  2023-02-20    Priya    Corporate  North   Printer   \n",
            "2  CA-1003  2023-01-25     Amit     Consumer   East  Notebook   \n",
            "3  CA-1004  2023-03-01    Anita  Home Office   West     Table   \n",
            "4  CA-1005  2023-02-05    Divya     Consumer  South     Phone   \n",
            "\n",
            "          Category  Quantity  UnitPrice  Discount  Profit  TotalPrice  \n",
            "0       Technology         1      55000      0.10    5000       55000  \n",
            "1       Technology         2      12000      0.15    1800       24000  \n",
            "2  Office Supplies         3        200      0.05     150         600  \n",
            "3        Furniture         1      18000      0.20   -1500       18000  \n",
            "4       Technology         2      20000      0.00    3000       40000  \n"
          ]
        }
      ]
    },
    {
      "cell_type": "code",
      "source": [
        "def classify(row):\n",
        "  if row['Profit'] > 4000:\n",
        "    return 'High'\n",
        "  elif row['Profit'] > 0:\n",
        "    return 'Medium'\n",
        "  else:\n",
        "    return 'Low'\n",
        "\n",
        "df[\"ProductCategory\"]=df.apply(classify,axis=1)\n",
        "print(df)"
      ],
      "metadata": {
        "colab": {
          "base_uri": "https://localhost:8080/"
        },
        "id": "013gVt525XAU",
        "outputId": "d2affde7-4b9a-490e-edf8-90c57eb9bda7"
      },
      "execution_count": 36,
      "outputs": [
        {
          "output_type": "stream",
          "name": "stdout",
          "text": [
            "   OrderID   OrderDate Customer      Segment Region   Product  \\\n",
            "0  CA-1001  2023-01-15     Ravi     Consumer  South    Laptop   \n",
            "1  CA-1002  2023-02-20    Priya    Corporate  North   Printer   \n",
            "2  CA-1003  2023-01-25     Amit     Consumer   East  Notebook   \n",
            "3  CA-1004  2023-03-01    Anita  Home Office   West     Table   \n",
            "4  CA-1005  2023-02-05    Divya     Consumer  South     Phone   \n",
            "\n",
            "          Category  Quantity  UnitPrice  Discount  Profit  TotalPrice  \\\n",
            "0       Technology         1      55000      0.10    5000       55000   \n",
            "1       Technology         2      12000      0.15    1800       24000   \n",
            "2  Office Supplies         3        200      0.05     150         600   \n",
            "3        Furniture         1      18000      0.20   -1500       18000   \n",
            "4       Technology         2      20000      0.00    3000       40000   \n",
            "\n",
            "  ProductCategory  \n",
            "0            High  \n",
            "1          Medium  \n",
            "2          Medium  \n",
            "3             Low  \n",
            "4          Medium  \n"
          ]
        }
      ]
    },
    {
      "cell_type": "code",
      "source": [
        "print(\"----------------------------PART 2: PySpark DataFrame Operations-----------------------\")\n",
        "\n"
      ],
      "metadata": {
        "colab": {
          "base_uri": "https://localhost:8080/"
        },
        "id": "rYZRGgMS6yCT",
        "outputId": "a1d50fa6-c98d-4d5e-fd65-d69939457fdb"
      },
      "execution_count": 37,
      "outputs": [
        {
          "output_type": "stream",
          "name": "stdout",
          "text": [
            "----------------------------PART 2: PySpark DataFrame Operations-----------------------\n"
          ]
        }
      ]
    },
    {
      "cell_type": "code",
      "source": [
        "from pyspark.sql import SparkSession\n",
        "spark=SparkSession.builder\\\n",
        ".appName(\"superstore\")\\\n",
        ".getOrCreate()\n",
        "spark"
      ],
      "metadata": {
        "colab": {
          "base_uri": "https://localhost:8080/",
          "height": 219
        },
        "id": "2gZDxKHJ68AL",
        "outputId": "686e6289-e899-4d40-d3c5-b30983136b1e"
      },
      "execution_count": 40,
      "outputs": [
        {
          "output_type": "execute_result",
          "data": {
            "text/plain": [
              "<pyspark.sql.session.SparkSession at 0x788ac0c745d0>"
            ],
            "text/html": [
              "\n",
              "            <div>\n",
              "                <p><b>SparkSession - in-memory</b></p>\n",
              "                \n",
              "        <div>\n",
              "            <p><b>SparkContext</b></p>\n",
              "\n",
              "            <p><a href=\"http://fdc4b69b81c2:4040\">Spark UI</a></p>\n",
              "\n",
              "            <dl>\n",
              "              <dt>Version</dt>\n",
              "                <dd><code>v3.5.1</code></dd>\n",
              "              <dt>Master</dt>\n",
              "                <dd><code>local[*]</code></dd>\n",
              "              <dt>AppName</dt>\n",
              "                <dd><code>superstore</code></dd>\n",
              "            </dl>\n",
              "        </div>\n",
              "        \n",
              "            </div>\n",
              "        "
            ]
          },
          "metadata": {},
          "execution_count": 40
        }
      ]
    },
    {
      "cell_type": "code",
      "source": [
        "pf=spark.read.csv(\"superstore.csv\",header=True,inferSchema=True)\n",
        "pf.printSchema()\n",
        "pf.show(5)\n",
        "print(\"--------------------------------------------------------------\")\n",
        "print(\"--------------------------------------------------------------\")\n",
        "\n",
        "from pyspark.sql.functions import col\n",
        "pf_selected=pf.select(\"OrderID\",col(\"Customer\").alias(\"Client\"),\"Product\")\n",
        "pf_selected.show()\n",
        "print(\"--------------------------------------------------------------\")\n",
        "print(\"--------------------------------------------------------------\")\n",
        "\n",
        "\n",
        "pf_filtered=pf.filter((col(\"Segment\")==\"Consumer\")&(col(\"Profit\")<1000))\n",
        "pf_filtered.show()\n",
        "print(\"--------------------------------------------------------------\")\n",
        "print(\"--------------------------------------------------------------\")\n",
        "\n",
        "pf_sorted=pf.orderBy(col(\"Profit\").desc())\n",
        "pf_sorted.show()\n",
        "print(\"--------------------------------------------------------------\")\n",
        "print(\"--------------------------------------------------------------\")\n",
        "\n",
        "\n",
        "pf_grouped=pf.groupBy(\"Region\").avg(\"Profit\").alias(\"AverageProfit\")\n",
        "pf_grouped.show()\n",
        "print(\"--------------------------------------------------------------\")\n",
        "print(\"--------------------------------------------------------------\")\n",
        "\n",
        "pf=pf.withColumn(\"TotalPrice\",col(\"Quantity\")*col(\"UnitPrice\"))\n",
        "pf.show()\n",
        "print(\"--------------------------------------------------------------\")\n",
        "print(\"--------------------------------------------------------------\")\n",
        "from pyspark.sql.functions import when\n",
        "pf=pf.withColumn(\"ProfitClassify\",when(col(\"Profit\")>2000,\"High\").when(col(\"Profit\")<=0,\"Loss\").otherwise(\"Medium\"))\n",
        "pf.show()\n",
        "print(\"--------------------------------------------------------------\")\n",
        "print(\"--------------------------------------------------------------\")\n",
        "pf=pf.drop(\"SubCategory\")\n",
        "pf.show()\n",
        "print(\"--------------------------------------------------------------\")\n",
        "print(\"--------------------------------------------------------------\")\n",
        "\n",
        "pf=pf.fillna({\"Discount\":0.10})\n",
        "pf.show()\n",
        "print(\"--------------------------------------------------------------\")\n",
        "print(\"--------------------------------------------------------------\")\n",
        "\n",
        "from pyspark.sql.functions import year,month\n",
        "pf=pf.withColumn(\"OrderDate\",col(\"OrderDate\").cast(\"date\"))\n",
        "pf=pf.withColumn(\"Year\",year(\"OrderDate\"))\n",
        "pf=pf.withColumn(\"Month\",month(\"OrderDate\"))\n",
        "pf.show()\n",
        "print(\"--------------------------------------------------------------\")\n",
        "print(\"--------------------------------------------------------------\")\n",
        "\n",
        "\n",
        "\n",
        "\n",
        "\n"
      ],
      "metadata": {
        "colab": {
          "base_uri": "https://localhost:8080/"
        },
        "id": "GpDt9XQS7hxM",
        "outputId": "bce598e2-aa56-4726-d245-4d77a5387bee"
      },
      "execution_count": 54,
      "outputs": [
        {
          "output_type": "stream",
          "name": "stdout",
          "text": [
            "root\n",
            " |-- OrderID: string (nullable = true)\n",
            " |-- OrderDate: date (nullable = true)\n",
            " |-- Customer: string (nullable = true)\n",
            " |-- Segment: string (nullable = true)\n",
            " |-- Region: string (nullable = true)\n",
            " |-- Product: string (nullable = true)\n",
            " |-- Category: string (nullable = true)\n",
            " |-- SubCategory: string (nullable = true)\n",
            " |-- Quantity: integer (nullable = true)\n",
            " |-- UnitPrice: integer (nullable = true)\n",
            " |-- Discount: double (nullable = true)\n",
            " |-- Profit: integer (nullable = true)\n",
            "\n",
            "+-------+----------+--------+-----------+------+--------+---------------+-----------+--------+---------+--------+------+\n",
            "|OrderID| OrderDate|Customer|    Segment|Region| Product|       Category|SubCategory|Quantity|UnitPrice|Discount|Profit|\n",
            "+-------+----------+--------+-----------+------+--------+---------------+-----------+--------+---------+--------+------+\n",
            "|CA-1001|2023-01-15|    Ravi|   Consumer| South|  Laptop|     Technology|  Computers|       1|    55000|     0.1|  5000|\n",
            "|CA-1002|2023-02-20|   Priya|  Corporate| North| Printer|     Technology|Peripherals|       2|    12000|    0.15|  1800|\n",
            "|CA-1003|2023-01-25|    Amit|   Consumer|  East|Notebook|Office Supplies|      Paper|       3|      200|    0.05|   150|\n",
            "|CA-1004|2023-03-01|   Anita|Home Office|  West|   Table|      Furniture|     Tables|       1|    18000|     0.2| -1500|\n",
            "|CA-1005|2023-02-05|   Divya|   Consumer| South|   Phone|     Technology|     Phones|       2|    20000|     0.0|  3000|\n",
            "+-------+----------+--------+-----------+------+--------+---------------+-----------+--------+---------+--------+------+\n",
            "\n",
            "--------------------------------------------------------------\n",
            "--------------------------------------------------------------\n",
            "+-------+------+--------+\n",
            "|OrderID|Client| Product|\n",
            "+-------+------+--------+\n",
            "|CA-1001|  Ravi|  Laptop|\n",
            "|CA-1002| Priya| Printer|\n",
            "|CA-1003|  Amit|Notebook|\n",
            "|CA-1004| Anita|   Table|\n",
            "|CA-1005| Divya|   Phone|\n",
            "+-------+------+--------+\n",
            "\n",
            "--------------------------------------------------------------\n",
            "--------------------------------------------------------------\n",
            "+-------+----------+--------+--------+------+--------+---------------+-----------+--------+---------+--------+------+\n",
            "|OrderID| OrderDate|Customer| Segment|Region| Product|       Category|SubCategory|Quantity|UnitPrice|Discount|Profit|\n",
            "+-------+----------+--------+--------+------+--------+---------------+-----------+--------+---------+--------+------+\n",
            "|CA-1003|2023-01-25|    Amit|Consumer|  East|Notebook|Office Supplies|      Paper|       3|      200|    0.05|   150|\n",
            "+-------+----------+--------+--------+------+--------+---------------+-----------+--------+---------+--------+------+\n",
            "\n",
            "--------------------------------------------------------------\n",
            "--------------------------------------------------------------\n",
            "+-------+----------+--------+-----------+------+--------+---------------+-----------+--------+---------+--------+------+\n",
            "|OrderID| OrderDate|Customer|    Segment|Region| Product|       Category|SubCategory|Quantity|UnitPrice|Discount|Profit|\n",
            "+-------+----------+--------+-----------+------+--------+---------------+-----------+--------+---------+--------+------+\n",
            "|CA-1001|2023-01-15|    Ravi|   Consumer| South|  Laptop|     Technology|  Computers|       1|    55000|     0.1|  5000|\n",
            "|CA-1005|2023-02-05|   Divya|   Consumer| South|   Phone|     Technology|     Phones|       2|    20000|     0.0|  3000|\n",
            "|CA-1002|2023-02-20|   Priya|  Corporate| North| Printer|     Technology|Peripherals|       2|    12000|    0.15|  1800|\n",
            "|CA-1003|2023-01-25|    Amit|   Consumer|  East|Notebook|Office Supplies|      Paper|       3|      200|    0.05|   150|\n",
            "|CA-1004|2023-03-01|   Anita|Home Office|  West|   Table|      Furniture|     Tables|       1|    18000|     0.2| -1500|\n",
            "+-------+----------+--------+-----------+------+--------+---------------+-----------+--------+---------+--------+------+\n",
            "\n",
            "--------------------------------------------------------------\n",
            "--------------------------------------------------------------\n",
            "+------+-----------+\n",
            "|Region|avg(Profit)|\n",
            "+------+-----------+\n",
            "| South|     4000.0|\n",
            "|  East|      150.0|\n",
            "|  West|    -1500.0|\n",
            "| North|     1800.0|\n",
            "+------+-----------+\n",
            "\n",
            "--------------------------------------------------------------\n",
            "--------------------------------------------------------------\n",
            "+-------+----------+--------+-----------+------+--------+---------------+-----------+--------+---------+--------+------+----------+\n",
            "|OrderID| OrderDate|Customer|    Segment|Region| Product|       Category|SubCategory|Quantity|UnitPrice|Discount|Profit|TotalPrice|\n",
            "+-------+----------+--------+-----------+------+--------+---------------+-----------+--------+---------+--------+------+----------+\n",
            "|CA-1001|2023-01-15|    Ravi|   Consumer| South|  Laptop|     Technology|  Computers|       1|    55000|     0.1|  5000|     55000|\n",
            "|CA-1002|2023-02-20|   Priya|  Corporate| North| Printer|     Technology|Peripherals|       2|    12000|    0.15|  1800|     24000|\n",
            "|CA-1003|2023-01-25|    Amit|   Consumer|  East|Notebook|Office Supplies|      Paper|       3|      200|    0.05|   150|       600|\n",
            "|CA-1004|2023-03-01|   Anita|Home Office|  West|   Table|      Furniture|     Tables|       1|    18000|     0.2| -1500|     18000|\n",
            "|CA-1005|2023-02-05|   Divya|   Consumer| South|   Phone|     Technology|     Phones|       2|    20000|     0.0|  3000|     40000|\n",
            "+-------+----------+--------+-----------+------+--------+---------------+-----------+--------+---------+--------+------+----------+\n",
            "\n",
            "--------------------------------------------------------------\n",
            "--------------------------------------------------------------\n",
            "+-------+----------+--------+-----------+------+--------+---------------+-----------+--------+---------+--------+------+----------+--------------+\n",
            "|OrderID| OrderDate|Customer|    Segment|Region| Product|       Category|SubCategory|Quantity|UnitPrice|Discount|Profit|TotalPrice|ProfitClassify|\n",
            "+-------+----------+--------+-----------+------+--------+---------------+-----------+--------+---------+--------+------+----------+--------------+\n",
            "|CA-1001|2023-01-15|    Ravi|   Consumer| South|  Laptop|     Technology|  Computers|       1|    55000|     0.1|  5000|     55000|          High|\n",
            "|CA-1002|2023-02-20|   Priya|  Corporate| North| Printer|     Technology|Peripherals|       2|    12000|    0.15|  1800|     24000|        Medium|\n",
            "|CA-1003|2023-01-25|    Amit|   Consumer|  East|Notebook|Office Supplies|      Paper|       3|      200|    0.05|   150|       600|        Medium|\n",
            "|CA-1004|2023-03-01|   Anita|Home Office|  West|   Table|      Furniture|     Tables|       1|    18000|     0.2| -1500|     18000|          Loss|\n",
            "|CA-1005|2023-02-05|   Divya|   Consumer| South|   Phone|     Technology|     Phones|       2|    20000|     0.0|  3000|     40000|          High|\n",
            "+-------+----------+--------+-----------+------+--------+---------------+-----------+--------+---------+--------+------+----------+--------------+\n",
            "\n",
            "--------------------------------------------------------------\n",
            "--------------------------------------------------------------\n",
            "+-------+----------+--------+-----------+------+--------+---------------+--------+---------+--------+------+----------+--------------+\n",
            "|OrderID| OrderDate|Customer|    Segment|Region| Product|       Category|Quantity|UnitPrice|Discount|Profit|TotalPrice|ProfitClassify|\n",
            "+-------+----------+--------+-----------+------+--------+---------------+--------+---------+--------+------+----------+--------------+\n",
            "|CA-1001|2023-01-15|    Ravi|   Consumer| South|  Laptop|     Technology|       1|    55000|     0.1|  5000|     55000|          High|\n",
            "|CA-1002|2023-02-20|   Priya|  Corporate| North| Printer|     Technology|       2|    12000|    0.15|  1800|     24000|        Medium|\n",
            "|CA-1003|2023-01-25|    Amit|   Consumer|  East|Notebook|Office Supplies|       3|      200|    0.05|   150|       600|        Medium|\n",
            "|CA-1004|2023-03-01|   Anita|Home Office|  West|   Table|      Furniture|       1|    18000|     0.2| -1500|     18000|          Loss|\n",
            "|CA-1005|2023-02-05|   Divya|   Consumer| South|   Phone|     Technology|       2|    20000|     0.0|  3000|     40000|          High|\n",
            "+-------+----------+--------+-----------+------+--------+---------------+--------+---------+--------+------+----------+--------------+\n",
            "\n",
            "--------------------------------------------------------------\n",
            "--------------------------------------------------------------\n",
            "+-------+----------+--------+-----------+------+--------+---------------+--------+---------+--------+------+----------+--------------+\n",
            "|OrderID| OrderDate|Customer|    Segment|Region| Product|       Category|Quantity|UnitPrice|Discount|Profit|TotalPrice|ProfitClassify|\n",
            "+-------+----------+--------+-----------+------+--------+---------------+--------+---------+--------+------+----------+--------------+\n",
            "|CA-1001|2023-01-15|    Ravi|   Consumer| South|  Laptop|     Technology|       1|    55000|     0.1|  5000|     55000|          High|\n",
            "|CA-1002|2023-02-20|   Priya|  Corporate| North| Printer|     Technology|       2|    12000|    0.15|  1800|     24000|        Medium|\n",
            "|CA-1003|2023-01-25|    Amit|   Consumer|  East|Notebook|Office Supplies|       3|      200|    0.05|   150|       600|        Medium|\n",
            "|CA-1004|2023-03-01|   Anita|Home Office|  West|   Table|      Furniture|       1|    18000|     0.2| -1500|     18000|          Loss|\n",
            "|CA-1005|2023-02-05|   Divya|   Consumer| South|   Phone|     Technology|       2|    20000|     0.0|  3000|     40000|          High|\n",
            "+-------+----------+--------+-----------+------+--------+---------------+--------+---------+--------+------+----------+--------------+\n",
            "\n",
            "--------------------------------------------------------------\n",
            "--------------------------------------------------------------\n",
            "+-------+----------+--------+-----------+------+--------+---------------+--------+---------+--------+------+----------+--------------+----+-----+\n",
            "|OrderID| OrderDate|Customer|    Segment|Region| Product|       Category|Quantity|UnitPrice|Discount|Profit|TotalPrice|ProfitClassify|Year|Month|\n",
            "+-------+----------+--------+-----------+------+--------+---------------+--------+---------+--------+------+----------+--------------+----+-----+\n",
            "|CA-1001|2023-01-15|    Ravi|   Consumer| South|  Laptop|     Technology|       1|    55000|     0.1|  5000|     55000|          High|2023|    1|\n",
            "|CA-1002|2023-02-20|   Priya|  Corporate| North| Printer|     Technology|       2|    12000|    0.15|  1800|     24000|        Medium|2023|    2|\n",
            "|CA-1003|2023-01-25|    Amit|   Consumer|  East|Notebook|Office Supplies|       3|      200|    0.05|   150|       600|        Medium|2023|    1|\n",
            "|CA-1004|2023-03-01|   Anita|Home Office|  West|   Table|      Furniture|       1|    18000|     0.2| -1500|     18000|          Loss|2023|    3|\n",
            "|CA-1005|2023-02-05|   Divya|   Consumer| South|   Phone|     Technology|       2|    20000|     0.0|  3000|     40000|          High|2023|    2|\n",
            "+-------+----------+--------+-----------+------+--------+---------------+--------+---------+--------+------+----------+--------------+----+-----+\n",
            "\n",
            "--------------------------------------------------------------\n",
            "--------------------------------------------------------------\n"
          ]
        }
      ]
    },
    {
      "cell_type": "code",
      "source": [
        "print(\"------------------------- PART 3: Dask DataFrame Operations (Pandas Alternative)------------------\")\n"
      ],
      "metadata": {
        "colab": {
          "base_uri": "https://localhost:8080/"
        },
        "id": "v5k6geE4IHBa",
        "outputId": "7780efaf-7fe6-4a6f-ef05-9229d7e03068"
      },
      "execution_count": 55,
      "outputs": [
        {
          "output_type": "stream",
          "name": "stdout",
          "text": [
            "------------------------- PART 3: Dask DataFrame Operations (Pandas Alternative)------------------\n"
          ]
        }
      ]
    },
    {
      "cell_type": "code",
      "source": [
        " !pip install dask"
      ],
      "metadata": {
        "colab": {
          "base_uri": "https://localhost:8080/"
        },
        "id": "hiaq2OJ3IMTb",
        "outputId": "0495f7c3-af19-4f73-ee6b-771b877b52be"
      },
      "execution_count": 56,
      "outputs": [
        {
          "output_type": "stream",
          "name": "stdout",
          "text": [
            "Requirement already satisfied: dask in /usr/local/lib/python3.11/dist-packages (2025.5.0)\n",
            "Requirement already satisfied: click>=8.1 in /usr/local/lib/python3.11/dist-packages (from dask) (8.2.1)\n",
            "Requirement already satisfied: cloudpickle>=3.0.0 in /usr/local/lib/python3.11/dist-packages (from dask) (3.1.1)\n",
            "Requirement already satisfied: fsspec>=2021.09.0 in /usr/local/lib/python3.11/dist-packages (from dask) (2025.3.0)\n",
            "Requirement already satisfied: packaging>=20.0 in /usr/local/lib/python3.11/dist-packages (from dask) (25.0)\n",
            "Requirement already satisfied: partd>=1.4.0 in /usr/local/lib/python3.11/dist-packages (from dask) (1.4.2)\n",
            "Requirement already satisfied: pyyaml>=5.3.1 in /usr/local/lib/python3.11/dist-packages (from dask) (6.0.2)\n",
            "Requirement already satisfied: toolz>=0.10.0 in /usr/local/lib/python3.11/dist-packages (from dask) (0.12.1)\n",
            "Requirement already satisfied: importlib_metadata>=4.13.0 in /usr/local/lib/python3.11/dist-packages (from dask) (8.7.0)\n",
            "Requirement already satisfied: zipp>=3.20 in /usr/local/lib/python3.11/dist-packages (from importlib_metadata>=4.13.0->dask) (3.23.0)\n",
            "Requirement already satisfied: locket in /usr/local/lib/python3.11/dist-packages (from partd>=1.4.0->dask) (1.0.0)\n"
          ]
        }
      ]
    },
    {
      "cell_type": "code",
      "source": [
        "import dask.dataframe as dd\n",
        "df=dd.read_csv(\"superstore.csv\")\n",
        "print(\"--------------------------------------------------------------\")\n",
        "print(\"--------------------------------------------------------------\")\n",
        "\n",
        "avg_discount=df.groupby(\"Category\")[\"Discount\"].mean().compute()\n",
        "print(avg_discount)\n",
        "\n",
        "\n",
        "print(\"--------------------------------------------------------------\")\n",
        "print(\"--------------------------------------------------------------\")\n",
        "filtered=df[(df[\"Quantity\"]>1)&(df[\"Profit\"]>2000)].compute()\n",
        "print(filtered)\n",
        "print(\"--------------------------------------------------------------\")\n",
        "print(\"--------------------------------------------------------------\")\n",
        "\n",
        "filtered.to_csv('filtered_superstore.csv',index=True)"
      ],
      "metadata": {
        "colab": {
          "base_uri": "https://localhost:8080/"
        },
        "id": "dqLUKX31IQrt",
        "outputId": "cca836c3-bf41-4aa3-b2f8-44825abe3154"
      },
      "execution_count": 77,
      "outputs": [
        {
          "output_type": "stream",
          "name": "stdout",
          "text": [
            "--------------------------------------------------------------\n",
            "--------------------------------------------------------------\n",
            "Category\n",
            "Furniture          0.200000\n",
            "Office Supplies    0.050000\n",
            "Technology         0.083333\n",
            "Name: Discount, dtype: float64\n",
            "--------------------------------------------------------------\n",
            "--------------------------------------------------------------\n",
            "   OrderID   OrderDate Customer   Segment Region Product    Category  \\\n",
            "4  CA-1005  2023-02-05    Divya  Consumer  South   Phone  Technology   \n",
            "\n",
            "  SubCategory  Quantity  UnitPrice  Discount  Profit  \n",
            "4      Phones         2      20000       0.0    3000  \n",
            "--------------------------------------------------------------\n",
            "--------------------------------------------------------------\n"
          ]
        }
      ]
    },
    {
      "cell_type": "code",
      "source": [
        "print(\"------------------- JSON HANDLING---------------------------\")"
      ],
      "metadata": {
        "colab": {
          "base_uri": "https://localhost:8080/"
        },
        "id": "jee_mZzZM1H7",
        "outputId": "79341ad9-6fc7-47e3-950f-5a15bdcdb8f4"
      },
      "execution_count": 79,
      "outputs": [
        {
          "output_type": "stream",
          "name": "stdout",
          "text": [
            "------------------- JSON HANDLING---------------------------\n"
          ]
        }
      ]
    },
    {
      "cell_type": "code",
      "source": [
        "import json\n",
        "json_data= [\n",
        "     {\n",
        "\"OrderID\": \"CA-1001\",\n",
        "\"Customer\": {\"Name\": \"Ravi\", \"Segment\": \"Consumer\"},\n",
        "\"Details\": {\"Region\": \"South\", \"Profit\": 5000}\n",
        "},\n",
        "{\n",
        "\"OrderID\": \"CA-1002\",\n",
        "\"Customer\": {\"Name\": \"Priya\", \"Segment\": \"Corporate\"},\n",
        "\"Details\": {\"Region\": \"North\", \"Profit\": 1800}\n",
        "}\n",
        "\n",
        "]\n",
        "\n",
        "with open(\"orders.json\",\"w\")as ff:\n",
        "  json.dump(json_data,ff)\n"
      ],
      "metadata": {
        "id": "WdRRHQD2Jh-4"
      },
      "execution_count": 78,
      "outputs": []
    },
    {
      "cell_type": "code",
      "source": [
        "df_json=spark.read.json(\"orders.json\",multiLine=True)\n",
        "df_json.printSchema()\n",
        "print(\"---------------------------\")\n",
        "\n",
        "df_json.select(\"OrderID\",\"Customer.name\",\"Details.Profit\").show()\n"
      ],
      "metadata": {
        "colab": {
          "base_uri": "https://localhost:8080/"
        },
        "id": "oY6xeE8UIjrG",
        "outputId": "ec536cab-5041-4568-f9f7-9cc81a26fa3a"
      },
      "execution_count": 82,
      "outputs": [
        {
          "output_type": "stream",
          "name": "stdout",
          "text": [
            "root\n",
            " |-- Customer: struct (nullable = true)\n",
            " |    |-- Name: string (nullable = true)\n",
            " |    |-- Segment: string (nullable = true)\n",
            " |-- Details: struct (nullable = true)\n",
            " |    |-- Profit: long (nullable = true)\n",
            " |    |-- Region: string (nullable = true)\n",
            " |-- OrderID: string (nullable = true)\n",
            "\n",
            "---------------------------\n",
            "+-------+-----+------+\n",
            "|OrderID| name|Profit|\n",
            "+-------+-----+------+\n",
            "|CA-1001| Ravi|  5000|\n",
            "|CA-1002|Priya|  1800|\n",
            "+-------+-----+------+\n",
            "\n"
          ]
        }
      ]
    }
  ]
}