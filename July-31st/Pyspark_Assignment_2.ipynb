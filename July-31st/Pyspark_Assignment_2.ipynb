{
  "nbformat": 4,
  "nbformat_minor": 0,
  "metadata": {
    "colab": {
      "provenance": []
    },
    "kernelspec": {
      "name": "python3",
      "display_name": "Python 3"
    },
    "language_info": {
      "name": "python"
    }
  },
  "cells": [
    {
      "cell_type": "code",
      "execution_count": 3,
      "metadata": {
        "id": "a6zJa_m0OvLK"
      },
      "outputs": [],
      "source": [
        "from pyspark.sql import SparkSession\n",
        "spark=SparkSession.builder\\\n",
        ".appName(\"Movie RATINGS-ANALYSIS\")\\\n",
        ".getOrCreate()\n",
        "spark\n",
        "\n",
        "csv_data=\"\"\"\n",
        "MovieID,Title,Genre,ReleaseDate,Rating,Revenue,Budget\n",
        "1,Inception,Sci-Fi,2010-07-16,8.8,825532764,160000000\n",
        "2,The Dark Knight,Action,2008-07-18,9.0,1004558444,185000000\n",
        "3,Titanic,Romance,1997-12-19,7.8,2187463944,200000000\n",
        "4,Interstellar,Sci-Fi,2014-11-07,8.6,677471339,165000000\n",
        "5,Joker,Drama,2019-10-04,8.4,1074251311,55000000\n",
        "6,The Notebook,Romance,2004-06-25,7.9,,29000000\n",
        "7,Avengers: Endgame,Action,2019-04-26,8.4,2797800564,356000000\"\"\"\n",
        "with open(\"movies.csv\",'w')as f:\n",
        "  f.write(csv_data)"
      ]
    },
    {
      "cell_type": "code",
      "source": [
        "print('----------------------PART 1: Pandas Operations------------------')"
      ],
      "metadata": {
        "colab": {
          "base_uri": "https://localhost:8080/"
        },
        "id": "WSuKHy5dQGjq",
        "outputId": "7a0b9699-7b12-45fd-8b55-a02b8e42af65"
      },
      "execution_count": 16,
      "outputs": [
        {
          "output_type": "stream",
          "name": "stdout",
          "text": [
            "----------------------PART 1: Pandas Operations------------------\n"
          ]
        }
      ]
    },
    {
      "cell_type": "code",
      "source": [
        "import pandas as pd\n",
        "from datetime import datetime\n",
        "df=pd.read_csv(\"movies.csv\")\n",
        "print(\"---------------------------------------\")\n",
        "\n",
        "df['ReleaseDate']=pd.to_datetime(df['ReleaseDate'])\n",
        "\n",
        "\n",
        "\n",
        "print(\"---------------------------------------\")\n",
        "\n",
        "df['Profit']=df['Revenue']-df['Budget ']\n",
        "print(df)\n",
        "\n",
        "print(\"---------------------------------------\")\n",
        "def assignera(year):\n",
        "  if year<2000:\n",
        "    return(\"Classic\")\n",
        "  elif year>=2000 and year<2010:\n",
        "    return(\"Modern\")\n",
        "  else:\n",
        "    return(\"Modern\")\n",
        "df['Era']=df[\"ReleaseDate\"].dt.year.map(assignera)\n",
        "print(df)\n",
        "print(\"---------------------------------------\")\n",
        "df['Revenue']=df['Revenue'].fillna(df['Revenue'].mean())\n",
        "print(df)\n",
        "print(\"------------------------------------------\")\n",
        "\n",
        "df_sorted=df.sort_values(by=\"Rating\",ascending=False)\n",
        "print(df_sorted)\n",
        "\n",
        "print(\"------------------------------------------\")\n",
        "\n",
        "df_grouped=df.groupby(\"Genre\").agg({\"Rating\":\"mean\",\"Revenue\":\"sum\"})\n",
        "print(df_grouped)\n",
        "\n",
        "\n",
        "print(\"------------------------------------------\")\n",
        "filtered=df[((df[\"Rating\"]>=8.5)&(df[\"Profit\"]>500000000))]\n",
        "print(filtered)\n",
        "\n",
        "print(\"------------------------------------------\")\n",
        "import matplotlib.pyplot as plt\n",
        "plt.figure(figsize=(10,6))\n",
        "\n",
        "df.plot(kind=\"bar\",x=\"Title\",y=\"Profit\")\n",
        "plt.grid(True)\n",
        "plt.show()\n"
      ],
      "metadata": {
        "colab": {
          "base_uri": "https://localhost:8080/",
          "height": 1000
        },
        "id": "ba1LeVpBQTVm",
        "outputId": "fbafafaa-4a55-4625-c8fa-9512cb0198a6"
      },
      "execution_count": 33,
      "outputs": [
        {
          "output_type": "stream",
          "name": "stdout",
          "text": [
            "---------------------------------------\n",
            "---------------------------------------\n",
            "   MovieID              Title    Genre ReleaseDate  Rating       Revenue  \\\n",
            "0        1          Inception   Sci-Fi  2010-07-16     8.8  8.255328e+08   \n",
            "1        2    The Dark Knight   Action  2008-07-18     9.0  1.004558e+09   \n",
            "2        3            Titanic  Romance  1997-12-19     7.8  2.187464e+09   \n",
            "3        4       Interstellar   Sci-Fi  2014-11-07     8.6  6.774713e+08   \n",
            "4        5              Joker    Drama  2019-10-04     8.4  1.074251e+09   \n",
            "5        6       The Notebook  Romance  2004-06-25     7.9           NaN   \n",
            "6        7  Avengers: Endgame   Action  2019-04-26     8.4  2.797801e+09   \n",
            "\n",
            "     Budget         Profit  \n",
            "0  160000000  6.655328e+08  \n",
            "1  185000000  8.195584e+08  \n",
            "2  200000000  1.987464e+09  \n",
            "3  165000000  5.124713e+08  \n",
            "4   55000000  1.019251e+09  \n",
            "5   29000000           NaN  \n",
            "6  356000000  2.441801e+09  \n",
            "---------------------------------------\n",
            "   MovieID              Title    Genre ReleaseDate  Rating       Revenue  \\\n",
            "0        1          Inception   Sci-Fi  2010-07-16     8.8  8.255328e+08   \n",
            "1        2    The Dark Knight   Action  2008-07-18     9.0  1.004558e+09   \n",
            "2        3            Titanic  Romance  1997-12-19     7.8  2.187464e+09   \n",
            "3        4       Interstellar   Sci-Fi  2014-11-07     8.6  6.774713e+08   \n",
            "4        5              Joker    Drama  2019-10-04     8.4  1.074251e+09   \n",
            "5        6       The Notebook  Romance  2004-06-25     7.9           NaN   \n",
            "6        7  Avengers: Endgame   Action  2019-04-26     8.4  2.797801e+09   \n",
            "\n",
            "     Budget         Profit      Era  \n",
            "0  160000000  6.655328e+08   Modern  \n",
            "1  185000000  8.195584e+08   Modern  \n",
            "2  200000000  1.987464e+09  Classic  \n",
            "3  165000000  5.124713e+08   Modern  \n",
            "4   55000000  1.019251e+09   Modern  \n",
            "5   29000000           NaN   Modern  \n",
            "6  356000000  2.441801e+09   Modern  \n",
            "---------------------------------------\n",
            "   MovieID              Title    Genre ReleaseDate  Rating       Revenue  \\\n",
            "0        1          Inception   Sci-Fi  2010-07-16     8.8  8.255328e+08   \n",
            "1        2    The Dark Knight   Action  2008-07-18     9.0  1.004558e+09   \n",
            "2        3            Titanic  Romance  1997-12-19     7.8  2.187464e+09   \n",
            "3        4       Interstellar   Sci-Fi  2014-11-07     8.6  6.774713e+08   \n",
            "4        5              Joker    Drama  2019-10-04     8.4  1.074251e+09   \n",
            "5        6       The Notebook  Romance  2004-06-25     7.9  1.427846e+09   \n",
            "6        7  Avengers: Endgame   Action  2019-04-26     8.4  2.797801e+09   \n",
            "\n",
            "     Budget         Profit      Era  \n",
            "0  160000000  6.655328e+08   Modern  \n",
            "1  185000000  8.195584e+08   Modern  \n",
            "2  200000000  1.987464e+09  Classic  \n",
            "3  165000000  5.124713e+08   Modern  \n",
            "4   55000000  1.019251e+09   Modern  \n",
            "5   29000000           NaN   Modern  \n",
            "6  356000000  2.441801e+09   Modern  \n",
            "------------------------------------------\n",
            "   MovieID              Title    Genre ReleaseDate  Rating       Revenue  \\\n",
            "1        2    The Dark Knight   Action  2008-07-18     9.0  1.004558e+09   \n",
            "0        1          Inception   Sci-Fi  2010-07-16     8.8  8.255328e+08   \n",
            "3        4       Interstellar   Sci-Fi  2014-11-07     8.6  6.774713e+08   \n",
            "6        7  Avengers: Endgame   Action  2019-04-26     8.4  2.797801e+09   \n",
            "4        5              Joker    Drama  2019-10-04     8.4  1.074251e+09   \n",
            "5        6       The Notebook  Romance  2004-06-25     7.9  1.427846e+09   \n",
            "2        3            Titanic  Romance  1997-12-19     7.8  2.187464e+09   \n",
            "\n",
            "     Budget         Profit      Era  \n",
            "1  185000000  8.195584e+08   Modern  \n",
            "0  160000000  6.655328e+08   Modern  \n",
            "3  165000000  5.124713e+08   Modern  \n",
            "6  356000000  2.441801e+09   Modern  \n",
            "4   55000000  1.019251e+09   Modern  \n",
            "5   29000000           NaN   Modern  \n",
            "2  200000000  1.987464e+09  Classic  \n",
            "------------------------------------------\n",
            "         Rating       Revenue\n",
            "Genre                        \n",
            "Action     8.70  3.802359e+09\n",
            "Drama      8.40  1.074251e+09\n",
            "Romance    7.85  3.615310e+09\n",
            "Sci-Fi     8.70  1.503004e+09\n",
            "------------------------------------------\n",
            "   MovieID            Title   Genre ReleaseDate  Rating       Revenue  \\\n",
            "0        1        Inception  Sci-Fi  2010-07-16     8.8  8.255328e+08   \n",
            "1        2  The Dark Knight  Action  2008-07-18     9.0  1.004558e+09   \n",
            "3        4     Interstellar  Sci-Fi  2014-11-07     8.6  6.774713e+08   \n",
            "\n",
            "     Budget        Profit     Era  \n",
            "0  160000000  665532764.0  Modern  \n",
            "1  185000000  819558444.0  Modern  \n",
            "3  165000000  512471339.0  Modern  \n",
            "------------------------------------------\n"
          ]
        },
        {
          "output_type": "display_data",
          "data": {
            "text/plain": [
              "<Figure size 1000x600 with 0 Axes>"
            ]
          },
          "metadata": {}
        },
        {
          "output_type": "display_data",
          "data": {
            "text/plain": [
              "<Figure size 640x480 with 1 Axes>"
            ],
            "image/png": "[encoded data removed]"
          },
          "metadata": {}
        }
      ]
    },
    {
      "cell_type": "code",
      "source": [
        "print(\"-------------------------------- PART 2: PySpark Operations-----------\")\n"
      ],
      "metadata": {
        "colab": {
          "base_uri": "https://localhost:8080/"
        },
        "id": "lReft1xWbilk",
        "outputId": "eb6bc221-7c7c-4d8c-e643-35957f4c6bfb"
      },
      "execution_count": 36,
      "outputs": [
        {
          "output_type": "stream",
          "name": "stdout",
          "text": [
            "-------------------------------- PART 2: PySpark Operations-----------\n"
          ]
        }
      ]
    },
    {
      "cell_type": "code",
      "source": [
        "from pyspark.sql.functions import col,avg,sum,when,year,month\n",
        "from pyspark.sql.window import Window\n",
        "from pyspark.sql.functions import rank\n",
        "pf=spark.read.csv(\"movies.csv\",header=True,inferSchema=True)\n",
        "pf.show()\n",
        "print(\"----------------------------------------------\")\n",
        "\n",
        "pf=pf.withColumn(\"Profit\",col(\"Revenue\")-col(\"Budget \"))\n",
        "pf.show()\n",
        "print(\"-----------------------------------------------\")\n",
        "\n",
        "filtered_pf=pf.filter((col(\"Genre\")==\"Sci-Fi\")&(col(\"Profit\")>500000000))\n",
        "filtered_pf.show()\n",
        "print(\"-----------------------------------------------\")\n",
        "\n",
        "pf_grouped=pf.groupBy(\"Genre\").agg(avg(col(\"Rating\")).alias(\"Avg_Rating\"),sum(col(\"Profit\")).alias(\"Total_profit\"))\n",
        "pf_grouped.show()\n",
        "\n",
        "print(\"-----------------------------------------------\")\n",
        "\n",
        "pf=pf.withColumn(\"RatingClassify\",when(col(\"Rating\")>9,\"Blockbuster\").when(col(\"Rating\")>=8,\"Hit\").otherwise(\"Average\"))\n",
        "pf.show()\n",
        "\n",
        "print(\"-----------------------------------------------\")\n",
        "\n",
        "\n",
        "pf=pf.drop(col(\"Budget \"))\n",
        "pf.show()\n",
        "\n",
        "print(\"-----------------------------------------------\")\n",
        "\n",
        "avg_rev = pf.agg(avg('Revenue')).first()[0]\n",
        "\n",
        "pf=pf.na.fill({\"Revenue\":avg_rev})\n",
        "pf.show()\n",
        "\n",
        "print(\"-----------------------------------------------\")\n",
        "pf=pf.withColumn(\"ReleaseDate\",col(\"ReleaseDate\").cast(\"date\"))\n",
        "\n",
        "pf=pf.withColumn(\"Year\",year(col(\"ReleaseDate\"))).withColumn(\"Month\",month(col(\"ReleaseDate\")))\n",
        "pf.show()\n",
        "print(\"----------------------------------------------------\")\n",
        "window_spec=Window.partitionBy(\"Genre\").orderBy(col(\"Profit\").desc())\n",
        "pf=pf.withColumn(\"ProfitRank\",rank().over(window_spec))\n",
        "pf.show()\n",
        "\n",
        "\n"
      ],
      "metadata": {
        "colab": {
          "base_uri": "https://localhost:8080/"
        },
        "id": "i6kxrw0Dug19",
        "outputId": "fbe108e4-9c8b-46e4-ade9-42368ae1a63a"
      },
      "execution_count": 65,
      "outputs": [
        {
          "output_type": "stream",
          "name": "stdout",
          "text": [
            "+-------+-----------------+-------+-----------+------+----------+---------+\n",
            "|MovieID|            Title|  Genre|ReleaseDate|Rating|   Revenue|  Budget |\n",
            "+-------+-----------------+-------+-----------+------+----------+---------+\n",
            "|      1|        Inception| Sci-Fi| 2010-07-16|   8.8| 825532764|160000000|\n",
            "|      2|  The Dark Knight| Action| 2008-07-18|   9.0|1004558444|185000000|\n",
            "|      3|          Titanic|Romance| 1997-12-19|   7.8|2187463944|200000000|\n",
            "|      4|     Interstellar| Sci-Fi| 2014-11-07|   8.6| 677471339|165000000|\n",
            "|      5|            Joker|  Drama| 2019-10-04|   8.4|1074251311| 55000000|\n",
            "|      6|     The Notebook|Romance| 2004-06-25|   7.9|      NULL| 29000000|\n",
            "|      7|Avengers: Endgame| Action| 2019-04-26|   8.4|2797800564|356000000|\n",
            "+-------+-----------------+-------+-----------+------+----------+---------+\n",
            "\n",
            "----------------------------------------------\n",
            "+-------+-----------------+-------+-----------+------+----------+---------+----------+\n",
            "|MovieID|            Title|  Genre|ReleaseDate|Rating|   Revenue|  Budget |    Profit|\n",
            "+-------+-----------------+-------+-----------+------+----------+---------+----------+\n",
            "|      1|        Inception| Sci-Fi| 2010-07-16|   8.8| 825532764|160000000| 665532764|\n",
            "|      2|  The Dark Knight| Action| 2008-07-18|   9.0|1004558444|185000000| 819558444|\n",
            "|      3|          Titanic|Romance| 1997-12-19|   7.8|2187463944|200000000|1987463944|\n",
            "|      4|     Interstellar| Sci-Fi| 2014-11-07|   8.6| 677471339|165000000| 512471339|\n",
            "|      5|            Joker|  Drama| 2019-10-04|   8.4|1074251311| 55000000|1019251311|\n",
            "|      6|     The Notebook|Romance| 2004-06-25|   7.9|      NULL| 29000000|      NULL|\n",
            "|      7|Avengers: Endgame| Action| 2019-04-26|   8.4|2797800564|356000000|2441800564|\n",
            "+-------+-----------------+-------+-----------+------+----------+---------+----------+\n",
            "\n",
            "-----------------------------------------------\n",
            "+-------+------------+------+-----------+------+---------+---------+---------+\n",
            "|MovieID|       Title| Genre|ReleaseDate|Rating|  Revenue|  Budget |   Profit|\n",
            "+-------+------------+------+-----------+------+---------+---------+---------+\n",
            "|      1|   Inception|Sci-Fi| 2010-07-16|   8.8|825532764|160000000|665532764|\n",
            "|      4|Interstellar|Sci-Fi| 2014-11-07|   8.6|677471339|165000000|512471339|\n",
            "+-------+------------+------+-----------+------+---------+---------+---------+\n",
            "\n",
            "-----------------------------------------------\n",
            "+-------+----------+------------+\n",
            "|  Genre|Avg_Rating|Total_profit|\n",
            "+-------+----------+------------+\n",
            "|Romance|      7.85|  1987463944|\n",
            "|  Drama|       8.4|  1019251311|\n",
            "| Action|       8.7|  3261359008|\n",
            "| Sci-Fi|       8.7|  1178004103|\n",
            "+-------+----------+------------+\n",
            "\n",
            "-----------------------------------------------\n",
            "+-------+-----------------+-------+-----------+------+----------+---------+----------+--------------+\n",
            "|MovieID|            Title|  Genre|ReleaseDate|Rating|   Revenue|  Budget |    Profit|RatingClassify|\n",
            "+-------+-----------------+-------+-----------+------+----------+---------+----------+--------------+\n",
            "|      1|        Inception| Sci-Fi| 2010-07-16|   8.8| 825532764|160000000| 665532764|           Hit|\n",
            "|      2|  The Dark Knight| Action| 2008-07-18|   9.0|1004558444|185000000| 819558444|           Hit|\n",
            "|      3|          Titanic|Romance| 1997-12-19|   7.8|2187463944|200000000|1987463944|       Average|\n",
            "|      4|     Interstellar| Sci-Fi| 2014-11-07|   8.6| 677471339|165000000| 512471339|           Hit|\n",
            "|      5|            Joker|  Drama| 2019-10-04|   8.4|1074251311| 55000000|1019251311|           Hit|\n",
            "|      6|     The Notebook|Romance| 2004-06-25|   7.9|      NULL| 29000000|      NULL|       Average|\n",
            "|      7|Avengers: Endgame| Action| 2019-04-26|   8.4|2797800564|356000000|2441800564|           Hit|\n",
            "+-------+-----------------+-------+-----------+------+----------+---------+----------+--------------+\n",
            "\n",
            "-----------------------------------------------\n",
            "+-------+-----------------+-------+-----------+------+----------+----------+--------------+\n",
            "|MovieID|            Title|  Genre|ReleaseDate|Rating|   Revenue|    Profit|RatingClassify|\n",
            "+-------+-----------------+-------+-----------+------+----------+----------+--------------+\n",
            "|      1|        Inception| Sci-Fi| 2010-07-16|   8.8| 825532764| 665532764|           Hit|\n",
            "|      2|  The Dark Knight| Action| 2008-07-18|   9.0|1004558444| 819558444|           Hit|\n",
            "|      3|          Titanic|Romance| 1997-12-19|   7.8|2187463944|1987463944|       Average|\n",
            "|      4|     Interstellar| Sci-Fi| 2014-11-07|   8.6| 677471339| 512471339|           Hit|\n",
            "|      5|            Joker|  Drama| 2019-10-04|   8.4|1074251311|1019251311|           Hit|\n",
            "|      6|     The Notebook|Romance| 2004-06-25|   7.9|      NULL|      NULL|       Average|\n",
            "|      7|Avengers: Endgame| Action| 2019-04-26|   8.4|2797800564|2441800564|           Hit|\n",
            "+-------+-----------------+-------+-----------+------+----------+----------+--------------+\n",
            "\n",
            "-----------------------------------------------\n",
            "+-------+-----------------+-------+-----------+------+----------+----------+--------------+\n",
            "|MovieID|            Title|  Genre|ReleaseDate|Rating|   Revenue|    Profit|RatingClassify|\n",
            "+-------+-----------------+-------+-----------+------+----------+----------+--------------+\n",
            "|      1|        Inception| Sci-Fi| 2010-07-16|   8.8| 825532764| 665532764|           Hit|\n",
            "|      2|  The Dark Knight| Action| 2008-07-18|   9.0|1004558444| 819558444|           Hit|\n",
            "|      3|          Titanic|Romance| 1997-12-19|   7.8|2187463944|1987463944|       Average|\n",
            "|      4|     Interstellar| Sci-Fi| 2014-11-07|   8.6| 677471339| 512471339|           Hit|\n",
            "|      5|            Joker|  Drama| 2019-10-04|   8.4|1074251311|1019251311|           Hit|\n",
            "|      6|     The Notebook|Romance| 2004-06-25|   7.9|1427846394|      NULL|       Average|\n",
            "|      7|Avengers: Endgame| Action| 2019-04-26|   8.4|2797800564|2441800564|           Hit|\n",
            "+-------+-----------------+-------+-----------+------+----------+----------+--------------+\n",
            "\n",
            "-----------------------------------------------\n",
            "+-------+-----------------+-------+-----------+------+----------+----------+--------------+----+-----+\n",
            "|MovieID|            Title|  Genre|ReleaseDate|Rating|   Revenue|    Profit|RatingClassify|Year|Month|\n",
            "+-------+-----------------+-------+-----------+------+----------+----------+--------------+----+-----+\n",
            "|      1|        Inception| Sci-Fi| 2010-07-16|   8.8| 825532764| 665532764|           Hit|2010|    7|\n",
            "|      2|  The Dark Knight| Action| 2008-07-18|   9.0|1004558444| 819558444|           Hit|2008|    7|\n",
            "|      3|          Titanic|Romance| 1997-12-19|   7.8|2187463944|1987463944|       Average|1997|   12|\n",
            "|      4|     Interstellar| Sci-Fi| 2014-11-07|   8.6| 677471339| 512471339|           Hit|2014|   11|\n",
            "|      5|            Joker|  Drama| 2019-10-04|   8.4|1074251311|1019251311|           Hit|2019|   10|\n",
            "|      6|     The Notebook|Romance| 2004-06-25|   7.9|1427846394|      NULL|       Average|2004|    6|\n",
            "|      7|Avengers: Endgame| Action| 2019-04-26|   8.4|2797800564|2441800564|           Hit|2019|    4|\n",
            "+-------+-----------------+-------+-----------+------+----------+----------+--------------+----+-----+\n",
            "\n",
            "----------------------------------------------------\n",
            "+-------+-----------------+-------+-----------+------+----------+----------+--------------+----+-----+----------+\n",
            "|MovieID|            Title|  Genre|ReleaseDate|Rating|   Revenue|    Profit|RatingClassify|Year|Month|ProfitRank|\n",
            "+-------+-----------------+-------+-----------+------+----------+----------+--------------+----+-----+----------+\n",
            "|      7|Avengers: Endgame| Action| 2019-04-26|   8.4|2797800564|2441800564|           Hit|2019|    4|         1|\n",
            "|      2|  The Dark Knight| Action| 2008-07-18|   9.0|1004558444| 819558444|           Hit|2008|    7|         2|\n",
            "|      5|            Joker|  Drama| 2019-10-04|   8.4|1074251311|1019251311|           Hit|2019|   10|         1|\n",
            "|      3|          Titanic|Romance| 1997-12-19|   7.8|2187463944|1987463944|       Average|1997|   12|         1|\n",
            "|      6|     The Notebook|Romance| 2004-06-25|   7.9|1427846394|      NULL|       Average|2004|    6|         2|\n",
            "|      1|        Inception| Sci-Fi| 2010-07-16|   8.8| 825532764| 665532764|           Hit|2010|    7|         1|\n",
            "|      4|     Interstellar| Sci-Fi| 2014-11-07|   8.6| 677471339| 512471339|           Hit|2014|   11|         2|\n",
            "+-------+-----------------+-------+-----------+------+----------+----------+--------------+----+-----+----------+\n",
            "\n"
          ]
        }
      ]
    },
    {
      "cell_type": "code",
      "source": [
        "print(\"------------------- PART 3: JSON + Union Example---------------------\")"
      ],
      "metadata": {
        "colab": {
          "base_uri": "https://localhost:8080/"
        },
        "id": "-F7_KQRi2V9z",
        "outputId": "0fb47f50-3bc6-47bd-85f0-707f12c10cbe"
      },
      "execution_count": 66,
      "outputs": [
        {
          "output_type": "stream",
          "name": "stdout",
          "text": [
            "------------------- PART 3: JSON + Union Example---------------------\n"
          ]
        }
      ]
    },
    {
      "cell_type": "code",
      "source": [
        "import json\n",
        "json_data=[\n",
        "    {\"MovieID\": 8, \"Title\": \"Barbie\", \"Genre\": \"Drama\", \"Rating\": 7.5, \"Revenue\": 1456000000, \"Budget \": 145000000},\n",
        "    {\"MovieID\": 9, \"Title\": \"Oppenheimer\", \"Genre\": \"Drama\", \"Rating\": 8.6, \"Revenue\": 950000000, \"Budget \": 100000000}\n",
        "]\n",
        "with open(\"movies_bonus.json\",\"w\")as d:\n",
        "  json.dump(json_data,d)"
      ],
      "metadata": {
        "id": "JeE-Vmpn6UP7"
      },
      "execution_count": 84,
      "outputs": []
    },
    {
      "cell_type": "code",
      "source": [
        "jf=spark.read.json(\"movies_bonus.json\", multiLine=True)\n",
        "jf.show()\n",
        "pf=spark.read.csv(\"movies.csv\",header=True,inferSchema=True)\n",
        "pf.show()\n",
        "\n",
        "print(\"------------------------------------\")\n",
        "all_movies=pf.unionByName(jf,allowMissingColumns=True)\n",
        "all_movies.show()\n",
        "print(\"---------------------------------------\")\n",
        "top_5=all_movies.orderBy(col(\"Revenue\").desc()).show(5)\n",
        "print(\"---------------------------------------\")\n",
        "\n",
        "all_movies.write.csv(\"all_movies_merged.csv\",header=True)\n",
        "\n"
      ],
      "metadata": {
        "colab": {
          "base_uri": "https://localhost:8080/"
        },
        "id": "V03KsFjb6Ziz",
        "outputId": "7c93041e-17df-4426-e25e-fa0cbc5fa7e8"
      },
      "execution_count": 87,
      "outputs": [
        {
          "output_type": "stream",
          "name": "stdout",
          "text": [
            "+---------+-----+-------+------+----------+-----------+\n",
            "|  Budget |Genre|MovieID|Rating|   Revenue|      Title|\n",
            "+---------+-----+-------+------+----------+-----------+\n",
            "|145000000|Drama|      8|   7.5|1456000000|     Barbie|\n",
            "|100000000|Drama|      9|   8.6| 950000000|Oppenheimer|\n",
            "+---------+-----+-------+------+----------+-----------+\n",
            "\n",
            "+-------+-----------------+-------+-----------+------+----------+---------+\n",
            "|MovieID|            Title|  Genre|ReleaseDate|Rating|   Revenue|  Budget |\n",
            "+-------+-----------------+-------+-----------+------+----------+---------+\n",
            "|      1|        Inception| Sci-Fi| 2010-07-16|   8.8| 825532764|160000000|\n",
            "|      2|  The Dark Knight| Action| 2008-07-18|   9.0|1004558444|185000000|\n",
            "|      3|          Titanic|Romance| 1997-12-19|   7.8|2187463944|200000000|\n",
            "|      4|     Interstellar| Sci-Fi| 2014-11-07|   8.6| 677471339|165000000|\n",
            "|      5|            Joker|  Drama| 2019-10-04|   8.4|1074251311| 55000000|\n",
            "|      6|     The Notebook|Romance| 2004-06-25|   7.9|      NULL| 29000000|\n",
            "|      7|Avengers: Endgame| Action| 2019-04-26|   8.4|2797800564|356000000|\n",
            "+-------+-----------------+-------+-----------+------+----------+---------+\n",
            "\n",
            "------------------------------------\n",
            "+-------+-----------------+-------+-----------+------+----------+---------+\n",
            "|MovieID|            Title|  Genre|ReleaseDate|Rating|   Revenue|  Budget |\n",
            "+-------+-----------------+-------+-----------+------+----------+---------+\n",
            "|      1|        Inception| Sci-Fi| 2010-07-16|   8.8| 825532764|160000000|\n",
            "|      2|  The Dark Knight| Action| 2008-07-18|   9.0|1004558444|185000000|\n",
            "|      3|          Titanic|Romance| 1997-12-19|   7.8|2187463944|200000000|\n",
            "|      4|     Interstellar| Sci-Fi| 2014-11-07|   8.6| 677471339|165000000|\n",
            "|      5|            Joker|  Drama| 2019-10-04|   8.4|1074251311| 55000000|\n",
            "|      6|     The Notebook|Romance| 2004-06-25|   7.9|      NULL| 29000000|\n",
            "|      7|Avengers: Endgame| Action| 2019-04-26|   8.4|2797800564|356000000|\n",
            "|      8|           Barbie|  Drama|       NULL|   7.5|1456000000|145000000|\n",
            "|      9|      Oppenheimer|  Drama|       NULL|   8.6| 950000000|100000000|\n",
            "+-------+-----------------+-------+-----------+------+----------+---------+\n",
            "\n",
            "---------------------------------------\n",
            "+-------+-----------------+-------+-----------+------+----------+---------+\n",
            "|MovieID|            Title|  Genre|ReleaseDate|Rating|   Revenue|  Budget |\n",
            "+-------+-----------------+-------+-----------+------+----------+---------+\n",
            "|      7|Avengers: Endgame| Action| 2019-04-26|   8.4|2797800564|356000000|\n",
            "|      3|          Titanic|Romance| 1997-12-19|   7.8|2187463944|200000000|\n",
            "|      8|           Barbie|  Drama|       NULL|   7.5|1456000000|145000000|\n",
            "|      5|            Joker|  Drama| 2019-10-04|   8.4|1074251311| 55000000|\n",
            "|      2|  The Dark Knight| Action| 2008-07-18|   9.0|1004558444|185000000|\n",
            "+-------+-----------------+-------+-----------+------+----------+---------+\n",
            "only showing top 5 rows\n",
            "\n",
            "---------------------------------------\n"
          ]
        }
      ]
    },
    {
      "cell_type": "code",
      "source": [
        "print(\"----------------Bonus tasks-----------------\")\n"
      ],
      "metadata": {
        "colab": {
          "base_uri": "https://localhost:8080/"
        },
        "id": "N4SWc1z0BCEO",
        "outputId": "f8ef98c8-8787-4a98-91c8-796eb265af1b"
      },
      "execution_count": 88,
      "outputs": [
        {
          "output_type": "stream",
          "name": "stdout",
          "text": [
            "----------------Bonus tasks-----------------\n"
          ]
        }
      ]
    },
    {
      "cell_type": "code",
      "source": [
        "\n",
        "all_movies=all_movies.withColumn(\"Profit\",col(\"Revenue\")-col(\"Budget \"))\n",
        "all_movies=all_movies.withColumn(\"ROI\",col(\"Profit\")/col(\"Budget \"))\n",
        "all_movies.show()\n",
        "\n",
        "print(\"----------------------------\")\n",
        "top_roi=all_movies.filter(col(\"Budget \")>50000000).orderBy(\"ROI\",ascending=False).show(5)\n",
        "print(\"----------------------------\")\n",
        "\n",
        "roi_pd = all_movies.toPandas().groupby('Genre')['ROI'].mean()\n",
        "roi_pd.plot(kind='bar', figsize=(8,5), title='Average ROI by Genre')\n",
        "plt.ylabel('ROI')\n",
        "plt.tight_layout()\n",
        "plt.show()\n"
      ],
      "metadata": {
        "colab": {
          "base_uri": "https://localhost:8080/",
          "height": 905
        },
        "id": "NyRKfmw4BGi6",
        "outputId": "cd541117-2cf2-4abd-c7c7-2a355d62ebf4"
      },
      "execution_count": 99,
      "outputs": [
        {
          "output_type": "stream",
          "name": "stdout",
          "text": [
            "+-------+-----------------+-------+-----------+------+----------+---------+----------+-----------------+\n",
            "|MovieID|            Title|  Genre|ReleaseDate|Rating|   Revenue|  Budget |    Profit|              ROI|\n",
            "+-------+-----------------+-------+-----------+------+----------+---------+----------+-----------------+\n",
            "|      1|        Inception| Sci-Fi| 2010-07-16|   8.8| 825532764|160000000| 665532764|      4.159579775|\n",
            "|      2|  The Dark Knight| Action| 2008-07-18|   9.0|1004558444|185000000| 819558444|4.430045643243243|\n",
            "|      3|          Titanic|Romance| 1997-12-19|   7.8|2187463944|200000000|1987463944|       9.93731972|\n",
            "|      4|     Interstellar| Sci-Fi| 2014-11-07|   8.6| 677471339|165000000| 512471339|3.105886903030303|\n",
            "|      5|            Joker|  Drama| 2019-10-04|   8.4|1074251311| 55000000|1019251311|18.53184201818182|\n",
            "|      6|     The Notebook|Romance| 2004-06-25|   7.9|      NULL| 29000000|      NULL|             NULL|\n",
            "|      7|Avengers: Endgame| Action| 2019-04-26|   8.4|2797800564|356000000|2441800564|6.858990348314607|\n",
            "|      8|           Barbie|  Drama|       NULL|   7.5|1456000000|145000000|1311000000|9.041379310344828|\n",
            "|      9|      Oppenheimer|  Drama|       NULL|   8.6| 950000000|100000000| 850000000|              8.5|\n",
            "+-------+-----------------+-------+-----------+------+----------+---------+----------+-----------------+\n",
            "\n",
            "----------------------------\n",
            "+-------+-----------------+-------+-----------+------+----------+---------+----------+-----------------+\n",
            "|MovieID|            Title|  Genre|ReleaseDate|Rating|   Revenue|  Budget |    Profit|              ROI|\n",
            "+-------+-----------------+-------+-----------+------+----------+---------+----------+-----------------+\n",
            "|      5|            Joker|  Drama| 2019-10-04|   8.4|1074251311| 55000000|1019251311|18.53184201818182|\n",
            "|      3|          Titanic|Romance| 1997-12-19|   7.8|2187463944|200000000|1987463944|       9.93731972|\n",
            "|      8|           Barbie|  Drama|       NULL|   7.5|1456000000|145000000|1311000000|9.041379310344828|\n",
            "|      9|      Oppenheimer|  Drama|       NULL|   8.6| 950000000|100000000| 850000000|              8.5|\n",
            "|      7|Avengers: Endgame| Action| 2019-04-26|   8.4|2797800564|356000000|2441800564|6.858990348314607|\n",
            "+-------+-----------------+-------+-----------+------+----------+---------+----------+-----------------+\n",
            "only showing top 5 rows\n",
            "\n",
            "----------------------------\n"
          ]
        },
        {
          "output_type": "display_data",
          "data": {
            "text/plain": [
              "<Figure size 800x500 with 1 Axes>"
            ],
            "image/png": "[encoded data removed]"
          },
          "metadata": {}
        }
      ]
    }
  ]
}