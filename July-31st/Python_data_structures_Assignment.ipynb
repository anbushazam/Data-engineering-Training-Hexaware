{
  "nbformat": 4,
  "nbformat_minor": 0,
  "metadata": {
    "colab": {
      "provenance": []
    },
    "kernelspec": {
      "name": "python3",
      "display_name": "Python 3"
    },
    "language_info": {
      "name": "python"
    }
  },
  "cells": [
    {
      "cell_type": "code",
      "execution_count": null,
      "metadata": {
        "colab": {
          "base_uri": "https://localhost:8080/"
        },
        "id": "eOmOdBopFXJo",
        "outputId": "c75c8c22-826e-42ac-f057-a467105f9e40"
      },
      "outputs": [
        {
          "output_type": "stream",
          "name": "stdout",
          "text": [
            "72\n",
            "--------------------------\n",
            "Ravi:82.33333333333333\n",
            "Sneha:91.66666666666667\n",
            "Kabir:65.0\n",
            "Anita:77.66666666666667\n",
            "--------------------------\n",
            "Sneha\n",
            "--------------------------\n",
            "[['Ravi', 82.33333333333333], ['Sneha', 91.66666666666667], ['Kabir', 65.0], ['Anita', 77.66666666666667]]\n"
          ]
        }
      ],
      "source": [
        " #Section 1: Nested Lists & Access\n",
        "\n",
        " students = [\n",
        "[\"Ravi\", [85, 72, 90]],\n",
        "[\"Sneha\", [95, 88, 92]],\n",
        "[\"Kabir\", [65, 70, 60]],\n",
        "[\"Anita\", [75, 80, 78]]\n",
        "]\n",
        "\n",
        "print(students[0][1][1])\n",
        "\n",
        "print(\"--------------------------\")\n",
        "for student in students:\n",
        "  a=(sum(student[1]))/(len(student[1]))\n",
        "  print(f\"{student[0]}:{a}\")\n",
        "\n",
        "print(\"--------------------------\")\n",
        "\n",
        "for name,marks in students:\n",
        "  if all(m>80 for m in marks):\n",
        "    print(name)\n",
        "print(\"--------------------------\")\n",
        "\n",
        "average=[[name,(sum(marks)/len(marks))] for name,marks in students]\n",
        "print(average)"
      ]
    },
    {
      "cell_type": "code",
      "source": [
        "# Section 2: Dictionary of Lists\n",
        "data = {\n",
        "\"products\": [\"Mobile\", \"Laptop\", \"Tablet\", \"Camera\"],\n",
        "\"prices\": [12000, 55000, 18000, 25000],\n",
        "\"ratings\": [4.5, 4.7, 4.0, 4.2]\n",
        "}\n",
        "products=[{\"name\":n,\"price\":p,\"rating\":r}for n,p,r in zip(data[\"products\"],data[\"prices\"],data[\"ratings\"])]\n",
        "print(products)\n",
        "print(\"-----------------------------------\")\n",
        "filtered_products=[p for p in products if p[\"price\"]>20000 and p[\"rating\"]>=4.5]\n",
        "print(filtered_products)\n",
        "print(\"-----------------------------------\")\n",
        "sorted_produts=sorted(products,key=lambda p:p[\"price\"],reverse=True)\n",
        "print(sorted_produts)\n"
      ],
      "metadata": {
        "colab": {
          "base_uri": "https://localhost:8080/"
        },
        "id": "ST7cD42HVfF0",
        "outputId": "43963fb8-5a7c-46f0-a457-8d4723b3b357"
      },
      "execution_count": null,
      "outputs": [
        {
          "output_type": "stream",
          "name": "stdout",
          "text": [
            "[{'name': 'Mobile', 'price': 12000, 'rating': 4.5}, {'name': 'Laptop', 'price': 55000, 'rating': 4.7}, {'name': 'Tablet', 'price': 18000, 'rating': 4.0}, {'name': 'Camera', 'price': 25000, 'rating': 4.2}]\n",
            "-----------------------------------\n",
            "[{'name': 'Laptop', 'price': 55000, 'rating': 4.7}]\n",
            "-----------------------------------\n",
            "[{'name': 'Laptop', 'price': 55000, 'rating': 4.7}, {'name': 'Camera', 'price': 25000, 'rating': 4.2}, {'name': 'Tablet', 'price': 18000, 'rating': 4.0}, {'name': 'Mobile', 'price': 12000, 'rating': 4.5}]\n"
          ]
        }
      ]
    },
    {
      "cell_type": "code",
      "source": [
        "# Section 3: Frequency Dictionary + Set Operations\n",
        "text = \"ai is the future and ai will change everything in the ai world\"\n",
        "words = text.split()\n",
        "\n",
        "# 1. Frequency count\n",
        "freq = {}\n",
        "for word in words:\n",
        "    freq[word] = freq.get(word, 0) + 1\n",
        "\n",
        "# 2. Words appearing more than once\n",
        "repeated = [word for word, count in freq.items() if count > 1]\n",
        "print(repeated)\n",
        "\n",
        "# 3. Sorted unique words\n",
        "unique_sorted = sorted(set(words))\n",
        "print(unique_sorted)\n",
        "\n",
        "# 4. Common words\n",
        "set1 = set(words)\n",
        "set2 = {\"ai\", \"ml\", \"data\", \"future\"}\n",
        "common = set1 & set2\n",
        "print(common)\n"
      ],
      "metadata": {
        "id": "ZWtpz1gba3YZ",
        "colab": {
          "base_uri": "https://localhost:8080/"
        },
        "outputId": "afcdf335-7975-43eb-ce1c-b0812758afe1"
      },
      "execution_count": 2,
      "outputs": [
        {
          "output_type": "stream",
          "name": "stdout",
          "text": [
            "['ai', 'the']\n",
            "['ai', 'and', 'change', 'everything', 'future', 'in', 'is', 'the', 'will', 'world']\n",
            "{'future', 'ai'}\n"
          ]
        }
      ]
    },
    {
      "cell_type": "code",
      "source": [
        "sales = {\n",
        "    'Amit': 70000,\n",
        "    'Sneha': 45000,\n",
        "    'Ravi': 30000,\n",
        "    'Anita': 90000,\n",
        "    'Kabir': 20000\n",
        "}\n",
        "\n",
        "# 1. Add 10% bonus\n",
        "bonus_sales = {k: v * 1.1 for k, v in sales.items()}\n",
        "print(bonus_sales)\n",
        "\n",
        "# 2. Filter sales > 50,000\n",
        "high_sales = {k: v for k, v in sales.items() if v > 50000}\n",
        "print(high_sales)\n",
        "\n",
        "# 3. Labeling\n",
        "labels = {}\n",
        "for name, amount in sales.items():\n",
        "    if amount >= 75000:\n",
        "        labels[name] = \"High\"\n",
        "    elif amount >= 40000:\n",
        "        labels[name] = \"Medium\"\n",
        "    else:\n",
        "        labels[name] = \"Low\"\n",
        "print(labels)"
      ],
      "metadata": {
        "colab": {
          "base_uri": "https://localhost:8080/"
        },
        "id": "9IW0y9aBt1LO",
        "outputId": "8c16a6f5-f0f4-43a8-c62f-e971a75979c9"
      },
      "execution_count": 3,
      "outputs": [
        {
          "output_type": "stream",
          "name": "stdout",
          "text": [
            "{'Amit': 77000.0, 'Sneha': 49500.00000000001, 'Ravi': 33000.0, 'Anita': 99000.00000000001, 'Kabir': 22000.0}\n",
            "{'Amit': 70000, 'Anita': 90000}\n",
            "{'Amit': 'Medium', 'Sneha': 'Medium', 'Ravi': 'Low', 'Anita': 'High', 'Kabir': 'Low'}\n"
          ]
        }
      ]
    },
    {
      "cell_type": "code",
      "source": [
        "names = (\"Ravi\", \"Sneha\", \"Kabir\")\n",
        "marks = (88, 92, 76)\n",
        "\n",
        "# 1. Zip to dictionary\n",
        "student_dict = dict(zip(names, marks))\n",
        "print(student_dict)\n",
        "\n",
        "# 2. Min and max\n",
        "print(min(marks), max(marks))\n",
        "\n",
        "# 3. Set from marks + add value\n",
        "mark_set = set(marks)\n",
        "mark_set.add(85)\n",
        "print(mark_set)\n",
        "\n",
        "# 4. Merge sets\n",
        "extra_marks = {90, 76, 100}\n",
        "merged = mark_set | extra_marks\n",
        "print(merged)"
      ],
      "metadata": {
        "colab": {
          "base_uri": "https://localhost:8080/"
        },
        "id": "VCfD4sjOt4be",
        "outputId": "14a9b514-9d72-4ab0-f607-33c69e2454b0"
      },
      "execution_count": 4,
      "outputs": [
        {
          "output_type": "stream",
          "name": "stdout",
          "text": [
            "{'Ravi': 88, 'Sneha': 92, 'Kabir': 76}\n",
            "76 92\n",
            "{88, 92, 85, 76}\n",
            "{100, 85, 88, 90, 92, 76}\n"
          ]
        }
      ]
    },
    {
      "cell_type": "code",
      "source": [
        "employees = {\n",
        "    \"E101\": {\"name\": \"Ravi\", \"dept\": \"Sales\", \"salary\": 50000},\n",
        "    \"E102\": {\"name\": \"Sneha\", \"dept\": \"Engineering\", \"salary\": 80000},\n",
        "    \"E103\": {\"name\": \"Kabir\", \"dept\": \"HR\", \"salary\": 45000}\n",
        "}\n",
        "\n",
        "# 1. Add new employee\n",
        "employees[\"E104\"] = {\"name\": \"Anita\", \"dept\": \"Engineering\", \"salary\": 85000}\n",
        "print(employees)\n",
        "# 2. Increase salary for Engineering\n",
        "for emp in employees.values():\n",
        "    if emp[\"dept\"] == \"Engineering\":\n",
        "        emp[\"salary\"] *= 1.1\n",
        "print(employees)\n",
        "# 3. Department with highest average salary\n",
        "from collections import defaultdict\n",
        "\n",
        "dept_salaries = defaultdict(list)\n",
        "for emp in employees.values():\n",
        "    dept_salaries[emp[\"dept\"]].append(emp[\"salary\"])\n",
        "\n",
        "avg_salaries = {dept: sum(sals)/len(sals) for dept, sals in dept_salaries.items()}\n",
        "highest_dept = max(avg_salaries, key=avg_salaries.get)\n",
        "print(highest_dept)"
      ],
      "metadata": {
        "colab": {
          "base_uri": "https://localhost:8080/"
        },
        "id": "RdswzcWot7Hn",
        "outputId": "e8d94431-e7ad-4c1d-e289-e9a16c554348"
      },
      "execution_count": 7,
      "outputs": [
        {
          "output_type": "stream",
          "name": "stdout",
          "text": [
            "{'E101': {'name': 'Ravi', 'dept': 'Sales', 'salary': 50000}, 'E102': {'name': 'Sneha', 'dept': 'Engineering', 'salary': 80000}, 'E103': {'name': 'Kabir', 'dept': 'HR', 'salary': 45000}, 'E104': {'name': 'Anita', 'dept': 'Engineering', 'salary': 85000}}\n",
            "{'E101': {'name': 'Ravi', 'dept': 'Sales', 'salary': 50000}, 'E102': {'name': 'Sneha', 'dept': 'Engineering', 'salary': 88000.0}, 'E103': {'name': 'Kabir', 'dept': 'HR', 'salary': 45000}, 'E104': {'name': 'Anita', 'dept': 'Engineering', 'salary': 93500.00000000001}}\n",
            "Engineering\n"
          ]
        }
      ]
    }
  ]
}